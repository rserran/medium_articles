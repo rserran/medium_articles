{
 "cells": [
  {
   "cell_type": "markdown",
   "metadata": {},
   "source": [
    "# Portfolio Optimization in Python 101 - PyPortfolioOpt edition"
   ]
  },
  {
   "cell_type": "markdown",
   "metadata": {},
   "source": [
    "## Setup"
   ]
  },
  {
   "cell_type": "code",
   "execution_count": 1,
   "metadata": {
    "metadata": {}
   },
   "outputs": [],
   "source": [
    "import requests\n",
    "import pandas as pd\n",
    "\n",
    "from pypfopt.efficient_frontier import EfficientFrontier\n",
    "from pypfopt.expected_returns import mean_historical_return\n",
    "from pypfopt.risk_models import sample_cov\n",
    "\n",
    "# api key\n",
    "from api_keys import FMP_API_KEY"
   ]
  },
  {
   "cell_type": "markdown",
   "metadata": {},
   "source": [
    "## Downloading data"
   ]
  },
  {
   "cell_type": "markdown",
   "metadata": {},
   "source": []
  },
  {
   "cell_type": "code",
   "execution_count": 2,
   "metadata": {
    "metadata": {}
   },
   "outputs": [],
   "source": [
    "FAANG_TICKERS = [\"META\", \"AAPL\", \"AMZN\", \"NFLX\", \"GOOGL\"]\n",
    "START_DATE = \"2023-01-01\""
   ]
  },
  {
   "cell_type": "code",
   "execution_count": 3,
   "metadata": {
    "metadata": {}
   },
   "outputs": [],
   "source": [
    "def get_adj_close_price(symbol, start_date):\n",
    "    hist_price_url = f\"https://financialmodelingprep.com/api/v3/historical-price-full/{symbol}?from={start_date}&apikey={FMP_API_KEY}\"\n",
    "    r_json = requests.get(hist_price_url).json()\n",
    "    df = pd.DataFrame(r_json[\"historical\"]).set_index(\"date\").sort_index()\n",
    "    df.index = pd.to_datetime(df.index)\n",
    "    return df[[\"adjClose\"]].rename(columns={\"adjClose\": symbol})"
   ]
  },
  {
   "cell_type": "code",
   "execution_count": 4,
   "metadata": {
    "metadata": {}
   },
   "outputs": [
    {
     "data": {
      "text/html": [
       "<div>\n",
       "<style scoped>\n",
       "    .dataframe tbody tr th:only-of-type {\n",
       "        vertical-align: middle;\n",
       "    }\n",
       "\n",
       "    .dataframe tbody tr th {\n",
       "        vertical-align: top;\n",
       "    }\n",
       "\n",
       "    .dataframe thead th {\n",
       "        text-align: right;\n",
       "    }\n",
       "</style>\n",
       "<table border=\"1\" class=\"dataframe\">\n",
       "  <thead>\n",
       "    <tr style=\"text-align: right;\">\n",
       "      <th></th>\n",
       "      <th>META</th>\n",
       "      <th>AAPL</th>\n",
       "      <th>AMZN</th>\n",
       "      <th>NFLX</th>\n",
       "      <th>GOOGL</th>\n",
       "    </tr>\n",
       "    <tr>\n",
       "      <th>date</th>\n",
       "      <th></th>\n",
       "      <th></th>\n",
       "      <th></th>\n",
       "      <th></th>\n",
       "      <th></th>\n",
       "    </tr>\n",
       "  </thead>\n",
       "  <tbody>\n",
       "    <tr>\n",
       "      <th>2023-01-03</th>\n",
       "      <td>124.61</td>\n",
       "      <td>124.22</td>\n",
       "      <td>85.82</td>\n",
       "      <td>294.950012</td>\n",
       "      <td>89.12</td>\n",
       "    </tr>\n",
       "    <tr>\n",
       "      <th>2023-01-04</th>\n",
       "      <td>127.24</td>\n",
       "      <td>125.50</td>\n",
       "      <td>85.14</td>\n",
       "      <td>309.410004</td>\n",
       "      <td>88.08</td>\n",
       "    </tr>\n",
       "    <tr>\n",
       "      <th>2023-01-05</th>\n",
       "      <td>126.81</td>\n",
       "      <td>124.17</td>\n",
       "      <td>83.12</td>\n",
       "      <td>309.700012</td>\n",
       "      <td>86.20</td>\n",
       "    </tr>\n",
       "    <tr>\n",
       "      <th>2023-01-06</th>\n",
       "      <td>129.88</td>\n",
       "      <td>128.74</td>\n",
       "      <td>86.08</td>\n",
       "      <td>315.549988</td>\n",
       "      <td>87.34</td>\n",
       "    </tr>\n",
       "    <tr>\n",
       "      <th>2023-01-09</th>\n",
       "      <td>129.33</td>\n",
       "      <td>129.26</td>\n",
       "      <td>87.36</td>\n",
       "      <td>315.170013</td>\n",
       "      <td>88.02</td>\n",
       "    </tr>\n",
       "    <tr>\n",
       "      <th>...</th>\n",
       "      <td>...</td>\n",
       "      <td>...</td>\n",
       "      <td>...</td>\n",
       "      <td>...</td>\n",
       "      <td>...</td>\n",
       "    </tr>\n",
       "    <tr>\n",
       "      <th>2024-04-26</th>\n",
       "      <td>443.29</td>\n",
       "      <td>169.30</td>\n",
       "      <td>179.62</td>\n",
       "      <td>561.230000</td>\n",
       "      <td>171.95</td>\n",
       "    </tr>\n",
       "    <tr>\n",
       "      <th>2024-04-29</th>\n",
       "      <td>432.62</td>\n",
       "      <td>173.50</td>\n",
       "      <td>180.96</td>\n",
       "      <td>559.490000</td>\n",
       "      <td>166.15</td>\n",
       "    </tr>\n",
       "    <tr>\n",
       "      <th>2024-04-30</th>\n",
       "      <td>430.17</td>\n",
       "      <td>170.33</td>\n",
       "      <td>175.00</td>\n",
       "      <td>550.640000</td>\n",
       "      <td>162.78</td>\n",
       "    </tr>\n",
       "    <tr>\n",
       "      <th>2024-05-01</th>\n",
       "      <td>439.19</td>\n",
       "      <td>169.30</td>\n",
       "      <td>179.00</td>\n",
       "      <td>551.710000</td>\n",
       "      <td>163.86</td>\n",
       "    </tr>\n",
       "    <tr>\n",
       "      <th>2024-05-02</th>\n",
       "      <td>441.68</td>\n",
       "      <td>173.03</td>\n",
       "      <td>184.72</td>\n",
       "      <td>565.150000</td>\n",
       "      <td>166.62</td>\n",
       "    </tr>\n",
       "  </tbody>\n",
       "</table>\n",
       "<p>335 rows × 5 columns</p>\n",
       "</div>"
      ],
      "text/plain": [
       "              META    AAPL    AMZN        NFLX   GOOGL\n",
       "date                                                  \n",
       "2023-01-03  124.61  124.22   85.82  294.950012   89.12\n",
       "2023-01-04  127.24  125.50   85.14  309.410004   88.08\n",
       "2023-01-05  126.81  124.17   83.12  309.700012   86.20\n",
       "2023-01-06  129.88  128.74   86.08  315.549988   87.34\n",
       "2023-01-09  129.33  129.26   87.36  315.170013   88.02\n",
       "...            ...     ...     ...         ...     ...\n",
       "2024-04-26  443.29  169.30  179.62  561.230000  171.95\n",
       "2024-04-29  432.62  173.50  180.96  559.490000  166.15\n",
       "2024-04-30  430.17  170.33  175.00  550.640000  162.78\n",
       "2024-05-01  439.19  169.30  179.00  551.710000  163.86\n",
       "2024-05-02  441.68  173.03  184.72  565.150000  166.62\n",
       "\n",
       "[335 rows x 5 columns]"
      ]
     },
     "execution_count": 4,
     "metadata": {},
     "output_type": "execute_result"
    }
   ],
   "source": [
    "price_df_list = []\n",
    "for ticker in FAANG_TICKERS:\n",
    "    price_df_list.append(get_adj_close_price(ticker, START_DATE))\n",
    "prices_df = price_df_list[0].join(price_df_list[1:])\n",
    "prices_df = prices_df[:\"2024-05-02\"]\n",
    "prices_df"
   ]
  },
  {
   "cell_type": "code",
   "execution_count": 5,
   "metadata": {
    "metadata": {}
   },
   "outputs": [
    {
     "data": {
      "text/html": [
       "<div>\n",
       "<style scoped>\n",
       "    .dataframe tbody tr th:only-of-type {\n",
       "        vertical-align: middle;\n",
       "    }\n",
       "\n",
       "    .dataframe tbody tr th {\n",
       "        vertical-align: top;\n",
       "    }\n",
       "\n",
       "    .dataframe thead th {\n",
       "        text-align: right;\n",
       "    }\n",
       "</style>\n",
       "<table border=\"1\" class=\"dataframe\">\n",
       "  <thead>\n",
       "    <tr style=\"text-align: right;\">\n",
       "      <th></th>\n",
       "      <th>META</th>\n",
       "      <th>AAPL</th>\n",
       "      <th>AMZN</th>\n",
       "      <th>NFLX</th>\n",
       "      <th>GOOGL</th>\n",
       "    </tr>\n",
       "    <tr>\n",
       "      <th>date</th>\n",
       "      <th></th>\n",
       "      <th></th>\n",
       "      <th></th>\n",
       "      <th></th>\n",
       "      <th></th>\n",
       "    </tr>\n",
       "  </thead>\n",
       "  <tbody>\n",
       "    <tr>\n",
       "      <th>2023-01-04</th>\n",
       "      <td>0.021106</td>\n",
       "      <td>0.010304</td>\n",
       "      <td>-0.007924</td>\n",
       "      <td>0.049025</td>\n",
       "      <td>-0.011670</td>\n",
       "    </tr>\n",
       "    <tr>\n",
       "      <th>2023-01-05</th>\n",
       "      <td>-0.003379</td>\n",
       "      <td>-0.010598</td>\n",
       "      <td>-0.023726</td>\n",
       "      <td>0.000937</td>\n",
       "      <td>-0.021344</td>\n",
       "    </tr>\n",
       "    <tr>\n",
       "      <th>2023-01-06</th>\n",
       "      <td>0.024209</td>\n",
       "      <td>0.036804</td>\n",
       "      <td>0.035611</td>\n",
       "      <td>0.018889</td>\n",
       "      <td>0.013225</td>\n",
       "    </tr>\n",
       "    <tr>\n",
       "      <th>2023-01-09</th>\n",
       "      <td>-0.004235</td>\n",
       "      <td>0.004039</td>\n",
       "      <td>0.014870</td>\n",
       "      <td>-0.001204</td>\n",
       "      <td>0.007786</td>\n",
       "    </tr>\n",
       "    <tr>\n",
       "      <th>2023-01-10</th>\n",
       "      <td>0.027217</td>\n",
       "      <td>0.004487</td>\n",
       "      <td>0.028732</td>\n",
       "      <td>0.039249</td>\n",
       "      <td>0.004544</td>\n",
       "    </tr>\n",
       "    <tr>\n",
       "      <th>...</th>\n",
       "      <td>...</td>\n",
       "      <td>...</td>\n",
       "      <td>...</td>\n",
       "      <td>...</td>\n",
       "      <td>...</td>\n",
       "    </tr>\n",
       "    <tr>\n",
       "      <th>2024-04-26</th>\n",
       "      <td>0.004327</td>\n",
       "      <td>-0.003473</td>\n",
       "      <td>0.034260</td>\n",
       "      <td>-0.006321</td>\n",
       "      <td>0.102244</td>\n",
       "    </tr>\n",
       "    <tr>\n",
       "      <th>2024-04-29</th>\n",
       "      <td>-0.024070</td>\n",
       "      <td>0.024808</td>\n",
       "      <td>0.007460</td>\n",
       "      <td>-0.003100</td>\n",
       "      <td>-0.033731</td>\n",
       "    </tr>\n",
       "    <tr>\n",
       "      <th>2024-04-30</th>\n",
       "      <td>-0.005663</td>\n",
       "      <td>-0.018271</td>\n",
       "      <td>-0.032935</td>\n",
       "      <td>-0.015818</td>\n",
       "      <td>-0.020283</td>\n",
       "    </tr>\n",
       "    <tr>\n",
       "      <th>2024-05-01</th>\n",
       "      <td>0.020968</td>\n",
       "      <td>-0.006047</td>\n",
       "      <td>0.022857</td>\n",
       "      <td>0.001943</td>\n",
       "      <td>0.006635</td>\n",
       "    </tr>\n",
       "    <tr>\n",
       "      <th>2024-05-02</th>\n",
       "      <td>0.005670</td>\n",
       "      <td>0.022032</td>\n",
       "      <td>0.031955</td>\n",
       "      <td>0.024361</td>\n",
       "      <td>0.016844</td>\n",
       "    </tr>\n",
       "  </tbody>\n",
       "</table>\n",
       "<p>334 rows × 5 columns</p>\n",
       "</div>"
      ],
      "text/plain": [
       "                META      AAPL      AMZN      NFLX     GOOGL\n",
       "date                                                        \n",
       "2023-01-04  0.021106  0.010304 -0.007924  0.049025 -0.011670\n",
       "2023-01-05 -0.003379 -0.010598 -0.023726  0.000937 -0.021344\n",
       "2023-01-06  0.024209  0.036804  0.035611  0.018889  0.013225\n",
       "2023-01-09 -0.004235  0.004039  0.014870 -0.001204  0.007786\n",
       "2023-01-10  0.027217  0.004487  0.028732  0.039249  0.004544\n",
       "...              ...       ...       ...       ...       ...\n",
       "2024-04-26  0.004327 -0.003473  0.034260 -0.006321  0.102244\n",
       "2024-04-29 -0.024070  0.024808  0.007460 -0.003100 -0.033731\n",
       "2024-04-30 -0.005663 -0.018271 -0.032935 -0.015818 -0.020283\n",
       "2024-05-01  0.020968 -0.006047  0.022857  0.001943  0.006635\n",
       "2024-05-02  0.005670  0.022032  0.031955  0.024361  0.016844\n",
       "\n",
       "[334 rows x 5 columns]"
      ]
     },
     "execution_count": 5,
     "metadata": {},
     "output_type": "execute_result"
    }
   ],
   "source": [
    "returns_df = prices_df.pct_change().dropna()\n",
    "returns_df"
   ]
  },
  {
   "cell_type": "markdown",
   "metadata": {},
   "source": [
    "## Portfolio Optimization"
   ]
  },
  {
   "cell_type": "code",
   "execution_count": 11,
   "metadata": {
    "metadata": {}
   },
   "outputs": [],
   "source": [
    "# Calculate the annualized expected returns and the covariance matrix\n",
    "avg_returns = mean_historical_return(prices_df, compounding=False)\n",
    "cov_mat = sample_cov(prices_df)"
   ]
  },
  {
   "cell_type": "code",
   "execution_count": 12,
   "metadata": {},
   "outputs": [
    {
     "data": {
      "text/plain": [
       "OrderedDict([('META', 0.0),\n",
       "             ('AAPL', 0.7398377197342494),\n",
       "             ('AMZN', 0.1066118207587511),\n",
       "             ('NFLX', 0.0715698232942175),\n",
       "             ('GOOGL', 0.0819806362127821)])"
      ]
     },
     "execution_count": 12,
     "metadata": {},
     "output_type": "execute_result"
    }
   ],
   "source": [
    "# Find the minimum volatility portfolio using the Efficient Frontier\n",
    "ef = EfficientFrontier(avg_returns, cov_mat)  \n",
    "min_vol_portf_weights = ef.min_volatility()\n",
    "min_vol_portf_weights"
   ]
  },
  {
   "cell_type": "code",
   "execution_count": 13,
   "metadata": {},
   "outputs": [
    {
     "name": "stdout",
     "output_type": "stream",
     "text": [
      "Expected annual return: 35.0%\n",
      "Annual volatility: 19.6%\n",
      "Sharpe Ratio: 1.78\n"
     ]
    }
   ],
   "source": [
    "ef.portfolio_performance(verbose = True, risk_free_rate=0);"
   ]
  },
  {
   "cell_type": "code",
   "execution_count": 14,
   "metadata": {
    "metadata": {}
   },
   "outputs": [
    {
     "data": {
      "text/plain": [
       "OrderedDict([('META', 0.5046490050802513),\n",
       "             ('AAPL', 0.0),\n",
       "             ('AMZN', 0.169952289630033),\n",
       "             ('NFLX', 0.2113174241483321),\n",
       "             ('GOOGL', 0.1140812811413838)])"
      ]
     },
     "execution_count": 14,
     "metadata": {},
     "output_type": "execute_result"
    }
   ],
   "source": [
    "# Find the max Sharpe portfolio using the Efficient Frontier\n",
    "ef = EfficientFrontier(avg_returns, cov_mat)  \n",
    "max_sharpe_portf_weights = ef.max_sharpe(risk_free_rate=0)\n",
    "max_sharpe_portf_weights"
   ]
  },
  {
   "cell_type": "code",
   "execution_count": 15,
   "metadata": {},
   "outputs": [
    {
     "name": "stdout",
     "output_type": "stream",
     "text": [
      "Expected annual return: 80.9%\n",
      "Annual volatility: 30.6%\n",
      "Sharpe Ratio: 2.64\n"
     ]
    }
   ],
   "source": [
    "ef.portfolio_performance(verbose = True, risk_free_rate=0);"
   ]
  }
 ],
 "metadata": {
  "kernelspec": {
   "display_name": "venv",
   "language": "python",
   "name": "python3"
  },
  "language_info": {
   "codemirror_mode": {
    "name": "ipython",
    "version": 3
   },
   "file_extension": ".py",
   "mimetype": "text/x-python",
   "name": "python",
   "nbconvert_exporter": "python",
   "pygments_lexer": "ipython3",
   "version": "3.11.7"
  }
 },
 "nbformat": 4,
 "nbformat_minor": 2
}
