{
 "cells": [
  {
   "cell_type": "markdown",
   "metadata": {},
   "source": [
    "# Portfolio Optimization in Python 101 - PyPortfolioOpt edition"
   ]
  },
  {
   "cell_type": "markdown",
   "metadata": {},
   "source": [
    "## Setup"
   ]
  },
  {
   "cell_type": "code",
   "execution_count": 1,
   "metadata": {
    "metadata": {}
   },
   "outputs": [
    {
     "ename": "ModuleNotFoundError",
     "evalue": "No module named 'pypfopt'",
     "output_type": "error",
     "traceback": [
      "\u001b[0;31m---------------------------------------------------------------------------\u001b[0m",
      "\u001b[0;31mModuleNotFoundError\u001b[0m                       Traceback (most recent call last)",
      "Cell \u001b[0;32mIn[1], line 5\u001b[0m\n\u001b[1;32m      3\u001b[0m \u001b[38;5;28;01mimport\u001b[39;00m \u001b[38;5;21;01mnumpy\u001b[39;00m \u001b[38;5;28;01mas\u001b[39;00m \u001b[38;5;21;01mnp\u001b[39;00m\n\u001b[1;32m      4\u001b[0m \u001b[38;5;28;01mimport\u001b[39;00m \u001b[38;5;21;01mquantstats\u001b[39;00m \u001b[38;5;28;01mas\u001b[39;00m \u001b[38;5;21;01mqs\u001b[39;00m\n\u001b[0;32m----> 5\u001b[0m \u001b[38;5;28;01mfrom\u001b[39;00m \u001b[38;5;21;01mpypfopt\u001b[39;00m\u001b[38;5;21;01m.\u001b[39;00m\u001b[38;5;21;01mexpected_returns\u001b[39;00m \u001b[38;5;28;01mimport\u001b[39;00m mean_historical_return\n\u001b[1;32m      7\u001b[0m \u001b[38;5;66;03m# api key\u001b[39;00m\n\u001b[1;32m      8\u001b[0m \u001b[38;5;28;01mfrom\u001b[39;00m \u001b[38;5;21;01mapi_keys\u001b[39;00m \u001b[38;5;28;01mimport\u001b[39;00m FMP_API_KEY\n",
      "\u001b[0;31mModuleNotFoundError\u001b[0m: No module named 'pypfopt'"
     ]
    }
   ],
   "source": [
    "import requests\n",
    "import pandas as pd\n",
    "import numpy as np\n",
    "import quantstats as qs\n",
    "from pypfopt.expected_returns import mean_historical_return\n",
    "\n",
    "# api key\n",
    "from api_keys import FMP_API_KEY"
   ]
  },
  {
   "cell_type": "markdown",
   "metadata": {},
   "source": [
    "## Downloading data"
   ]
  },
  {
   "cell_type": "markdown",
   "metadata": {},
   "source": []
  },
  {
   "cell_type": "code",
   "execution_count": null,
   "metadata": {
    "metadata": {}
   },
   "outputs": [],
   "source": [
    "FAANG_TICKERS = [\"META\", \"AAPL\", \"AMZN\", \"NFLX\", \"GOOGL\"]\n",
    "START_DATE = \"2023-01-01\""
   ]
  },
  {
   "cell_type": "code",
   "execution_count": null,
   "metadata": {
    "metadata": {}
   },
   "outputs": [],
   "source": [
    "def get_adj_close_price(symbol, start_date):\n",
    "    hist_price_url = f\"https://financialmodelingprep.com/api/v3/historical-price-full/{symbol}?from={start_date}&apikey={FMP_API_KEY}\"\n",
    "    r_json = requests.get(hist_price_url).json()\n",
    "    df = pd.DataFrame(r_json[\"historical\"]).set_index(\"date\").sort_index()\n",
    "    df.index = pd.to_datetime(df.index)\n",
    "    return df[[\"adjClose\"]].rename(columns={\"adjClose\": symbol})"
   ]
  },
  {
   "cell_type": "code",
   "execution_count": null,
   "metadata": {
    "metadata": {}
   },
   "outputs": [],
   "source": [
    "price_df_list = []\n",
    "for ticker in FAANG_TICKERS:\n",
    "    price_df_list.append(get_adj_close_price(ticker, START_DATE))\n",
    "prices_df = price_df_list[0].join(price_df_list[1:])\n",
    "prices_df = prices_df[:\"2024-05-02\"]\n",
    "prices_df"
   ]
  },
  {
   "cell_type": "code",
   "execution_count": null,
   "metadata": {
    "metadata": {}
   },
   "outputs": [],
   "source": [
    "returns_df = prices_df.pct_change().dropna()\n",
    "returns_df"
   ]
  },
  {
   "cell_type": "code",
   "execution_count": null,
   "metadata": {},
   "outputs": [],
   "source": [
    "returns_df = mean_historical_return(prices_df, compounding=False)"
   ]
  },
  {
   "cell_type": "markdown",
   "metadata": {},
   "source": [
    "## Portfolio Optimization"
   ]
  },
  {
   "cell_type": "code",
   "execution_count": null,
   "metadata": {
    "metadata": {}
   },
   "outputs": [],
   "source": [
    "# Calculate the annualized expected returns and the covariance matrix\n",
    "avg_returns = returns_df.mean() * 252\n",
    "cov_mat = returns_df.cov() * 252\n",
    "\n",
    "# Define the function to find the portfolio volatility using the weights and the covariance matrix\n",
    "def get_portfolio_volatility(weights, cov_mat):\n",
    "    return np.sqrt(np.dot(weights.T, np.dot(cov_mat, weights)))\n",
    "\n",
    "# Define the number of assets\n",
    "n_assets = len(avg_returns)\n",
    "\n",
    "# Define the bounds - the weights can be between 0 and 1\n",
    "bounds = tuple((0, 1) for asset in range(n_assets))\n",
    "\n",
    "# Define the initial guess - the equally weighted portfolio\n",
    "initial_guess = n_assets * [1.0 / n_assets]\n",
    "\n",
    "# Define the constraint - all weights must add up to 1\n",
    "constr = {\"type\": \"eq\", \"fun\": lambda x: np.sum(x) - 1}\n",
    "\n",
    "# Find the minimum volatility portfolio\n",
    "min_vol_portf = sco.minimize(\n",
    "    get_portfolio_volatility,\n",
    "    x0=initial_guess,\n",
    "    args=cov_mat,\n",
    "    method=\"SLSQP\",\n",
    "    constraints=constr,\n",
    "    bounds=bounds,\n",
    ")\n",
    "\n",
    "# Store the portfolio weights\n",
    "min_vol_portf_weights = pd.Series(min_vol_portf.x, index=avg_returns.index).round(2)\n",
    "min_vol_portf_weights"
   ]
  },
  {
   "cell_type": "code",
   "execution_count": null,
   "metadata": {
    "metadata": {}
   },
   "outputs": [],
   "source": [
    "min_vol_portf.fun"
   ]
  },
  {
   "cell_type": "code",
   "execution_count": null,
   "metadata": {
    "metadata": {}
   },
   "outputs": [],
   "source": [
    "def get_neg_sharpe_ratio(weights, avg_rtns, cov_mat, rf_rate):\n",
    "    portf_returns = np.sum(avg_rtns * weights)\n",
    "    portf_volatility = np.sqrt(np.dot(weights.T, np.dot(cov_mat, weights)))\n",
    "    portf_sharpe_ratio = (portf_returns - rf_rate) / portf_volatility\n",
    "    return -portf_sharpe_ratio"
   ]
  },
  {
   "cell_type": "code",
   "execution_count": null,
   "metadata": {
    "metadata": {}
   },
   "outputs": [],
   "source": [
    "RF_RATE = 0\n",
    "args = (avg_returns, cov_mat, RF_RATE)\n",
    "\n",
    "max_sharpe_portf = sco.minimize(\n",
    "    get_neg_sharpe_ratio,\n",
    "    x0=initial_guess,\n",
    "    args=args,\n",
    "    method=\"SLSQP\",\n",
    "    bounds=bounds,\n",
    "    constraints=constr,\n",
    ")\n",
    "\n",
    "# Store the portfolio weights\n",
    "max_sharpe_portf_weights = pd.Series(max_sharpe_portf.x, index=avg_returns.index).round(2)\n",
    "max_sharpe_portf_weights"
   ]
  },
  {
   "cell_type": "code",
   "execution_count": null,
   "metadata": {
    "metadata": {}
   },
   "outputs": [],
   "source": [
    "max_sharpe_portf.fun"
   ]
  },
  {
   "cell_type": "markdown",
   "metadata": {},
   "source": [
    "## Evaluating the Portfolios"
   ]
  },
  {
   "cell_type": "code",
   "execution_count": null,
   "metadata": {
    "metadata": {}
   },
   "outputs": [],
   "source": [
    "min_vol_portf_returns = returns_df.dot(min_vol_portf_weights)\n",
    "qs.reports.metrics(min_vol_portf_returns, benchmark=\"SPY\", mode=\"basic\", rf=0)"
   ]
  },
  {
   "cell_type": "code",
   "execution_count": null,
   "metadata": {
    "metadata": {}
   },
   "outputs": [],
   "source": [
    "max_sharpe_portf_returns = returns_df.dot(max_sharpe_portf_weights)\n",
    "qs.reports.metrics(max_sharpe_portf_returns, benchmark=\"SPY\", mode=\"basic\", rf=0)"
   ]
  },
  {
   "cell_type": "code",
   "execution_count": null,
   "metadata": {},
   "outputs": [],
   "source": []
  },
  {
   "cell_type": "code",
   "execution_count": null,
   "metadata": {},
   "outputs": [],
   "source": [
    "ef = EfficientFrontier(expected_returns, cov_matrix)  # setup\n",
    "ef.add_objective(objective_functions.L2_reg)  # add a secondary objective\n",
    "ef.min_volatility()  # find the portfolio that minimises volatility and L2_reg\n"
   ]
  }
 ],
 "metadata": {
  "kernelspec": {
   "display_name": "venv",
   "language": "python",
   "name": "python3"
  },
  "language_info": {
   "codemirror_mode": {
    "name": "ipython",
    "version": 3
   },
   "file_extension": ".py",
   "mimetype": "text/x-python",
   "name": "python",
   "nbconvert_exporter": "python",
   "pygments_lexer": "ipython3",
   "version": "3.11.9"
  }
 },
 "nbformat": 4,
 "nbformat_minor": 2
}
