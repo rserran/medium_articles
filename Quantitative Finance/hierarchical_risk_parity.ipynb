{
 "cells": [
  {
   "cell_type": "markdown",
   "metadata": {},
   "source": [
    "# Beyond Mean-Variance Optimization: Finding Optimal Portfolios with Hierarchical Risk Parity"
   ]
  },
  {
   "cell_type": "markdown",
   "metadata": {},
   "source": [
    "## Setup"
   ]
  },
  {
   "cell_type": "code",
   "execution_count": null,
   "metadata": {},
   "outputs": [],
   "source": [
    "import requests\n",
    "import pandas as pd\n",
    "\n",
    "from skfolio import RiskMeasure, Population\n",
    "from skfolio.optimization import (\n",
    "    MeanRisk,\n",
    "    ObjectiveFunction,\n",
    "    EqualWeighted,\n",
    "    HierarchicalRiskParity,\n",
    ")\n",
    "from skfolio.preprocessing import prices_to_returns\n",
    "from skfolio.cluster import HierarchicalClustering, LinkageMethod\n",
    "from skfolio.distance import MutualInformation\n",
    "\n",
    "# plotting\n",
    "from plotly.io import show\n",
    "import seaborn as sns\n",
    "import matplotlib.pyplot as plt\n",
    "\n",
    "# settings\n",
    "plt.style.use(\"seaborn-v0_8-colorblind\")\n",
    "plt.rcParams[\"figure.figsize\"] = (16, 8)\n",
    "\n",
    "# api key\n",
    "from api_keys import FMP_API_KEY"
   ]
  },
  {
   "cell_type": "markdown",
   "metadata": {},
   "source": [
    "## Downloading data"
   ]
  },
  {
   "cell_type": "code",
   "execution_count": null,
   "metadata": {},
   "outputs": [],
   "source": [
    "TICKERS = [\n",
    "    \"AAPL\",\n",
    "    \"MSFT\",\n",
    "    \"NVDA\",\n",
    "    \"GOOGL\",\n",
    "    \"AMZN\",\n",
    "    \"META\",\n",
    "    \"AVGO\",\n",
    "    \"TSLA\",\n",
    "    \"ORCL\",\n",
    "    \"NFLX\",\n",
    "    \"AMD\",\n",
    "    \"QCOM\",\n",
    "    \"CRM\",\n",
    "    \"ADBE\",\n",
    "    \"CSCO\",\n",
    "]\n",
    "START_DATE = \"2023-01-01\""
   ]
  },
  {
   "cell_type": "code",
   "execution_count": null,
   "metadata": {},
   "outputs": [],
   "source": [
    "def get_adj_close_price(symbol, start_date):\n",
    "    hist_price_url = f\"https://financialmodelingprep.com/api/v3/historical-price-full/{symbol}?from={start_date}&apikey={FMP_API_KEY}\"\n",
    "    r_json = requests.get(hist_price_url).json()\n",
    "    df = pd.DataFrame(r_json[\"historical\"]).set_index(\"date\").sort_index()\n",
    "    df.index = pd.to_datetime(df.index)\n",
    "    return df[[\"adjClose\"]].rename(columns={\"adjClose\": symbol})"
   ]
  },
  {
   "cell_type": "code",
   "execution_count": null,
   "metadata": {},
   "outputs": [],
   "source": [
    "price_df_list = []\n",
    "for ticker in TICKERS:\n",
    "    price_df_list.append(get_adj_close_price(ticker, START_DATE))\n",
    "prices_df = price_df_list[0].join(price_df_list[1:])\n",
    "\n",
    "prices_df.plot(title=\"Stock prices of the 15 largest US tech companies\")"
   ]
  },
  {
   "cell_type": "code",
   "execution_count": null,
   "metadata": {},
   "outputs": [],
   "source": [
    "returns_df = prices_to_returns(prices_df)\n",
    "returns_df"
   ]
  },
  {
   "cell_type": "code",
   "execution_count": null,
   "metadata": {},
   "outputs": [],
   "source": [
    "X_train = returns_df.loc[:\"2024-08-31\"]\n",
    "X_test = returns_df.loc[\"2024-09-01\":]"
   ]
  },
  {
   "cell_type": "markdown",
   "metadata": {},
   "source": [
    "## Baseline portfolios"
   ]
  },
  {
   "cell_type": "code",
   "execution_count": null,
   "metadata": {},
   "outputs": [],
   "source": [
    "# 1/n\n",
    "eq_w_model = EqualWeighted(\n",
    "    portfolio_params=dict(name=\"Equally weighted\"),\n",
    ")\n",
    "eq_w_model.fit(X_train)\n",
    "\n",
    "eq_w_train = eq_w_model.predict(X_train)\n",
    "eq_w_test = eq_w_model.predict(X_test)"
   ]
  },
  {
   "cell_type": "code",
   "execution_count": null,
   "metadata": {},
   "outputs": [],
   "source": [
    "# minumum variance\n",
    "min_var_model = MeanRisk(\n",
    "    objective_function=ObjectiveFunction.MINIMIZE_RISK,\n",
    "    risk_measure=RiskMeasure.VARIANCE,\n",
    "    portfolio_params=dict(name=\"Min Variance\"),\n",
    ")\n",
    "min_var_model.fit(X_train)\n",
    "\n",
    "min_var_train = min_var_model.predict(X_train)\n",
    "min_var_test = min_var_model.predict(X_test)"
   ]
  },
  {
   "cell_type": "markdown",
   "metadata": {},
   "source": [
    "## Hierarchical Risk Parity"
   ]
  },
  {
   "cell_type": "code",
   "execution_count": null,
   "metadata": {},
   "outputs": [],
   "source": [
    "hrp1_model = HierarchicalRiskParity(\n",
    "    risk_measure=RiskMeasure.VARIANCE, portfolio_params=dict(name=\"HRP-variance\")\n",
    ")\n",
    "hrp1_model.fit(X_train)\n",
    "hrp1_train = hrp1_model.predict(X_train)\n",
    "hrp1_test = hrp1_model.predict(X_test)"
   ]
  },
  {
   "cell_type": "code",
   "execution_count": null,
   "metadata": {},
   "outputs": [],
   "source": [
    "hrp1_train.plot_contribution(measure=RiskMeasure.VARIANCE)"
   ]
  },
  {
   "cell_type": "code",
   "execution_count": null,
   "metadata": {},
   "outputs": [],
   "source": [
    "hrp1_test.plot_contribution(measure=RiskMeasure.CVAR)"
   ]
  },
  {
   "cell_type": "code",
   "execution_count": null,
   "metadata": {},
   "outputs": [],
   "source": [
    "hrp1_model.hierarchical_clustering_estimator_.plot_dendrogram(heatmap=False)"
   ]
  },
  {
   "cell_type": "code",
   "execution_count": null,
   "metadata": {},
   "outputs": [],
   "source": [
    "hrp1_model.hierarchical_clustering_estimator_.plot_dendrogram()"
   ]
  },
  {
   "cell_type": "code",
   "execution_count": null,
   "metadata": {},
   "outputs": [],
   "source": [
    "hrp2_model = HierarchicalRiskParity(\n",
    "    risk_measure=RiskMeasure.VARIANCE,\n",
    "    hierarchical_clustering_estimator=HierarchicalClustering(\n",
    "        linkage_method=LinkageMethod.SINGLE,\n",
    "    ),\n",
    "    portfolio_params=dict(name=\"HRP-variance-single-linkage\"),\n",
    ")\n",
    "hrp2_model.fit(X_train)\n",
    "\n",
    "hrp2_train = hrp2_model.predict(X_train)\n",
    "hrp2_test = hrp2_model.predict(X_test)\n",
    "\n",
    "hrp2_model.hierarchical_clustering_estimator_.plot_dendrogram(heatmap=True)"
   ]
  },
  {
   "cell_type": "code",
   "execution_count": null,
   "metadata": {},
   "outputs": [],
   "source": [
    "hrp3_model = HierarchicalRiskParity(\n",
    "    risk_measure=RiskMeasure.VARIANCE,\n",
    "    distance_estimator=MutualInformation(),\n",
    "    portfolio_params=dict(name=\"HRP-variance-mutual-information\"),\n",
    ")\n",
    "hrp3_model.fit(X_train)\n",
    "\n",
    "hrp3_train = hrp3_model.predict(X_train)\n",
    "hrp3_test = hrp3_model.predict(X_test)\n",
    "\n",
    "hrp3_model.hierarchical_clustering_estimator_.plot_dendrogram(heatmap=True)"
   ]
  },
  {
   "cell_type": "markdown",
   "metadata": {},
   "source": [
    "## Comparison"
   ]
  },
  {
   "cell_type": "code",
   "execution_count": null,
   "metadata": {},
   "outputs": [],
   "source": [
    "population_train = Population([eq_w_train, min_var_train, hrp1_train, hrp2_train, hrp3_train])\n",
    "population_test = Population([eq_w_test, min_var_test, hrp1_test, hrp2_test, hrp3_test])"
   ]
  },
  {
   "cell_type": "code",
   "execution_count": null,
   "metadata": {},
   "outputs": [],
   "source": [
    "population_train.plot_composition()"
   ]
  },
  {
   "cell_type": "code",
   "execution_count": null,
   "metadata": {},
   "outputs": [],
   "source": [
    "population_train.plot_cumulative_returns()"
   ]
  },
  {
   "cell_type": "code",
   "execution_count": null,
   "metadata": {},
   "outputs": [],
   "source": [
    "population_test.plot_cumulative_returns()"
   ]
  },
  {
   "cell_type": "code",
   "execution_count": null,
   "metadata": {},
   "outputs": [],
   "source": [
    "summary = population_test.summary()\n",
    "summary.loc[\"Annualized Sharpe Ratio\"].sort_values()"
   ]
  },
  {
   "cell_type": "code",
   "execution_count": null,
   "metadata": {},
   "outputs": [],
   "source": [
    "summary"
   ]
  }
 ],
 "metadata": {
  "kernelspec": {
   "display_name": "medium_venv",
   "language": "python",
   "name": "python3"
  },
  "language_info": {
   "codemirror_mode": {
    "name": "ipython",
    "version": 3
   },
   "file_extension": ".py",
   "mimetype": "text/x-python",
   "name": "python",
   "nbconvert_exporter": "python",
   "pygments_lexer": "ipython3",
   "version": "3.11.7"
  }
 },
 "nbformat": 4,
 "nbformat_minor": 2
}
