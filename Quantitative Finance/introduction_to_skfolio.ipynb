{
 "cells": [
  {
   "cell_type": "markdown",
   "metadata": {},
   "source": [
    "# Skfolio: The Latest Python Library for Portfolio Optimization"
   ]
  },
  {
   "cell_type": "markdown",
   "metadata": {},
   "source": [
    "## Setup"
   ]
  },
  {
   "cell_type": "code",
   "execution_count": 1,
   "metadata": {},
   "outputs": [],
   "source": [
    "import requests\n",
    "import pandas as pd\n",
    "import numpy as np\n",
    "\n",
    "from skfolio import PerfMeasure, RatioMeasure, RiskMeasure, Population\n",
    "from skfolio.optimization import (\n",
    "    MeanRisk,\n",
    "    ObjectiveFunction,\n",
    ")\n",
    "from skfolio.preprocessing import prices_to_returns\n",
    "\n",
    "# plotting\n",
    "from plotly.io import show\n",
    "import seaborn as sns \n",
    "import matplotlib.pyplot as plt\n",
    "\n",
    "# settings\n",
    "plt.style.use(\"seaborn-v0_8-colorblind\")\n",
    "plt.rcParams[\"figure.figsize\"] = (16, 8)\n",
    "\n",
    "# api key\n",
    "from api_keys import FMP_API_KEY"
   ]
  },
  {
   "cell_type": "markdown",
   "metadata": {},
   "source": [
    "## Downloading data"
   ]
  },
  {
   "cell_type": "code",
   "execution_count": 2,
   "metadata": {},
   "outputs": [],
   "source": [
    "FAANG_TICKERS = [\"META\", \"AAPL\", \"AMZN\", \"NFLX\", \"GOOGL\"]\n",
    "START_DATE = \"2023-08-01\""
   ]
  },
  {
   "cell_type": "code",
   "execution_count": 3,
   "metadata": {},
   "outputs": [],
   "source": [
    "def get_adj_close_price(symbol, start_date):\n",
    "    hist_price_url = f\"https://financialmodelingprep.com/api/v3/historical-price-full/{symbol}?from={start_date}&apikey={FMP_API_KEY}\"\n",
    "    r_json = requests.get(hist_price_url).json()\n",
    "    df = pd.DataFrame(r_json[\"historical\"]).set_index(\"date\").sort_index()\n",
    "    df.index = pd.to_datetime(df.index)\n",
    "    return df[[\"adjClose\"]].rename(columns={\"adjClose\": symbol})"
   ]
  },
  {
   "cell_type": "code",
   "execution_count": 4,
   "metadata": {},
   "outputs": [
    {
     "data": {
      "text/html": [
       "<div>\n",
       "<style scoped>\n",
       "    .dataframe tbody tr th:only-of-type {\n",
       "        vertical-align: middle;\n",
       "    }\n",
       "\n",
       "    .dataframe tbody tr th {\n",
       "        vertical-align: top;\n",
       "    }\n",
       "\n",
       "    .dataframe thead th {\n",
       "        text-align: right;\n",
       "    }\n",
       "</style>\n",
       "<table border=\"1\" class=\"dataframe\">\n",
       "  <thead>\n",
       "    <tr style=\"text-align: right;\">\n",
       "      <th></th>\n",
       "      <th>META</th>\n",
       "      <th>AAPL</th>\n",
       "      <th>AMZN</th>\n",
       "      <th>NFLX</th>\n",
       "      <th>GOOGL</th>\n",
       "    </tr>\n",
       "    <tr>\n",
       "      <th>date</th>\n",
       "      <th></th>\n",
       "      <th></th>\n",
       "      <th></th>\n",
       "      <th></th>\n",
       "      <th></th>\n",
       "    </tr>\n",
       "  </thead>\n",
       "  <tbody>\n",
       "    <tr>\n",
       "      <th>2023-08-01</th>\n",
       "      <td>322.05</td>\n",
       "      <td>194.35</td>\n",
       "      <td>131.69</td>\n",
       "      <td>438.62</td>\n",
       "      <td>131.40</td>\n",
       "    </tr>\n",
       "    <tr>\n",
       "      <th>2023-08-02</th>\n",
       "      <td>313.67</td>\n",
       "      <td>191.34</td>\n",
       "      <td>128.21</td>\n",
       "      <td>429.70</td>\n",
       "      <td>128.23</td>\n",
       "    </tr>\n",
       "    <tr>\n",
       "      <th>2023-08-03</th>\n",
       "      <td>312.55</td>\n",
       "      <td>189.94</td>\n",
       "      <td>128.91</td>\n",
       "      <td>431.00</td>\n",
       "      <td>128.30</td>\n",
       "    </tr>\n",
       "    <tr>\n",
       "      <th>2023-08-04</th>\n",
       "      <td>310.09</td>\n",
       "      <td>180.82</td>\n",
       "      <td>139.57</td>\n",
       "      <td>431.60</td>\n",
       "      <td>127.96</td>\n",
       "    </tr>\n",
       "    <tr>\n",
       "      <th>2023-08-07</th>\n",
       "      <td>315.91</td>\n",
       "      <td>177.70</td>\n",
       "      <td>142.22</td>\n",
       "      <td>440.76</td>\n",
       "      <td>131.38</td>\n",
       "    </tr>\n",
       "    <tr>\n",
       "      <th>...</th>\n",
       "      <td>...</td>\n",
       "      <td>...</td>\n",
       "      <td>...</td>\n",
       "      <td>...</td>\n",
       "      <td>...</td>\n",
       "    </tr>\n",
       "    <tr>\n",
       "      <th>2024-08-12</th>\n",
       "      <td>515.95</td>\n",
       "      <td>217.53</td>\n",
       "      <td>166.80</td>\n",
       "      <td>633.14</td>\n",
       "      <td>162.29</td>\n",
       "    </tr>\n",
       "    <tr>\n",
       "      <th>2024-08-13</th>\n",
       "      <td>528.54</td>\n",
       "      <td>221.27</td>\n",
       "      <td>170.23</td>\n",
       "      <td>648.02</td>\n",
       "      <td>164.16</td>\n",
       "    </tr>\n",
       "    <tr>\n",
       "      <th>2024-08-14</th>\n",
       "      <td>526.76</td>\n",
       "      <td>221.72</td>\n",
       "      <td>170.10</td>\n",
       "      <td>661.68</td>\n",
       "      <td>160.37</td>\n",
       "    </tr>\n",
       "    <tr>\n",
       "      <th>2024-08-15</th>\n",
       "      <td>537.33</td>\n",
       "      <td>224.72</td>\n",
       "      <td>177.59</td>\n",
       "      <td>663.22</td>\n",
       "      <td>161.30</td>\n",
       "    </tr>\n",
       "    <tr>\n",
       "      <th>2024-08-16</th>\n",
       "      <td>527.42</td>\n",
       "      <td>226.05</td>\n",
       "      <td>177.06</td>\n",
       "      <td>674.07</td>\n",
       "      <td>162.96</td>\n",
       "    </tr>\n",
       "  </tbody>\n",
       "</table>\n",
       "<p>264 rows × 5 columns</p>\n",
       "</div>"
      ],
      "text/plain": [
       "              META    AAPL    AMZN    NFLX   GOOGL\n",
       "date                                              \n",
       "2023-08-01  322.05  194.35  131.69  438.62  131.40\n",
       "2023-08-02  313.67  191.34  128.21  429.70  128.23\n",
       "2023-08-03  312.55  189.94  128.91  431.00  128.30\n",
       "2023-08-04  310.09  180.82  139.57  431.60  127.96\n",
       "2023-08-07  315.91  177.70  142.22  440.76  131.38\n",
       "...            ...     ...     ...     ...     ...\n",
       "2024-08-12  515.95  217.53  166.80  633.14  162.29\n",
       "2024-08-13  528.54  221.27  170.23  648.02  164.16\n",
       "2024-08-14  526.76  221.72  170.10  661.68  160.37\n",
       "2024-08-15  537.33  224.72  177.59  663.22  161.30\n",
       "2024-08-16  527.42  226.05  177.06  674.07  162.96\n",
       "\n",
       "[264 rows x 5 columns]"
      ]
     },
     "execution_count": 4,
     "metadata": {},
     "output_type": "execute_result"
    }
   ],
   "source": [
    "price_df_list = []\n",
    "for ticker in FAANG_TICKERS:\n",
    "    price_df_list.append(get_adj_close_price(ticker, START_DATE))\n",
    "prices_df = price_df_list[0].join(price_df_list[1:])\n",
    "prices_df"
   ]
  },
  {
   "cell_type": "code",
   "execution_count": 5,
   "metadata": {},
   "outputs": [
    {
     "data": {
      "text/plain": [
       "<Axes: xlabel='date'>"
      ]
     },
     "execution_count": 5,
     "metadata": {},
     "output_type": "execute_result"
    },
    {
     "data": {
      "image/png": "[encoded data removed]",
      "text/plain": [
       "<Figure size 1600x800 with 1 Axes>"
      ]
     },
     "metadata": {},
     "output_type": "display_data"
    }
   ],
   "source": [
    "prices_df.plot()"
   ]
  },
  {
   "cell_type": "code",
   "execution_count": 6,
   "metadata": {},
   "outputs": [
    {
     "data": {
      "text/html": [
       "<div>\n",
       "<style scoped>\n",
       "    .dataframe tbody tr th:only-of-type {\n",
       "        vertical-align: middle;\n",
       "    }\n",
       "\n",
       "    .dataframe tbody tr th {\n",
       "        vertical-align: top;\n",
       "    }\n",
       "\n",
       "    .dataframe thead th {\n",
       "        text-align: right;\n",
       "    }\n",
       "</style>\n",
       "<table border=\"1\" class=\"dataframe\">\n",
       "  <thead>\n",
       "    <tr style=\"text-align: right;\">\n",
       "      <th></th>\n",
       "      <th>META</th>\n",
       "      <th>AAPL</th>\n",
       "      <th>AMZN</th>\n",
       "      <th>NFLX</th>\n",
       "      <th>GOOGL</th>\n",
       "    </tr>\n",
       "    <tr>\n",
       "      <th>date</th>\n",
       "      <th></th>\n",
       "      <th></th>\n",
       "      <th></th>\n",
       "      <th></th>\n",
       "      <th></th>\n",
       "    </tr>\n",
       "  </thead>\n",
       "  <tbody>\n",
       "    <tr>\n",
       "      <th>2023-08-02</th>\n",
       "      <td>-0.026021</td>\n",
       "      <td>-0.015488</td>\n",
       "      <td>-0.026426</td>\n",
       "      <td>-0.020337</td>\n",
       "      <td>-0.024125</td>\n",
       "    </tr>\n",
       "    <tr>\n",
       "      <th>2023-08-03</th>\n",
       "      <td>-0.003571</td>\n",
       "      <td>-0.007317</td>\n",
       "      <td>0.005460</td>\n",
       "      <td>0.003025</td>\n",
       "      <td>0.000546</td>\n",
       "    </tr>\n",
       "    <tr>\n",
       "      <th>2023-08-04</th>\n",
       "      <td>-0.007871</td>\n",
       "      <td>-0.048015</td>\n",
       "      <td>0.082693</td>\n",
       "      <td>0.001392</td>\n",
       "      <td>-0.002650</td>\n",
       "    </tr>\n",
       "    <tr>\n",
       "      <th>2023-08-07</th>\n",
       "      <td>0.018769</td>\n",
       "      <td>-0.017255</td>\n",
       "      <td>0.018987</td>\n",
       "      <td>0.021223</td>\n",
       "      <td>0.026727</td>\n",
       "    </tr>\n",
       "    <tr>\n",
       "      <th>2023-08-08</th>\n",
       "      <td>-0.012377</td>\n",
       "      <td>0.005290</td>\n",
       "      <td>-0.016032</td>\n",
       "      <td>-0.005581</td>\n",
       "      <td>-0.000989</td>\n",
       "    </tr>\n",
       "    <tr>\n",
       "      <th>...</th>\n",
       "      <td>...</td>\n",
       "      <td>...</td>\n",
       "      <td>...</td>\n",
       "      <td>...</td>\n",
       "      <td>...</td>\n",
       "    </tr>\n",
       "    <tr>\n",
       "      <th>2024-08-12</th>\n",
       "      <td>-0.003515</td>\n",
       "      <td>0.007130</td>\n",
       "      <td>-0.000839</td>\n",
       "      <td>-0.001262</td>\n",
       "      <td>-0.008432</td>\n",
       "    </tr>\n",
       "    <tr>\n",
       "      <th>2024-08-13</th>\n",
       "      <td>0.024402</td>\n",
       "      <td>0.017193</td>\n",
       "      <td>0.020564</td>\n",
       "      <td>0.023502</td>\n",
       "      <td>0.011523</td>\n",
       "    </tr>\n",
       "    <tr>\n",
       "      <th>2024-08-14</th>\n",
       "      <td>-0.003368</td>\n",
       "      <td>0.002034</td>\n",
       "      <td>-0.000764</td>\n",
       "      <td>0.021080</td>\n",
       "      <td>-0.023087</td>\n",
       "    </tr>\n",
       "    <tr>\n",
       "      <th>2024-08-15</th>\n",
       "      <td>0.020066</td>\n",
       "      <td>0.013531</td>\n",
       "      <td>0.044033</td>\n",
       "      <td>0.002327</td>\n",
       "      <td>0.005799</td>\n",
       "    </tr>\n",
       "    <tr>\n",
       "      <th>2024-08-16</th>\n",
       "      <td>-0.018443</td>\n",
       "      <td>0.005918</td>\n",
       "      <td>-0.002984</td>\n",
       "      <td>0.016360</td>\n",
       "      <td>0.010291</td>\n",
       "    </tr>\n",
       "  </tbody>\n",
       "</table>\n",
       "<p>263 rows × 5 columns</p>\n",
       "</div>"
      ],
      "text/plain": [
       "                META      AAPL      AMZN      NFLX     GOOGL\n",
       "date                                                        \n",
       "2023-08-02 -0.026021 -0.015488 -0.026426 -0.020337 -0.024125\n",
       "2023-08-03 -0.003571 -0.007317  0.005460  0.003025  0.000546\n",
       "2023-08-04 -0.007871 -0.048015  0.082693  0.001392 -0.002650\n",
       "2023-08-07  0.018769 -0.017255  0.018987  0.021223  0.026727\n",
       "2023-08-08 -0.012377  0.005290 -0.016032 -0.005581 -0.000989\n",
       "...              ...       ...       ...       ...       ...\n",
       "2024-08-12 -0.003515  0.007130 -0.000839 -0.001262 -0.008432\n",
       "2024-08-13  0.024402  0.017193  0.020564  0.023502  0.011523\n",
       "2024-08-14 -0.003368  0.002034 -0.000764  0.021080 -0.023087\n",
       "2024-08-15  0.020066  0.013531  0.044033  0.002327  0.005799\n",
       "2024-08-16 -0.018443  0.005918 -0.002984  0.016360  0.010291\n",
       "\n",
       "[263 rows x 5 columns]"
      ]
     },
     "execution_count": 6,
     "metadata": {},
     "output_type": "execute_result"
    }
   ],
   "source": [
    "returns_df = prices_to_returns(prices_df)\n",
    "returns_df"
   ]
  },
  {
   "cell_type": "code",
   "execution_count": 7,
   "metadata": {},
   "outputs": [
    {
     "data": {
      "text/plain": [
       "<Axes: title={'center': 'Cumulative Returns'}, xlabel='date'>"
      ]
     },
     "execution_count": 7,
     "metadata": {},
     "output_type": "execute_result"
    },
    {
     "data": {
      "image/png": "[encoded data removed]",
      "text/plain": [
       "<Figure size 1600x800 with 1 Axes>"
      ]
     },
     "metadata": {},
     "output_type": "display_data"
    }
   ],
   "source": [
    "cumulative_returns_df = (1 + returns_df).cumprod() - 1\n",
    "cumulative_returns_df.plot(title=\"Cumulative Returns\")"
   ]
  },
  {
   "cell_type": "markdown",
   "metadata": {},
   "source": [
    "## Portfolio Optimization"
   ]
  },
  {
   "cell_type": "markdown",
   "metadata": {},
   "source": [
    "### Individual portfolios"
   ]
  },
  {
   "cell_type": "code",
   "execution_count": 8,
   "metadata": {},
   "outputs": [
    {
     "data": {
      "text/plain": [
       "array([0.02359533, 0.49553118, 0.16225161, 0.14974249, 0.16887939])"
      ]
     },
     "execution_count": 8,
     "metadata": {},
     "output_type": "execute_result"
    }
   ],
   "source": [
    "model = MeanRisk(\n",
    "    objective_function=ObjectiveFunction.MINIMIZE_RISK,\n",
    "    risk_measure=RiskMeasure.VARIANCE,\n",
    "    portfolio_params=dict(name=\"Min Variance\"),\n",
    ")\n",
    "model.fit(returns_df)\n",
    "min_variance_pred = model.predict(returns_df)\n",
    "model.weights_"
   ]
  },
  {
   "cell_type": "code",
   "execution_count": 11,
   "metadata": {},
   "outputs": [
    {
     "data": {
      "text/plain": [
       "skfolio.portfolio._portfolio.Portfolio"
      ]
     },
     "execution_count": 11,
     "metadata": {},
     "output_type": "execute_result"
    }
   ],
   "source": [
    "type(min_variance_pred)"
   ]
  },
  {
   "cell_type": "code",
   "execution_count": 12,
   "metadata": {},
   "outputs": [],
   "source": [
    "model = MeanRisk(\n",
    "    objective_function=ObjectiveFunction.MAXIMIZE_RETURN,\n",
    "    portfolio_params=dict(name=\"Max Return\"),\n",
    "    \n",
    ")\n",
    "model.fit(returns_df)\n",
    "max_return_pred = model.predict(returns_df)\n"
   ]
  },
  {
   "cell_type": "code",
   "execution_count": 13,
   "metadata": {},
   "outputs": [],
   "source": [
    "model = MeanRisk(\n",
    "    objective_function=ObjectiveFunction.MAXIMIZE_RATIO,\n",
    "    risk_measure=RiskMeasure.VARIANCE,\n",
    "    portfolio_params=dict(name=\"Max Sharpe\"),\n",
    ")\n",
    "model.fit(returns_df)\n",
    "max_sharpe_pred = model.predict(returns_df)\n"
   ]
  },
  {
   "cell_type": "code",
   "execution_count": 14,
   "metadata": {},
   "outputs": [
    {
     "data": {
      "application/vnd.plotly.v1+json": {
       "config": {
        "plotlyServerURL": "https://plot.ly"
       },
       "data": [
        {
         "alignmentgroup": "True",
         "hovertemplate": "asset=AAPL<br>index=%{x}<br>value=%{y}<extra></extra>",
         "legendgroup": "AAPL",
         "marker": {
          "color": "#636efa",
          "pattern": {
           "shape": ""
          }
         },
         "name": "AAPL",
         "offsetgroup": "AAPL",
         "orientation": "v",
         "showlegend": true,
         "textposition": "auto",
         "type": "bar",
         "x": [
          "Min Variance",
          "Max Return",
          "Max Sharpe"
         ],
         "xaxis": "x",
         "y": [
          0.4955311751236471,
          0,
          0.06409291176445353
         ],
         "yaxis": "y"
        },
        {
         "alignmentgroup": "True",
         "hovertemplate": "asset=GOOGL<br>index=%{x}<br>value=%{y}<extra></extra>",
         "legendgroup": "GOOGL",
         "marker": {
          "color": "#EF553B",
          "pattern": {
           "shape": ""
          }
         },
         "name": "GOOGL",
         "offsetgroup": "GOOGL",
         "orientation": "v",
         "showlegend": true,
         "textposition": "auto",
         "type": "bar",
         "x": [
          "Min Variance",
          "Max Return",
          "Max Sharpe"
         ],
         "xaxis": "x",
         "y": [
          0.1688793874023746,
          0,
          0.007469731023558206
         ],
         "yaxis": "y"
        },
        {
         "alignmentgroup": "True",
         "hovertemplate": "asset=AMZN<br>index=%{x}<br>value=%{y}<extra></extra>",
         "legendgroup": "AMZN",
         "marker": {
          "color": "#00cc96",
          "pattern": {
           "shape": ""
          }
         },
         "name": "AMZN",
         "offsetgroup": "AMZN",
         "orientation": "v",
         "showlegend": true,
         "textposition": "auto",
         "type": "bar",
         "x": [
          "Min Variance",
          "Max Return",
          "Max Sharpe"
         ],
         "xaxis": "x",
         "y": [
          0.16225161148474915,
          0,
          0.057978207633115286
         ],
         "yaxis": "y"
        },
        {
         "alignmentgroup": "True",
         "hovertemplate": "asset=NFLX<br>index=%{x}<br>value=%{y}<extra></extra>",
         "legendgroup": "NFLX",
         "marker": {
          "color": "#ab63fa",
          "pattern": {
           "shape": ""
          }
         },
         "name": "NFLX",
         "offsetgroup": "NFLX",
         "orientation": "v",
         "showlegend": true,
         "textposition": "auto",
         "type": "bar",
         "x": [
          "Min Variance",
          "Max Return",
          "Max Sharpe"
         ],
         "xaxis": "x",
         "y": [
          0.1497424918462599,
          0,
          0.456071405176309
         ],
         "yaxis": "y"
        },
        {
         "alignmentgroup": "True",
         "hovertemplate": "asset=META<br>index=%{x}<br>value=%{y}<extra></extra>",
         "legendgroup": "META",
         "marker": {
          "color": "#FFA15A",
          "pattern": {
           "shape": ""
          }
         },
         "name": "META",
         "offsetgroup": "META",
         "orientation": "v",
         "showlegend": true,
         "textposition": "auto",
         "type": "bar",
         "x": [
          "Min Variance",
          "Max Return",
          "Max Sharpe"
         ],
         "xaxis": "x",
         "y": [
          0.023595334142969354,
          0.9999998327213061,
          0.41438774440256404
         ],
         "yaxis": "y"
        }
       ],
       "layout": {
        "barmode": "relative",
        "legend": {
         "title": {
          "text": "asset"
         },
         "tracegroupgap": 0,
         "x": 1.15,
         "xanchor": "left",
         "y": 0.99,
         "yanchor": "top"
        },
        "margin": {
         "t": 60
        },
        "template": {
         "data": {
          "bar": [
           {
            "error_x": {
             "color": "#2a3f5f"
            },
            "error_y": {
             "color": "#2a3f5f"
            },
            "marker": {
             "line": {
              "color": "#E5ECF6",
              "width": 0.5
             },
             "pattern": {
              "fillmode": "overlay",
              "size": 10,
              "solidity": 0.2
             }
            },
            "type": "bar"
           }
          ],
          "barpolar": [
           {
            "marker": {
             "line": {
              "color": "#E5ECF6",
              "width": 0.5
             },
             "pattern": {
              "fillmode": "overlay",
              "size": 10,
              "solidity": 0.2
             }
            },
            "type": "barpolar"
           }
          ],
          "carpet": [
           {
            "aaxis": {
             "endlinecolor": "#2a3f5f",
             "gridcolor": "white",
             "linecolor": "white",
             "minorgridcolor": "white",
             "startlinecolor": "#2a3f5f"
            },
            "baxis": {
             "endlinecolor": "#2a3f5f",
             "gridcolor": "white",
             "linecolor": "white",
             "minorgridcolor": "white",
             "startlinecolor": "#2a3f5f"
            },
            "type": "carpet"
           }
          ],
          "choropleth": [
           {
            "colorbar": {
             "outlinewidth": 0,
             "ticks": ""
            },
            "type": "choropleth"
           }
          ],
          "contour": [
           {
            "colorbar": {
             "outlinewidth": 0,
             "ticks": ""
            },
            "colorscale": [
             [
              0,
              "#0d0887"
             ],
             [
              0.1111111111111111,
              "#46039f"
             ],
             [
              0.2222222222222222,
              "#7201a8"
             ],
             [
              0.3333333333333333,
              "#9c179e"
             ],
             [
              0.4444444444444444,
              "#bd3786"
             ],
             [
              0.5555555555555556,
              "#d8576b"
             ],
             [
              0.6666666666666666,
              "#ed7953"
             ],
             [
              0.7777777777777778,
              "#fb9f3a"
             ],
             [
              0.8888888888888888,
              "#fdca26"
             ],
             [
              1,
              "#f0f921"
             ]
            ],
            "type": "contour"
           }
          ],
          "contourcarpet": [
           {
            "colorbar": {
             "outlinewidth": 0,
             "ticks": ""
            },
            "type": "contourcarpet"
           }
          ],
          "heatmap": [
           {
            "colorbar": {
             "outlinewidth": 0,
             "ticks": ""
            },
            "colorscale": [
             [
              0,
              "#0d0887"
             ],
             [
              0.1111111111111111,
              "#46039f"
             ],
             [
              0.2222222222222222,
              "#7201a8"
             ],
             [
              0.3333333333333333,
              "#9c179e"
             ],
             [
              0.4444444444444444,
              "#bd3786"
             ],
             [
              0.5555555555555556,
              "#d8576b"
             ],
             [
              0.6666666666666666,
              "#ed7953"
             ],
             [
              0.7777777777777778,
              "#fb9f3a"
             ],
             [
              0.8888888888888888,
              "#fdca26"
             ],
             [
              1,
              "#f0f921"
             ]
            ],
            "type": "heatmap"
           }
          ],
          "heatmapgl": [
           {
            "colorbar": {
             "outlinewidth": 0,
             "ticks": ""
            },
            "colorscale": [
             [
              0,
              "#0d0887"
             ],
             [
              0.1111111111111111,
              "#46039f"
             ],
             [
              0.2222222222222222,
              "#7201a8"
             ],
             [
              0.3333333333333333,
              "#9c179e"
             ],
             [
              0.4444444444444444,
              "#bd3786"
             ],
             [
              0.5555555555555556,
              "#d8576b"
             ],
             [
              0.6666666666666666,
              "#ed7953"
             ],
             [
              0.7777777777777778,
              "#fb9f3a"
             ],
             [
              0.8888888888888888,
              "#fdca26"
             ],
             [
              1,
              "#f0f921"
             ]
            ],
            "type": "heatmapgl"
           }
          ],
          "histogram": [
           {
            "marker": {
             "pattern": {
              "fillmode": "overlay",
              "size": 10,
              "solidity": 0.2
             }
            },
            "type": "histogram"
           }
          ],
          "histogram2d": [
           {
            "colorbar": {
             "outlinewidth": 0,
             "ticks": ""
            },
            "colorscale": [
             [
              0,
              "#0d0887"
             ],
             [
              0.1111111111111111,
              "#46039f"
             ],
             [
              0.2222222222222222,
              "#7201a8"
             ],
             [
              0.3333333333333333,
              "#9c179e"
             ],
             [
              0.4444444444444444,
              "#bd3786"
             ],
             [
              0.5555555555555556,
              "#d8576b"
             ],
             [
              0.6666666666666666,
              "#ed7953"
             ],
             [
              0.7777777777777778,
              "#fb9f3a"
             ],
             [
              0.8888888888888888,
              "#fdca26"
             ],
             [
              1,
              "#f0f921"
             ]
            ],
            "type": "histogram2d"
           }
          ],
          "histogram2dcontour": [
           {
            "colorbar": {
             "outlinewidth": 0,
             "ticks": ""
            },
            "colorscale": [
             [
              0,
              "#0d0887"
             ],
             [
              0.1111111111111111,
              "#46039f"
             ],
             [
              0.2222222222222222,
              "#7201a8"
             ],
             [
              0.3333333333333333,
              "#9c179e"
             ],
             [
              0.4444444444444444,
              "#bd3786"
             ],
             [
              0.5555555555555556,
              "#d8576b"
             ],
             [
              0.6666666666666666,
              "#ed7953"
             ],
             [
              0.7777777777777778,
              "#fb9f3a"
             ],
             [
              0.8888888888888888,
              "#fdca26"
             ],
             [
              1,
              "#f0f921"
             ]
            ],
            "type": "histogram2dcontour"
           }
          ],
          "mesh3d": [
           {
            "colorbar": {
             "outlinewidth": 0,
             "ticks": ""
            },
            "type": "mesh3d"
           }
          ],
          "parcoords": [
           {
            "line": {
             "colorbar": {
              "outlinewidth": 0,
              "ticks": ""
             }
            },
            "type": "parcoords"
           }
          ],
          "pie": [
           {
            "automargin": true,
            "type": "pie"
           }
          ],
          "scatter": [
           {
            "fillpattern": {
             "fillmode": "overlay",
             "size": 10,
             "solidity": 0.2
            },
            "type": "scatter"
           }
          ],
          "scatter3d": [
           {
            "line": {
             "colorbar": {
              "outlinewidth": 0,
              "ticks": ""
             }
            },
            "marker": {
             "colorbar": {
              "outlinewidth": 0,
              "ticks": ""
             }
            },
            "type": "scatter3d"
           }
          ],
          "scattercarpet": [
           {
            "marker": {
             "colorbar": {
              "outlinewidth": 0,
              "ticks": ""
             }
            },
            "type": "scattercarpet"
           }
          ],
          "scattergeo": [
           {
            "marker": {
             "colorbar": {
              "outlinewidth": 0,
              "ticks": ""
             }
            },
            "type": "scattergeo"
           }
          ],
          "scattergl": [
           {
            "marker": {
             "colorbar": {
              "outlinewidth": 0,
              "ticks": ""
             }
            },
            "type": "scattergl"
           }
          ],
          "scattermapbox": [
           {
            "marker": {
             "colorbar": {
              "outlinewidth": 0,
              "ticks": ""
             }
            },
            "type": "scattermapbox"
           }
          ],
          "scatterpolar": [
           {
            "marker": {
             "colorbar": {
              "outlinewidth": 0,
              "ticks": ""
             }
            },
            "type": "scatterpolar"
           }
          ],
          "scatterpolargl": [
           {
            "marker": {
             "colorbar": {
              "outlinewidth": 0,
              "ticks": ""
             }
            },
            "type": "scatterpolargl"
           }
          ],
          "scatterternary": [
           {
            "marker": {
             "colorbar": {
              "outlinewidth": 0,
              "ticks": ""
             }
            },
            "type": "scatterternary"
           }
          ],
          "surface": [
           {
            "colorbar": {
             "outlinewidth": 0,
             "ticks": ""
            },
            "colorscale": [
             [
              0,
              "#0d0887"
             ],
             [
              0.1111111111111111,
              "#46039f"
             ],
             [
              0.2222222222222222,
              "#7201a8"
             ],
             [
              0.3333333333333333,
              "#9c179e"
             ],
             [
              0.4444444444444444,
              "#bd3786"
             ],
             [
              0.5555555555555556,
              "#d8576b"
             ],
             [
              0.6666666666666666,
              "#ed7953"
             ],
             [
              0.7777777777777778,
              "#fb9f3a"
             ],
             [
              0.8888888888888888,
              "#fdca26"
             ],
             [
              1,
              "#f0f921"
             ]
            ],
            "type": "surface"
           }
          ],
          "table": [
           {
            "cells": {
             "fill": {
              "color": "#EBF0F8"
             },
             "line": {
              "color": "white"
             }
            },
            "header": {
             "fill": {
              "color": "#C8D4E3"
             },
             "line": {
              "color": "white"
             }
            },
            "type": "table"
           }
          ]
         },
         "layout": {
          "annotationdefaults": {
           "arrowcolor": "#2a3f5f",
           "arrowhead": 0,
           "arrowwidth": 1
          },
          "autotypenumbers": "strict",
          "coloraxis": {
           "colorbar": {
            "outlinewidth": 0,
            "ticks": ""
           }
          },
          "colorscale": {
           "diverging": [
            [
             0,
             "#8e0152"
            ],
            [
             0.1,
             "#c51b7d"
            ],
            [
             0.2,
             "#de77ae"
            ],
            [
             0.3,
             "#f1b6da"
            ],
            [
             0.4,
             "#fde0ef"
            ],
            [
             0.5,
             "#f7f7f7"
            ],
            [
             0.6,
             "#e6f5d0"
            ],
            [
             0.7,
             "#b8e186"
            ],
            [
             0.8,
             "#7fbc41"
            ],
            [
             0.9,
             "#4d9221"
            ],
            [
             1,
             "#276419"
            ]
           ],
           "sequential": [
            [
             0,
             "#0d0887"
            ],
            [
             0.1111111111111111,
             "#46039f"
            ],
            [
             0.2222222222222222,
             "#7201a8"
            ],
            [
             0.3333333333333333,
             "#9c179e"
            ],
            [
             0.4444444444444444,
             "#bd3786"
            ],
            [
             0.5555555555555556,
             "#d8576b"
            ],
            [
             0.6666666666666666,
             "#ed7953"
            ],
            [
             0.7777777777777778,
             "#fb9f3a"
            ],
            [
             0.8888888888888888,
             "#fdca26"
            ],
            [
             1,
             "#f0f921"
            ]
           ],
           "sequentialminus": [
            [
             0,
             "#0d0887"
            ],
            [
             0.1111111111111111,
             "#46039f"
            ],
            [
             0.2222222222222222,
             "#7201a8"
            ],
            [
             0.3333333333333333,
             "#9c179e"
            ],
            [
             0.4444444444444444,
             "#bd3786"
            ],
            [
             0.5555555555555556,
             "#d8576b"
            ],
            [
             0.6666666666666666,
             "#ed7953"
            ],
            [
             0.7777777777777778,
             "#fb9f3a"
            ],
            [
             0.8888888888888888,
             "#fdca26"
            ],
            [
             1,
             "#f0f921"
            ]
           ]
          },
          "colorway": [
           "#636efa",
           "#EF553B",
           "#00cc96",
           "#ab63fa",
           "#FFA15A",
           "#19d3f3",
           "#FF6692",
           "#B6E880",
           "#FF97FF",
           "#FECB52"
          ],
          "font": {
           "color": "#2a3f5f"
          },
          "geo": {
           "bgcolor": "white",
           "lakecolor": "white",
           "landcolor": "#E5ECF6",
           "showlakes": true,
           "showland": true,
           "subunitcolor": "white"
          },
          "hoverlabel": {
           "align": "left"
          },
          "hovermode": "closest",
          "mapbox": {
           "style": "light"
          },
          "paper_bgcolor": "white",
          "plot_bgcolor": "#E5ECF6",
          "polar": {
           "angularaxis": {
            "gridcolor": "white",
            "linecolor": "white",
            "ticks": ""
           },
           "bgcolor": "#E5ECF6",
           "radialaxis": {
            "gridcolor": "white",
            "linecolor": "white",
            "ticks": ""
           }
          },
          "scene": {
           "xaxis": {
            "backgroundcolor": "#E5ECF6",
            "gridcolor": "white",
            "gridwidth": 2,
            "linecolor": "white",
            "showbackground": true,
            "ticks": "",
            "zerolinecolor": "white"
           },
           "yaxis": {
            "backgroundcolor": "#E5ECF6",
            "gridcolor": "white",
            "gridwidth": 2,
            "linecolor": "white",
            "showbackground": true,
            "ticks": "",
            "zerolinecolor": "white"
           },
           "zaxis": {
            "backgroundcolor": "#E5ECF6",
            "gridcolor": "white",
            "gridwidth": 2,
            "linecolor": "white",
            "showbackground": true,
            "ticks": "",
            "zerolinecolor": "white"
           }
          },
          "shapedefaults": {
           "line": {
            "color": "#2a3f5f"
           }
          },
          "ternary": {
           "aaxis": {
            "gridcolor": "white",
            "linecolor": "white",
            "ticks": ""
           },
           "baxis": {
            "gridcolor": "white",
            "linecolor": "white",
            "ticks": ""
           },
           "bgcolor": "#E5ECF6",
           "caxis": {
            "gridcolor": "white",
            "linecolor": "white",
            "ticks": ""
           }
          },
          "title": {
           "x": 0.05
          },
          "xaxis": {
           "automargin": true,
           "gridcolor": "white",
           "linecolor": "white",
           "ticks": "",
           "title": {
            "standoff": 15
           },
           "zerolinecolor": "white",
           "zerolinewidth": 2
          },
          "yaxis": {
           "automargin": true,
           "gridcolor": "white",
           "linecolor": "white",
           "ticks": "",
           "title": {
            "standoff": 15
           },
           "zerolinecolor": "white",
           "zerolinewidth": 2
          }
         }
        },
        "title": {
         "text": "Portfolios Composition"
        },
        "xaxis": {
         "anchor": "y",
         "domain": [
          0,
          1
         ],
         "title": {
          "text": "Portfolios"
         }
        },
        "yaxis": {
         "anchor": "x",
         "domain": [
          0,
          1
         ],
         "tickformat": ",.0%",
         "title": {
          "text": "Weight"
         }
        }
       }
      }
     },
     "metadata": {},
     "output_type": "display_data"
    }
   ],
   "source": [
    "population = Population([min_variance_pred, max_return_pred, max_sharpe_pred])\n",
    "population.plot_composition()"
   ]
  },
  {
   "cell_type": "code",
   "execution_count": 15,
   "metadata": {},
   "outputs": [
    {
     "data": {
      "application/vnd.plotly.v1+json": {
       "config": {
        "plotlyServerURL": "https://plot.ly"
       },
       "data": [
        {
         "hovertemplate": "variable=Min Variance<br>index=%{x}<br>value=%{y}<extra></extra>",
         "legendgroup": "Min Variance",
         "line": {
          "color": "#636efa",
          "dash": "solid"
         },
         "marker": {
          "symbol": "circle"
         },
         "mode": "lines",
         "name": "Min Variance",
         "orientation": "v",
         "showlegend": true,
         "type": "scatter",
         "x": [
          "2023-08-02T00:00:00",
          "2023-08-03T00:00:00",
          "2023-08-04T00:00:00",
          "2023-08-07T00:00:00",
          "2023-08-08T00:00:00",
          "2023-08-09T00:00:00",
          "2023-08-10T00:00:00",
          "2023-08-11T00:00:00",
          "2023-08-14T00:00:00",
          "2023-08-15T00:00:00",
          "2023-08-16T00:00:00",
          "2023-08-17T00:00:00",
          "2023-08-18T00:00:00",
          "2023-08-21T00:00:00",
          "2023-08-22T00:00:00",
          "2023-08-23T00:00:00",
          "2023-08-24T00:00:00",
          "2023-08-25T00:00:00",
          "2023-08-28T00:00:00",
          "2023-08-29T00:00:00",
          "2023-08-30T00:00:00",
          "2023-08-31T00:00:00",
          "2023-09-01T00:00:00",
          "2023-09-05T00:00:00",
          "2023-09-06T00:00:00",
          "2023-09-07T00:00:00",
          "2023-09-08T00:00:00",
          "2023-09-11T00:00:00",
          "2023-09-12T00:00:00",
          "2023-09-13T00:00:00",
          "2023-09-14T00:00:00",
          "2023-09-15T00:00:00",
          "2023-09-18T00:00:00",
          "2023-09-19T00:00:00",
          "2023-09-20T00:00:00",
          "2023-09-21T00:00:00",
          "2023-09-22T00:00:00",
          "2023-09-25T00:00:00",
          "2023-09-26T00:00:00",
          "2023-09-27T00:00:00",
          "2023-09-28T00:00:00",
          "2023-09-29T00:00:00",
          "2023-10-02T00:00:00",
          "2023-10-03T00:00:00",
          "2023-10-04T00:00:00",
          "2023-10-05T00:00:00",
          "2023-10-06T00:00:00",
          "2023-10-09T00:00:00",
          "2023-10-10T00:00:00",
          "2023-10-11T00:00:00",
          "2023-10-12T00:00:00",
          "2023-10-13T00:00:00",
          "2023-10-16T00:00:00",
          "2023-10-17T00:00:00",
          "2023-10-18T00:00:00",
          "2023-10-19T00:00:00",
          "2023-10-20T00:00:00",
          "2023-10-23T00:00:00",
          "2023-10-24T00:00:00",
          "2023-10-25T00:00:00",
          "2023-10-26T00:00:00",
          "2023-10-27T00:00:00",
          "2023-10-30T00:00:00",
          "2023-10-31T00:00:00",
          "2023-11-01T00:00:00",
          "2023-11-02T00:00:00",
          "2023-11-03T00:00:00",
          "2023-11-06T00:00:00",
          "2023-11-07T00:00:00",
          "2023-11-08T00:00:00",
          "2023-11-09T00:00:00",
          "2023-11-10T00:00:00",
          "2023-11-13T00:00:00",
          "2023-11-14T00:00:00",
          "2023-11-15T00:00:00",
          "2023-11-16T00:00:00",
          "2023-11-17T00:00:00",
          "2023-11-20T00:00:00",
          "2023-11-21T00:00:00",
          "2023-11-22T00:00:00",
          "2023-11-24T00:00:00",
          "2023-11-27T00:00:00",
          "2023-11-28T00:00:00",
          "2023-11-29T00:00:00",
          "2023-11-30T00:00:00",
          "2023-12-01T00:00:00",
          "2023-12-04T00:00:00",
          "2023-12-05T00:00:00",
          "2023-12-06T00:00:00",
          "2023-12-07T00:00:00",
          "2023-12-08T00:00:00",
          "2023-12-11T00:00:00",
          "2023-12-12T00:00:00",
          "2023-12-13T00:00:00",
          "2023-12-14T00:00:00",
          "2023-12-15T00:00:00",
          "2023-12-18T00:00:00",
          "2023-12-19T00:00:00",
          "2023-12-20T00:00:00",
          "2023-12-21T00:00:00",
          "2023-12-22T00:00:00",
          "2023-12-26T00:00:00",
          "2023-12-27T00:00:00",
          "2023-12-28T00:00:00",
          "2023-12-29T00:00:00",
          "2024-01-02T00:00:00",
          "2024-01-03T00:00:00",
          "2024-01-04T00:00:00",
          "2024-01-05T00:00:00",
          "2024-01-08T00:00:00",
          "2024-01-09T00:00:00",
          "2024-01-10T00:00:00",
          "2024-01-11T00:00:00",
          "2024-01-12T00:00:00",
          "2024-01-16T00:00:00",
          "2024-01-17T00:00:00",
          "2024-01-18T00:00:00",
          "2024-01-19T00:00:00",
          "2024-01-22T00:00:00",
          "2024-01-23T00:00:00",
          "2024-01-24T00:00:00",
          "2024-01-25T00:00:00",
          "2024-01-26T00:00:00",
          "2024-01-29T00:00:00",
          "2024-01-30T00:00:00",
          "2024-01-31T00:00:00",
          "2024-02-01T00:00:00",
          "2024-02-02T00:00:00",
          "2024-02-05T00:00:00",
          "2024-02-06T00:00:00",
          "2024-02-07T00:00:00",
          "2024-02-08T00:00:00",
          "2024-02-09T00:00:00",
          "2024-02-12T00:00:00",
          "2024-02-13T00:00:00",
          "2024-02-14T00:00:00",
          "2024-02-15T00:00:00",
          "2024-02-16T00:00:00",
          "2024-02-20T00:00:00",
          "2024-02-21T00:00:00",
          "2024-02-22T00:00:00",
          "2024-02-23T00:00:00",
          "2024-02-26T00:00:00",
          "2024-02-27T00:00:00",
          "2024-02-28T00:00:00",
          "2024-02-29T00:00:00",
          "2024-03-01T00:00:00",
          "2024-03-04T00:00:00",
          "2024-03-05T00:00:00",
          "2024-03-06T00:00:00",
          "2024-03-07T00:00:00",
          "2024-03-08T00:00:00",
          "2024-03-11T00:00:00",
          "2024-03-12T00:00:00",
          "2024-03-13T00:00:00",
          "2024-03-14T00:00:00",
          "2024-03-15T00:00:00",
          "2024-03-18T00:00:00",
          "2024-03-19T00:00:00",
          "2024-03-20T00:00:00",
          "2024-03-21T00:00:00",
          "2024-03-22T00:00:00",
          "2024-03-25T00:00:00",
          "2024-03-26T00:00:00",
          "2024-03-27T00:00:00",
          "2024-03-28T00:00:00",
          "2024-04-01T00:00:00",
          "2024-04-02T00:00:00",
          "2024-04-03T00:00:00",
          "2024-04-04T00:00:00",
          "2024-04-05T00:00:00",
          "2024-04-08T00:00:00",
          "2024-04-09T00:00:00",
          "2024-04-10T00:00:00",
          "2024-04-11T00:00:00",
          "2024-04-12T00:00:00",
          "2024-04-15T00:00:00",
          "2024-04-16T00:00:00",
          "2024-04-17T00:00:00",
          "2024-04-18T00:00:00",
          "2024-04-19T00:00:00",
          "2024-04-22T00:00:00",
          "2024-04-23T00:00:00",
          "2024-04-24T00:00:00",
          "2024-04-25T00:00:00",
          "2024-04-26T00:00:00",
          "2024-04-29T00:00:00",
          "2024-04-30T00:00:00",
          "2024-05-01T00:00:00",
          "2024-05-02T00:00:00",
          "2024-05-03T00:00:00",
          "2024-05-06T00:00:00",
          "2024-05-07T00:00:00",
          "2024-05-08T00:00:00",
          "2024-05-09T00:00:00",
          "2024-05-10T00:00:00",
          "2024-05-13T00:00:00",
          "2024-05-14T00:00:00",
          "2024-05-15T00:00:00",
          "2024-05-16T00:00:00",
          "2024-05-17T00:00:00",
          "2024-05-20T00:00:00",
          "2024-05-21T00:00:00",
          "2024-05-22T00:00:00",
          "2024-05-23T00:00:00",
          "2024-05-24T00:00:00",
          "2024-05-28T00:00:00",
          "2024-05-29T00:00:00",
          "2024-05-30T00:00:00",
          "2024-05-31T00:00:00",
          "2024-06-03T00:00:00",
          "2024-06-04T00:00:00",
          "2024-06-05T00:00:00",
          "2024-06-06T00:00:00",
          "2024-06-07T00:00:00",
          "2024-06-10T00:00:00",
          "2024-06-11T00:00:00",
          "2024-06-12T00:00:00",
          "2024-06-13T00:00:00",
          "2024-06-14T00:00:00",
          "2024-06-17T00:00:00",
          "2024-06-18T00:00:00",
          "2024-06-20T00:00:00",
          "2024-06-21T00:00:00",
          "2024-06-24T00:00:00",
          "2024-06-25T00:00:00",
          "2024-06-26T00:00:00",
          "2024-06-27T00:00:00",
          "2024-06-28T00:00:00",
          "2024-07-01T00:00:00",
          "2024-07-02T00:00:00",
          "2024-07-03T00:00:00",
          "2024-07-05T00:00:00",
          "2024-07-08T00:00:00",
          "2024-07-09T00:00:00",
          "2024-07-10T00:00:00",
          "2024-07-11T00:00:00",
          "2024-07-12T00:00:00",
          "2024-07-15T00:00:00",
          "2024-07-16T00:00:00",
          "2024-07-17T00:00:00",
          "2024-07-18T00:00:00",
          "2024-07-19T00:00:00",
          "2024-07-22T00:00:00",
          "2024-07-23T00:00:00",
          "2024-07-24T00:00:00",
          "2024-07-25T00:00:00",
          "2024-07-26T00:00:00",
          "2024-07-29T00:00:00",
          "2024-07-30T00:00:00",
          "2024-07-31T00:00:00",
          "2024-08-01T00:00:00",
          "2024-08-02T00:00:00",
          "2024-08-05T00:00:00",
          "2024-08-06T00:00:00",
          "2024-08-07T00:00:00",
          "2024-08-08T00:00:00",
          "2024-08-09T00:00:00",
          "2024-08-12T00:00:00",
          "2024-08-13T00:00:00",
          "2024-08-14T00:00:00",
          "2024-08-15T00:00:00",
          "2024-08-16T00:00:00"
         ],
         "xaxis": "x",
         "y": [
          -0.019695554443658038,
          -0.02197443990335579,
          -0.032775111767337974,
          -0.030110164907521535,
          -0.03138493048848187,
          -0.044257864461219695,
          -0.04355272895570789,
          -0.04697151393406917,
          -0.0349218447089513,
          -0.04757003366397888,
          -0.05802514235794315,
          -0.07017795498290644,
          -0.07248116711396135,
          -0.06372483549195404,
          -0.05776825222600816,
          -0.03529157075349583,
          -0.06380794544353,
          -0.05241558523924825,
          -0.045588568518212164,
          -0.02312737748771735,
          -0.010406088023275296,
          -0.006207395478518012,
          -0.0003160442908672024,
          0.0027227970913842516,
          -0.019927525043074386,
          -0.03135550054009778,
          -0.027973786016797123,
          -0.016657852678221396,
          -0.03323897953435832,
          -0.04071282874598713,
          -0.03851766332274192,
          -0.04848932686402666,
          -0.04038127093309843,
          -0.039355043703644316,
          -0.0614285457456919,
          -0.07831972965689857,
          -0.07779059904858279,
          -0.06822029884783504,
          -0.09193786523825832,
          -0.09450178524315411,
          -0.09144411228464232,
          -0.09010974291310993,
          -0.07388409787594585,
          -0.08774892798645251,
          -0.07714450907008753,
          -0.0768904020739724,
          -0.05945793559125757,
          -0.05190180836846567,
          -0.057110322461614335,
          -0.049732918650783255,
          -0.05069611488787127,
          -0.06384652763068183,
          -0.05596791254045576,
          -0.0627905215189559,
          -0.07724936213508582,
          -0.05448162993442361,
          -0.06911284971508283,
          -0.06323736600639958,
          -0.0541192540545918,
          -0.0877930745321426,
          -0.11059293924134209,
          -0.0971377454683415,
          -0.07648935983648801,
          -0.07465772368555199,
          -0.053466420398217536,
          -0.03900734690258049,
          -0.035849640824422935,
          -0.02484836093809348,
          -0.013142220796344473,
          -0.00903089264332806,
          -0.01453750729378597,
          0.008217684502716198,
          0.0013665711923177507,
          0.015924499802657244,
          0.019992360796206494,
          0.028661342456193777,
          0.029004751274396404,
          0.0389546337788291,
          0.035211882321162055,
          0.04328202050700628,
          0.03789737726825506,
          0.037805836282858454,
          0.039864183985055056,
          0.0326406745078834,
          0.029458970663292804,
          0.030257799117698006,
          0.015657047123135814,
          0.03092824301103367,
          0.021407890724207547,
          0.040519272885906045,
          0.04342229378028204,
          0.03469728844246451,
          0.041063705838045236,
          0.05642929879709008,
          0.051178042492836855,
          0.05430872129908912,
          0.06375068709087538,
          0.07031496037311473,
          0.06350276382255438,
          0.0685375619617646,
          0.06512563058510683,
          0.06519629503499537,
          0.0643888610049627,
          0.06501255660166605,
          0.05874435259673759,
          0.030870963736219868,
          0.026922613687130045,
          0.014877265191699691,
          0.012978125041530546,
          0.03704852741797229,
          0.039974307099104996,
          0.04661302730957233,
          0.05060323946012209,
          0.05186679545048487,
          0.040280210069376335,
          0.034735353405483796,
          0.05724832192894955,
          0.07002915185566265,
          0.07577123316108496,
          0.08377977588983934,
          0.10120369805533663,
          0.10975699414106828,
          0.10932945992586068,
          0.1130420352892366,
          0.09555251808012657,
          0.06915315356701433,
          0.08248973886065887,
          0.09808974720258436,
          0.10162964105940368,
          0.10338667865998483,
          0.10838196016529789,
          0.10513352397773042,
          0.11580486805776986,
          0.10681676816870642,
          0.09368443411938557,
          0.10185278472628125,
          0.10047803729348001,
          0.09042674684813651,
          0.0844388611857329,
          0.08907366309560369,
          0.10710021427276305,
          0.10099260418119309,
          0.09052163419594199,
          0.0988630061330059,
          0.09073419147995554,
          0.09679316995719552,
          0.09818983217527293,
          0.07932433255850682,
          0.05660863229031981,
          0.051610909562897746,
          0.06166437638646412,
          0.065459304900511,
          0.0690162112063356,
          0.07796972498193919,
          0.07400827069351767,
          0.08614910401410694,
          0.07674676419843768,
          0.0914312836680991,
          0.09929040571359271,
          0.11272890933894478,
          0.09010804330735395,
          0.09839162982334854,
          0.09381047077427136,
          0.08998911473997197,
          0.09830880971146108,
          0.0917181734304751,
          0.0951462311292461,
          0.09070125913621478,
          0.09930687688494387,
          0.08710084650478027,
          0.10146896992644441,
          0.09869609420780548,
          0.10205641909376806,
          0.0965253297788496,
          0.12682829005143575,
          0.12490104560011638,
          0.10449587915587982,
          0.09677100940872305,
          0.09089741052629952,
          0.08640265946042726,
          0.059537887890656505,
          0.06676917043685604,
          0.08115594999427213,
          0.07974059751238975,
          0.07637888656835061,
          0.09666248126621317,
          0.10341250201964927,
          0.08308882655184863,
          0.08572995719972143,
          0.10845963401807604,
          0.14433501796846215,
          0.1481233340226547,
          0.1556143911412735,
          0.15512760251455035,
          0.16276063238083263,
          0.15605005124737492,
          0.1654769683453355,
          0.16964579548142628,
          0.17737484099351902,
          0.17612728095809,
          0.18150507273106775,
          0.18896967234328155,
          0.19499159651410994,
          0.18766302466382648,
          0.1714371998950015,
          0.1840412359892749,
          0.18729080094285463,
          0.1885026937093976,
          0.18310460065264988,
          0.18196396458820566,
          0.1876725859405895,
          0.18946845642055893,
          0.20196927563836337,
          0.20261073438981442,
          0.2042811621855638,
          0.19913231893538189,
          0.23799279425455322,
          0.25338320831475974,
          0.25146977736355003,
          0.2525601754912999,
          0.2646612295021263,
          0.2579090305340278,
          0.2500008085202066,
          0.25184532782289126,
          0.24646699361390279,
          0.25520099817050756,
          0.2725807907171181,
          0.2812822309705801,
          0.2637332696286841,
          0.2819833168055953,
          0.2959727365362722,
          0.29807360032784175,
          0.31829464229633286,
          0.3180441241477134,
          0.3199431965607187,
          0.330024350910476,
          0.3032479819829591,
          0.30696195576570084,
          0.31704235788470647,
          0.3154882388736411,
          0.29265782383297984,
          0.2754407434196706,
          0.2729402627272708,
          0.2793370622403181,
          0.2841715890479592,
          0.2536610996393443,
          0.2443150448306723,
          0.24749237992387252,
          0.25026508057411684,
          0.24980173227169716,
          0.2651420513091878,
          0.25386546750755523,
          0.23582368699918174,
          0.19351141961788543,
          0.19224181745522964,
          0.2001996963542008,
          0.22035185016017797,
          0.2312210152532977,
          0.23292223414700566,
          0.2508193110647481,
          0.25088126294132607,
          0.266531823446246,
          0.2727329456509449
         ],
         "yaxis": "y"
        },
        {
         "hovertemplate": "variable=Max Return<br>index=%{x}<br>value=%{y}<extra></extra>",
         "legendgroup": "Max Return",
         "line": {
          "color": "#EF553B",
          "dash": "solid"
         },
         "marker": {
          "symbol": "circle"
         },
         "mode": "lines",
         "name": "Max Return",
         "orientation": "v",
         "showlegend": true,
         "type": "scatter",
         "x": [
          "2023-08-02T00:00:00",
          "2023-08-03T00:00:00",
          "2023-08-04T00:00:00",
          "2023-08-07T00:00:00",
          "2023-08-08T00:00:00",
          "2023-08-09T00:00:00",
          "2023-08-10T00:00:00",
          "2023-08-11T00:00:00",
          "2023-08-14T00:00:00",
          "2023-08-15T00:00:00",
          "2023-08-16T00:00:00",
          "2023-08-17T00:00:00",
          "2023-08-18T00:00:00",
          "2023-08-21T00:00:00",
          "2023-08-22T00:00:00",
          "2023-08-23T00:00:00",
          "2023-08-24T00:00:00",
          "2023-08-25T00:00:00",
          "2023-08-28T00:00:00",
          "2023-08-29T00:00:00",
          "2023-08-30T00:00:00",
          "2023-08-31T00:00:00",
          "2023-09-01T00:00:00",
          "2023-09-05T00:00:00",
          "2023-09-06T00:00:00",
          "2023-09-07T00:00:00",
          "2023-09-08T00:00:00",
          "2023-09-11T00:00:00",
          "2023-09-12T00:00:00",
          "2023-09-13T00:00:00",
          "2023-09-14T00:00:00",
          "2023-09-15T00:00:00",
          "2023-09-18T00:00:00",
          "2023-09-19T00:00:00",
          "2023-09-20T00:00:00",
          "2023-09-21T00:00:00",
          "2023-09-22T00:00:00",
          "2023-09-25T00:00:00",
          "2023-09-26T00:00:00",
          "2023-09-27T00:00:00",
          "2023-09-28T00:00:00",
          "2023-09-29T00:00:00",
          "2023-10-02T00:00:00",
          "2023-10-03T00:00:00",
          "2023-10-04T00:00:00",
          "2023-10-05T00:00:00",
          "2023-10-06T00:00:00",
          "2023-10-09T00:00:00",
          "2023-10-10T00:00:00",
          "2023-10-11T00:00:00",
          "2023-10-12T00:00:00",
          "2023-10-13T00:00:00",
          "2023-10-16T00:00:00",
          "2023-10-17T00:00:00",
          "2023-10-18T00:00:00",
          "2023-10-19T00:00:00",
          "2023-10-20T00:00:00",
          "2023-10-23T00:00:00",
          "2023-10-24T00:00:00",
          "2023-10-25T00:00:00",
          "2023-10-26T00:00:00",
          "2023-10-27T00:00:00",
          "2023-10-30T00:00:00",
          "2023-10-31T00:00:00",
          "2023-11-01T00:00:00",
          "2023-11-02T00:00:00",
          "2023-11-03T00:00:00",
          "2023-11-06T00:00:00",
          "2023-11-07T00:00:00",
          "2023-11-08T00:00:00",
          "2023-11-09T00:00:00",
          "2023-11-10T00:00:00",
          "2023-11-13T00:00:00",
          "2023-11-14T00:00:00",
          "2023-11-15T00:00:00",
          "2023-11-16T00:00:00",
          "2023-11-17T00:00:00",
          "2023-11-20T00:00:00",
          "2023-11-21T00:00:00",
          "2023-11-22T00:00:00",
          "2023-11-24T00:00:00",
          "2023-11-27T00:00:00",
          "2023-11-28T00:00:00",
          "2023-11-29T00:00:00",
          "2023-11-30T00:00:00",
          "2023-12-01T00:00:00",
          "2023-12-04T00:00:00",
          "2023-12-05T00:00:00",
          "2023-12-06T00:00:00",
          "2023-12-07T00:00:00",
          "2023-12-08T00:00:00",
          "2023-12-11T00:00:00",
          "2023-12-12T00:00:00",
          "2023-12-13T00:00:00",
          "2023-12-14T00:00:00",
          "2023-12-15T00:00:00",
          "2023-12-18T00:00:00",
          "2023-12-19T00:00:00",
          "2023-12-20T00:00:00",
          "2023-12-21T00:00:00",
          "2023-12-22T00:00:00",
          "2023-12-26T00:00:00",
          "2023-12-27T00:00:00",
          "2023-12-28T00:00:00",
          "2023-12-29T00:00:00",
          "2024-01-02T00:00:00",
          "2024-01-03T00:00:00",
          "2024-01-04T00:00:00",
          "2024-01-05T00:00:00",
          "2024-01-08T00:00:00",
          "2024-01-09T00:00:00",
          "2024-01-10T00:00:00",
          "2024-01-11T00:00:00",
          "2024-01-12T00:00:00",
          "2024-01-16T00:00:00",
          "2024-01-17T00:00:00",
          "2024-01-18T00:00:00",
          "2024-01-19T00:00:00",
          "2024-01-22T00:00:00",
          "2024-01-23T00:00:00",
          "2024-01-24T00:00:00",
          "2024-01-25T00:00:00",
          "2024-01-26T00:00:00",
          "2024-01-29T00:00:00",
          "2024-01-30T00:00:00",
          "2024-01-31T00:00:00",
          "2024-02-01T00:00:00",
          "2024-02-02T00:00:00",
          "2024-02-05T00:00:00",
          "2024-02-06T00:00:00",
          "2024-02-07T00:00:00",
          "2024-02-08T00:00:00",
          "2024-02-09T00:00:00",
          "2024-02-12T00:00:00",
          "2024-02-13T00:00:00",
          "2024-02-14T00:00:00",
          "2024-02-15T00:00:00",
          "2024-02-16T00:00:00",
          "2024-02-20T00:00:00",
          "2024-02-21T00:00:00",
          "2024-02-22T00:00:00",
          "2024-02-23T00:00:00",
          "2024-02-26T00:00:00",
          "2024-02-27T00:00:00",
          "2024-02-28T00:00:00",
          "2024-02-29T00:00:00",
          "2024-03-01T00:00:00",
          "2024-03-04T00:00:00",
          "2024-03-05T00:00:00",
          "2024-03-06T00:00:00",
          "2024-03-07T00:00:00",
          "2024-03-08T00:00:00",
          "2024-03-11T00:00:00",
          "2024-03-12T00:00:00",
          "2024-03-13T00:00:00",
          "2024-03-14T00:00:00",
          "2024-03-15T00:00:00",
          "2024-03-18T00:00:00",
          "2024-03-19T00:00:00",
          "2024-03-20T00:00:00",
          "2024-03-21T00:00:00",
          "2024-03-22T00:00:00",
          "2024-03-25T00:00:00",
          "2024-03-26T00:00:00",
          "2024-03-27T00:00:00",
          "2024-03-28T00:00:00",
          "2024-04-01T00:00:00",
          "2024-04-02T00:00:00",
          "2024-04-03T00:00:00",
          "2024-04-04T00:00:00",
          "2024-04-05T00:00:00",
          "2024-04-08T00:00:00",
          "2024-04-09T00:00:00",
          "2024-04-10T00:00:00",
          "2024-04-11T00:00:00",
          "2024-04-12T00:00:00",
          "2024-04-15T00:00:00",
          "2024-04-16T00:00:00",
          "2024-04-17T00:00:00",
          "2024-04-18T00:00:00",
          "2024-04-19T00:00:00",
          "2024-04-22T00:00:00",
          "2024-04-23T00:00:00",
          "2024-04-24T00:00:00",
          "2024-04-25T00:00:00",
          "2024-04-26T00:00:00",
          "2024-04-29T00:00:00",
          "2024-04-30T00:00:00",
          "2024-05-01T00:00:00",
          "2024-05-02T00:00:00",
          "2024-05-03T00:00:00",
          "2024-05-06T00:00:00",
          "2024-05-07T00:00:00",
          "2024-05-08T00:00:00",
          "2024-05-09T00:00:00",
          "2024-05-10T00:00:00",
          "2024-05-13T00:00:00",
          "2024-05-14T00:00:00",
          "2024-05-15T00:00:00",
          "2024-05-16T00:00:00",
          "2024-05-17T00:00:00",
          "2024-05-20T00:00:00",
          "2024-05-21T00:00:00",
          "2024-05-22T00:00:00",
          "2024-05-23T00:00:00",
          "2024-05-24T00:00:00",
          "2024-05-28T00:00:00",
          "2024-05-29T00:00:00",
          "2024-05-30T00:00:00",
          "2024-05-31T00:00:00",
          "2024-06-03T00:00:00",
          "2024-06-04T00:00:00",
          "2024-06-05T00:00:00",
          "2024-06-06T00:00:00",
          "2024-06-07T00:00:00",
          "2024-06-10T00:00:00",
          "2024-06-11T00:00:00",
          "2024-06-12T00:00:00",
          "2024-06-13T00:00:00",
          "2024-06-14T00:00:00",
          "2024-06-17T00:00:00",
          "2024-06-18T00:00:00",
          "2024-06-20T00:00:00",
          "2024-06-21T00:00:00",
          "2024-06-24T00:00:00",
          "2024-06-25T00:00:00",
          "2024-06-26T00:00:00",
          "2024-06-27T00:00:00",
          "2024-06-28T00:00:00",
          "2024-07-01T00:00:00",
          "2024-07-02T00:00:00",
          "2024-07-03T00:00:00",
          "2024-07-05T00:00:00",
          "2024-07-08T00:00:00",
          "2024-07-09T00:00:00",
          "2024-07-10T00:00:00",
          "2024-07-11T00:00:00",
          "2024-07-12T00:00:00",
          "2024-07-15T00:00:00",
          "2024-07-16T00:00:00",
          "2024-07-17T00:00:00",
          "2024-07-18T00:00:00",
          "2024-07-19T00:00:00",
          "2024-07-22T00:00:00",
          "2024-07-23T00:00:00",
          "2024-07-24T00:00:00",
          "2024-07-25T00:00:00",
          "2024-07-26T00:00:00",
          "2024-07-29T00:00:00",
          "2024-07-30T00:00:00",
          "2024-07-31T00:00:00",
          "2024-08-01T00:00:00",
          "2024-08-02T00:00:00",
          "2024-08-05T00:00:00",
          "2024-08-06T00:00:00",
          "2024-08-07T00:00:00",
          "2024-08-08T00:00:00",
          "2024-08-09T00:00:00",
          "2024-08-12T00:00:00",
          "2024-08-13T00:00:00",
          "2024-08-14T00:00:00",
          "2024-08-15T00:00:00",
          "2024-08-16T00:00:00"
         ],
         "xaxis": "x",
         "y": [
          -0.02602080340381661,
          -0.029591434005780588,
          -0.037462172123255706,
          -0.01869342770500376,
          -0.031070369355239262,
          -0.054852419756413806,
          -0.053112318542077964,
          -0.06651731995907373,
          -0.05143526577455624,
          -0.06527870037890272,
          -0.09063296172412735,
          -0.1218904083891039,
          -0.12835766681149435,
          -0.10486738018163723,
          -0.11281732725655745,
          -0.08971708583446816,
          -0.11519045705280218,
          -0.11955863901579548,
          -0.10288670950276808,
          -0.07623477291051448,
          -0.08595297524143941,
          -0.08327037156567556,
          -0.08161092828895508,
          -0.06889834758202065,
          -0.0721367556457259,
          -0.07381146119829073,
          -0.07642838334709133,
          -0.0439674076090547,
          -0.06315745116048223,
          -0.05189649619102127,
          -0.03005240061400733,
          -0.06666677203473735,
          -0.05919238348944623,
          -0.05087919950721241,
          -0.06855099141015952,
          -0.08172560520234837,
          -0.07037429362080579,
          -0.06454456089405985,
          -0.07074022612590616,
          -0.07482938281984025,
          -0.05392944362318379,
          -0.06629180679534424,
          -0.04426170075789695,
          -0.06343280269563079,
          -0.048015915665966996,
          -0.05060650521863589,
          -0.015690673706876143,
          -0.006382585489851947,
          0.004539319089308352,
          0.023127022473602443,
          0.011970061231069107,
          -0.01727259480253724,
          0.0032661889349100727,
          0.012158818793047687,
          -0.009552074027835202,
          -0.02267167973421748,
          -0.03596571732290587,
          -0.0185967162051469,
          -0.02325574210471152,
          -0.06490236783140074,
          -0.10223676872184721,
          -0.07318478570551301,
          -0.053192889051330204,
          -0.057794927256614476,
          -0.022671031315975962,
          -0.025820028016755335,
          -0.01382892441580146,
          -0.010006659177236575,
          -0.00042392162605906294,
          0.0025619036937594855,
          0.004974787846703032,
          0.03063986017076185,
          0.03188947797445321,
          0.05353265307174136,
          0.042836036743074526,
          0.047263348379638345,
          0.049812073504208805,
          0.06452719238714935,
          0.05574362893703776,
          0.06912493591113834,
          0.05958827272136502,
          0.0491302546926156,
          0.06194424016126703,
          0.04193182722306396,
          0.02672912599872069,
          0.01959239423513815,
          0.004815283682987099,
          -0.0005704857646264463,
          -0.0032149911741284377,
          0.025572885593470297,
          0.04444254408033443,
          0.021977405780360327,
          0.04945653100195707,
          0.05101561542847134,
          0.046345653985820856,
          0.051578894176638065,
          0.08054098553329393,
          0.09720232074635815,
          0.09411342835125291,
          0.10788437040461431,
          0.10593168680980541,
          0.10998646918983057,
          0.11845865075855046,
          0.1198308149228401,
          0.10763808107715306,
          0.08598080233061009,
          0.08071429490838955,
          0.0884231601851434,
          0.10233730564683495,
          0.12138465431383075,
          0.11797607187406234,
          0.15444929232339283,
          0.1522854378889622,
          0.16532384616220963,
          0.14656648796168975,
          0.14902074232182497,
          0.170102866055288,
          0.18955085973066818,
          0.18521280647901606,
          0.19416293811061056,
          0.20844457425454208,
          0.21477953484957885,
          0.21722620643103777,
          0.23469245467545347,
          0.2322936511255951,
          0.2074965388077275,
          0.21938845808954818,
          0.4225764854117704,
          0.38977196749463333,
          0.37956410272145824,
          0.41226644961658687,
          0.4131413398206489,
          0.4091118350352479,
          0.41080293911320626,
          0.3920825918632384,
          0.420677043361192,
          0.44339517173572,
          0.4212645007980223,
          0.4179406928649744,
          0.411122222643472,
          0.4497902272090281,
          0.4454661251685179,
          0.4407303177045002,
          0.45176385561213106,
          0.44553659089994707,
          0.4581518862084834,
          0.48298645733642764,
          0.4748158712105436,
          0.4588022069399628,
          0.4707884009173185,
          0.5032339189116795,
          0.49105834189490744,
          0.44686010942603854,
          0.48026864681605247,
          0.47191611925525623,
          0.464361787393792,
          0.44864965373955684,
          0.475261455167345,
          0.47377099310580195,
          0.49246993294803026,
          0.496905398455091,
          0.5004735892469924,
          0.48760699131810914,
          0.4734384034869071,
          0.4693407031245035,
          0.452578437050718,
          0.4644522772702908,
          0.476716464331354,
          0.4955540106679152,
          0.5037912058731729,
          0.5359418288729252,
          0.5205855415998432,
          0.5160745236348875,
          0.5217291634381342,
          0.5281415204803004,
          0.5066161896984763,
          0.4838155874647172,
          0.4828750812534468,
          0.47169854089788166,
          0.48713363712405394,
          0.4458210456804305,
          0.4471943580077268,
          0.4770333193102843,
          0.47178725535513016,
          0.3661707553694935,
          0.3705024116124269,
          0.34643105925419765,
          0.3407622539743327,
          0.3617284168189939,
          0.36740363362203965,
          0.3906789487156342,
          0.42104372324124734,
          0.42654649728301797,
          0.43584573933806264,
          0.4418186703998215,
          0.4434609475491827,
          0.42626632447493507,
          0.43445796011965776,
          0.45499340605401906,
          0.43773984324859017,
          0.43494773157549477,
          0.42843577288052054,
          0.41946850676149045,
          0.4262548103700095,
          0.4219750867046247,
          0.4486878843329831,
          0.4522252994158305,
          0.4406492969303668,
          0.42524487893615487,
          0.42477337169992735,
          0.4476093126946742,
          0.44656113862765917,
          0.4844399239808248,
          0.48181137860658857,
          0.4801895477170677,
          0.4997440357206988,
          0.5094432992058717,
          0.5121456290603844,
          0.5028211627359594,
          0.5039331589517441,
          0.5088323979397406,
          0.494739276207447,
          0.4991637875973988,
          0.4853706881571959,
          0.4937178277659716,
          0.5171489048094686,
          0.5220842761938839,
          0.5346349463028515,
          0.5051099659315745,
          0.5060222667585346,
          0.5155728732668312,
          0.5164757193924531,
          0.57520580844693,
          0.5555914306375959,
          0.556876097602514,
          0.5657251519705847,
          0.524598519220017,
          0.4976236838585777,
          0.4921914095319965,
          0.47935281101786104,
          0.42259379856497126,
          0.45259444099572166,
          0.45456985134107186,
          0.476822833901666,
          0.4794695299727896,
          0.42336034627872204,
          0.4063204364931498,
          0.43342614188673323,
          0.4334476145398791,
          0.42803652186505825,
          0.4531665959265598,
          0.5014154334964024,
          0.4821282543581411,
          0.45670521902367295,
          0.4952985342188039,
          0.4848348559975982,
          0.5271935214522264,
          0.5431658920780553,
          0.5396508182053482,
          0.5640524069754345,
          0.5606846416623611,
          0.5807507041253924,
          0.5623076667834478
         ],
         "yaxis": "y"
        },
        {
         "hovertemplate": "variable=Max Sharpe<br>index=%{x}<br>value=%{y}<extra></extra>",
         "legendgroup": "Max Sharpe",
         "line": {
          "color": "#00cc96",
          "dash": "solid"
         },
         "marker": {
          "symbol": "circle"
         },
         "mode": "lines",
         "name": "Max Sharpe",
         "orientation": "v",
         "showlegend": true,
         "type": "scatter",
         "x": [
          "2023-08-02T00:00:00",
          "2023-08-03T00:00:00",
          "2023-08-04T00:00:00",
          "2023-08-07T00:00:00",
          "2023-08-08T00:00:00",
          "2023-08-09T00:00:00",
          "2023-08-10T00:00:00",
          "2023-08-11T00:00:00",
          "2023-08-14T00:00:00",
          "2023-08-15T00:00:00",
          "2023-08-16T00:00:00",
          "2023-08-17T00:00:00",
          "2023-08-18T00:00:00",
          "2023-08-21T00:00:00",
          "2023-08-22T00:00:00",
          "2023-08-23T00:00:00",
          "2023-08-24T00:00:00",
          "2023-08-25T00:00:00",
          "2023-08-28T00:00:00",
          "2023-08-29T00:00:00",
          "2023-08-30T00:00:00",
          "2023-08-31T00:00:00",
          "2023-09-01T00:00:00",
          "2023-09-05T00:00:00",
          "2023-09-06T00:00:00",
          "2023-09-07T00:00:00",
          "2023-09-08T00:00:00",
          "2023-09-11T00:00:00",
          "2023-09-12T00:00:00",
          "2023-09-13T00:00:00",
          "2023-09-14T00:00:00",
          "2023-09-15T00:00:00",
          "2023-09-18T00:00:00",
          "2023-09-19T00:00:00",
          "2023-09-20T00:00:00",
          "2023-09-21T00:00:00",
          "2023-09-22T00:00:00",
          "2023-09-25T00:00:00",
          "2023-09-26T00:00:00",
          "2023-09-27T00:00:00",
          "2023-09-28T00:00:00",
          "2023-09-29T00:00:00",
          "2023-10-02T00:00:00",
          "2023-10-03T00:00:00",
          "2023-10-04T00:00:00",
          "2023-10-05T00:00:00",
          "2023-10-06T00:00:00",
          "2023-10-09T00:00:00",
          "2023-10-10T00:00:00",
          "2023-10-11T00:00:00",
          "2023-10-12T00:00:00",
          "2023-10-13T00:00:00",
          "2023-10-16T00:00:00",
          "2023-10-17T00:00:00",
          "2023-10-18T00:00:00",
          "2023-10-19T00:00:00",
          "2023-10-20T00:00:00",
          "2023-10-23T00:00:00",
          "2023-10-24T00:00:00",
          "2023-10-25T00:00:00",
          "2023-10-26T00:00:00",
          "2023-10-27T00:00:00",
          "2023-10-30T00:00:00",
          "2023-10-31T00:00:00",
          "2023-11-01T00:00:00",
          "2023-11-02T00:00:00",
          "2023-11-03T00:00:00",
          "2023-11-06T00:00:00",
          "2023-11-07T00:00:00",
          "2023-11-08T00:00:00",
          "2023-11-09T00:00:00",
          "2023-11-10T00:00:00",
          "2023-11-13T00:00:00",
          "2023-11-14T00:00:00",
          "2023-11-15T00:00:00",
          "2023-11-16T00:00:00",
          "2023-11-17T00:00:00",
          "2023-11-20T00:00:00",
          "2023-11-21T00:00:00",
          "2023-11-22T00:00:00",
          "2023-11-24T00:00:00",
          "2023-11-27T00:00:00",
          "2023-11-28T00:00:00",
          "2023-11-29T00:00:00",
          "2023-11-30T00:00:00",
          "2023-12-01T00:00:00",
          "2023-12-04T00:00:00",
          "2023-12-05T00:00:00",
          "2023-12-06T00:00:00",
          "2023-12-07T00:00:00",
          "2023-12-08T00:00:00",
          "2023-12-11T00:00:00",
          "2023-12-12T00:00:00",
          "2023-12-13T00:00:00",
          "2023-12-14T00:00:00",
          "2023-12-15T00:00:00",
          "2023-12-18T00:00:00",
          "2023-12-19T00:00:00",
          "2023-12-20T00:00:00",
          "2023-12-21T00:00:00",
          "2023-12-22T00:00:00",
          "2023-12-26T00:00:00",
          "2023-12-27T00:00:00",
          "2023-12-28T00:00:00",
          "2023-12-29T00:00:00",
          "2024-01-02T00:00:00",
          "2024-01-03T00:00:00",
          "2024-01-04T00:00:00",
          "2024-01-05T00:00:00",
          "2024-01-08T00:00:00",
          "2024-01-09T00:00:00",
          "2024-01-10T00:00:00",
          "2024-01-11T00:00:00",
          "2024-01-12T00:00:00",
          "2024-01-16T00:00:00",
          "2024-01-17T00:00:00",
          "2024-01-18T00:00:00",
          "2024-01-19T00:00:00",
          "2024-01-22T00:00:00",
          "2024-01-23T00:00:00",
          "2024-01-24T00:00:00",
          "2024-01-25T00:00:00",
          "2024-01-26T00:00:00",
          "2024-01-29T00:00:00",
          "2024-01-30T00:00:00",
          "2024-01-31T00:00:00",
          "2024-02-01T00:00:00",
          "2024-02-02T00:00:00",
          "2024-02-05T00:00:00",
          "2024-02-06T00:00:00",
          "2024-02-07T00:00:00",
          "2024-02-08T00:00:00",
          "2024-02-09T00:00:00",
          "2024-02-12T00:00:00",
          "2024-02-13T00:00:00",
          "2024-02-14T00:00:00",
          "2024-02-15T00:00:00",
          "2024-02-16T00:00:00",
          "2024-02-20T00:00:00",
          "2024-02-21T00:00:00",
          "2024-02-22T00:00:00",
          "2024-02-23T00:00:00",
          "2024-02-26T00:00:00",
          "2024-02-27T00:00:00",
          "2024-02-28T00:00:00",
          "2024-02-29T00:00:00",
          "2024-03-01T00:00:00",
          "2024-03-04T00:00:00",
          "2024-03-05T00:00:00",
          "2024-03-06T00:00:00",
          "2024-03-07T00:00:00",
          "2024-03-08T00:00:00",
          "2024-03-11T00:00:00",
          "2024-03-12T00:00:00",
          "2024-03-13T00:00:00",
          "2024-03-14T00:00:00",
          "2024-03-15T00:00:00",
          "2024-03-18T00:00:00",
          "2024-03-19T00:00:00",
          "2024-03-20T00:00:00",
          "2024-03-21T00:00:00",
          "2024-03-22T00:00:00",
          "2024-03-25T00:00:00",
          "2024-03-26T00:00:00",
          "2024-03-27T00:00:00",
          "2024-03-28T00:00:00",
          "2024-04-01T00:00:00",
          "2024-04-02T00:00:00",
          "2024-04-03T00:00:00",
          "2024-04-04T00:00:00",
          "2024-04-05T00:00:00",
          "2024-04-08T00:00:00",
          "2024-04-09T00:00:00",
          "2024-04-10T00:00:00",
          "2024-04-11T00:00:00",
          "2024-04-12T00:00:00",
          "2024-04-15T00:00:00",
          "2024-04-16T00:00:00",
          "2024-04-17T00:00:00",
          "2024-04-18T00:00:00",
          "2024-04-19T00:00:00",
          "2024-04-22T00:00:00",
          "2024-04-23T00:00:00",
          "2024-04-24T00:00:00",
          "2024-04-25T00:00:00",
          "2024-04-26T00:00:00",
          "2024-04-29T00:00:00",
          "2024-04-30T00:00:00",
          "2024-05-01T00:00:00",
          "2024-05-02T00:00:00",
          "2024-05-03T00:00:00",
          "2024-05-06T00:00:00",
          "2024-05-07T00:00:00",
          "2024-05-08T00:00:00",
          "2024-05-09T00:00:00",
          "2024-05-10T00:00:00",
          "2024-05-13T00:00:00",
          "2024-05-14T00:00:00",
          "2024-05-15T00:00:00",
          "2024-05-16T00:00:00",
          "2024-05-17T00:00:00",
          "2024-05-20T00:00:00",
          "2024-05-21T00:00:00",
          "2024-05-22T00:00:00",
          "2024-05-23T00:00:00",
          "2024-05-24T00:00:00",
          "2024-05-28T00:00:00",
          "2024-05-29T00:00:00",
          "2024-05-30T00:00:00",
          "2024-05-31T00:00:00",
          "2024-06-03T00:00:00",
          "2024-06-04T00:00:00",
          "2024-06-05T00:00:00",
          "2024-06-06T00:00:00",
          "2024-06-07T00:00:00",
          "2024-06-10T00:00:00",
          "2024-06-11T00:00:00",
          "2024-06-12T00:00:00",
          "2024-06-13T00:00:00",
          "2024-06-14T00:00:00",
          "2024-06-17T00:00:00",
          "2024-06-18T00:00:00",
          "2024-06-20T00:00:00",
          "2024-06-21T00:00:00",
          "2024-06-24T00:00:00",
          "2024-06-25T00:00:00",
          "2024-06-26T00:00:00",
          "2024-06-27T00:00:00",
          "2024-06-28T00:00:00",
          "2024-07-01T00:00:00",
          "2024-07-02T00:00:00",
          "2024-07-03T00:00:00",
          "2024-07-05T00:00:00",
          "2024-07-08T00:00:00",
          "2024-07-09T00:00:00",
          "2024-07-10T00:00:00",
          "2024-07-11T00:00:00",
          "2024-07-12T00:00:00",
          "2024-07-15T00:00:00",
          "2024-07-16T00:00:00",
          "2024-07-17T00:00:00",
          "2024-07-18T00:00:00",
          "2024-07-19T00:00:00",
          "2024-07-22T00:00:00",
          "2024-07-23T00:00:00",
          "2024-07-24T00:00:00",
          "2024-07-25T00:00:00",
          "2024-07-26T00:00:00",
          "2024-07-29T00:00:00",
          "2024-07-30T00:00:00",
          "2024-07-31T00:00:00",
          "2024-08-01T00:00:00",
          "2024-08-02T00:00:00",
          "2024-08-05T00:00:00",
          "2024-08-06T00:00:00",
          "2024-08-07T00:00:00",
          "2024-08-08T00:00:00",
          "2024-08-09T00:00:00",
          "2024-08-12T00:00:00",
          "2024-08-13T00:00:00",
          "2024-08-14T00:00:00",
          "2024-08-15T00:00:00",
          "2024-08-16T00:00:00"
         ],
         "xaxis": "x",
         "y": [
          -0.022762563829046668,
          -0.023010736136994087,
          -0.023940186760813265,
          -0.00628871949164558,
          -0.014560859301217715,
          -0.035735966551753526,
          -0.03364214717512743,
          -0.048074015933162934,
          -0.033592655676189506,
          -0.04568133304503366,
          -0.06654480393267274,
          -0.09449582789307487,
          -0.0957333560447123,
          -0.0805766835495758,
          -0.07805444028545154,
          -0.050463079589920294,
          -0.0864139629264935,
          -0.0765840928985244,
          -0.06687094504610455,
          -0.040440094328243366,
          -0.038134213370134534,
          -0.03670784708885589,
          -0.028936656202543508,
          -0.014817336452302715,
          -0.022298029572072577,
          -0.02643583618813971,
          -0.027427119174133027,
          -0.008840075141660648,
          -0.029658216345869046,
          -0.04774433114523948,
          -0.05110193136149882,
          -0.07235735515062333,
          -0.07122147039392028,
          -0.06627948718550317,
          -0.08749736232124095,
          -0.09880639802716093,
          -0.0990415934261818,
          -0.08914734867268376,
          -0.10227408991751125,
          -0.10641969889950417,
          -0.09904499416148053,
          -0.10202623020011266,
          -0.08739152658132264,
          -0.10234903735794466,
          -0.09409004454578446,
          -0.1004025596518011,
          -0.07300973492442024,
          -0.06312245362074723,
          -0.07320514364492978,
          -0.07283798544214098,
          -0.08289457404116668,
          -0.10384123488790797,
          -0.08745861757099402,
          -0.09122132723941391,
          -0.11448006105524969,
          -0.04672023588869405,
          -0.05566737620045112,
          -0.041043482195396344,
          -0.03404375264105866,
          -0.058844435540096246,
          -0.08551073688208122,
          -0.07541570008975015,
          -0.04995034510388156,
          -0.04974203911974735,
          -0.022725023923112115,
          -0.01728081238188793,
          -0.004113716702689741,
          0.0014614334036251765,
          0.007493343576021624,
          0.011044220924362975,
          0.009613605375794797,
          0.03576606591301018,
          0.032639984358193735,
          0.04804989061981924,
          0.056344886829740384,
          0.06368212922316413,
          0.06458118224563945,
          0.08008646493207489,
          0.07579060765566678,
          0.08570568892261031,
          0.08270627822585667,
          0.07831658291892914,
          0.08344010969481695,
          0.07267592268456385,
          0.06326825358261107,
          0.05316384679366907,
          0.0338268164544402,
          0.03511885245869918,
          0.024233128300347972,
          0.0435386547996318,
          0.05371517244230775,
          0.04904281071999858,
          0.06460889974670404,
          0.08358892110518132,
          0.07146940917614751,
          0.07666761750280679,
          0.10347408085350158,
          0.11901449054275372,
          0.11121053612872332,
          0.119816728335529,
          0.11405325398673417,
          0.11969924450163565,
          0.1237132180363874,
          0.1232456860154376,
          0.11389594168360717,
          0.0845637380351035,
          0.08308896087069169,
          0.0880875992655623,
          0.09324521422532184,
          0.11495233482731286,
          0.11162612419831529,
          0.12452248498315249,
          0.13720801230462484,
          0.14248128218323985,
          0.12324438235834892,
          0.12246373226414058,
          0.1388071379033006,
          0.14648985001478426,
          0.1478488330067491,
          0.15858523246031364,
          0.21349366978186662,
          0.23083590109484622,
          0.23862167932114067,
          0.25077023697728246,
          0.2373799558526801,
          0.2249373023717689,
          0.2350495535598806,
          0.32122302688697724,
          0.3057374360909459,
          0.29667114249315496,
          0.31361366414808767,
          0.3127658983945202,
          0.31536945509822645,
          0.3118974315327983,
          0.2993306113454354,
          0.33212174287445845,
          0.3519963048087163,
          0.3347586800235847,
          0.3254292689005688,
          0.3220609908087844,
          0.3529744563535209,
          0.34686197830069293,
          0.347203151819091,
          0.3628503205725281,
          0.35564846259811517,
          0.36688580661846826,
          0.389617776364315,
          0.3816056804537378,
          0.35914398934277647,
          0.36284505122561017,
          0.3857763928883728,
          0.37819405819081386,
          0.35670972251601146,
          0.3796371609218177,
          0.37463695762342336,
          0.375768948434691,
          0.3623074870235968,
          0.38352133314960957,
          0.3859487187239723,
          0.40057371462973246,
          0.39611790621650345,
          0.4022143606929646,
          0.3961874039373875,
          0.39075617578653477,
          0.3795420497930743,
          0.36748901177352256,
          0.37752274148693016,
          0.38195026671639165,
          0.40241407953617975,
          0.3951730800148724,
          0.4245829870097485,
          0.4123772475117819,
          0.40379431382938036,
          0.40577136124689894,
          0.41984473903290864,
          0.40618918115574243,
          0.38294003057547404,
          0.38899513062803937,
          0.38041820358563044,
          0.38348818963369025,
          0.3225390733679836,
          0.32403932595759727,
          0.35670259837261736,
          0.3365694003600389,
          0.29997717029402454,
          0.30142005333520694,
          0.2917982988196474,
          0.27900356093595385,
          0.28956796779757266,
          0.3064203709501298,
          0.3318442905144311,
          0.35853446522264115,
          0.3681155778038142,
          0.37438567944389695,
          0.3799530162599421,
          0.37860674667881755,
          0.3766210687360926,
          0.3784524958016361,
          0.3874026354381705,
          0.37740016912882135,
          0.3845753279778691,
          0.39642497751198497,
          0.40003270919237033,
          0.39518497974891204,
          0.3878637479730508,
          0.40791314297733705,
          0.4114783513697427,
          0.4106694824144751,
          0.39875312965249454,
          0.39371227708137413,
          0.3988570412696099,
          0.39731887003460176,
          0.4276773280689771,
          0.4261546506843693,
          0.4210010853431412,
          0.430933487037564,
          0.44259503630045294,
          0.4465515982771124,
          0.4442252874115974,
          0.45543195754778754,
          0.46326432271186546,
          0.46287545192641294,
          0.46000994367148923,
          0.4594555631718923,
          0.4506556451261841,
          0.4634039199304096,
          0.47256605680662156,
          0.4838298416613022,
          0.4627712103810125,
          0.4653750035288546,
          0.4753318103721596,
          0.47736699250881887,
          0.5094300413430357,
          0.498211982336734,
          0.49899912444237315,
          0.49870715703352597,
          0.46182462146190784,
          0.44769633726014546,
          0.4522835378552762,
          0.44697376894271956,
          0.4140296743985924,
          0.42060351189595174,
          0.41438276649320793,
          0.4336856716344483,
          0.4329754917451352,
          0.400966736947106,
          0.39168910753883524,
          0.40194545447919133,
          0.39918675734987286,
          0.39348489913214024,
          0.4108206162232218,
          0.4262657028120518,
          0.4052594930545813,
          0.37771362558093213,
          0.40176015469586374,
          0.399986573376314,
          0.4339023845743471,
          0.44447423466376357,
          0.4427874682185547,
          0.4659979971209278,
          0.47412985141809133,
          0.48696992895611513,
          0.48707167033389587
         ],
         "yaxis": "y"
        }
       ],
       "layout": {
        "legend": {
         "title": {
          "text": "Portfolios"
         },
         "tracegroupgap": 0
        },
        "margin": {
         "t": 60
        },
        "template": {
         "data": {
          "bar": [
           {
            "error_x": {
             "color": "#2a3f5f"
            },
            "error_y": {
             "color": "#2a3f5f"
            },
            "marker": {
             "line": {
              "color": "#E5ECF6",
              "width": 0.5
             },
             "pattern": {
              "fillmode": "overlay",
              "size": 10,
              "solidity": 0.2
             }
            },
            "type": "bar"
           }
          ],
          "barpolar": [
           {
            "marker": {
             "line": {
              "color": "#E5ECF6",
              "width": 0.5
             },
             "pattern": {
              "fillmode": "overlay",
              "size": 10,
              "solidity": 0.2
             }
            },
            "type": "barpolar"
           }
          ],
          "carpet": [
           {
            "aaxis": {
             "endlinecolor": "#2a3f5f",
             "gridcolor": "white",
             "linecolor": "white",
             "minorgridcolor": "white",
             "startlinecolor": "#2a3f5f"
            },
            "baxis": {
             "endlinecolor": "#2a3f5f",
             "gridcolor": "white",
             "linecolor": "white",
             "minorgridcolor": "white",
             "startlinecolor": "#2a3f5f"
            },
            "type": "carpet"
           }
          ],
          "choropleth": [
           {
            "colorbar": {
             "outlinewidth": 0,
             "ticks": ""
            },
            "type": "choropleth"
           }
          ],
          "contour": [
           {
            "colorbar": {
             "outlinewidth": 0,
             "ticks": ""
            },
            "colorscale": [
             [
              0,
              "#0d0887"
             ],
             [
              0.1111111111111111,
              "#46039f"
             ],
             [
              0.2222222222222222,
              "#7201a8"
             ],
             [
              0.3333333333333333,
              "#9c179e"
             ],
             [
              0.4444444444444444,
              "#bd3786"
             ],
             [
              0.5555555555555556,
              "#d8576b"
             ],
             [
              0.6666666666666666,
              "#ed7953"
             ],
             [
              0.7777777777777778,
              "#fb9f3a"
             ],
             [
              0.8888888888888888,
              "#fdca26"
             ],
             [
              1,
              "#f0f921"
             ]
            ],
            "type": "contour"
           }
          ],
          "contourcarpet": [
           {
            "colorbar": {
             "outlinewidth": 0,
             "ticks": ""
            },
            "type": "contourcarpet"
           }
          ],
          "heatmap": [
           {
            "colorbar": {
             "outlinewidth": 0,
             "ticks": ""
            },
            "colorscale": [
             [
              0,
              "#0d0887"
             ],
             [
              0.1111111111111111,
              "#46039f"
             ],
             [
              0.2222222222222222,
              "#7201a8"
             ],
             [
              0.3333333333333333,
              "#9c179e"
             ],
             [
              0.4444444444444444,
              "#bd3786"
             ],
             [
              0.5555555555555556,
              "#d8576b"
             ],
             [
              0.6666666666666666,
              "#ed7953"
             ],
             [
              0.7777777777777778,
              "#fb9f3a"
             ],
             [
              0.8888888888888888,
              "#fdca26"
             ],
             [
              1,
              "#f0f921"
             ]
            ],
            "type": "heatmap"
           }
          ],
          "heatmapgl": [
           {
            "colorbar": {
             "outlinewidth": 0,
             "ticks": ""
            },
            "colorscale": [
             [
              0,
              "#0d0887"
             ],
             [
              0.1111111111111111,
              "#46039f"
             ],
             [
              0.2222222222222222,
              "#7201a8"
             ],
             [
              0.3333333333333333,
              "#9c179e"
             ],
             [
              0.4444444444444444,
              "#bd3786"
             ],
             [
              0.5555555555555556,
              "#d8576b"
             ],
             [
              0.6666666666666666,
              "#ed7953"
             ],
             [
              0.7777777777777778,
              "#fb9f3a"
             ],
             [
              0.8888888888888888,
              "#fdca26"
             ],
             [
              1,
              "#f0f921"
             ]
            ],
            "type": "heatmapgl"
           }
          ],
          "histogram": [
           {
            "marker": {
             "pattern": {
              "fillmode": "overlay",
              "size": 10,
              "solidity": 0.2
             }
            },
            "type": "histogram"
           }
          ],
          "histogram2d": [
           {
            "colorbar": {
             "outlinewidth": 0,
             "ticks": ""
            },
            "colorscale": [
             [
              0,
              "#0d0887"
             ],
             [
              0.1111111111111111,
              "#46039f"
             ],
             [
              0.2222222222222222,
              "#7201a8"
             ],
             [
              0.3333333333333333,
              "#9c179e"
             ],
             [
              0.4444444444444444,
              "#bd3786"
             ],
             [
              0.5555555555555556,
              "#d8576b"
             ],
             [
              0.6666666666666666,
              "#ed7953"
             ],
             [
              0.7777777777777778,
              "#fb9f3a"
             ],
             [
              0.8888888888888888,
              "#fdca26"
             ],
             [
              1,
              "#f0f921"
             ]
            ],
            "type": "histogram2d"
           }
          ],
          "histogram2dcontour": [
           {
            "colorbar": {
             "outlinewidth": 0,
             "ticks": ""
            },
            "colorscale": [
             [
              0,
              "#0d0887"
             ],
             [
              0.1111111111111111,
              "#46039f"
             ],
             [
              0.2222222222222222,
              "#7201a8"
             ],
             [
              0.3333333333333333,
              "#9c179e"
             ],
             [
              0.4444444444444444,
              "#bd3786"
             ],
             [
              0.5555555555555556,
              "#d8576b"
             ],
             [
              0.6666666666666666,
              "#ed7953"
             ],
             [
              0.7777777777777778,
              "#fb9f3a"
             ],
             [
              0.8888888888888888,
              "#fdca26"
             ],
             [
              1,
              "#f0f921"
             ]
            ],
            "type": "histogram2dcontour"
           }
          ],
          "mesh3d": [
           {
            "colorbar": {
             "outlinewidth": 0,
             "ticks": ""
            },
            "type": "mesh3d"
           }
          ],
          "parcoords": [
           {
            "line": {
             "colorbar": {
              "outlinewidth": 0,
              "ticks": ""
             }
            },
            "type": "parcoords"
           }
          ],
          "pie": [
           {
            "automargin": true,
            "type": "pie"
           }
          ],
          "scatter": [
           {
            "fillpattern": {
             "fillmode": "overlay",
             "size": 10,
             "solidity": 0.2
            },
            "type": "scatter"
           }
          ],
          "scatter3d": [
           {
            "line": {
             "colorbar": {
              "outlinewidth": 0,
              "ticks": ""
             }
            },
            "marker": {
             "colorbar": {
              "outlinewidth": 0,
              "ticks": ""
             }
            },
            "type": "scatter3d"
           }
          ],
          "scattercarpet": [
           {
            "marker": {
             "colorbar": {
              "outlinewidth": 0,
              "ticks": ""
             }
            },
            "type": "scattercarpet"
           }
          ],
          "scattergeo": [
           {
            "marker": {
             "colorbar": {
              "outlinewidth": 0,
              "ticks": ""
             }
            },
            "type": "scattergeo"
           }
          ],
          "scattergl": [
           {
            "marker": {
             "colorbar": {
              "outlinewidth": 0,
              "ticks": ""
             }
            },
            "type": "scattergl"
           }
          ],
          "scattermapbox": [
           {
            "marker": {
             "colorbar": {
              "outlinewidth": 0,
              "ticks": ""
             }
            },
            "type": "scattermapbox"
           }
          ],
          "scatterpolar": [
           {
            "marker": {
             "colorbar": {
              "outlinewidth": 0,
              "ticks": ""
             }
            },
            "type": "scatterpolar"
           }
          ],
          "scatterpolargl": [
           {
            "marker": {
             "colorbar": {
              "outlinewidth": 0,
              "ticks": ""
             }
            },
            "type": "scatterpolargl"
           }
          ],
          "scatterternary": [
           {
            "marker": {
             "colorbar": {
              "outlinewidth": 0,
              "ticks": ""
             }
            },
            "type": "scatterternary"
           }
          ],
          "surface": [
           {
            "colorbar": {
             "outlinewidth": 0,
             "ticks": ""
            },
            "colorscale": [
             [
              0,
              "#0d0887"
             ],
             [
              0.1111111111111111,
              "#46039f"
             ],
             [
              0.2222222222222222,
              "#7201a8"
             ],
             [
              0.3333333333333333,
              "#9c179e"
             ],
             [
              0.4444444444444444,
              "#bd3786"
             ],
             [
              0.5555555555555556,
              "#d8576b"
             ],
             [
              0.6666666666666666,
              "#ed7953"
             ],
             [
              0.7777777777777778,
              "#fb9f3a"
             ],
             [
              0.8888888888888888,
              "#fdca26"
             ],
             [
              1,
              "#f0f921"
             ]
            ],
            "type": "surface"
           }
          ],
          "table": [
           {
            "cells": {
             "fill": {
              "color": "#EBF0F8"
             },
             "line": {
              "color": "white"
             }
            },
            "header": {
             "fill": {
              "color": "#C8D4E3"
             },
             "line": {
              "color": "white"
             }
            },
            "type": "table"
           }
          ]
         },
         "layout": {
          "annotationdefaults": {
           "arrowcolor": "#2a3f5f",
           "arrowhead": 0,
           "arrowwidth": 1
          },
          "autotypenumbers": "strict",
          "coloraxis": {
           "colorbar": {
            "outlinewidth": 0,
            "ticks": ""
           }
          },
          "colorscale": {
           "diverging": [
            [
             0,
             "#8e0152"
            ],
            [
             0.1,
             "#c51b7d"
            ],
            [
             0.2,
             "#de77ae"
            ],
            [
             0.3,
             "#f1b6da"
            ],
            [
             0.4,
             "#fde0ef"
            ],
            [
             0.5,
             "#f7f7f7"
            ],
            [
             0.6,
             "#e6f5d0"
            ],
            [
             0.7,
             "#b8e186"
            ],
            [
             0.8,
             "#7fbc41"
            ],
            [
             0.9,
             "#4d9221"
            ],
            [
             1,
             "#276419"
            ]
           ],
           "sequential": [
            [
             0,
             "#0d0887"
            ],
            [
             0.1111111111111111,
             "#46039f"
            ],
            [
             0.2222222222222222,
             "#7201a8"
            ],
            [
             0.3333333333333333,
             "#9c179e"
            ],
            [
             0.4444444444444444,
             "#bd3786"
            ],
            [
             0.5555555555555556,
             "#d8576b"
            ],
            [
             0.6666666666666666,
             "#ed7953"
            ],
            [
             0.7777777777777778,
             "#fb9f3a"
            ],
            [
             0.8888888888888888,
             "#fdca26"
            ],
            [
             1,
             "#f0f921"
            ]
           ],
           "sequentialminus": [
            [
             0,
             "#0d0887"
            ],
            [
             0.1111111111111111,
             "#46039f"
            ],
            [
             0.2222222222222222,
             "#7201a8"
            ],
            [
             0.3333333333333333,
             "#9c179e"
            ],
            [
             0.4444444444444444,
             "#bd3786"
            ],
            [
             0.5555555555555556,
             "#d8576b"
            ],
            [
             0.6666666666666666,
             "#ed7953"
            ],
            [
             0.7777777777777778,
             "#fb9f3a"
            ],
            [
             0.8888888888888888,
             "#fdca26"
            ],
            [
             1,
             "#f0f921"
            ]
           ]
          },
          "colorway": [
           "#636efa",
           "#EF553B",
           "#00cc96",
           "#ab63fa",
           "#FFA15A",
           "#19d3f3",
           "#FF6692",
           "#B6E880",
           "#FF97FF",
           "#FECB52"
          ],
          "font": {
           "color": "#2a3f5f"
          },
          "geo": {
           "bgcolor": "white",
           "lakecolor": "white",
           "landcolor": "#E5ECF6",
           "showlakes": true,
           "showland": true,
           "subunitcolor": "white"
          },
          "hoverlabel": {
           "align": "left"
          },
          "hovermode": "closest",
          "mapbox": {
           "style": "light"
          },
          "paper_bgcolor": "white",
          "plot_bgcolor": "#E5ECF6",
          "polar": {
           "angularaxis": {
            "gridcolor": "white",
            "linecolor": "white",
            "ticks": ""
           },
           "bgcolor": "#E5ECF6",
           "radialaxis": {
            "gridcolor": "white",
            "linecolor": "white",
            "ticks": ""
           }
          },
          "scene": {
           "xaxis": {
            "backgroundcolor": "#E5ECF6",
            "gridcolor": "white",
            "gridwidth": 2,
            "linecolor": "white",
            "showbackground": true,
            "ticks": "",
            "zerolinecolor": "white"
           },
           "yaxis": {
            "backgroundcolor": "#E5ECF6",
            "gridcolor": "white",
            "gridwidth": 2,
            "linecolor": "white",
            "showbackground": true,
            "ticks": "",
            "zerolinecolor": "white"
           },
           "zaxis": {
            "backgroundcolor": "#E5ECF6",
            "gridcolor": "white",
            "gridwidth": 2,
            "linecolor": "white",
            "showbackground": true,
            "ticks": "",
            "zerolinecolor": "white"
           }
          },
          "shapedefaults": {
           "line": {
            "color": "#2a3f5f"
           }
          },
          "ternary": {
           "aaxis": {
            "gridcolor": "white",
            "linecolor": "white",
            "ticks": ""
           },
           "baxis": {
            "gridcolor": "white",
            "linecolor": "white",
            "ticks": ""
           },
           "bgcolor": "#E5ECF6",
           "caxis": {
            "gridcolor": "white",
            "linecolor": "white",
            "ticks": ""
           }
          },
          "title": {
           "x": 0.05
          },
          "xaxis": {
           "automargin": true,
           "gridcolor": "white",
           "linecolor": "white",
           "ticks": "",
           "title": {
            "standoff": 15
           },
           "zerolinecolor": "white",
           "zerolinewidth": 2
          },
          "yaxis": {
           "automargin": true,
           "gridcolor": "white",
           "linecolor": "white",
           "ticks": "",
           "title": {
            "standoff": 15
           },
           "zerolinecolor": "white",
           "zerolinewidth": 2
          }
         }
        },
        "title": {
         "text": "Cumulative Returns (non-compounded)"
        },
        "xaxis": {
         "anchor": "y",
         "domain": [
          0,
          1
         ],
         "title": {
          "text": "Observations"
         }
        },
        "yaxis": {
         "anchor": "x",
         "domain": [
          0,
          1
         ],
         "tickformat": ".2%",
         "title": {
          "text": "Cumulative Returns"
         }
        }
       }
      }
     },
     "metadata": {},
     "output_type": "display_data"
    }
   ],
   "source": [
    "population.plot_cumulative_returns()"
   ]
  },
  {
   "cell_type": "code",
   "execution_count": 18,
   "metadata": {},
   "outputs": [
    {
     "data": {
      "text/html": [
       "<div>\n",
       "<style scoped>\n",
       "    .dataframe tbody tr th:only-of-type {\n",
       "        vertical-align: middle;\n",
       "    }\n",
       "\n",
       "    .dataframe tbody tr th {\n",
       "        vertical-align: top;\n",
       "    }\n",
       "\n",
       "    .dataframe thead th {\n",
       "        text-align: right;\n",
       "    }\n",
       "</style>\n",
       "<table border=\"1\" class=\"dataframe\">\n",
       "  <thead>\n",
       "    <tr style=\"text-align: right;\">\n",
       "      <th></th>\n",
       "      <th>Min Variance</th>\n",
       "      <th>Max Return</th>\n",
       "      <th>Max Sharpe</th>\n",
       "    </tr>\n",
       "  </thead>\n",
       "  <tbody>\n",
       "    <tr>\n",
       "      <th>Mean</th>\n",
       "      <td>0.10%</td>\n",
       "      <td>0.21%</td>\n",
       "      <td>0.19%</td>\n",
       "    </tr>\n",
       "    <tr>\n",
       "      <th>Annualized Mean</th>\n",
       "      <td>26.13%</td>\n",
       "      <td>53.88%</td>\n",
       "      <td>46.67%</td>\n",
       "    </tr>\n",
       "    <tr>\n",
       "      <th>Variance</th>\n",
       "      <td>0.015%</td>\n",
       "      <td>0.054%</td>\n",
       "      <td>0.027%</td>\n",
       "    </tr>\n",
       "    <tr>\n",
       "      <th>Annualized Variance</th>\n",
       "      <td>3.81%</td>\n",
       "      <td>13.56%</td>\n",
       "      <td>6.81%</td>\n",
       "    </tr>\n",
       "    <tr>\n",
       "      <th>Semi-Variance</th>\n",
       "      <td>0.0083%</td>\n",
       "      <td>0.022%</td>\n",
       "      <td>0.012%</td>\n",
       "    </tr>\n",
       "    <tr>\n",
       "      <th>Annualized Semi-Variance</th>\n",
       "      <td>2.10%</td>\n",
       "      <td>5.57%</td>\n",
       "      <td>3.14%</td>\n",
       "    </tr>\n",
       "    <tr>\n",
       "      <th>Standard Deviation</th>\n",
       "      <td>1.23%</td>\n",
       "      <td>2.32%</td>\n",
       "      <td>1.64%</td>\n",
       "    </tr>\n",
       "    <tr>\n",
       "      <th>Annualized Standard Deviation</th>\n",
       "      <td>19.52%</td>\n",
       "      <td>36.82%</td>\n",
       "      <td>26.09%</td>\n",
       "    </tr>\n",
       "    <tr>\n",
       "      <th>Semi-Deviation</th>\n",
       "      <td>0.91%</td>\n",
       "      <td>1.49%</td>\n",
       "      <td>1.12%</td>\n",
       "    </tr>\n",
       "    <tr>\n",
       "      <th>Annualized Semi-Deviation</th>\n",
       "      <td>14.50%</td>\n",
       "      <td>23.61%</td>\n",
       "      <td>17.71%</td>\n",
       "    </tr>\n",
       "    <tr>\n",
       "      <th>Mean Absolute Deviation</th>\n",
       "      <td>0.94%</td>\n",
       "      <td>1.56%</td>\n",
       "      <td>1.21%</td>\n",
       "    </tr>\n",
       "    <tr>\n",
       "      <th>CVaR at 95%</th>\n",
       "      <td>2.75%</td>\n",
       "      <td>4.47%</td>\n",
       "      <td>3.21%</td>\n",
       "    </tr>\n",
       "    <tr>\n",
       "      <th>EVaR at 95%</th>\n",
       "      <td>3.24%</td>\n",
       "      <td>7.24%</td>\n",
       "      <td>4.36%</td>\n",
       "    </tr>\n",
       "    <tr>\n",
       "      <th>Worst Realization</th>\n",
       "      <td>4.23%</td>\n",
       "      <td>10.56%</td>\n",
       "      <td>6.09%</td>\n",
       "    </tr>\n",
       "    <tr>\n",
       "      <th>CDaR at 95%</th>\n",
       "      <td>10.72%</td>\n",
       "      <td>16.20%</td>\n",
       "      <td>12.15%</td>\n",
       "    </tr>\n",
       "    <tr>\n",
       "      <th>MAX Drawdown</th>\n",
       "      <td>13.78%</td>\n",
       "      <td>19.52%</td>\n",
       "      <td>14.56%</td>\n",
       "    </tr>\n",
       "    <tr>\n",
       "      <th>Average Drawdown</th>\n",
       "      <td>2.98%</td>\n",
       "      <td>4.52%</td>\n",
       "      <td>3.54%</td>\n",
       "    </tr>\n",
       "    <tr>\n",
       "      <th>EDaR at 95%</th>\n",
       "      <td>12.01%</td>\n",
       "      <td>17.22%</td>\n",
       "      <td>12.92%</td>\n",
       "    </tr>\n",
       "    <tr>\n",
       "      <th>First Lower Partial Moment</th>\n",
       "      <td>0.47%</td>\n",
       "      <td>0.78%</td>\n",
       "      <td>0.61%</td>\n",
       "    </tr>\n",
       "    <tr>\n",
       "      <th>Ulcer Index</th>\n",
       "      <td>0.042</td>\n",
       "      <td>0.063</td>\n",
       "      <td>0.051</td>\n",
       "    </tr>\n",
       "    <tr>\n",
       "      <th>Gini Mean Difference</th>\n",
       "      <td>1.36%</td>\n",
       "      <td>2.28%</td>\n",
       "      <td>1.76%</td>\n",
       "    </tr>\n",
       "    <tr>\n",
       "      <th>Value at Risk at 95%</th>\n",
       "      <td>2.26%</td>\n",
       "      <td>2.70%</td>\n",
       "      <td>2.28%</td>\n",
       "    </tr>\n",
       "    <tr>\n",
       "      <th>Drawdown at Risk at 95%</th>\n",
       "      <td>9.05%</td>\n",
       "      <td>12.54%</td>\n",
       "      <td>10.77%</td>\n",
       "    </tr>\n",
       "    <tr>\n",
       "      <th>Entropic Risk Measure at 95%</th>\n",
       "      <td>2.99</td>\n",
       "      <td>2.99</td>\n",
       "      <td>2.99</td>\n",
       "    </tr>\n",
       "    <tr>\n",
       "      <th>Fourth Central Moment</th>\n",
       "      <td>0.000008%</td>\n",
       "      <td>0.00071%</td>\n",
       "      <td>0.000047%</td>\n",
       "    </tr>\n",
       "    <tr>\n",
       "      <th>Fourth Lower Partial Moment</th>\n",
       "      <td>0.000005%</td>\n",
       "      <td>0.000074%</td>\n",
       "      <td>0.000013%</td>\n",
       "    </tr>\n",
       "    <tr>\n",
       "      <th>Skew</th>\n",
       "      <td>-0.34</td>\n",
       "      <td>2.01</td>\n",
       "      <td>0.52</td>\n",
       "    </tr>\n",
       "    <tr>\n",
       "      <th>Kurtosis</th>\n",
       "      <td>3.62</td>\n",
       "      <td>24.54</td>\n",
       "      <td>6.47</td>\n",
       "    </tr>\n",
       "    <tr>\n",
       "      <th>Sharpe Ratio</th>\n",
       "      <td>0.084</td>\n",
       "      <td>0.092</td>\n",
       "      <td>0.11</td>\n",
       "    </tr>\n",
       "    <tr>\n",
       "      <th>Annualized Sharpe Ratio</th>\n",
       "      <td>1.34</td>\n",
       "      <td>1.46</td>\n",
       "      <td>1.79</td>\n",
       "    </tr>\n",
       "    <tr>\n",
       "      <th>Sortino Ratio</th>\n",
       "      <td>0.11</td>\n",
       "      <td>0.14</td>\n",
       "      <td>0.17</td>\n",
       "    </tr>\n",
       "    <tr>\n",
       "      <th>Annualized Sortino Ratio</th>\n",
       "      <td>1.80</td>\n",
       "      <td>2.28</td>\n",
       "      <td>2.64</td>\n",
       "    </tr>\n",
       "    <tr>\n",
       "      <th>Mean Absolute Deviation Ratio</th>\n",
       "      <td>0.11</td>\n",
       "      <td>0.14</td>\n",
       "      <td>0.15</td>\n",
       "    </tr>\n",
       "    <tr>\n",
       "      <th>First Lower Partial Moment Ratio</th>\n",
       "      <td>0.22</td>\n",
       "      <td>0.27</td>\n",
       "      <td>0.31</td>\n",
       "    </tr>\n",
       "    <tr>\n",
       "      <th>Value at Risk Ratio at 95%</th>\n",
       "      <td>0.046</td>\n",
       "      <td>0.079</td>\n",
       "      <td>0.081</td>\n",
       "    </tr>\n",
       "    <tr>\n",
       "      <th>CVaR Ratio at 95%</th>\n",
       "      <td>0.038</td>\n",
       "      <td>0.048</td>\n",
       "      <td>0.058</td>\n",
       "    </tr>\n",
       "    <tr>\n",
       "      <th>Entropic Risk Measure Ratio at 95%</th>\n",
       "      <td>0.00035</td>\n",
       "      <td>0.00071</td>\n",
       "      <td>0.00062</td>\n",
       "    </tr>\n",
       "    <tr>\n",
       "      <th>EVaR Ratio at 95%</th>\n",
       "      <td>0.032</td>\n",
       "      <td>0.030</td>\n",
       "      <td>0.042</td>\n",
       "    </tr>\n",
       "    <tr>\n",
       "      <th>Worst Realization Ratio</th>\n",
       "      <td>0.025</td>\n",
       "      <td>0.020</td>\n",
       "      <td>0.030</td>\n",
       "    </tr>\n",
       "    <tr>\n",
       "      <th>Drawdown at Risk Ratio at 95%</th>\n",
       "      <td>0.011</td>\n",
       "      <td>0.017</td>\n",
       "      <td>0.017</td>\n",
       "    </tr>\n",
       "    <tr>\n",
       "      <th>CDaR Ratio at 95%</th>\n",
       "      <td>0.0097</td>\n",
       "      <td>0.013</td>\n",
       "      <td>0.015</td>\n",
       "    </tr>\n",
       "    <tr>\n",
       "      <th>Calmar Ratio</th>\n",
       "      <td>0.0075</td>\n",
       "      <td>0.011</td>\n",
       "      <td>0.013</td>\n",
       "    </tr>\n",
       "    <tr>\n",
       "      <th>Average Drawdown Ratio</th>\n",
       "      <td>0.035</td>\n",
       "      <td>0.047</td>\n",
       "      <td>0.052</td>\n",
       "    </tr>\n",
       "    <tr>\n",
       "      <th>EDaR Ratio at 95%</th>\n",
       "      <td>0.0086</td>\n",
       "      <td>0.012</td>\n",
       "      <td>0.014</td>\n",
       "    </tr>\n",
       "    <tr>\n",
       "      <th>Ulcer Index Ratio</th>\n",
       "      <td>0.024</td>\n",
       "      <td>0.034</td>\n",
       "      <td>0.037</td>\n",
       "    </tr>\n",
       "    <tr>\n",
       "      <th>Gini Mean Difference Ratio</th>\n",
       "      <td>0.076</td>\n",
       "      <td>0.094</td>\n",
       "      <td>0.11</td>\n",
       "    </tr>\n",
       "    <tr>\n",
       "      <th>Effective Number of Assets</th>\n",
       "      <td>3.092370350806849</td>\n",
       "      <td>1.0000003345574584</td>\n",
       "      <td>2.582354512635139</td>\n",
       "    </tr>\n",
       "    <tr>\n",
       "      <th>Assets Number</th>\n",
       "      <td>5</td>\n",
       "      <td>5</td>\n",
       "      <td>5</td>\n",
       "    </tr>\n",
       "  </tbody>\n",
       "</table>\n",
       "</div>"
      ],
      "text/plain": [
       "                                         Min Variance          Max Return  \\\n",
       "Mean                                            0.10%               0.21%   \n",
       "Annualized Mean                                26.13%              53.88%   \n",
       "Variance                                       0.015%              0.054%   \n",
       "Annualized Variance                             3.81%              13.56%   \n",
       "Semi-Variance                                 0.0083%              0.022%   \n",
       "Annualized Semi-Variance                        2.10%               5.57%   \n",
       "Standard Deviation                              1.23%               2.32%   \n",
       "Annualized Standard Deviation                  19.52%              36.82%   \n",
       "Semi-Deviation                                  0.91%               1.49%   \n",
       "Annualized Semi-Deviation                      14.50%              23.61%   \n",
       "Mean Absolute Deviation                         0.94%               1.56%   \n",
       "CVaR at 95%                                     2.75%               4.47%   \n",
       "EVaR at 95%                                     3.24%               7.24%   \n",
       "Worst Realization                               4.23%              10.56%   \n",
       "CDaR at 95%                                    10.72%              16.20%   \n",
       "MAX Drawdown                                   13.78%              19.52%   \n",
       "Average Drawdown                                2.98%               4.52%   \n",
       "EDaR at 95%                                    12.01%              17.22%   \n",
       "First Lower Partial Moment                      0.47%               0.78%   \n",
       "Ulcer Index                                     0.042               0.063   \n",
       "Gini Mean Difference                            1.36%               2.28%   \n",
       "Value at Risk at 95%                            2.26%               2.70%   \n",
       "Drawdown at Risk at 95%                         9.05%              12.54%   \n",
       "Entropic Risk Measure at 95%                     2.99                2.99   \n",
       "Fourth Central Moment                       0.000008%            0.00071%   \n",
       "Fourth Lower Partial Moment                 0.000005%           0.000074%   \n",
       "Skew                                            -0.34                2.01   \n",
       "Kurtosis                                         3.62               24.54   \n",
       "Sharpe Ratio                                    0.084               0.092   \n",
       "Annualized Sharpe Ratio                          1.34                1.46   \n",
       "Sortino Ratio                                    0.11                0.14   \n",
       "Annualized Sortino Ratio                         1.80                2.28   \n",
       "Mean Absolute Deviation Ratio                    0.11                0.14   \n",
       "First Lower Partial Moment Ratio                 0.22                0.27   \n",
       "Value at Risk Ratio at 95%                      0.046               0.079   \n",
       "CVaR Ratio at 95%                               0.038               0.048   \n",
       "Entropic Risk Measure Ratio at 95%            0.00035             0.00071   \n",
       "EVaR Ratio at 95%                               0.032               0.030   \n",
       "Worst Realization Ratio                         0.025               0.020   \n",
       "Drawdown at Risk Ratio at 95%                   0.011               0.017   \n",
       "CDaR Ratio at 95%                              0.0097               0.013   \n",
       "Calmar Ratio                                   0.0075               0.011   \n",
       "Average Drawdown Ratio                          0.035               0.047   \n",
       "EDaR Ratio at 95%                              0.0086               0.012   \n",
       "Ulcer Index Ratio                               0.024               0.034   \n",
       "Gini Mean Difference Ratio                      0.076               0.094   \n",
       "Effective Number of Assets          3.092370350806849  1.0000003345574584   \n",
       "Assets Number                                       5                   5   \n",
       "\n",
       "                                           Max Sharpe  \n",
       "Mean                                            0.19%  \n",
       "Annualized Mean                                46.67%  \n",
       "Variance                                       0.027%  \n",
       "Annualized Variance                             6.81%  \n",
       "Semi-Variance                                  0.012%  \n",
       "Annualized Semi-Variance                        3.14%  \n",
       "Standard Deviation                              1.64%  \n",
       "Annualized Standard Deviation                  26.09%  \n",
       "Semi-Deviation                                  1.12%  \n",
       "Annualized Semi-Deviation                      17.71%  \n",
       "Mean Absolute Deviation                         1.21%  \n",
       "CVaR at 95%                                     3.21%  \n",
       "EVaR at 95%                                     4.36%  \n",
       "Worst Realization                               6.09%  \n",
       "CDaR at 95%                                    12.15%  \n",
       "MAX Drawdown                                   14.56%  \n",
       "Average Drawdown                                3.54%  \n",
       "EDaR at 95%                                    12.92%  \n",
       "First Lower Partial Moment                      0.61%  \n",
       "Ulcer Index                                     0.051  \n",
       "Gini Mean Difference                            1.76%  \n",
       "Value at Risk at 95%                            2.28%  \n",
       "Drawdown at Risk at 95%                        10.77%  \n",
       "Entropic Risk Measure at 95%                     2.99  \n",
       "Fourth Central Moment                       0.000047%  \n",
       "Fourth Lower Partial Moment                 0.000013%  \n",
       "Skew                                             0.52  \n",
       "Kurtosis                                         6.47  \n",
       "Sharpe Ratio                                     0.11  \n",
       "Annualized Sharpe Ratio                          1.79  \n",
       "Sortino Ratio                                    0.17  \n",
       "Annualized Sortino Ratio                         2.64  \n",
       "Mean Absolute Deviation Ratio                    0.15  \n",
       "First Lower Partial Moment Ratio                 0.31  \n",
       "Value at Risk Ratio at 95%                      0.081  \n",
       "CVaR Ratio at 95%                               0.058  \n",
       "Entropic Risk Measure Ratio at 95%            0.00062  \n",
       "EVaR Ratio at 95%                               0.042  \n",
       "Worst Realization Ratio                         0.030  \n",
       "Drawdown at Risk Ratio at 95%                   0.017  \n",
       "CDaR Ratio at 95%                               0.015  \n",
       "Calmar Ratio                                    0.013  \n",
       "Average Drawdown Ratio                          0.052  \n",
       "EDaR Ratio at 95%                               0.014  \n",
       "Ulcer Index Ratio                               0.037  \n",
       "Gini Mean Difference Ratio                       0.11  \n",
       "Effective Number of Assets          2.582354512635139  \n",
       "Assets Number                                       5  "
      ]
     },
     "execution_count": 18,
     "metadata": {},
     "output_type": "execute_result"
    }
   ],
   "source": [
    "population.summary()"
   ]
  },
  {
   "cell_type": "markdown",
   "metadata": {},
   "source": [
    "### Efficient Frontier"
   ]
  },
  {
   "cell_type": "code",
   "execution_count": 19,
   "metadata": {},
   "outputs": [
    {
     "name": "stdout",
     "output_type": "stream",
     "text": [
      "(50, 5)\n"
     ]
    }
   ],
   "source": [
    "model = MeanRisk(\n",
    "    efficient_frontier_size=50,\n",
    ")\n",
    "model.fit(returns_df)\n",
    "efficient_frontier = model.predict(returns_df)"
   ]
  },
  {
   "cell_type": "code",
   "execution_count": 28,
   "metadata": {},
   "outputs": [
    {
     "data": {
      "text/plain": [
       "array([[2.85921893e-02, 4.90063010e-01, 1.60887571e-01, 1.53632764e-01,\n",
       "        1.66824467e-01],\n",
       "       [3.93377266e-02, 4.78303883e-01, 1.57990253e-01, 1.61926736e-01,\n",
       "        1.62441401e-01],\n",
       "       [5.02460647e-02, 4.66764614e-01, 1.54819736e-01, 1.70179135e-01,\n",
       "        1.57990451e-01],\n",
       "       [6.05705918e-02, 4.54855653e-01, 1.52267795e-01, 1.78860471e-01,\n",
       "        1.53445490e-01],\n",
       "       [7.13722263e-02, 4.43076786e-01, 1.49353654e-01, 1.87081919e-01,\n",
       "        1.49115415e-01],\n",
       "       [8.20367075e-02, 4.31121808e-01, 1.46614767e-01, 1.95361467e-01,\n",
       "        1.44865251e-01],\n",
       "       [9.27159874e-02, 4.19349622e-01, 1.43757457e-01, 2.03727308e-01,\n",
       "        1.40449626e-01],\n",
       "       [1.03389246e-01, 4.07595237e-01, 1.40890838e-01, 2.12110762e-01,\n",
       "        1.36013916e-01],\n",
       "       [1.14056383e-01, 3.95799598e-01, 1.38050500e-01, 2.20478451e-01,\n",
       "        1.31615068e-01],\n",
       "       [1.24726787e-01, 3.84024700e-01, 1.35198627e-01, 2.28853146e-01,\n",
       "        1.27196740e-01],\n",
       "       [1.35397571e-01, 3.72252164e-01, 1.32347691e-01, 2.37227995e-01,\n",
       "        1.22774579e-01],\n",
       "       [1.46064937e-01, 3.60465350e-01, 1.29503304e-01, 2.45599889e-01,\n",
       "        1.18366520e-01],\n",
       "       [1.56728972e-01, 3.48671187e-01, 1.26658845e-01, 2.53973904e-01,\n",
       "        1.13967092e-01],\n",
       "       [1.67283840e-01, 3.36682983e-01, 1.23795163e-01, 2.62436893e-01,\n",
       "        1.09801121e-01],\n",
       "       [1.77978381e-01, 3.25040443e-01, 1.20851170e-01, 2.70857765e-01,\n",
       "        1.05272241e-01],\n",
       "       [1.88732938e-01, 3.13305550e-01, 1.18117520e-01, 2.79088806e-01,\n",
       "        1.00755186e-01],\n",
       "       [1.99406740e-01, 3.01516267e-01, 1.15287068e-01, 2.87446223e-01,\n",
       "        9.63437033e-02],\n",
       "       [2.10006377e-01, 2.89605931e-01, 1.12350159e-01, 2.95902658e-01,\n",
       "        9.21348751e-02],\n",
       "       [2.20731374e-01, 2.77898502e-01, 1.09588521e-01, 3.04192811e-01,\n",
       "        8.75887924e-02],\n",
       "       [2.31407608e-01, 2.66050886e-01, 1.06771701e-01, 3.12522521e-01,\n",
       "        8.32472835e-02],\n",
       "       [2.42092049e-01, 2.54355944e-01, 1.03904619e-01, 3.20910561e-01,\n",
       "        7.87368272e-02],\n",
       "       [2.52766146e-01, 2.42551097e-01, 1.01053041e-01, 3.29270258e-01,\n",
       "        7.43594575e-02],\n",
       "       [2.63444950e-01, 2.30780813e-01, 9.81959068e-02, 3.37637248e-01,\n",
       "        6.99410821e-02],\n",
       "       [2.74120198e-01, 2.19044275e-01, 9.53420944e-02, 3.46019010e-01,\n",
       "        6.54744227e-02],\n",
       "       [2.84792383e-01, 2.07342495e-01, 9.25054388e-02, 3.54410079e-01,\n",
       "        6.09496033e-02],\n",
       "       [2.95397218e-01, 1.95335382e-01, 8.97118860e-02, 3.62773423e-01,\n",
       "        5.67820908e-02],\n",
       "       [3.06179066e-01, 1.83838633e-01, 8.67893407e-02, 3.71118107e-01,\n",
       "        5.20748538e-02],\n",
       "       [3.16855586e-01, 1.72000638e-01, 8.39698486e-02, 3.79451463e-01,\n",
       "        4.77224637e-02],\n",
       "       [3.27522733e-01, 1.60182056e-01, 8.11384572e-02, 3.87808334e-01,\n",
       "        4.33484198e-02],\n",
       "       [3.38257371e-01, 1.48418965e-01, 7.82786346e-02, 3.96104049e-01,\n",
       "        3.89409810e-02],\n",
       "       [3.48920851e-01, 1.36611458e-01, 7.54264635e-02, 4.04477173e-01,\n",
       "        3.45640549e-02],\n",
       "       [3.59636591e-01, 1.24829169e-01, 7.25605231e-02, 4.12794018e-01,\n",
       "        3.01796988e-02],\n",
       "       [3.70347704e-01, 1.13042413e-01, 6.96924590e-02, 4.21116370e-01,\n",
       "        2.58010545e-02],\n",
       "       [3.81032250e-01, 1.01248031e-01, 6.68071018e-02, 4.29478174e-01,\n",
       "        2.14344429e-02],\n",
       "       [3.91585450e-01, 8.94333231e-02, 6.40189769e-02, 4.37972666e-01,\n",
       "        1.69895842e-02],\n",
       "       [4.02291734e-01, 7.76437526e-02, 6.11635051e-02, 4.46295822e-01,\n",
       "        1.26051863e-02],\n",
       "       [4.12692207e-01, 6.57962611e-02, 5.84333414e-02, 4.54962471e-01,\n",
       "        8.11571963e-03],\n",
       "       [4.23478148e-01, 5.40602554e-02, 5.55617759e-02, 4.63202708e-01,\n",
       "        3.69711280e-03],\n",
       "       [4.34123303e-01, 4.18155288e-02, 5.23289160e-02, 4.71596790e-01,\n",
       "        1.35462286e-04],\n",
       "       [4.44799706e-01, 2.77282524e-02, 4.75548142e-02, 4.79909389e-01,\n",
       "        7.83773234e-06],\n",
       "       [4.55455568e-01, 1.35906640e-02, 4.26851540e-02, 4.88268223e-01,\n",
       "        3.90653511e-07],\n",
       "       [4.66562124e-01, 1.33535369e-06, 3.68803765e-02, 4.96555497e-01,\n",
       "        6.67513109e-07],\n",
       "       [4.88656645e-01, 1.75869035e-08, 8.11348195e-03, 5.03229833e-01,\n",
       "        2.31314137e-08],\n",
       "       [5.48872696e-01, 6.33273638e-08, 9.76761856e-08, 4.51127063e-01,\n",
       "        7.95998993e-08],\n",
       "       [6.24060183e-01, 2.51050748e-08, 4.35589946e-08, 3.75939717e-01,\n",
       "        3.10937376e-08],\n",
       "       [6.99247823e-01, 1.61110675e-09, 3.00943155e-09, 3.00752171e-01,\n",
       "        1.91594178e-09],\n",
       "       [7.74435819e-01, 3.09935962e-09, 6.45461524e-09, 2.25564167e-01,\n",
       "        4.55056218e-09],\n",
       "       [8.49623783e-01, 1.38784908e-09, 3.96470211e-09, 1.50376205e-01,\n",
       "        6.51327333e-09],\n",
       "       [9.24811745e-01, 8.57037576e-10, 3.16855400e-09, 7.51882452e-02,\n",
       "        5.99990787e-09],\n",
       "       [9.99999857e-01, 1.13583087e-08, 2.13387995e-08, 9.51267153e-08,\n",
       "        1.51939979e-08]])"
      ]
     },
     "execution_count": 28,
     "metadata": {},
     "output_type": "execute_result"
    }
   ],
   "source": [
    "model.weights_"
   ]
  },
  {
   "cell_type": "code",
   "execution_count": 27,
   "metadata": {},
   "outputs": [
    {
     "data": {
      "application/vnd.plotly.v1+json": {
       "config": {
        "plotlyServerURL": "https://plot.ly"
       },
       "data": [
        {
         "customdata": [
          [
           "",
           0.13725856756693197,
           1.8201310690719221,
           0.04212427266928711,
           1.3518136436724826
          ],
          [
           "",
           0.1361382643378326,
           1.8590512905544274,
           0.04172130065477928,
           1.3797650392377285
          ],
          [
           "",
           0.13542186527813607,
           1.8973306327016128,
           0.04131782399322979,
           1.4068641467395508
          ],
          [
           "",
           0.13502268487055566,
           1.9348383572876815,
           0.0409134100508047,
           1.4330694950905973
          ],
          [
           "",
           0.13459573917366147,
           1.971545323381073,
           0.04051079643098954,
           1.458343851543758
          ],
          [
           "",
           0.13419334403888156,
           2.0073989601320235,
           0.04010837461795035,
           1.482653657441863
          ],
          [
           "",
           0.13376798400428302,
           2.0424372978676937,
           0.03970504804255493,
           1.5059753388295642
          ],
          [
           "",
           0.13334045434611727,
           2.0765684429201263,
           0.03930158466601367,
           1.5282876665754164
          ],
          [
           "",
           0.13291807860865848,
           2.109738098807507,
           0.03889830629614686,
           1.549575190082862
          ],
          [
           "",
           0.13249320075911247,
           2.1419345644992744,
           0.038494943746186124,
           1.5698287901546286
          ],
          [
           "",
           0.1320681413429417,
           2.1731276204688568,
           0.038091576392184176,
           1.5890441342936652
          ],
          [
           "",
           0.13164473857037723,
           2.20329075255153,
           0.037688256977750814,
           1.6072214835992924
          ],
          [
           "",
           0.13122198913650018,
           2.2324113551027307,
           0.03846553036255046,
           1.624366578921894
          ],
          [
           "",
           0.13081558637162977,
           2.2604313541654584,
           0.03940041521461523,
           1.6404893217770962
          ],
          [
           "",
           0.13037387401773043,
           2.2874217350818187,
           0.040334923549876396,
           1.6556035764728387
          ],
          [
           "",
           0.12995183364237906,
           2.313250447611642,
           0.04125905698981628,
           1.669727113595905
          ],
          [
           "",
           0.12952940040879635,
           2.3379710742241775,
           0.04218950484028115,
           1.6828810517650663
          ],
          [
           "",
           0.1291122961236521,
           2.3615802908519767,
           0.0431241884678212,
           1.6950894265719583
          ],
          [
           "",
           0.1286861088962452,
           2.384147922746532,
           0.04405173609342934,
           1.706378558116416
          ],
          [
           "",
           0.12847842049709335,
           2.40566242098875,
           0.044980265675420794,
           1.7167773737166543
          ],
          [
           "",
           0.12865690918065953,
           2.4262023336977516,
           0.045912929499854725,
           1.7263161478226428
          ],
          [
           "",
           0.12884846922937016,
           2.44571456153345,
           0.046843286614445374,
           1.7350268558123312
          ],
          [
           "",
           0.12903586821867974,
           2.464251790549714,
           0.04777427480928598,
           1.742942322689073
          ],
          [
           "",
           0.12921970525823745,
           2.48183187867897,
           0.04870636071951646,
           1.7500961489352156
          ],
          [
           "",
           0.1294005121372398,
           2.4984738664388098,
           0.04963931271860836,
           1.7565223492546462
          ],
          [
           "",
           0.1296180826860125,
           2.5141280509406743,
           0.05056874745539067,
           1.7622551108141462
          ],
          [
           "",
           0.12977081580680855,
           2.5289756907946686,
           0.051500062601910215,
           1.7673285860865808
          ],
          [
           "",
           0.12996755142116628,
           2.542883209942126,
           0.052428850212787564,
           1.7717765488334898
          ],
          [
           "",
           0.13016166734111417,
           2.5559472988842233,
           0.053359053825314355,
           1.775632341332911
          ],
          [
           "",
           0.13034752265814975,
           2.568192500180069,
           0.05428602095043473,
           1.7789286374143742
          ],
          [
           "",
           0.1305394719497454,
           2.5796793532024336,
           0.05521711823814031,
           1.7816973988029694
          ],
          [
           "",
           0.1307273865710103,
           2.590436789696429,
           0.056145119972318594,
           1.7839696300604166
          ],
          [
           "",
           0.13117100497491796,
           2.6004949381818276,
           0.057073392839274,
           1.7857754161890649
          ],
          [
           "",
           0.13464168352629463,
           2.609883207284904,
           0.058003768120371314,
           1.7871438144724519
          ],
          [
           "",
           0.13811589805026941,
           2.61863168113421,
           0.05894206130991212,
           1.788102839076301
          ],
          [
           "",
           0.1415883657129221,
           2.6267271820651046,
           0.059870425107554505,
           1.788679059262425
          ],
          [
           "",
           0.14506291661456855,
           2.634227387019422,
           0.06081859893594561,
           1.7888982902390225
          ],
          [
           "",
           0.1485408037854684,
           2.641072164597913,
           0.0617425324495655,
           1.788784963173965
          ],
          [
           "",
           0.15193466296292446,
           2.647288932785857,
           0.06266974691622806,
           1.7883619079546427
          ],
          [
           "",
           0.155005970462275,
           2.6527394601193155,
           0.06357123265267342,
           1.7876363181207793
          ],
          [
           "",
           0.15806617936266687,
           2.6576275340020366,
           0.06447449441688564,
           1.786621704577662
          ],
          [
           "",
           0.16115030891742071,
           2.6620516906262366,
           0.06537269388915014,
           1.7853389691550479
          ],
          [
           "",
           0.16483908049001428,
           2.6669554810619682,
           0.0661556201296094,
           1.7833641111905496
          ],
          [
           "",
           0.16901084895822488,
           2.6576717890347794,
           0.06369765387931306,
           1.7753101762072836
          ],
          [
           "",
           0.17337229768012047,
           2.625329718700419,
           0.05996683658507749,
           1.7487820712221185
          ],
          [
           "",
           0.1777337479928931,
           2.576137513788821,
           0.0686077035167224,
           1.7066071752873588
          ],
          [
           "",
           0.18209520506047894,
           2.513921902826892,
           0.07785990173926582,
           1.65309375962754
          ],
          [
           "",
           0.18645666138806521,
           2.4422821238482064,
           0.08711209579826469,
           1.5924316531371416
          ],
          [
           "",
           0.1908181177255434,
           2.365459112278133,
           0.09636428942056811,
           1.5281893088082479
          ],
          [
           "",
           0.1951795776101129,
           2.282267837961784,
           0.10561650276053966,
           1.463114675100414
          ]
         ],
         "hovertemplate": "<b>%{hovertext}</b><br><br>tag=%{customdata[0]}<br>Annualized Variance=%{x:.3f}<br>Annualized Mean=%{y:.3f}<br>MAX Drawdown=%{customdata[1]:.3f}<br>Annualized Sortino Ratio=%{customdata[2]:.3f}<br>Worst Realization=%{customdata[3]:.3f}<br>Annualized Sharpe Ratio=%{marker.color:.3f}<extra></extra>",
         "hovertext": [
          "ptf0 - MeanRisk",
          "ptf1 - MeanRisk",
          "ptf2 - MeanRisk",
          "ptf3 - MeanRisk",
          "ptf4 - MeanRisk",
          "ptf5 - MeanRisk",
          "ptf6 - MeanRisk",
          "ptf7 - MeanRisk",
          "ptf8 - MeanRisk",
          "ptf9 - MeanRisk",
          "ptf10 - MeanRisk",
          "ptf11 - MeanRisk",
          "ptf12 - MeanRisk",
          "ptf13 - MeanRisk",
          "ptf14 - MeanRisk",
          "ptf15 - MeanRisk",
          "ptf16 - MeanRisk",
          "ptf17 - MeanRisk",
          "ptf18 - MeanRisk",
          "ptf19 - MeanRisk",
          "ptf20 - MeanRisk",
          "ptf21 - MeanRisk",
          "ptf22 - MeanRisk",
          "ptf23 - MeanRisk",
          "ptf24 - MeanRisk",
          "ptf25 - MeanRisk",
          "ptf26 - MeanRisk",
          "ptf27 - MeanRisk",
          "ptf28 - MeanRisk",
          "ptf29 - MeanRisk",
          "ptf30 - MeanRisk",
          "ptf31 - MeanRisk",
          "ptf32 - MeanRisk",
          "ptf33 - MeanRisk",
          "ptf34 - MeanRisk",
          "ptf35 - MeanRisk",
          "ptf36 - MeanRisk",
          "ptf37 - MeanRisk",
          "ptf38 - MeanRisk",
          "ptf39 - MeanRisk",
          "ptf40 - MeanRisk",
          "ptf41 - MeanRisk",
          "ptf42 - MeanRisk",
          "ptf43 - MeanRisk",
          "ptf44 - MeanRisk",
          "ptf45 - MeanRisk",
          "ptf46 - MeanRisk",
          "ptf47 - MeanRisk",
          "ptf48 - MeanRisk",
          "ptf49 - MeanRisk"
         ],
         "legendgroup": "",
         "marker": {
          "color": [
           1.3518136436724826,
           1.3797650392377285,
           1.4068641467395508,
           1.4330694950905973,
           1.458343851543758,
           1.482653657441863,
           1.5059753388295642,
           1.5282876665754164,
           1.549575190082862,
           1.5698287901546286,
           1.5890441342936652,
           1.6072214835992924,
           1.624366578921894,
           1.6404893217770962,
           1.6556035764728387,
           1.669727113595905,
           1.6828810517650663,
           1.6950894265719583,
           1.706378558116416,
           1.7167773737166543,
           1.7263161478226428,
           1.7350268558123312,
           1.742942322689073,
           1.7500961489352156,
           1.7565223492546462,
           1.7622551108141462,
           1.7673285860865808,
           1.7717765488334898,
           1.775632341332911,
           1.7789286374143742,
           1.7816973988029694,
           1.7839696300604166,
           1.7857754161890649,
           1.7871438144724519,
           1.788102839076301,
           1.788679059262425,
           1.7888982902390225,
           1.788784963173965,
           1.7883619079546427,
           1.7876363181207793,
           1.786621704577662,
           1.7853389691550479,
           1.7833641111905496,
           1.7753101762072836,
           1.7487820712221185,
           1.7066071752873588,
           1.65309375962754,
           1.5924316531371416,
           1.5281893088082479,
           1.463114675100414
          ],
          "coloraxis": "coloraxis",
          "size": 10,
          "symbol": "circle"
         },
         "mode": "markers",
         "name": "",
         "orientation": "v",
         "showlegend": false,
         "type": "scatter",
         "x": [
          0.03812208469711954,
          0.03816488700364164,
          0.03825238767867579,
          0.038384578899059545,
          0.03856146218580351,
          0.03878303327071694,
          0.039049305178610265,
          0.03936027237237219,
          0.03971592869650483,
          0.04011628029753177,
          0.040561329526807945,
          0.041051066638236836,
          0.04158549873432708,
          0.0421646380086081,
          0.04278845433412669,
          0.04345695983634518,
          0.04417016840137527,
          0.044928084698894664,
          0.04573066777548899,
          0.046577962879674834,
          0.04746993434023392,
          0.048406611044133116,
          0.049387980376318114,
          0.050414042519944156,
          0.05148479947511271,
          0.052600253219302645,
          0.05376039820130895,
          0.05496523322884508,
          0.05621476413638711,
          0.05750899742022991,
          0.05884790963421507,
          0.06023152738838478,
          0.06165983980070631,
          0.06313284135355064,
          0.06465051735877095,
          0.06621290830660513,
          0.06781998498071269,
          0.06947175273121636,
          0.07116826162656535,
          0.0729107211389325,
          0.07469984670104456,
          0.07653572085916964,
          0.07845743212768673,
          0.08095892517101973,
          0.08529700410912504,
          0.0915430131863547,
          0.09969698987621975,
          0.10975890910264054,
          0.12172877303646236,
          0.13560661272332714
         ],
         "xaxis": "x",
         "y": [
          0.2639399598874194,
          0.26954862882991315,
          0.27515755155054306,
          0.28076672860804675,
          0.2863760414646849,
          0.2919850392768645,
          0.29759423613889635,
          0.30320346205086324,
          0.3088126026046432,
          0.31442177725559445,
          0.3200310014232567,
          0.32564015436386173,
          0.33124932543806673,
          0.33685856630290334,
          0.3424677300505012,
          0.34807687381754226,
          0.35368606405769315,
          0.3592953257743946,
          0.3649044476632859,
          0.3705136617271062,
          0.37612278953250533,
          0.38173197634110845,
          0.3873411602939486,
          0.3929503417496494,
          0.39855952511716947,
          0.40416871744299604,
          0.4097779076124742,
          0.41538708221379406,
          0.4209962651818023,
          0.42660547488072786,
          0.432214633067331,
          0.4378238291852098,
          0.44343302664425177,
          0.44904221360564767,
          0.45465136054181343,
          0.4602605526493198,
          0.46586973068764637,
          0.4714789020162289,
          0.4770881061840387,
          0.48269729624951624,
          0.48830645006760803,
          0.49391563387493626,
          0.49952481478471794,
          0.5051340092943706,
          0.5107431857045664,
          0.516352363115021,
          0.5219615467600414,
          0.5275707299443941,
          0.5331799128408146,
          0.5387890990036296
         ],
         "yaxis": "y"
        }
       ],
       "layout": {
        "coloraxis": {
         "colorbar": {
          "title": {
           "text": "Annualized Sharpe Ratio"
          }
         },
         "colorscale": [
          [
           0,
           "#0d0887"
          ],
          [
           0.1111111111111111,
           "#46039f"
          ],
          [
           0.2222222222222222,
           "#7201a8"
          ],
          [
           0.3333333333333333,
           "#9c179e"
          ],
          [
           0.4444444444444444,
           "#bd3786"
          ],
          [
           0.5555555555555556,
           "#d8576b"
          ],
          [
           0.6666666666666666,
           "#ed7953"
          ],
          [
           0.7777777777777778,
           "#fb9f3a"
          ],
          [
           0.8888888888888888,
           "#fdca26"
          ],
          [
           1,
           "#f0f921"
          ]
         ]
        },
        "legend": {
         "title": {
          "text": "tag"
         },
         "tracegroupgap": 0,
         "x": 1.25,
         "xanchor": "left",
         "y": 0.96,
         "yanchor": "top"
        },
        "margin": {
         "t": 60
        },
        "template": {
         "data": {
          "bar": [
           {
            "error_x": {
             "color": "#2a3f5f"
            },
            "error_y": {
             "color": "#2a3f5f"
            },
            "marker": {
             "line": {
              "color": "#E5ECF6",
              "width": 0.5
             },
             "pattern": {
              "fillmode": "overlay",
              "size": 10,
              "solidity": 0.2
             }
            },
            "type": "bar"
           }
          ],
          "barpolar": [
           {
            "marker": {
             "line": {
              "color": "#E5ECF6",
              "width": 0.5
             },
             "pattern": {
              "fillmode": "overlay",
              "size": 10,
              "solidity": 0.2
             }
            },
            "type": "barpolar"
           }
          ],
          "carpet": [
           {
            "aaxis": {
             "endlinecolor": "#2a3f5f",
             "gridcolor": "white",
             "linecolor": "white",
             "minorgridcolor": "white",
             "startlinecolor": "#2a3f5f"
            },
            "baxis": {
             "endlinecolor": "#2a3f5f",
             "gridcolor": "white",
             "linecolor": "white",
             "minorgridcolor": "white",
             "startlinecolor": "#2a3f5f"
            },
            "type": "carpet"
           }
          ],
          "choropleth": [
           {
            "colorbar": {
             "outlinewidth": 0,
             "ticks": ""
            },
            "type": "choropleth"
           }
          ],
          "contour": [
           {
            "colorbar": {
             "outlinewidth": 0,
             "ticks": ""
            },
            "colorscale": [
             [
              0,
              "#0d0887"
             ],
             [
              0.1111111111111111,
              "#46039f"
             ],
             [
              0.2222222222222222,
              "#7201a8"
             ],
             [
              0.3333333333333333,
              "#9c179e"
             ],
             [
              0.4444444444444444,
              "#bd3786"
             ],
             [
              0.5555555555555556,
              "#d8576b"
             ],
             [
              0.6666666666666666,
              "#ed7953"
             ],
             [
              0.7777777777777778,
              "#fb9f3a"
             ],
             [
              0.8888888888888888,
              "#fdca26"
             ],
             [
              1,
              "#f0f921"
             ]
            ],
            "type": "contour"
           }
          ],
          "contourcarpet": [
           {
            "colorbar": {
             "outlinewidth": 0,
             "ticks": ""
            },
            "type": "contourcarpet"
           }
          ],
          "heatmap": [
           {
            "colorbar": {
             "outlinewidth": 0,
             "ticks": ""
            },
            "colorscale": [
             [
              0,
              "#0d0887"
             ],
             [
              0.1111111111111111,
              "#46039f"
             ],
             [
              0.2222222222222222,
              "#7201a8"
             ],
             [
              0.3333333333333333,
              "#9c179e"
             ],
             [
              0.4444444444444444,
              "#bd3786"
             ],
             [
              0.5555555555555556,
              "#d8576b"
             ],
             [
              0.6666666666666666,
              "#ed7953"
             ],
             [
              0.7777777777777778,
              "#fb9f3a"
             ],
             [
              0.8888888888888888,
              "#fdca26"
             ],
             [
              1,
              "#f0f921"
             ]
            ],
            "type": "heatmap"
           }
          ],
          "heatmapgl": [
           {
            "colorbar": {
             "outlinewidth": 0,
             "ticks": ""
            },
            "colorscale": [
             [
              0,
              "#0d0887"
             ],
             [
              0.1111111111111111,
              "#46039f"
             ],
             [
              0.2222222222222222,
              "#7201a8"
             ],
             [
              0.3333333333333333,
              "#9c179e"
             ],
             [
              0.4444444444444444,
              "#bd3786"
             ],
             [
              0.5555555555555556,
              "#d8576b"
             ],
             [
              0.6666666666666666,
              "#ed7953"
             ],
             [
              0.7777777777777778,
              "#fb9f3a"
             ],
             [
              0.8888888888888888,
              "#fdca26"
             ],
             [
              1,
              "#f0f921"
             ]
            ],
            "type": "heatmapgl"
           }
          ],
          "histogram": [
           {
            "marker": {
             "pattern": {
              "fillmode": "overlay",
              "size": 10,
              "solidity": 0.2
             }
            },
            "type": "histogram"
           }
          ],
          "histogram2d": [
           {
            "colorbar": {
             "outlinewidth": 0,
             "ticks": ""
            },
            "colorscale": [
             [
              0,
              "#0d0887"
             ],
             [
              0.1111111111111111,
              "#46039f"
             ],
             [
              0.2222222222222222,
              "#7201a8"
             ],
             [
              0.3333333333333333,
              "#9c179e"
             ],
             [
              0.4444444444444444,
              "#bd3786"
             ],
             [
              0.5555555555555556,
              "#d8576b"
             ],
             [
              0.6666666666666666,
              "#ed7953"
             ],
             [
              0.7777777777777778,
              "#fb9f3a"
             ],
             [
              0.8888888888888888,
              "#fdca26"
             ],
             [
              1,
              "#f0f921"
             ]
            ],
            "type": "histogram2d"
           }
          ],
          "histogram2dcontour": [
           {
            "colorbar": {
             "outlinewidth": 0,
             "ticks": ""
            },
            "colorscale": [
             [
              0,
              "#0d0887"
             ],
             [
              0.1111111111111111,
              "#46039f"
             ],
             [
              0.2222222222222222,
              "#7201a8"
             ],
             [
              0.3333333333333333,
              "#9c179e"
             ],
             [
              0.4444444444444444,
              "#bd3786"
             ],
             [
              0.5555555555555556,
              "#d8576b"
             ],
             [
              0.6666666666666666,
              "#ed7953"
             ],
             [
              0.7777777777777778,
              "#fb9f3a"
             ],
             [
              0.8888888888888888,
              "#fdca26"
             ],
             [
              1,
              "#f0f921"
             ]
            ],
            "type": "histogram2dcontour"
           }
          ],
          "mesh3d": [
           {
            "colorbar": {
             "outlinewidth": 0,
             "ticks": ""
            },
            "type": "mesh3d"
           }
          ],
          "parcoords": [
           {
            "line": {
             "colorbar": {
              "outlinewidth": 0,
              "ticks": ""
             }
            },
            "type": "parcoords"
           }
          ],
          "pie": [
           {
            "automargin": true,
            "type": "pie"
           }
          ],
          "scatter": [
           {
            "fillpattern": {
             "fillmode": "overlay",
             "size": 10,
             "solidity": 0.2
            },
            "type": "scatter"
           }
          ],
          "scatter3d": [
           {
            "line": {
             "colorbar": {
              "outlinewidth": 0,
              "ticks": ""
             }
            },
            "marker": {
             "colorbar": {
              "outlinewidth": 0,
              "ticks": ""
             }
            },
            "type": "scatter3d"
           }
          ],
          "scattercarpet": [
           {
            "marker": {
             "colorbar": {
              "outlinewidth": 0,
              "ticks": ""
             }
            },
            "type": "scattercarpet"
           }
          ],
          "scattergeo": [
           {
            "marker": {
             "colorbar": {
              "outlinewidth": 0,
              "ticks": ""
             }
            },
            "type": "scattergeo"
           }
          ],
          "scattergl": [
           {
            "marker": {
             "colorbar": {
              "outlinewidth": 0,
              "ticks": ""
             }
            },
            "type": "scattergl"
           }
          ],
          "scattermapbox": [
           {
            "marker": {
             "colorbar": {
              "outlinewidth": 0,
              "ticks": ""
             }
            },
            "type": "scattermapbox"
           }
          ],
          "scatterpolar": [
           {
            "marker": {
             "colorbar": {
              "outlinewidth": 0,
              "ticks": ""
             }
            },
            "type": "scatterpolar"
           }
          ],
          "scatterpolargl": [
           {
            "marker": {
             "colorbar": {
              "outlinewidth": 0,
              "ticks": ""
             }
            },
            "type": "scatterpolargl"
           }
          ],
          "scatterternary": [
           {
            "marker": {
             "colorbar": {
              "outlinewidth": 0,
              "ticks": ""
             }
            },
            "type": "scatterternary"
           }
          ],
          "surface": [
           {
            "colorbar": {
             "outlinewidth": 0,
             "ticks": ""
            },
            "colorscale": [
             [
              0,
              "#0d0887"
             ],
             [
              0.1111111111111111,
              "#46039f"
             ],
             [
              0.2222222222222222,
              "#7201a8"
             ],
             [
              0.3333333333333333,
              "#9c179e"
             ],
             [
              0.4444444444444444,
              "#bd3786"
             ],
             [
              0.5555555555555556,
              "#d8576b"
             ],
             [
              0.6666666666666666,
              "#ed7953"
             ],
             [
              0.7777777777777778,
              "#fb9f3a"
             ],
             [
              0.8888888888888888,
              "#fdca26"
             ],
             [
              1,
              "#f0f921"
             ]
            ],
            "type": "surface"
           }
          ],
          "table": [
           {
            "cells": {
             "fill": {
              "color": "#EBF0F8"
             },
             "line": {
              "color": "white"
             }
            },
            "header": {
             "fill": {
              "color": "#C8D4E3"
             },
             "line": {
              "color": "white"
             }
            },
            "type": "table"
           }
          ]
         },
         "layout": {
          "annotationdefaults": {
           "arrowcolor": "#2a3f5f",
           "arrowhead": 0,
           "arrowwidth": 1
          },
          "autotypenumbers": "strict",
          "coloraxis": {
           "colorbar": {
            "outlinewidth": 0,
            "ticks": ""
           }
          },
          "colorscale": {
           "diverging": [
            [
             0,
             "#8e0152"
            ],
            [
             0.1,
             "#c51b7d"
            ],
            [
             0.2,
             "#de77ae"
            ],
            [
             0.3,
             "#f1b6da"
            ],
            [
             0.4,
             "#fde0ef"
            ],
            [
             0.5,
             "#f7f7f7"
            ],
            [
             0.6,
             "#e6f5d0"
            ],
            [
             0.7,
             "#b8e186"
            ],
            [
             0.8,
             "#7fbc41"
            ],
            [
             0.9,
             "#4d9221"
            ],
            [
             1,
             "#276419"
            ]
           ],
           "sequential": [
            [
             0,
             "#0d0887"
            ],
            [
             0.1111111111111111,
             "#46039f"
            ],
            [
             0.2222222222222222,
             "#7201a8"
            ],
            [
             0.3333333333333333,
             "#9c179e"
            ],
            [
             0.4444444444444444,
             "#bd3786"
            ],
            [
             0.5555555555555556,
             "#d8576b"
            ],
            [
             0.6666666666666666,
             "#ed7953"
            ],
            [
             0.7777777777777778,
             "#fb9f3a"
            ],
            [
             0.8888888888888888,
             "#fdca26"
            ],
            [
             1,
             "#f0f921"
            ]
           ],
           "sequentialminus": [
            [
             0,
             "#0d0887"
            ],
            [
             0.1111111111111111,
             "#46039f"
            ],
            [
             0.2222222222222222,
             "#7201a8"
            ],
            [
             0.3333333333333333,
             "#9c179e"
            ],
            [
             0.4444444444444444,
             "#bd3786"
            ],
            [
             0.5555555555555556,
             "#d8576b"
            ],
            [
             0.6666666666666666,
             "#ed7953"
            ],
            [
             0.7777777777777778,
             "#fb9f3a"
            ],
            [
             0.8888888888888888,
             "#fdca26"
            ],
            [
             1,
             "#f0f921"
            ]
           ]
          },
          "colorway": [
           "#636efa",
           "#EF553B",
           "#00cc96",
           "#ab63fa",
           "#FFA15A",
           "#19d3f3",
           "#FF6692",
           "#B6E880",
           "#FF97FF",
           "#FECB52"
          ],
          "font": {
           "color": "#2a3f5f"
          },
          "geo": {
           "bgcolor": "white",
           "lakecolor": "white",
           "landcolor": "#E5ECF6",
           "showlakes": true,
           "showland": true,
           "subunitcolor": "white"
          },
          "hoverlabel": {
           "align": "left"
          },
          "hovermode": "closest",
          "mapbox": {
           "style": "light"
          },
          "paper_bgcolor": "white",
          "plot_bgcolor": "#E5ECF6",
          "polar": {
           "angularaxis": {
            "gridcolor": "white",
            "linecolor": "white",
            "ticks": ""
           },
           "bgcolor": "#E5ECF6",
           "radialaxis": {
            "gridcolor": "white",
            "linecolor": "white",
            "ticks": ""
           }
          },
          "scene": {
           "xaxis": {
            "backgroundcolor": "#E5ECF6",
            "gridcolor": "white",
            "gridwidth": 2,
            "linecolor": "white",
            "showbackground": true,
            "ticks": "",
            "zerolinecolor": "white"
           },
           "yaxis": {
            "backgroundcolor": "#E5ECF6",
            "gridcolor": "white",
            "gridwidth": 2,
            "linecolor": "white",
            "showbackground": true,
            "ticks": "",
            "zerolinecolor": "white"
           },
           "zaxis": {
            "backgroundcolor": "#E5ECF6",
            "gridcolor": "white",
            "gridwidth": 2,
            "linecolor": "white",
            "showbackground": true,
            "ticks": "",
            "zerolinecolor": "white"
           }
          },
          "shapedefaults": {
           "line": {
            "color": "#2a3f5f"
           }
          },
          "ternary": {
           "aaxis": {
            "gridcolor": "white",
            "linecolor": "white",
            "ticks": ""
           },
           "baxis": {
            "gridcolor": "white",
            "linecolor": "white",
            "ticks": ""
           },
           "bgcolor": "#E5ECF6",
           "caxis": {
            "gridcolor": "white",
            "linecolor": "white",
            "ticks": ""
           }
          },
          "title": {
           "x": 0.05
          },
          "xaxis": {
           "automargin": true,
           "gridcolor": "white",
           "linecolor": "white",
           "ticks": "",
           "title": {
            "standoff": 15
           },
           "zerolinecolor": "white",
           "zerolinewidth": 2
          },
          "yaxis": {
           "automargin": true,
           "gridcolor": "white",
           "linecolor": "white",
           "ticks": "",
           "title": {
            "standoff": 15
           },
           "zerolinecolor": "white",
           "zerolinewidth": 2
          }
         }
        },
        "title": {
         "text": "Portfolios"
        },
        "xaxis": {
         "anchor": "y",
         "domain": [
          0,
          1
         ],
         "tickformat": ",.1%",
         "title": {
          "text": "Annualized Variance"
         }
        },
        "yaxis": {
         "anchor": "x",
         "domain": [
          0,
          1
         ],
         "tickformat": ",.1%",
         "title": {
          "text": "Annualized Mean"
         }
        }
       }
      }
     },
     "metadata": {},
     "output_type": "display_data"
    }
   ],
   "source": [
    "fig = efficient_frontier.plot_measures(\n",
    "    x=RiskMeasure.ANNUALIZED_VARIANCE,\n",
    "    y=PerfMeasure.ANNUALIZED_MEAN,\n",
    "    color_scale=RatioMeasure.ANNUALIZED_SHARPE_RATIO,\n",
    "    hover_measures=[\n",
    "        RiskMeasure.MAX_DRAWDOWN, \n",
    "        RatioMeasure.ANNUALIZED_SORTINO_RATIO, \n",
    "        RiskMeasure.WORST_REALIZATION],\n",
    "    ]\n",
    ")\n",
    "show(fig)\n"
   ]
  },
  {
   "cell_type": "code",
   "execution_count": 24,
   "metadata": {},
   "outputs": [
    {
     "data": {
      "application/vnd.plotly.v1+json": {
       "config": {
        "plotlyServerURL": "https://plot.ly"
       },
       "data": [
        {
         "alignmentgroup": "True",
         "hovertemplate": "asset=AAPL<br>index=%{x}<br>value=%{y}<extra></extra>",
         "legendgroup": "AAPL",
         "marker": {
          "color": "#636efa",
          "pattern": {
           "shape": ""
          }
         },
         "name": "AAPL",
         "offsetgroup": "AAPL",
         "orientation": "v",
         "showlegend": true,
         "textposition": "auto",
         "type": "bar",
         "x": [
          "ptf0 - MeanRisk",
          "ptf1 - MeanRisk",
          "ptf2 - MeanRisk",
          "ptf3 - MeanRisk",
          "ptf4 - MeanRisk",
          "ptf5 - MeanRisk",
          "ptf6 - MeanRisk",
          "ptf7 - MeanRisk",
          "ptf8 - MeanRisk",
          "ptf9 - MeanRisk",
          "ptf10 - MeanRisk",
          "ptf11 - MeanRisk",
          "ptf12 - MeanRisk",
          "ptf13 - MeanRisk",
          "ptf14 - MeanRisk",
          "ptf15 - MeanRisk",
          "ptf16 - MeanRisk",
          "ptf17 - MeanRisk",
          "ptf18 - MeanRisk",
          "ptf19 - MeanRisk",
          "ptf20 - MeanRisk",
          "ptf21 - MeanRisk",
          "ptf22 - MeanRisk",
          "ptf23 - MeanRisk",
          "ptf24 - MeanRisk",
          "ptf25 - MeanRisk",
          "ptf26 - MeanRisk",
          "ptf27 - MeanRisk",
          "ptf28 - MeanRisk",
          "ptf29 - MeanRisk",
          "ptf30 - MeanRisk",
          "ptf31 - MeanRisk",
          "ptf32 - MeanRisk",
          "ptf33 - MeanRisk",
          "ptf34 - MeanRisk",
          "ptf35 - MeanRisk",
          "ptf36 - MeanRisk",
          "ptf37 - MeanRisk",
          "ptf38 - MeanRisk",
          "ptf39 - MeanRisk",
          "ptf40 - MeanRisk",
          "ptf41 - MeanRisk",
          "ptf42 - MeanRisk",
          "ptf43 - MeanRisk",
          "ptf44 - MeanRisk",
          "ptf45 - MeanRisk",
          "ptf46 - MeanRisk",
          "ptf47 - MeanRisk",
          "ptf48 - MeanRisk",
          "ptf49 - MeanRisk"
         ],
         "xaxis": "x",
         "y": [
          0.4900630095248402,
          0.4783038834521012,
          0.46676461362784305,
          0.4548556526663671,
          0.4430767863028501,
          0.43112180776344516,
          0.4193496221601304,
          0.40759523727260244,
          0.39579959833851186,
          0.38402470041697423,
          0.3722521643352078,
          0.36046534970068134,
          0.3486711874798776,
          0.3366829829056148,
          0.325040442642387,
          0.3133055498297671,
          0.30151626653591507,
          0.2896059313111555,
          0.2778985017997627,
          0.26605088585919856,
          0.25435594374515813,
          0.2425510970511186,
          0.23078081349548366,
          0.21904427503562446,
          0.20734249548729292,
          0.1953353821942275,
          0.18383863290483238,
          0.1720006384828283,
          0.16018205569785124,
          0.14841896465928908,
          0.1366114577838251,
          0.1248291688604055,
          0.11304241258608376,
          0.10124803134595128,
          0.08943332310646031,
          0.07764375258129247,
          0.06579626114915256,
          0.05406025538018486,
          0.04181552880963781,
          0.02772825236312027,
          0.013590664022263794,
          0,
          0,
          0,
          0,
          0,
          0,
          0,
          0,
          0
         ],
         "yaxis": "y"
        },
        {
         "alignmentgroup": "True",
         "hovertemplate": "asset=GOOGL<br>index=%{x}<br>value=%{y}<extra></extra>",
         "legendgroup": "GOOGL",
         "marker": {
          "color": "#EF553B",
          "pattern": {
           "shape": ""
          }
         },
         "name": "GOOGL",
         "offsetgroup": "GOOGL",
         "orientation": "v",
         "showlegend": true,
         "textposition": "auto",
         "type": "bar",
         "x": [
          "ptf0 - MeanRisk",
          "ptf1 - MeanRisk",
          "ptf2 - MeanRisk",
          "ptf3 - MeanRisk",
          "ptf4 - MeanRisk",
          "ptf5 - MeanRisk",
          "ptf6 - MeanRisk",
          "ptf7 - MeanRisk",
          "ptf8 - MeanRisk",
          "ptf9 - MeanRisk",
          "ptf10 - MeanRisk",
          "ptf11 - MeanRisk",
          "ptf12 - MeanRisk",
          "ptf13 - MeanRisk",
          "ptf14 - MeanRisk",
          "ptf15 - MeanRisk",
          "ptf16 - MeanRisk",
          "ptf17 - MeanRisk",
          "ptf18 - MeanRisk",
          "ptf19 - MeanRisk",
          "ptf20 - MeanRisk",
          "ptf21 - MeanRisk",
          "ptf22 - MeanRisk",
          "ptf23 - MeanRisk",
          "ptf24 - MeanRisk",
          "ptf25 - MeanRisk",
          "ptf26 - MeanRisk",
          "ptf27 - MeanRisk",
          "ptf28 - MeanRisk",
          "ptf29 - MeanRisk",
          "ptf30 - MeanRisk",
          "ptf31 - MeanRisk",
          "ptf32 - MeanRisk",
          "ptf33 - MeanRisk",
          "ptf34 - MeanRisk",
          "ptf35 - MeanRisk",
          "ptf36 - MeanRisk",
          "ptf37 - MeanRisk",
          "ptf38 - MeanRisk",
          "ptf39 - MeanRisk",
          "ptf40 - MeanRisk",
          "ptf41 - MeanRisk",
          "ptf42 - MeanRisk",
          "ptf43 - MeanRisk",
          "ptf44 - MeanRisk",
          "ptf45 - MeanRisk",
          "ptf46 - MeanRisk",
          "ptf47 - MeanRisk",
          "ptf48 - MeanRisk",
          "ptf49 - MeanRisk"
         ],
         "xaxis": "x",
         "y": [
          0.16682446671455511,
          0.16244140052286457,
          0.15799045084161098,
          0.15344548952873296,
          0.1491154147502598,
          0.14486525065940753,
          0.14044962581395995,
          0.13601391645735447,
          0.13161506785840693,
          0.12719674018719812,
          0.12277457859805099,
          0.11836652010799657,
          0.11396709194447611,
          0.10980112074758859,
          0.10527224094660345,
          0.10075518643959129,
          0.09634370328164658,
          0.09213487511457495,
          0.08758879237629097,
          0.08324728346201353,
          0.07873682720937257,
          0.07435945753183004,
          0.06994108214573036,
          0.06547442270865488,
          0.06094960330557948,
          0.056782090763785764,
          0.052074853820694135,
          0.04772246374227583,
          0.043348419761485464,
          0.038940980988742456,
          0.034564054897804515,
          0.03017969883536114,
          0.025801054450048745,
          0.02143444291447902,
          0.016989584165228215,
          0.012605186327589026,
          0.00811571963198522,
          0.0036971127976663564,
          0.00013546228564689759,
          0,
          0,
          0,
          0,
          0,
          0,
          0,
          0,
          0,
          0,
          0
         ],
         "yaxis": "y"
        },
        {
         "alignmentgroup": "True",
         "hovertemplate": "asset=AMZN<br>index=%{x}<br>value=%{y}<extra></extra>",
         "legendgroup": "AMZN",
         "marker": {
          "color": "#00cc96",
          "pattern": {
           "shape": ""
          }
         },
         "name": "AMZN",
         "offsetgroup": "AMZN",
         "orientation": "v",
         "showlegend": true,
         "textposition": "auto",
         "type": "bar",
         "x": [
          "ptf0 - MeanRisk",
          "ptf1 - MeanRisk",
          "ptf2 - MeanRisk",
          "ptf3 - MeanRisk",
          "ptf4 - MeanRisk",
          "ptf5 - MeanRisk",
          "ptf6 - MeanRisk",
          "ptf7 - MeanRisk",
          "ptf8 - MeanRisk",
          "ptf9 - MeanRisk",
          "ptf10 - MeanRisk",
          "ptf11 - MeanRisk",
          "ptf12 - MeanRisk",
          "ptf13 - MeanRisk",
          "ptf14 - MeanRisk",
          "ptf15 - MeanRisk",
          "ptf16 - MeanRisk",
          "ptf17 - MeanRisk",
          "ptf18 - MeanRisk",
          "ptf19 - MeanRisk",
          "ptf20 - MeanRisk",
          "ptf21 - MeanRisk",
          "ptf22 - MeanRisk",
          "ptf23 - MeanRisk",
          "ptf24 - MeanRisk",
          "ptf25 - MeanRisk",
          "ptf26 - MeanRisk",
          "ptf27 - MeanRisk",
          "ptf28 - MeanRisk",
          "ptf29 - MeanRisk",
          "ptf30 - MeanRisk",
          "ptf31 - MeanRisk",
          "ptf32 - MeanRisk",
          "ptf33 - MeanRisk",
          "ptf34 - MeanRisk",
          "ptf35 - MeanRisk",
          "ptf36 - MeanRisk",
          "ptf37 - MeanRisk",
          "ptf38 - MeanRisk",
          "ptf39 - MeanRisk",
          "ptf40 - MeanRisk",
          "ptf41 - MeanRisk",
          "ptf42 - MeanRisk",
          "ptf43 - MeanRisk",
          "ptf44 - MeanRisk",
          "ptf45 - MeanRisk",
          "ptf46 - MeanRisk",
          "ptf47 - MeanRisk",
          "ptf48 - MeanRisk",
          "ptf49 - MeanRisk"
         ],
         "xaxis": "x",
         "y": [
          0.16088757051880506,
          0.15799025307595818,
          0.15481973611620375,
          0.1522677954577434,
          0.14935365351973845,
          0.1466147671723616,
          0.14375745693725023,
          0.1408908379299288,
          0.1380505001239136,
          0.13519862683660644,
          0.13234769084205444,
          0.1295033036888632,
          0.12665884536471614,
          0.12379516298951829,
          0.12085117039874567,
          0.11811751986042314,
          0.11528706782884018,
          0.11235015852591099,
          0.10958852099707983,
          0.10677170086080821,
          0.10390461944399898,
          0.10105304055673364,
          0.0981959068133238,
          0.09534209441514144,
          0.09250543883377457,
          0.08971188597681322,
          0.08678934068063998,
          0.0839698486347583,
          0.08113845724403769,
          0.07827863464542192,
          0.07542646346231362,
          0.07256052312384657,
          0.06969245899738552,
          0.06680710175499967,
          0.06401897689738811,
          0.06116350514561437,
          0.05843334137114158,
          0.055561775914039706,
          0.05232891598968501,
          0.04755481421946794,
          0.0426851539698775,
          0.03688037653705387,
          0.008113481949511609,
          0,
          0,
          0,
          0,
          0,
          0,
          0
         ],
         "yaxis": "y"
        },
        {
         "alignmentgroup": "True",
         "hovertemplate": "asset=NFLX<br>index=%{x}<br>value=%{y}<extra></extra>",
         "legendgroup": "NFLX",
         "marker": {
          "color": "#ab63fa",
          "pattern": {
           "shape": ""
          }
         },
         "name": "NFLX",
         "offsetgroup": "NFLX",
         "orientation": "v",
         "showlegend": true,
         "textposition": "auto",
         "type": "bar",
         "x": [
          "ptf0 - MeanRisk",
          "ptf1 - MeanRisk",
          "ptf2 - MeanRisk",
          "ptf3 - MeanRisk",
          "ptf4 - MeanRisk",
          "ptf5 - MeanRisk",
          "ptf6 - MeanRisk",
          "ptf7 - MeanRisk",
          "ptf8 - MeanRisk",
          "ptf9 - MeanRisk",
          "ptf10 - MeanRisk",
          "ptf11 - MeanRisk",
          "ptf12 - MeanRisk",
          "ptf13 - MeanRisk",
          "ptf14 - MeanRisk",
          "ptf15 - MeanRisk",
          "ptf16 - MeanRisk",
          "ptf17 - MeanRisk",
          "ptf18 - MeanRisk",
          "ptf19 - MeanRisk",
          "ptf20 - MeanRisk",
          "ptf21 - MeanRisk",
          "ptf22 - MeanRisk",
          "ptf23 - MeanRisk",
          "ptf24 - MeanRisk",
          "ptf25 - MeanRisk",
          "ptf26 - MeanRisk",
          "ptf27 - MeanRisk",
          "ptf28 - MeanRisk",
          "ptf29 - MeanRisk",
          "ptf30 - MeanRisk",
          "ptf31 - MeanRisk",
          "ptf32 - MeanRisk",
          "ptf33 - MeanRisk",
          "ptf34 - MeanRisk",
          "ptf35 - MeanRisk",
          "ptf36 - MeanRisk",
          "ptf37 - MeanRisk",
          "ptf38 - MeanRisk",
          "ptf39 - MeanRisk",
          "ptf40 - MeanRisk",
          "ptf41 - MeanRisk",
          "ptf42 - MeanRisk",
          "ptf43 - MeanRisk",
          "ptf44 - MeanRisk",
          "ptf45 - MeanRisk",
          "ptf46 - MeanRisk",
          "ptf47 - MeanRisk",
          "ptf48 - MeanRisk",
          "ptf49 - MeanRisk"
         ],
         "xaxis": "x",
         "y": [
          0.1536327639316745,
          0.16192673637458593,
          0.17017913469507268,
          0.1788604705442484,
          0.1870819191377307,
          0.1953614668581701,
          0.20372730772437136,
          0.21211076217355979,
          0.22047845106337202,
          0.22885314562467562,
          0.23722799529552846,
          0.2455998894451338,
          0.2539739036223678,
          0.26243689298434264,
          0.2708577654755356,
          0.27908880632210004,
          0.2874462225977315,
          0.2959026577621905,
          0.3041928106187447,
          0.31252252148042226,
          0.3209105610788913,
          0.32927025846427666,
          0.33763724802518846,
          0.3460190099022138,
          0.3544100791362125,
          0.3627734228335413,
          0.37111810686563057,
          0.379451463039791,
          0.3878083343632181,
          0.3961040485270534,
          0.40447717275777206,
          0.4127940180563123,
          0.42111637008096414,
          0.4294781741926809,
          0.4379726659177716,
          0.44629582151149283,
          0.4549624709847787,
          0.46320270788074636,
          0.47159679006953203,
          0.47990938935273164,
          0.4882682233886242,
          0.4965554969707846,
          0.5032298326729743,
          0.4511270632028895,
          0.3759397174872118,
          0.30075217094339984,
          0.225564167061378,
          0.15037620465909293,
          0.07518824524605669,
          0
         ],
         "yaxis": "y"
        },
        {
         "alignmentgroup": "True",
         "hovertemplate": "asset=META<br>index=%{x}<br>value=%{y}<extra></extra>",
         "legendgroup": "META",
         "marker": {
          "color": "#FFA15A",
          "pattern": {
           "shape": ""
          }
         },
         "name": "META",
         "offsetgroup": "META",
         "orientation": "v",
         "showlegend": true,
         "textposition": "auto",
         "type": "bar",
         "x": [
          "ptf0 - MeanRisk",
          "ptf1 - MeanRisk",
          "ptf2 - MeanRisk",
          "ptf3 - MeanRisk",
          "ptf4 - MeanRisk",
          "ptf5 - MeanRisk",
          "ptf6 - MeanRisk",
          "ptf7 - MeanRisk",
          "ptf8 - MeanRisk",
          "ptf9 - MeanRisk",
          "ptf10 - MeanRisk",
          "ptf11 - MeanRisk",
          "ptf12 - MeanRisk",
          "ptf13 - MeanRisk",
          "ptf14 - MeanRisk",
          "ptf15 - MeanRisk",
          "ptf16 - MeanRisk",
          "ptf17 - MeanRisk",
          "ptf18 - MeanRisk",
          "ptf19 - MeanRisk",
          "ptf20 - MeanRisk",
          "ptf21 - MeanRisk",
          "ptf22 - MeanRisk",
          "ptf23 - MeanRisk",
          "ptf24 - MeanRisk",
          "ptf25 - MeanRisk",
          "ptf26 - MeanRisk",
          "ptf27 - MeanRisk",
          "ptf28 - MeanRisk",
          "ptf29 - MeanRisk",
          "ptf30 - MeanRisk",
          "ptf31 - MeanRisk",
          "ptf32 - MeanRisk",
          "ptf33 - MeanRisk",
          "ptf34 - MeanRisk",
          "ptf35 - MeanRisk",
          "ptf36 - MeanRisk",
          "ptf37 - MeanRisk",
          "ptf38 - MeanRisk",
          "ptf39 - MeanRisk",
          "ptf40 - MeanRisk",
          "ptf41 - MeanRisk",
          "ptf42 - MeanRisk",
          "ptf43 - MeanRisk",
          "ptf44 - MeanRisk",
          "ptf45 - MeanRisk",
          "ptf46 - MeanRisk",
          "ptf47 - MeanRisk",
          "ptf48 - MeanRisk",
          "ptf49 - MeanRisk"
         ],
         "xaxis": "x",
         "y": [
          0.02859218931012513,
          0.03933772657449011,
          0.05024606471926959,
          0.060570591802908365,
          0.07137222628942093,
          0.08203670754661566,
          0.09271598736428795,
          0.10338924616655461,
          0.11405638261579552,
          0.12472678693453919,
          0.1353975709291583,
          0.14606493705732504,
          0.15672897158856228,
          0.16728384037293573,
          0.17797838053672815,
          0.18873293754811854,
          0.19940673975586654,
          0.2100063772861681,
          0.22073137420812175,
          0.23140760833755736,
          0.24209204852257912,
          0.2527661463960409,
          0.2634449495202736,
          0.27412019793836173,
          0.28479238323714057,
          0.29539721823163223,
          0.30617906572820297,
          0.3168555861003467,
          0.32752273293340756,
          0.33825737117949334,
          0.34892085109828463,
          0.3596365911240744,
          0.3703477038855178,
          0.3810322497918894,
          0.3915854499131517,
          0.40229173443401134,
          0.41269220686294195,
          0.42347814802736256,
          0.4341233028454983,
          0.4447997063323371,
          0.45545556796572323,
          0.4665621236253646,
          0.48865664465919717,
          0.5488726961937214,
          0.6240601827549874,
          0.6992478225201116,
          0.7744358188340849,
          0.8496237834751216,
          0.9248117447284654,
          0.9999998569401277
         ],
         "yaxis": "y"
        }
       ],
       "layout": {
        "barmode": "relative",
        "legend": {
         "title": {
          "text": "asset"
         },
         "tracegroupgap": 0,
         "x": 1.15,
         "xanchor": "left",
         "y": 0.99,
         "yanchor": "top"
        },
        "margin": {
         "t": 60
        },
        "template": {
         "data": {
          "bar": [
           {
            "error_x": {
             "color": "#2a3f5f"
            },
            "error_y": {
             "color": "#2a3f5f"
            },
            "marker": {
             "line": {
              "color": "#E5ECF6",
              "width": 0.5
             },
             "pattern": {
              "fillmode": "overlay",
              "size": 10,
              "solidity": 0.2
             }
            },
            "type": "bar"
           }
          ],
          "barpolar": [
           {
            "marker": {
             "line": {
              "color": "#E5ECF6",
              "width": 0.5
             },
             "pattern": {
              "fillmode": "overlay",
              "size": 10,
              "solidity": 0.2
             }
            },
            "type": "barpolar"
           }
          ],
          "carpet": [
           {
            "aaxis": {
             "endlinecolor": "#2a3f5f",
             "gridcolor": "white",
             "linecolor": "white",
             "minorgridcolor": "white",
             "startlinecolor": "#2a3f5f"
            },
            "baxis": {
             "endlinecolor": "#2a3f5f",
             "gridcolor": "white",
             "linecolor": "white",
             "minorgridcolor": "white",
             "startlinecolor": "#2a3f5f"
            },
            "type": "carpet"
           }
          ],
          "choropleth": [
           {
            "colorbar": {
             "outlinewidth": 0,
             "ticks": ""
            },
            "type": "choropleth"
           }
          ],
          "contour": [
           {
            "colorbar": {
             "outlinewidth": 0,
             "ticks": ""
            },
            "colorscale": [
             [
              0,
              "#0d0887"
             ],
             [
              0.1111111111111111,
              "#46039f"
             ],
             [
              0.2222222222222222,
              "#7201a8"
             ],
             [
              0.3333333333333333,
              "#9c179e"
             ],
             [
              0.4444444444444444,
              "#bd3786"
             ],
             [
              0.5555555555555556,
              "#d8576b"
             ],
             [
              0.6666666666666666,
              "#ed7953"
             ],
             [
              0.7777777777777778,
              "#fb9f3a"
             ],
             [
              0.8888888888888888,
              "#fdca26"
             ],
             [
              1,
              "#f0f921"
             ]
            ],
            "type": "contour"
           }
          ],
          "contourcarpet": [
           {
            "colorbar": {
             "outlinewidth": 0,
             "ticks": ""
            },
            "type": "contourcarpet"
           }
          ],
          "heatmap": [
           {
            "colorbar": {
             "outlinewidth": 0,
             "ticks": ""
            },
            "colorscale": [
             [
              0,
              "#0d0887"
             ],
             [
              0.1111111111111111,
              "#46039f"
             ],
             [
              0.2222222222222222,
              "#7201a8"
             ],
             [
              0.3333333333333333,
              "#9c179e"
             ],
             [
              0.4444444444444444,
              "#bd3786"
             ],
             [
              0.5555555555555556,
              "#d8576b"
             ],
             [
              0.6666666666666666,
              "#ed7953"
             ],
             [
              0.7777777777777778,
              "#fb9f3a"
             ],
             [
              0.8888888888888888,
              "#fdca26"
             ],
             [
              1,
              "#f0f921"
             ]
            ],
            "type": "heatmap"
           }
          ],
          "heatmapgl": [
           {
            "colorbar": {
             "outlinewidth": 0,
             "ticks": ""
            },
            "colorscale": [
             [
              0,
              "#0d0887"
             ],
             [
              0.1111111111111111,
              "#46039f"
             ],
             [
              0.2222222222222222,
              "#7201a8"
             ],
             [
              0.3333333333333333,
              "#9c179e"
             ],
             [
              0.4444444444444444,
              "#bd3786"
             ],
             [
              0.5555555555555556,
              "#d8576b"
             ],
             [
              0.6666666666666666,
              "#ed7953"
             ],
             [
              0.7777777777777778,
              "#fb9f3a"
             ],
             [
              0.8888888888888888,
              "#fdca26"
             ],
             [
              1,
              "#f0f921"
             ]
            ],
            "type": "heatmapgl"
           }
          ],
          "histogram": [
           {
            "marker": {
             "pattern": {
              "fillmode": "overlay",
              "size": 10,
              "solidity": 0.2
             }
            },
            "type": "histogram"
           }
          ],
          "histogram2d": [
           {
            "colorbar": {
             "outlinewidth": 0,
             "ticks": ""
            },
            "colorscale": [
             [
              0,
              "#0d0887"
             ],
             [
              0.1111111111111111,
              "#46039f"
             ],
             [
              0.2222222222222222,
              "#7201a8"
             ],
             [
              0.3333333333333333,
              "#9c179e"
             ],
             [
              0.4444444444444444,
              "#bd3786"
             ],
             [
              0.5555555555555556,
              "#d8576b"
             ],
             [
              0.6666666666666666,
              "#ed7953"
             ],
             [
              0.7777777777777778,
              "#fb9f3a"
             ],
             [
              0.8888888888888888,
              "#fdca26"
             ],
             [
              1,
              "#f0f921"
             ]
            ],
            "type": "histogram2d"
           }
          ],
          "histogram2dcontour": [
           {
            "colorbar": {
             "outlinewidth": 0,
             "ticks": ""
            },
            "colorscale": [
             [
              0,
              "#0d0887"
             ],
             [
              0.1111111111111111,
              "#46039f"
             ],
             [
              0.2222222222222222,
              "#7201a8"
             ],
             [
              0.3333333333333333,
              "#9c179e"
             ],
             [
              0.4444444444444444,
              "#bd3786"
             ],
             [
              0.5555555555555556,
              "#d8576b"
             ],
             [
              0.6666666666666666,
              "#ed7953"
             ],
             [
              0.7777777777777778,
              "#fb9f3a"
             ],
             [
              0.8888888888888888,
              "#fdca26"
             ],
             [
              1,
              "#f0f921"
             ]
            ],
            "type": "histogram2dcontour"
           }
          ],
          "mesh3d": [
           {
            "colorbar": {
             "outlinewidth": 0,
             "ticks": ""
            },
            "type": "mesh3d"
           }
          ],
          "parcoords": [
           {
            "line": {
             "colorbar": {
              "outlinewidth": 0,
              "ticks": ""
             }
            },
            "type": "parcoords"
           }
          ],
          "pie": [
           {
            "automargin": true,
            "type": "pie"
           }
          ],
          "scatter": [
           {
            "fillpattern": {
             "fillmode": "overlay",
             "size": 10,
             "solidity": 0.2
            },
            "type": "scatter"
           }
          ],
          "scatter3d": [
           {
            "line": {
             "colorbar": {
              "outlinewidth": 0,
              "ticks": ""
             }
            },
            "marker": {
             "colorbar": {
              "outlinewidth": 0,
              "ticks": ""
             }
            },
            "type": "scatter3d"
           }
          ],
          "scattercarpet": [
           {
            "marker": {
             "colorbar": {
              "outlinewidth": 0,
              "ticks": ""
             }
            },
            "type": "scattercarpet"
           }
          ],
          "scattergeo": [
           {
            "marker": {
             "colorbar": {
              "outlinewidth": 0,
              "ticks": ""
             }
            },
            "type": "scattergeo"
           }
          ],
          "scattergl": [
           {
            "marker": {
             "colorbar": {
              "outlinewidth": 0,
              "ticks": ""
             }
            },
            "type": "scattergl"
           }
          ],
          "scattermapbox": [
           {
            "marker": {
             "colorbar": {
              "outlinewidth": 0,
              "ticks": ""
             }
            },
            "type": "scattermapbox"
           }
          ],
          "scatterpolar": [
           {
            "marker": {
             "colorbar": {
              "outlinewidth": 0,
              "ticks": ""
             }
            },
            "type": "scatterpolar"
           }
          ],
          "scatterpolargl": [
           {
            "marker": {
             "colorbar": {
              "outlinewidth": 0,
              "ticks": ""
             }
            },
            "type": "scatterpolargl"
           }
          ],
          "scatterternary": [
           {
            "marker": {
             "colorbar": {
              "outlinewidth": 0,
              "ticks": ""
             }
            },
            "type": "scatterternary"
           }
          ],
          "surface": [
           {
            "colorbar": {
             "outlinewidth": 0,
             "ticks": ""
            },
            "colorscale": [
             [
              0,
              "#0d0887"
             ],
             [
              0.1111111111111111,
              "#46039f"
             ],
             [
              0.2222222222222222,
              "#7201a8"
             ],
             [
              0.3333333333333333,
              "#9c179e"
             ],
             [
              0.4444444444444444,
              "#bd3786"
             ],
             [
              0.5555555555555556,
              "#d8576b"
             ],
             [
              0.6666666666666666,
              "#ed7953"
             ],
             [
              0.7777777777777778,
              "#fb9f3a"
             ],
             [
              0.8888888888888888,
              "#fdca26"
             ],
             [
              1,
              "#f0f921"
             ]
            ],
            "type": "surface"
           }
          ],
          "table": [
           {
            "cells": {
             "fill": {
              "color": "#EBF0F8"
             },
             "line": {
              "color": "white"
             }
            },
            "header": {
             "fill": {
              "color": "#C8D4E3"
             },
             "line": {
              "color": "white"
             }
            },
            "type": "table"
           }
          ]
         },
         "layout": {
          "annotationdefaults": {
           "arrowcolor": "#2a3f5f",
           "arrowhead": 0,
           "arrowwidth": 1
          },
          "autotypenumbers": "strict",
          "coloraxis": {
           "colorbar": {
            "outlinewidth": 0,
            "ticks": ""
           }
          },
          "colorscale": {
           "diverging": [
            [
             0,
             "#8e0152"
            ],
            [
             0.1,
             "#c51b7d"
            ],
            [
             0.2,
             "#de77ae"
            ],
            [
             0.3,
             "#f1b6da"
            ],
            [
             0.4,
             "#fde0ef"
            ],
            [
             0.5,
             "#f7f7f7"
            ],
            [
             0.6,
             "#e6f5d0"
            ],
            [
             0.7,
             "#b8e186"
            ],
            [
             0.8,
             "#7fbc41"
            ],
            [
             0.9,
             "#4d9221"
            ],
            [
             1,
             "#276419"
            ]
           ],
           "sequential": [
            [
             0,
             "#0d0887"
            ],
            [
             0.1111111111111111,
             "#46039f"
            ],
            [
             0.2222222222222222,
             "#7201a8"
            ],
            [
             0.3333333333333333,
             "#9c179e"
            ],
            [
             0.4444444444444444,
             "#bd3786"
            ],
            [
             0.5555555555555556,
             "#d8576b"
            ],
            [
             0.6666666666666666,
             "#ed7953"
            ],
            [
             0.7777777777777778,
             "#fb9f3a"
            ],
            [
             0.8888888888888888,
             "#fdca26"
            ],
            [
             1,
             "#f0f921"
            ]
           ],
           "sequentialminus": [
            [
             0,
             "#0d0887"
            ],
            [
             0.1111111111111111,
             "#46039f"
            ],
            [
             0.2222222222222222,
             "#7201a8"
            ],
            [
             0.3333333333333333,
             "#9c179e"
            ],
            [
             0.4444444444444444,
             "#bd3786"
            ],
            [
             0.5555555555555556,
             "#d8576b"
            ],
            [
             0.6666666666666666,
             "#ed7953"
            ],
            [
             0.7777777777777778,
             "#fb9f3a"
            ],
            [
             0.8888888888888888,
             "#fdca26"
            ],
            [
             1,
             "#f0f921"
            ]
           ]
          },
          "colorway": [
           "#636efa",
           "#EF553B",
           "#00cc96",
           "#ab63fa",
           "#FFA15A",
           "#19d3f3",
           "#FF6692",
           "#B6E880",
           "#FF97FF",
           "#FECB52"
          ],
          "font": {
           "color": "#2a3f5f"
          },
          "geo": {
           "bgcolor": "white",
           "lakecolor": "white",
           "landcolor": "#E5ECF6",
           "showlakes": true,
           "showland": true,
           "subunitcolor": "white"
          },
          "hoverlabel": {
           "align": "left"
          },
          "hovermode": "closest",
          "mapbox": {
           "style": "light"
          },
          "paper_bgcolor": "white",
          "plot_bgcolor": "#E5ECF6",
          "polar": {
           "angularaxis": {
            "gridcolor": "white",
            "linecolor": "white",
            "ticks": ""
           },
           "bgcolor": "#E5ECF6",
           "radialaxis": {
            "gridcolor": "white",
            "linecolor": "white",
            "ticks": ""
           }
          },
          "scene": {
           "xaxis": {
            "backgroundcolor": "#E5ECF6",
            "gridcolor": "white",
            "gridwidth": 2,
            "linecolor": "white",
            "showbackground": true,
            "ticks": "",
            "zerolinecolor": "white"
           },
           "yaxis": {
            "backgroundcolor": "#E5ECF6",
            "gridcolor": "white",
            "gridwidth": 2,
            "linecolor": "white",
            "showbackground": true,
            "ticks": "",
            "zerolinecolor": "white"
           },
           "zaxis": {
            "backgroundcolor": "#E5ECF6",
            "gridcolor": "white",
            "gridwidth": 2,
            "linecolor": "white",
            "showbackground": true,
            "ticks": "",
            "zerolinecolor": "white"
           }
          },
          "shapedefaults": {
           "line": {
            "color": "#2a3f5f"
           }
          },
          "ternary": {
           "aaxis": {
            "gridcolor": "white",
            "linecolor": "white",
            "ticks": ""
           },
           "baxis": {
            "gridcolor": "white",
            "linecolor": "white",
            "ticks": ""
           },
           "bgcolor": "#E5ECF6",
           "caxis": {
            "gridcolor": "white",
            "linecolor": "white",
            "ticks": ""
           }
          },
          "title": {
           "x": 0.05
          },
          "xaxis": {
           "automargin": true,
           "gridcolor": "white",
           "linecolor": "white",
           "ticks": "",
           "title": {
            "standoff": 15
           },
           "zerolinecolor": "white",
           "zerolinewidth": 2
          },
          "yaxis": {
           "automargin": true,
           "gridcolor": "white",
           "linecolor": "white",
           "ticks": "",
           "title": {
            "standoff": 15
           },
           "zerolinecolor": "white",
           "zerolinewidth": 2
          }
         }
        },
        "title": {
         "text": "Portfolios Composition"
        },
        "xaxis": {
         "anchor": "y",
         "domain": [
          0,
          1
         ],
         "title": {
          "text": "Portfolios"
         }
        },
        "yaxis": {
         "anchor": "x",
         "domain": [
          0,
          1
         ],
         "tickformat": ",.0%",
         "title": {
          "text": "Weight"
         }
        }
       }
      }
     },
     "metadata": {},
     "output_type": "display_data"
    }
   ],
   "source": [
    "efficient_frontier.plot_composition()"
   ]
  },
  {
   "cell_type": "code",
   "execution_count": 25,
   "metadata": {},
   "outputs": [
    {
     "data": {
      "text/plain": [
       "array([1.35181364, 1.37976504, 1.40686415, 1.4330695 , 1.45834385,\n",
       "       1.48265366, 1.50597534, 1.52828767, 1.54957519, 1.56982879,\n",
       "       1.58904413, 1.60722148, 1.62436658, 1.64048932, 1.65560358,\n",
       "       1.66972711, 1.68288105, 1.69508943, 1.70637856, 1.71677737,\n",
       "       1.72631615, 1.73502686, 1.74294232, 1.75009615, 1.75652235,\n",
       "       1.76225511, 1.76732859, 1.77177655, 1.77563234, 1.77892864,\n",
       "       1.7816974 , 1.78396963, 1.78577542, 1.78714381, 1.78810284,\n",
       "       1.78867906, 1.78889829, 1.78878496, 1.78836191, 1.78763632,\n",
       "       1.7866217 , 1.78533897, 1.78336411, 1.77531018, 1.74878207,\n",
       "       1.70660718, 1.65309376, 1.59243165, 1.52818931, 1.46311468])"
      ]
     },
     "execution_count": 25,
     "metadata": {},
     "output_type": "execute_result"
    }
   ],
   "source": [
    "efficient_frontier.measures(measure=RatioMeasure.ANNUALIZED_SHARPE_RATIO)\n"
   ]
  },
  {
   "cell_type": "code",
   "execution_count": 26,
   "metadata": {},
   "outputs": [
    {
     "data": {
      "text/html": [
       "<div>\n",
       "<style scoped>\n",
       "    .dataframe tbody tr th:only-of-type {\n",
       "        vertical-align: middle;\n",
       "    }\n",
       "\n",
       "    .dataframe tbody tr th {\n",
       "        vertical-align: top;\n",
       "    }\n",
       "\n",
       "    .dataframe thead th {\n",
       "        text-align: right;\n",
       "    }\n",
       "</style>\n",
       "<table border=\"1\" class=\"dataframe\">\n",
       "  <thead>\n",
       "    <tr style=\"text-align: right;\">\n",
       "      <th></th>\n",
       "      <th>ptf0 - MeanRisk</th>\n",
       "      <th>ptf1 - MeanRisk</th>\n",
       "      <th>ptf2 - MeanRisk</th>\n",
       "      <th>ptf3 - MeanRisk</th>\n",
       "      <th>ptf4 - MeanRisk</th>\n",
       "      <th>ptf5 - MeanRisk</th>\n",
       "      <th>ptf6 - MeanRisk</th>\n",
       "      <th>ptf7 - MeanRisk</th>\n",
       "      <th>ptf8 - MeanRisk</th>\n",
       "      <th>ptf9 - MeanRisk</th>\n",
       "      <th>...</th>\n",
       "      <th>ptf40 - MeanRisk</th>\n",
       "      <th>ptf41 - MeanRisk</th>\n",
       "      <th>ptf42 - MeanRisk</th>\n",
       "      <th>ptf43 - MeanRisk</th>\n",
       "      <th>ptf44 - MeanRisk</th>\n",
       "      <th>ptf45 - MeanRisk</th>\n",
       "      <th>ptf46 - MeanRisk</th>\n",
       "      <th>ptf47 - MeanRisk</th>\n",
       "      <th>ptf48 - MeanRisk</th>\n",
       "      <th>ptf49 - MeanRisk</th>\n",
       "    </tr>\n",
       "  </thead>\n",
       "  <tbody>\n",
       "    <tr>\n",
       "      <th>Mean</th>\n",
       "      <td>0.10%</td>\n",
       "      <td>0.11%</td>\n",
       "      <td>0.11%</td>\n",
       "      <td>0.11%</td>\n",
       "      <td>0.11%</td>\n",
       "      <td>0.12%</td>\n",
       "      <td>0.12%</td>\n",
       "      <td>0.12%</td>\n",
       "      <td>0.12%</td>\n",
       "      <td>0.12%</td>\n",
       "      <td>...</td>\n",
       "      <td>0.19%</td>\n",
       "      <td>0.20%</td>\n",
       "      <td>0.20%</td>\n",
       "      <td>0.20%</td>\n",
       "      <td>0.20%</td>\n",
       "      <td>0.20%</td>\n",
       "      <td>0.21%</td>\n",
       "      <td>0.21%</td>\n",
       "      <td>0.21%</td>\n",
       "      <td>0.21%</td>\n",
       "    </tr>\n",
       "    <tr>\n",
       "      <th>Annualized Mean</th>\n",
       "      <td>26.39%</td>\n",
       "      <td>26.95%</td>\n",
       "      <td>27.52%</td>\n",
       "      <td>28.08%</td>\n",
       "      <td>28.64%</td>\n",
       "      <td>29.20%</td>\n",
       "      <td>29.76%</td>\n",
       "      <td>30.32%</td>\n",
       "      <td>30.88%</td>\n",
       "      <td>31.44%</td>\n",
       "      <td>...</td>\n",
       "      <td>48.83%</td>\n",
       "      <td>49.39%</td>\n",
       "      <td>49.95%</td>\n",
       "      <td>50.51%</td>\n",
       "      <td>51.07%</td>\n",
       "      <td>51.64%</td>\n",
       "      <td>52.20%</td>\n",
       "      <td>52.76%</td>\n",
       "      <td>53.32%</td>\n",
       "      <td>53.88%</td>\n",
       "    </tr>\n",
       "    <tr>\n",
       "      <th>Variance</th>\n",
       "      <td>0.015%</td>\n",
       "      <td>0.015%</td>\n",
       "      <td>0.015%</td>\n",
       "      <td>0.015%</td>\n",
       "      <td>0.015%</td>\n",
       "      <td>0.015%</td>\n",
       "      <td>0.015%</td>\n",
       "      <td>0.016%</td>\n",
       "      <td>0.016%</td>\n",
       "      <td>0.016%</td>\n",
       "      <td>...</td>\n",
       "      <td>0.030%</td>\n",
       "      <td>0.030%</td>\n",
       "      <td>0.031%</td>\n",
       "      <td>0.032%</td>\n",
       "      <td>0.034%</td>\n",
       "      <td>0.036%</td>\n",
       "      <td>0.040%</td>\n",
       "      <td>0.044%</td>\n",
       "      <td>0.048%</td>\n",
       "      <td>0.054%</td>\n",
       "    </tr>\n",
       "    <tr>\n",
       "      <th>Annualized Variance</th>\n",
       "      <td>3.81%</td>\n",
       "      <td>3.82%</td>\n",
       "      <td>3.83%</td>\n",
       "      <td>3.84%</td>\n",
       "      <td>3.86%</td>\n",
       "      <td>3.88%</td>\n",
       "      <td>3.90%</td>\n",
       "      <td>3.94%</td>\n",
       "      <td>3.97%</td>\n",
       "      <td>4.01%</td>\n",
       "      <td>...</td>\n",
       "      <td>7.47%</td>\n",
       "      <td>7.65%</td>\n",
       "      <td>7.85%</td>\n",
       "      <td>8.10%</td>\n",
       "      <td>8.53%</td>\n",
       "      <td>9.15%</td>\n",
       "      <td>9.97%</td>\n",
       "      <td>10.98%</td>\n",
       "      <td>12.17%</td>\n",
       "      <td>13.56%</td>\n",
       "    </tr>\n",
       "    <tr>\n",
       "      <th>Semi-Variance</th>\n",
       "      <td>0.0083%</td>\n",
       "      <td>0.0083%</td>\n",
       "      <td>0.0083%</td>\n",
       "      <td>0.0084%</td>\n",
       "      <td>0.0084%</td>\n",
       "      <td>0.0084%</td>\n",
       "      <td>0.0084%</td>\n",
       "      <td>0.0085%</td>\n",
       "      <td>0.0085%</td>\n",
       "      <td>0.0086%</td>\n",
       "      <td>...</td>\n",
       "      <td>0.013%</td>\n",
       "      <td>0.014%</td>\n",
       "      <td>0.014%</td>\n",
       "      <td>0.014%</td>\n",
       "      <td>0.015%</td>\n",
       "      <td>0.016%</td>\n",
       "      <td>0.017%</td>\n",
       "      <td>0.019%</td>\n",
       "      <td>0.020%</td>\n",
       "      <td>0.022%</td>\n",
       "    </tr>\n",
       "    <tr>\n",
       "      <th>Annualized Semi-Variance</th>\n",
       "      <td>2.10%</td>\n",
       "      <td>2.10%</td>\n",
       "      <td>2.10%</td>\n",
       "      <td>2.11%</td>\n",
       "      <td>2.11%</td>\n",
       "      <td>2.12%</td>\n",
       "      <td>2.12%</td>\n",
       "      <td>2.13%</td>\n",
       "      <td>2.14%</td>\n",
       "      <td>2.15%</td>\n",
       "      <td>...</td>\n",
       "      <td>3.38%</td>\n",
       "      <td>3.44%</td>\n",
       "      <td>3.51%</td>\n",
       "      <td>3.61%</td>\n",
       "      <td>3.78%</td>\n",
       "      <td>4.02%</td>\n",
       "      <td>4.31%</td>\n",
       "      <td>4.67%</td>\n",
       "      <td>5.08%</td>\n",
       "      <td>5.57%</td>\n",
       "    </tr>\n",
       "    <tr>\n",
       "      <th>Standard Deviation</th>\n",
       "      <td>1.23%</td>\n",
       "      <td>1.23%</td>\n",
       "      <td>1.23%</td>\n",
       "      <td>1.23%</td>\n",
       "      <td>1.24%</td>\n",
       "      <td>1.24%</td>\n",
       "      <td>1.24%</td>\n",
       "      <td>1.25%</td>\n",
       "      <td>1.26%</td>\n",
       "      <td>1.26%</td>\n",
       "      <td>...</td>\n",
       "      <td>1.72%</td>\n",
       "      <td>1.74%</td>\n",
       "      <td>1.76%</td>\n",
       "      <td>1.79%</td>\n",
       "      <td>1.84%</td>\n",
       "      <td>1.91%</td>\n",
       "      <td>1.99%</td>\n",
       "      <td>2.09%</td>\n",
       "      <td>2.20%</td>\n",
       "      <td>2.32%</td>\n",
       "    </tr>\n",
       "    <tr>\n",
       "      <th>Annualized Standard Deviation</th>\n",
       "      <td>19.52%</td>\n",
       "      <td>19.54%</td>\n",
       "      <td>19.56%</td>\n",
       "      <td>19.59%</td>\n",
       "      <td>19.64%</td>\n",
       "      <td>19.69%</td>\n",
       "      <td>19.76%</td>\n",
       "      <td>19.84%</td>\n",
       "      <td>19.93%</td>\n",
       "      <td>20.03%</td>\n",
       "      <td>...</td>\n",
       "      <td>27.33%</td>\n",
       "      <td>27.67%</td>\n",
       "      <td>28.01%</td>\n",
       "      <td>28.45%</td>\n",
       "      <td>29.21%</td>\n",
       "      <td>30.26%</td>\n",
       "      <td>31.57%</td>\n",
       "      <td>33.13%</td>\n",
       "      <td>34.89%</td>\n",
       "      <td>36.82%</td>\n",
       "    </tr>\n",
       "    <tr>\n",
       "      <th>Semi-Deviation</th>\n",
       "      <td>0.91%</td>\n",
       "      <td>0.91%</td>\n",
       "      <td>0.91%</td>\n",
       "      <td>0.91%</td>\n",
       "      <td>0.92%</td>\n",
       "      <td>0.92%</td>\n",
       "      <td>0.92%</td>\n",
       "      <td>0.92%</td>\n",
       "      <td>0.92%</td>\n",
       "      <td>0.92%</td>\n",
       "      <td>...</td>\n",
       "      <td>1.16%</td>\n",
       "      <td>1.17%</td>\n",
       "      <td>1.18%</td>\n",
       "      <td>1.20%</td>\n",
       "      <td>1.23%</td>\n",
       "      <td>1.26%</td>\n",
       "      <td>1.31%</td>\n",
       "      <td>1.36%</td>\n",
       "      <td>1.42%</td>\n",
       "      <td>1.49%</td>\n",
       "    </tr>\n",
       "    <tr>\n",
       "      <th>Annualized Semi-Deviation</th>\n",
       "      <td>14.50%</td>\n",
       "      <td>14.50%</td>\n",
       "      <td>14.50%</td>\n",
       "      <td>14.51%</td>\n",
       "      <td>14.53%</td>\n",
       "      <td>14.55%</td>\n",
       "      <td>14.57%</td>\n",
       "      <td>14.60%</td>\n",
       "      <td>14.64%</td>\n",
       "      <td>14.68%</td>\n",
       "      <td>...</td>\n",
       "      <td>18.37%</td>\n",
       "      <td>18.55%</td>\n",
       "      <td>18.73%</td>\n",
       "      <td>19.01%</td>\n",
       "      <td>19.45%</td>\n",
       "      <td>20.04%</td>\n",
       "      <td>20.76%</td>\n",
       "      <td>21.60%</td>\n",
       "      <td>22.54%</td>\n",
       "      <td>23.61%</td>\n",
       "    </tr>\n",
       "    <tr>\n",
       "      <th>Mean Absolute Deviation</th>\n",
       "      <td>0.94%</td>\n",
       "      <td>0.94%</td>\n",
       "      <td>0.95%</td>\n",
       "      <td>0.95%</td>\n",
       "      <td>0.95%</td>\n",
       "      <td>0.95%</td>\n",
       "      <td>0.96%</td>\n",
       "      <td>0.96%</td>\n",
       "      <td>0.97%</td>\n",
       "      <td>0.97%</td>\n",
       "      <td>...</td>\n",
       "      <td>1.26%</td>\n",
       "      <td>1.27%</td>\n",
       "      <td>1.29%</td>\n",
       "      <td>1.31%</td>\n",
       "      <td>1.33%</td>\n",
       "      <td>1.36%</td>\n",
       "      <td>1.39%</td>\n",
       "      <td>1.43%</td>\n",
       "      <td>1.49%</td>\n",
       "      <td>1.56%</td>\n",
       "    </tr>\n",
       "    <tr>\n",
       "      <th>CVaR at 95%</th>\n",
       "      <td>2.75%</td>\n",
       "      <td>2.75%</td>\n",
       "      <td>2.75%</td>\n",
       "      <td>2.75%</td>\n",
       "      <td>2.76%</td>\n",
       "      <td>2.76%</td>\n",
       "      <td>2.77%</td>\n",
       "      <td>2.77%</td>\n",
       "      <td>2.77%</td>\n",
       "      <td>2.78%</td>\n",
       "      <td>...</td>\n",
       "      <td>3.30%</td>\n",
       "      <td>3.33%</td>\n",
       "      <td>3.36%</td>\n",
       "      <td>3.46%</td>\n",
       "      <td>3.61%</td>\n",
       "      <td>3.75%</td>\n",
       "      <td>3.91%</td>\n",
       "      <td>4.09%</td>\n",
       "      <td>4.27%</td>\n",
       "      <td>4.47%</td>\n",
       "    </tr>\n",
       "    <tr>\n",
       "      <th>EVaR at 95%</th>\n",
       "      <td>3.23%</td>\n",
       "      <td>3.21%</td>\n",
       "      <td>3.20%</td>\n",
       "      <td>3.18%</td>\n",
       "      <td>3.17%</td>\n",
       "      <td>3.16%</td>\n",
       "      <td>3.15%</td>\n",
       "      <td>3.15%</td>\n",
       "      <td>3.14%</td>\n",
       "      <td>3.15%</td>\n",
       "      <td>...</td>\n",
       "      <td>4.59%</td>\n",
       "      <td>4.65%</td>\n",
       "      <td>4.71%</td>\n",
       "      <td>4.65%</td>\n",
       "      <td>4.70%</td>\n",
       "      <td>5.03%</td>\n",
       "      <td>5.52%</td>\n",
       "      <td>6.07%</td>\n",
       "      <td>6.65%</td>\n",
       "      <td>7.24%</td>\n",
       "    </tr>\n",
       "    <tr>\n",
       "      <th>Worst Realization</th>\n",
       "      <td>4.21%</td>\n",
       "      <td>4.17%</td>\n",
       "      <td>4.13%</td>\n",
       "      <td>4.09%</td>\n",
       "      <td>4.05%</td>\n",
       "      <td>4.01%</td>\n",
       "      <td>3.97%</td>\n",
       "      <td>3.93%</td>\n",
       "      <td>3.89%</td>\n",
       "      <td>3.85%</td>\n",
       "      <td>...</td>\n",
       "      <td>6.45%</td>\n",
       "      <td>6.54%</td>\n",
       "      <td>6.62%</td>\n",
       "      <td>6.37%</td>\n",
       "      <td>6.00%</td>\n",
       "      <td>6.86%</td>\n",
       "      <td>7.79%</td>\n",
       "      <td>8.71%</td>\n",
       "      <td>9.64%</td>\n",
       "      <td>10.56%</td>\n",
       "    </tr>\n",
       "    <tr>\n",
       "      <th>CDaR at 95%</th>\n",
       "      <td>10.69%</td>\n",
       "      <td>10.62%</td>\n",
       "      <td>10.55%</td>\n",
       "      <td>10.48%</td>\n",
       "      <td>10.41%</td>\n",
       "      <td>10.34%</td>\n",
       "      <td>10.28%</td>\n",
       "      <td>10.22%</td>\n",
       "      <td>10.17%</td>\n",
       "      <td>10.12%</td>\n",
       "      <td>...</td>\n",
       "      <td>12.91%</td>\n",
       "      <td>13.11%</td>\n",
       "      <td>13.31%</td>\n",
       "      <td>13.65%</td>\n",
       "      <td>14.03%</td>\n",
       "      <td>14.43%</td>\n",
       "      <td>14.87%</td>\n",
       "      <td>15.31%</td>\n",
       "      <td>15.75%</td>\n",
       "      <td>16.20%</td>\n",
       "    </tr>\n",
       "    <tr>\n",
       "      <th>MAX Drawdown</th>\n",
       "      <td>13.73%</td>\n",
       "      <td>13.61%</td>\n",
       "      <td>13.54%</td>\n",
       "      <td>13.50%</td>\n",
       "      <td>13.46%</td>\n",
       "      <td>13.42%</td>\n",
       "      <td>13.38%</td>\n",
       "      <td>13.33%</td>\n",
       "      <td>13.29%</td>\n",
       "      <td>13.25%</td>\n",
       "      <td>...</td>\n",
       "      <td>15.81%</td>\n",
       "      <td>16.12%</td>\n",
       "      <td>16.48%</td>\n",
       "      <td>16.90%</td>\n",
       "      <td>17.34%</td>\n",
       "      <td>17.77%</td>\n",
       "      <td>18.21%</td>\n",
       "      <td>18.65%</td>\n",
       "      <td>19.08%</td>\n",
       "      <td>19.52%</td>\n",
       "    </tr>\n",
       "    <tr>\n",
       "      <th>Average Drawdown</th>\n",
       "      <td>2.96%</td>\n",
       "      <td>2.92%</td>\n",
       "      <td>2.89%</td>\n",
       "      <td>2.87%</td>\n",
       "      <td>2.84%</td>\n",
       "      <td>2.82%</td>\n",
       "      <td>2.79%</td>\n",
       "      <td>2.78%</td>\n",
       "      <td>2.77%</td>\n",
       "      <td>2.76%</td>\n",
       "      <td>...</td>\n",
       "      <td>3.80%</td>\n",
       "      <td>3.86%</td>\n",
       "      <td>3.89%</td>\n",
       "      <td>3.92%</td>\n",
       "      <td>3.94%</td>\n",
       "      <td>3.97%</td>\n",
       "      <td>4.01%</td>\n",
       "      <td>4.12%</td>\n",
       "      <td>4.31%</td>\n",
       "      <td>4.52%</td>\n",
       "    </tr>\n",
       "    <tr>\n",
       "      <th>EDaR at 95%</th>\n",
       "      <td>11.97%</td>\n",
       "      <td>11.90%</td>\n",
       "      <td>11.83%</td>\n",
       "      <td>11.76%</td>\n",
       "      <td>11.69%</td>\n",
       "      <td>11.63%</td>\n",
       "      <td>11.57%</td>\n",
       "      <td>11.51%</td>\n",
       "      <td>11.45%</td>\n",
       "      <td>11.39%</td>\n",
       "      <td>...</td>\n",
       "      <td>13.90%</td>\n",
       "      <td>14.15%</td>\n",
       "      <td>14.44%</td>\n",
       "      <td>14.76%</td>\n",
       "      <td>15.12%</td>\n",
       "      <td>15.50%</td>\n",
       "      <td>15.91%</td>\n",
       "      <td>16.33%</td>\n",
       "      <td>16.77%</td>\n",
       "      <td>17.22%</td>\n",
       "    </tr>\n",
       "    <tr>\n",
       "      <th>First Lower Partial Moment</th>\n",
       "      <td>0.47%</td>\n",
       "      <td>0.47%</td>\n",
       "      <td>0.47%</td>\n",
       "      <td>0.47%</td>\n",
       "      <td>0.48%</td>\n",
       "      <td>0.48%</td>\n",
       "      <td>0.48%</td>\n",
       "      <td>0.48%</td>\n",
       "      <td>0.48%</td>\n",
       "      <td>0.49%</td>\n",
       "      <td>...</td>\n",
       "      <td>0.63%</td>\n",
       "      <td>0.64%</td>\n",
       "      <td>0.65%</td>\n",
       "      <td>0.65%</td>\n",
       "      <td>0.66%</td>\n",
       "      <td>0.68%</td>\n",
       "      <td>0.69%</td>\n",
       "      <td>0.72%</td>\n",
       "      <td>0.75%</td>\n",
       "      <td>0.78%</td>\n",
       "    </tr>\n",
       "    <tr>\n",
       "      <th>Ulcer Index</th>\n",
       "      <td>0.042</td>\n",
       "      <td>0.042</td>\n",
       "      <td>0.042</td>\n",
       "      <td>0.042</td>\n",
       "      <td>0.041</td>\n",
       "      <td>0.041</td>\n",
       "      <td>0.041</td>\n",
       "      <td>0.041</td>\n",
       "      <td>0.041</td>\n",
       "      <td>0.041</td>\n",
       "      <td>...</td>\n",
       "      <td>0.054</td>\n",
       "      <td>0.055</td>\n",
       "      <td>0.055</td>\n",
       "      <td>0.055</td>\n",
       "      <td>0.055</td>\n",
       "      <td>0.056</td>\n",
       "      <td>0.056</td>\n",
       "      <td>0.058</td>\n",
       "      <td>0.060</td>\n",
       "      <td>0.063</td>\n",
       "    </tr>\n",
       "    <tr>\n",
       "      <th>Gini Mean Difference</th>\n",
       "      <td>1.36%</td>\n",
       "      <td>1.37%</td>\n",
       "      <td>1.37%</td>\n",
       "      <td>1.37%</td>\n",
       "      <td>1.38%</td>\n",
       "      <td>1.38%</td>\n",
       "      <td>1.39%</td>\n",
       "      <td>1.39%</td>\n",
       "      <td>1.40%</td>\n",
       "      <td>1.40%</td>\n",
       "      <td>...</td>\n",
       "      <td>1.84%</td>\n",
       "      <td>1.86%</td>\n",
       "      <td>1.88%</td>\n",
       "      <td>1.90%</td>\n",
       "      <td>1.94%</td>\n",
       "      <td>1.98%</td>\n",
       "      <td>2.04%</td>\n",
       "      <td>2.10%</td>\n",
       "      <td>2.18%</td>\n",
       "      <td>2.28%</td>\n",
       "    </tr>\n",
       "    <tr>\n",
       "      <th>Value at Risk at 95%</th>\n",
       "      <td>2.24%</td>\n",
       "      <td>2.20%</td>\n",
       "      <td>2.16%</td>\n",
       "      <td>2.12%</td>\n",
       "      <td>2.08%</td>\n",
       "      <td>2.08%</td>\n",
       "      <td>2.09%</td>\n",
       "      <td>2.10%</td>\n",
       "      <td>2.11%</td>\n",
       "      <td>2.10%</td>\n",
       "      <td>...</td>\n",
       "      <td>2.35%</td>\n",
       "      <td>2.36%</td>\n",
       "      <td>2.38%</td>\n",
       "      <td>2.40%</td>\n",
       "      <td>2.40%</td>\n",
       "      <td>2.50%</td>\n",
       "      <td>2.60%</td>\n",
       "      <td>2.71%</td>\n",
       "      <td>2.72%</td>\n",
       "      <td>2.70%</td>\n",
       "    </tr>\n",
       "    <tr>\n",
       "      <th>Drawdown at Risk at 95%</th>\n",
       "      <td>9.04%</td>\n",
       "      <td>9.03%</td>\n",
       "      <td>9.02%</td>\n",
       "      <td>9.02%</td>\n",
       "      <td>9.01%</td>\n",
       "      <td>9.00%</td>\n",
       "      <td>8.98%</td>\n",
       "      <td>8.97%</td>\n",
       "      <td>8.85%</td>\n",
       "      <td>8.73%</td>\n",
       "      <td>...</td>\n",
       "      <td>10.90%</td>\n",
       "      <td>11.00%</td>\n",
       "      <td>11.33%</td>\n",
       "      <td>11.24%</td>\n",
       "      <td>11.91%</td>\n",
       "      <td>12.53%</td>\n",
       "      <td>12.36%</td>\n",
       "      <td>12.19%</td>\n",
       "      <td>12.02%</td>\n",
       "      <td>12.54%</td>\n",
       "    </tr>\n",
       "    <tr>\n",
       "      <th>Entropic Risk Measure at 95%</th>\n",
       "      <td>2.99</td>\n",
       "      <td>2.99</td>\n",
       "      <td>2.99</td>\n",
       "      <td>2.99</td>\n",
       "      <td>2.99</td>\n",
       "      <td>2.99</td>\n",
       "      <td>2.99</td>\n",
       "      <td>2.99</td>\n",
       "      <td>2.99</td>\n",
       "      <td>2.99</td>\n",
       "      <td>...</td>\n",
       "      <td>2.99</td>\n",
       "      <td>2.99</td>\n",
       "      <td>2.99</td>\n",
       "      <td>2.99</td>\n",
       "      <td>2.99</td>\n",
       "      <td>2.99</td>\n",
       "      <td>2.99</td>\n",
       "      <td>2.99</td>\n",
       "      <td>2.99</td>\n",
       "      <td>2.99</td>\n",
       "    </tr>\n",
       "    <tr>\n",
       "      <th>Fourth Central Moment</th>\n",
       "      <td>0.000008%</td>\n",
       "      <td>0.000008%</td>\n",
       "      <td>0.000008%</td>\n",
       "      <td>0.000008%</td>\n",
       "      <td>0.000008%</td>\n",
       "      <td>0.000008%</td>\n",
       "      <td>0.000008%</td>\n",
       "      <td>0.000008%</td>\n",
       "      <td>0.000008%</td>\n",
       "      <td>0.000009%</td>\n",
       "      <td>...</td>\n",
       "      <td>0.000061%</td>\n",
       "      <td>0.000065%</td>\n",
       "      <td>0.000070%</td>\n",
       "      <td>0.000084%</td>\n",
       "      <td>0.00012%</td>\n",
       "      <td>0.00017%</td>\n",
       "      <td>0.00026%</td>\n",
       "      <td>0.00037%</td>\n",
       "      <td>0.00052%</td>\n",
       "      <td>0.00071%</td>\n",
       "    </tr>\n",
       "    <tr>\n",
       "      <th>Fourth Lower Partial Moment</th>\n",
       "      <td>0.000005%</td>\n",
       "      <td>0.000005%</td>\n",
       "      <td>0.000005%</td>\n",
       "      <td>0.000005%</td>\n",
       "      <td>0.000005%</td>\n",
       "      <td>0.000005%</td>\n",
       "      <td>0.000005%</td>\n",
       "      <td>0.000005%</td>\n",
       "      <td>0.000005%</td>\n",
       "      <td>0.000005%</td>\n",
       "      <td>...</td>\n",
       "      <td>0.000016%</td>\n",
       "      <td>0.000017%</td>\n",
       "      <td>0.000017%</td>\n",
       "      <td>0.000018%</td>\n",
       "      <td>0.000020%</td>\n",
       "      <td>0.000024%</td>\n",
       "      <td>0.000031%</td>\n",
       "      <td>0.000041%</td>\n",
       "      <td>0.000055%</td>\n",
       "      <td>0.000074%</td>\n",
       "    </tr>\n",
       "    <tr>\n",
       "      <th>Skew</th>\n",
       "      <td>-0.34</td>\n",
       "      <td>-0.34</td>\n",
       "      <td>-0.33</td>\n",
       "      <td>-0.33</td>\n",
       "      <td>-0.32</td>\n",
       "      <td>-0.31</td>\n",
       "      <td>-0.30</td>\n",
       "      <td>-0.29</td>\n",
       "      <td>-0.28</td>\n",
       "      <td>-0.26</td>\n",
       "      <td>...</td>\n",
       "      <td>0.61</td>\n",
       "      <td>0.64</td>\n",
       "      <td>0.66</td>\n",
       "      <td>0.74</td>\n",
       "      <td>0.92</td>\n",
       "      <td>1.16</td>\n",
       "      <td>1.40</td>\n",
       "      <td>1.64</td>\n",
       "      <td>1.84</td>\n",
       "      <td>2.01</td>\n",
       "    </tr>\n",
       "    <tr>\n",
       "      <th>Kurtosis</th>\n",
       "      <td>3.60</td>\n",
       "      <td>3.55</td>\n",
       "      <td>3.52</td>\n",
       "      <td>3.48</td>\n",
       "      <td>3.46</td>\n",
       "      <td>3.43</td>\n",
       "      <td>3.42</td>\n",
       "      <td>3.42</td>\n",
       "      <td>3.42</td>\n",
       "      <td>3.43</td>\n",
       "      <td>...</td>\n",
       "      <td>6.97</td>\n",
       "      <td>7.09</td>\n",
       "      <td>7.22</td>\n",
       "      <td>8.16</td>\n",
       "      <td>10.32</td>\n",
       "      <td>13.19</td>\n",
       "      <td>16.34</td>\n",
       "      <td>19.41</td>\n",
       "      <td>22.18</td>\n",
       "      <td>24.54</td>\n",
       "    </tr>\n",
       "    <tr>\n",
       "      <th>Sharpe Ratio</th>\n",
       "      <td>0.085</td>\n",
       "      <td>0.087</td>\n",
       "      <td>0.089</td>\n",
       "      <td>0.090</td>\n",
       "      <td>0.092</td>\n",
       "      <td>0.093</td>\n",
       "      <td>0.095</td>\n",
       "      <td>0.096</td>\n",
       "      <td>0.098</td>\n",
       "      <td>0.099</td>\n",
       "      <td>...</td>\n",
       "      <td>0.11</td>\n",
       "      <td>0.11</td>\n",
       "      <td>0.11</td>\n",
       "      <td>0.11</td>\n",
       "      <td>0.11</td>\n",
       "      <td>0.11</td>\n",
       "      <td>0.10</td>\n",
       "      <td>0.10</td>\n",
       "      <td>0.096</td>\n",
       "      <td>0.092</td>\n",
       "    </tr>\n",
       "    <tr>\n",
       "      <th>Annualized Sharpe Ratio</th>\n",
       "      <td>1.35</td>\n",
       "      <td>1.38</td>\n",
       "      <td>1.41</td>\n",
       "      <td>1.43</td>\n",
       "      <td>1.46</td>\n",
       "      <td>1.48</td>\n",
       "      <td>1.51</td>\n",
       "      <td>1.53</td>\n",
       "      <td>1.55</td>\n",
       "      <td>1.57</td>\n",
       "      <td>...</td>\n",
       "      <td>1.79</td>\n",
       "      <td>1.79</td>\n",
       "      <td>1.78</td>\n",
       "      <td>1.78</td>\n",
       "      <td>1.75</td>\n",
       "      <td>1.71</td>\n",
       "      <td>1.65</td>\n",
       "      <td>1.59</td>\n",
       "      <td>1.53</td>\n",
       "      <td>1.46</td>\n",
       "    </tr>\n",
       "    <tr>\n",
       "      <th>Sortino Ratio</th>\n",
       "      <td>0.11</td>\n",
       "      <td>0.12</td>\n",
       "      <td>0.12</td>\n",
       "      <td>0.12</td>\n",
       "      <td>0.12</td>\n",
       "      <td>0.13</td>\n",
       "      <td>0.13</td>\n",
       "      <td>0.13</td>\n",
       "      <td>0.13</td>\n",
       "      <td>0.13</td>\n",
       "      <td>...</td>\n",
       "      <td>0.17</td>\n",
       "      <td>0.17</td>\n",
       "      <td>0.17</td>\n",
       "      <td>0.17</td>\n",
       "      <td>0.17</td>\n",
       "      <td>0.16</td>\n",
       "      <td>0.16</td>\n",
       "      <td>0.15</td>\n",
       "      <td>0.15</td>\n",
       "      <td>0.14</td>\n",
       "    </tr>\n",
       "    <tr>\n",
       "      <th>Annualized Sortino Ratio</th>\n",
       "      <td>1.82</td>\n",
       "      <td>1.86</td>\n",
       "      <td>1.90</td>\n",
       "      <td>1.93</td>\n",
       "      <td>1.97</td>\n",
       "      <td>2.01</td>\n",
       "      <td>2.04</td>\n",
       "      <td>2.08</td>\n",
       "      <td>2.11</td>\n",
       "      <td>2.14</td>\n",
       "      <td>...</td>\n",
       "      <td>2.66</td>\n",
       "      <td>2.66</td>\n",
       "      <td>2.67</td>\n",
       "      <td>2.66</td>\n",
       "      <td>2.63</td>\n",
       "      <td>2.58</td>\n",
       "      <td>2.51</td>\n",
       "      <td>2.44</td>\n",
       "      <td>2.37</td>\n",
       "      <td>2.28</td>\n",
       "    </tr>\n",
       "    <tr>\n",
       "      <th>Mean Absolute Deviation Ratio</th>\n",
       "      <td>0.11</td>\n",
       "      <td>0.11</td>\n",
       "      <td>0.12</td>\n",
       "      <td>0.12</td>\n",
       "      <td>0.12</td>\n",
       "      <td>0.12</td>\n",
       "      <td>0.12</td>\n",
       "      <td>0.12</td>\n",
       "      <td>0.13</td>\n",
       "      <td>0.13</td>\n",
       "      <td>...</td>\n",
       "      <td>0.15</td>\n",
       "      <td>0.15</td>\n",
       "      <td>0.15</td>\n",
       "      <td>0.15</td>\n",
       "      <td>0.15</td>\n",
       "      <td>0.15</td>\n",
       "      <td>0.15</td>\n",
       "      <td>0.15</td>\n",
       "      <td>0.14</td>\n",
       "      <td>0.14</td>\n",
       "    </tr>\n",
       "    <tr>\n",
       "      <th>First Lower Partial Moment Ratio</th>\n",
       "      <td>0.22</td>\n",
       "      <td>0.23</td>\n",
       "      <td>0.23</td>\n",
       "      <td>0.24</td>\n",
       "      <td>0.24</td>\n",
       "      <td>0.24</td>\n",
       "      <td>0.25</td>\n",
       "      <td>0.25</td>\n",
       "      <td>0.25</td>\n",
       "      <td>0.26</td>\n",
       "      <td>...</td>\n",
       "      <td>0.31</td>\n",
       "      <td>0.31</td>\n",
       "      <td>0.31</td>\n",
       "      <td>0.31</td>\n",
       "      <td>0.31</td>\n",
       "      <td>0.30</td>\n",
       "      <td>0.30</td>\n",
       "      <td>0.29</td>\n",
       "      <td>0.28</td>\n",
       "      <td>0.27</td>\n",
       "    </tr>\n",
       "    <tr>\n",
       "      <th>Value at Risk Ratio at 95%</th>\n",
       "      <td>0.047</td>\n",
       "      <td>0.049</td>\n",
       "      <td>0.050</td>\n",
       "      <td>0.053</td>\n",
       "      <td>0.055</td>\n",
       "      <td>0.056</td>\n",
       "      <td>0.056</td>\n",
       "      <td>0.057</td>\n",
       "      <td>0.058</td>\n",
       "      <td>0.059</td>\n",
       "      <td>...</td>\n",
       "      <td>0.082</td>\n",
       "      <td>0.083</td>\n",
       "      <td>0.083</td>\n",
       "      <td>0.084</td>\n",
       "      <td>0.084</td>\n",
       "      <td>0.082</td>\n",
       "      <td>0.080</td>\n",
       "      <td>0.077</td>\n",
       "      <td>0.078</td>\n",
       "      <td>0.079</td>\n",
       "    </tr>\n",
       "    <tr>\n",
       "      <th>CVaR Ratio at 95%</th>\n",
       "      <td>0.038</td>\n",
       "      <td>0.039</td>\n",
       "      <td>0.040</td>\n",
       "      <td>0.040</td>\n",
       "      <td>0.041</td>\n",
       "      <td>0.042</td>\n",
       "      <td>0.043</td>\n",
       "      <td>0.043</td>\n",
       "      <td>0.044</td>\n",
       "      <td>0.045</td>\n",
       "      <td>...</td>\n",
       "      <td>0.059</td>\n",
       "      <td>0.059</td>\n",
       "      <td>0.059</td>\n",
       "      <td>0.058</td>\n",
       "      <td>0.056</td>\n",
       "      <td>0.055</td>\n",
       "      <td>0.053</td>\n",
       "      <td>0.051</td>\n",
       "      <td>0.050</td>\n",
       "      <td>0.048</td>\n",
       "    </tr>\n",
       "    <tr>\n",
       "      <th>Entropic Risk Measure Ratio at 95%</th>\n",
       "      <td>0.00035</td>\n",
       "      <td>0.00036</td>\n",
       "      <td>0.00036</td>\n",
       "      <td>0.00037</td>\n",
       "      <td>0.00038</td>\n",
       "      <td>0.00039</td>\n",
       "      <td>0.00039</td>\n",
       "      <td>0.00040</td>\n",
       "      <td>0.00041</td>\n",
       "      <td>0.00042</td>\n",
       "      <td>...</td>\n",
       "      <td>0.00065</td>\n",
       "      <td>0.00065</td>\n",
       "      <td>0.00066</td>\n",
       "      <td>0.00067</td>\n",
       "      <td>0.00068</td>\n",
       "      <td>0.00068</td>\n",
       "      <td>0.00069</td>\n",
       "      <td>0.00070</td>\n",
       "      <td>0.00071</td>\n",
       "      <td>0.00071</td>\n",
       "    </tr>\n",
       "    <tr>\n",
       "      <th>EVaR Ratio at 95%</th>\n",
       "      <td>0.032</td>\n",
       "      <td>0.033</td>\n",
       "      <td>0.034</td>\n",
       "      <td>0.035</td>\n",
       "      <td>0.036</td>\n",
       "      <td>0.037</td>\n",
       "      <td>0.037</td>\n",
       "      <td>0.038</td>\n",
       "      <td>0.039</td>\n",
       "      <td>0.040</td>\n",
       "      <td>...</td>\n",
       "      <td>0.042</td>\n",
       "      <td>0.042</td>\n",
       "      <td>0.042</td>\n",
       "      <td>0.043</td>\n",
       "      <td>0.043</td>\n",
       "      <td>0.041</td>\n",
       "      <td>0.038</td>\n",
       "      <td>0.034</td>\n",
       "      <td>0.032</td>\n",
       "      <td>0.030</td>\n",
       "    </tr>\n",
       "    <tr>\n",
       "      <th>Worst Realization Ratio</th>\n",
       "      <td>0.025</td>\n",
       "      <td>0.026</td>\n",
       "      <td>0.026</td>\n",
       "      <td>0.027</td>\n",
       "      <td>0.028</td>\n",
       "      <td>0.029</td>\n",
       "      <td>0.030</td>\n",
       "      <td>0.031</td>\n",
       "      <td>0.032</td>\n",
       "      <td>0.032</td>\n",
       "      <td>...</td>\n",
       "      <td>0.030</td>\n",
       "      <td>0.030</td>\n",
       "      <td>0.030</td>\n",
       "      <td>0.031</td>\n",
       "      <td>0.034</td>\n",
       "      <td>0.030</td>\n",
       "      <td>0.027</td>\n",
       "      <td>0.024</td>\n",
       "      <td>0.022</td>\n",
       "      <td>0.020</td>\n",
       "    </tr>\n",
       "    <tr>\n",
       "      <th>Drawdown at Risk Ratio at 95%</th>\n",
       "      <td>0.012</td>\n",
       "      <td>0.012</td>\n",
       "      <td>0.012</td>\n",
       "      <td>0.012</td>\n",
       "      <td>0.013</td>\n",
       "      <td>0.013</td>\n",
       "      <td>0.013</td>\n",
       "      <td>0.013</td>\n",
       "      <td>0.014</td>\n",
       "      <td>0.014</td>\n",
       "      <td>...</td>\n",
       "      <td>0.018</td>\n",
       "      <td>0.018</td>\n",
       "      <td>0.017</td>\n",
       "      <td>0.018</td>\n",
       "      <td>0.017</td>\n",
       "      <td>0.016</td>\n",
       "      <td>0.017</td>\n",
       "      <td>0.017</td>\n",
       "      <td>0.018</td>\n",
       "      <td>0.017</td>\n",
       "    </tr>\n",
       "    <tr>\n",
       "      <th>CDaR Ratio at 95%</th>\n",
       "      <td>0.0098</td>\n",
       "      <td>0.010</td>\n",
       "      <td>0.010</td>\n",
       "      <td>0.011</td>\n",
       "      <td>0.011</td>\n",
       "      <td>0.011</td>\n",
       "      <td>0.011</td>\n",
       "      <td>0.012</td>\n",
       "      <td>0.012</td>\n",
       "      <td>0.012</td>\n",
       "      <td>...</td>\n",
       "      <td>0.015</td>\n",
       "      <td>0.015</td>\n",
       "      <td>0.015</td>\n",
       "      <td>0.015</td>\n",
       "      <td>0.014</td>\n",
       "      <td>0.014</td>\n",
       "      <td>0.014</td>\n",
       "      <td>0.014</td>\n",
       "      <td>0.013</td>\n",
       "      <td>0.013</td>\n",
       "    </tr>\n",
       "    <tr>\n",
       "      <th>Calmar Ratio</th>\n",
       "      <td>0.0076</td>\n",
       "      <td>0.0079</td>\n",
       "      <td>0.0081</td>\n",
       "      <td>0.0083</td>\n",
       "      <td>0.0084</td>\n",
       "      <td>0.0086</td>\n",
       "      <td>0.0088</td>\n",
       "      <td>0.0090</td>\n",
       "      <td>0.0092</td>\n",
       "      <td>0.0094</td>\n",
       "      <td>...</td>\n",
       "      <td>0.012</td>\n",
       "      <td>0.012</td>\n",
       "      <td>0.012</td>\n",
       "      <td>0.012</td>\n",
       "      <td>0.012</td>\n",
       "      <td>0.012</td>\n",
       "      <td>0.011</td>\n",
       "      <td>0.011</td>\n",
       "      <td>0.011</td>\n",
       "      <td>0.011</td>\n",
       "    </tr>\n",
       "    <tr>\n",
       "      <th>Average Drawdown Ratio</th>\n",
       "      <td>0.035</td>\n",
       "      <td>0.037</td>\n",
       "      <td>0.038</td>\n",
       "      <td>0.039</td>\n",
       "      <td>0.040</td>\n",
       "      <td>0.041</td>\n",
       "      <td>0.042</td>\n",
       "      <td>0.043</td>\n",
       "      <td>0.044</td>\n",
       "      <td>0.045</td>\n",
       "      <td>...</td>\n",
       "      <td>0.051</td>\n",
       "      <td>0.051</td>\n",
       "      <td>0.051</td>\n",
       "      <td>0.051</td>\n",
       "      <td>0.051</td>\n",
       "      <td>0.052</td>\n",
       "      <td>0.052</td>\n",
       "      <td>0.051</td>\n",
       "      <td>0.049</td>\n",
       "      <td>0.047</td>\n",
       "    </tr>\n",
       "    <tr>\n",
       "      <th>EDaR Ratio at 95%</th>\n",
       "      <td>0.0087</td>\n",
       "      <td>0.0090</td>\n",
       "      <td>0.0092</td>\n",
       "      <td>0.0095</td>\n",
       "      <td>0.0097</td>\n",
       "      <td>0.0100</td>\n",
       "      <td>0.010</td>\n",
       "      <td>0.010</td>\n",
       "      <td>0.011</td>\n",
       "      <td>0.011</td>\n",
       "      <td>...</td>\n",
       "      <td>0.014</td>\n",
       "      <td>0.014</td>\n",
       "      <td>0.014</td>\n",
       "      <td>0.014</td>\n",
       "      <td>0.013</td>\n",
       "      <td>0.013</td>\n",
       "      <td>0.013</td>\n",
       "      <td>0.013</td>\n",
       "      <td>0.013</td>\n",
       "      <td>0.012</td>\n",
       "    </tr>\n",
       "    <tr>\n",
       "      <th>Ulcer Index Ratio</th>\n",
       "      <td>0.025</td>\n",
       "      <td>0.025</td>\n",
       "      <td>0.026</td>\n",
       "      <td>0.027</td>\n",
       "      <td>0.027</td>\n",
       "      <td>0.028</td>\n",
       "      <td>0.029</td>\n",
       "      <td>0.029</td>\n",
       "      <td>0.030</td>\n",
       "      <td>0.031</td>\n",
       "      <td>...</td>\n",
       "      <td>0.036</td>\n",
       "      <td>0.036</td>\n",
       "      <td>0.036</td>\n",
       "      <td>0.036</td>\n",
       "      <td>0.037</td>\n",
       "      <td>0.037</td>\n",
       "      <td>0.037</td>\n",
       "      <td>0.036</td>\n",
       "      <td>0.035</td>\n",
       "      <td>0.034</td>\n",
       "    </tr>\n",
       "    <tr>\n",
       "      <th>Gini Mean Difference Ratio</th>\n",
       "      <td>0.077</td>\n",
       "      <td>0.078</td>\n",
       "      <td>0.080</td>\n",
       "      <td>0.081</td>\n",
       "      <td>0.083</td>\n",
       "      <td>0.084</td>\n",
       "      <td>0.085</td>\n",
       "      <td>0.087</td>\n",
       "      <td>0.088</td>\n",
       "      <td>0.089</td>\n",
       "      <td>...</td>\n",
       "      <td>0.11</td>\n",
       "      <td>0.11</td>\n",
       "      <td>0.11</td>\n",
       "      <td>0.11</td>\n",
       "      <td>0.10</td>\n",
       "      <td>0.10</td>\n",
       "      <td>0.10</td>\n",
       "      <td>0.100</td>\n",
       "      <td>0.097</td>\n",
       "      <td>0.094</td>\n",
       "    </tr>\n",
       "    <tr>\n",
       "      <th>Effective Number of Assets</th>\n",
       "      <td>3.141714847937262</td>\n",
       "      <td>3.2479083813853857</td>\n",
       "      <td>3.3524990936052386</td>\n",
       "      <td>3.456804286159104</td>\n",
       "      <td>3.5593192784716106</td>\n",
       "      <td>3.6597331210657216</td>\n",
       "      <td>3.754493946488753</td>\n",
       "      <td>3.8437263439935934</td>\n",
       "      <td>3.92684454304845</td>\n",
       "      <td>4.002190261304031</td>\n",
       "      <td>...</td>\n",
       "      <td>2.2328787059078787</td>\n",
       "      <td>2.147730624616087</td>\n",
       "      <td>2.0321427702134556</td>\n",
       "      <td>1.9810733647922465</td>\n",
       "      <td>1.884013416145251</td>\n",
       "      <td>1.7259251991078277</td>\n",
       "      <td>1.5369717849200895</td>\n",
       "      <td>1.3432310181782607</td>\n",
       "      <td>1.1615345717642873</td>\n",
       "      <td>1.000000286119796</td>\n",
       "    </tr>\n",
       "    <tr>\n",
       "      <th>Assets Number</th>\n",
       "      <td>5</td>\n",
       "      <td>5</td>\n",
       "      <td>5</td>\n",
       "      <td>5</td>\n",
       "      <td>5</td>\n",
       "      <td>5</td>\n",
       "      <td>5</td>\n",
       "      <td>5</td>\n",
       "      <td>5</td>\n",
       "      <td>5</td>\n",
       "      <td>...</td>\n",
       "      <td>5</td>\n",
       "      <td>5</td>\n",
       "      <td>5</td>\n",
       "      <td>5</td>\n",
       "      <td>5</td>\n",
       "      <td>5</td>\n",
       "      <td>5</td>\n",
       "      <td>5</td>\n",
       "      <td>5</td>\n",
       "      <td>5</td>\n",
       "    </tr>\n",
       "  </tbody>\n",
       "</table>\n",
       "<p>48 rows × 50 columns</p>\n",
       "</div>"
      ],
      "text/plain": [
       "                                      ptf0 - MeanRisk     ptf1 - MeanRisk  \\\n",
       "Mean                                            0.10%               0.11%   \n",
       "Annualized Mean                                26.39%              26.95%   \n",
       "Variance                                       0.015%              0.015%   \n",
       "Annualized Variance                             3.81%               3.82%   \n",
       "Semi-Variance                                 0.0083%             0.0083%   \n",
       "Annualized Semi-Variance                        2.10%               2.10%   \n",
       "Standard Deviation                              1.23%               1.23%   \n",
       "Annualized Standard Deviation                  19.52%              19.54%   \n",
       "Semi-Deviation                                  0.91%               0.91%   \n",
       "Annualized Semi-Deviation                      14.50%              14.50%   \n",
       "Mean Absolute Deviation                         0.94%               0.94%   \n",
       "CVaR at 95%                                     2.75%               2.75%   \n",
       "EVaR at 95%                                     3.23%               3.21%   \n",
       "Worst Realization                               4.21%               4.17%   \n",
       "CDaR at 95%                                    10.69%              10.62%   \n",
       "MAX Drawdown                                   13.73%              13.61%   \n",
       "Average Drawdown                                2.96%               2.92%   \n",
       "EDaR at 95%                                    11.97%              11.90%   \n",
       "First Lower Partial Moment                      0.47%               0.47%   \n",
       "Ulcer Index                                     0.042               0.042   \n",
       "Gini Mean Difference                            1.36%               1.37%   \n",
       "Value at Risk at 95%                            2.24%               2.20%   \n",
       "Drawdown at Risk at 95%                         9.04%               9.03%   \n",
       "Entropic Risk Measure at 95%                     2.99                2.99   \n",
       "Fourth Central Moment                       0.000008%           0.000008%   \n",
       "Fourth Lower Partial Moment                 0.000005%           0.000005%   \n",
       "Skew                                            -0.34               -0.34   \n",
       "Kurtosis                                         3.60                3.55   \n",
       "Sharpe Ratio                                    0.085               0.087   \n",
       "Annualized Sharpe Ratio                          1.35                1.38   \n",
       "Sortino Ratio                                    0.11                0.12   \n",
       "Annualized Sortino Ratio                         1.82                1.86   \n",
       "Mean Absolute Deviation Ratio                    0.11                0.11   \n",
       "First Lower Partial Moment Ratio                 0.22                0.23   \n",
       "Value at Risk Ratio at 95%                      0.047               0.049   \n",
       "CVaR Ratio at 95%                               0.038               0.039   \n",
       "Entropic Risk Measure Ratio at 95%            0.00035             0.00036   \n",
       "EVaR Ratio at 95%                               0.032               0.033   \n",
       "Worst Realization Ratio                         0.025               0.026   \n",
       "Drawdown at Risk Ratio at 95%                   0.012               0.012   \n",
       "CDaR Ratio at 95%                              0.0098               0.010   \n",
       "Calmar Ratio                                   0.0076              0.0079   \n",
       "Average Drawdown Ratio                          0.035               0.037   \n",
       "EDaR Ratio at 95%                              0.0087              0.0090   \n",
       "Ulcer Index Ratio                               0.025               0.025   \n",
       "Gini Mean Difference Ratio                      0.077               0.078   \n",
       "Effective Number of Assets          3.141714847937262  3.2479083813853857   \n",
       "Assets Number                                       5                   5   \n",
       "\n",
       "                                       ptf2 - MeanRisk    ptf3 - MeanRisk  \\\n",
       "Mean                                             0.11%              0.11%   \n",
       "Annualized Mean                                 27.52%             28.08%   \n",
       "Variance                                        0.015%             0.015%   \n",
       "Annualized Variance                              3.83%              3.84%   \n",
       "Semi-Variance                                  0.0083%            0.0084%   \n",
       "Annualized Semi-Variance                         2.10%              2.11%   \n",
       "Standard Deviation                               1.23%              1.23%   \n",
       "Annualized Standard Deviation                   19.56%             19.59%   \n",
       "Semi-Deviation                                   0.91%              0.91%   \n",
       "Annualized Semi-Deviation                       14.50%             14.51%   \n",
       "Mean Absolute Deviation                          0.95%              0.95%   \n",
       "CVaR at 95%                                      2.75%              2.75%   \n",
       "EVaR at 95%                                      3.20%              3.18%   \n",
       "Worst Realization                                4.13%              4.09%   \n",
       "CDaR at 95%                                     10.55%             10.48%   \n",
       "MAX Drawdown                                    13.54%             13.50%   \n",
       "Average Drawdown                                 2.89%              2.87%   \n",
       "EDaR at 95%                                     11.83%             11.76%   \n",
       "First Lower Partial Moment                       0.47%              0.47%   \n",
       "Ulcer Index                                      0.042              0.042   \n",
       "Gini Mean Difference                             1.37%              1.37%   \n",
       "Value at Risk at 95%                             2.16%              2.12%   \n",
       "Drawdown at Risk at 95%                          9.02%              9.02%   \n",
       "Entropic Risk Measure at 95%                      2.99               2.99   \n",
       "Fourth Central Moment                        0.000008%          0.000008%   \n",
       "Fourth Lower Partial Moment                  0.000005%          0.000005%   \n",
       "Skew                                             -0.33              -0.33   \n",
       "Kurtosis                                          3.52               3.48   \n",
       "Sharpe Ratio                                     0.089              0.090   \n",
       "Annualized Sharpe Ratio                           1.41               1.43   \n",
       "Sortino Ratio                                     0.12               0.12   \n",
       "Annualized Sortino Ratio                          1.90               1.93   \n",
       "Mean Absolute Deviation Ratio                     0.12               0.12   \n",
       "First Lower Partial Moment Ratio                  0.23               0.24   \n",
       "Value at Risk Ratio at 95%                       0.050              0.053   \n",
       "CVaR Ratio at 95%                                0.040              0.040   \n",
       "Entropic Risk Measure Ratio at 95%             0.00036            0.00037   \n",
       "EVaR Ratio at 95%                                0.034              0.035   \n",
       "Worst Realization Ratio                          0.026              0.027   \n",
       "Drawdown at Risk Ratio at 95%                    0.012              0.012   \n",
       "CDaR Ratio at 95%                                0.010              0.011   \n",
       "Calmar Ratio                                    0.0081             0.0083   \n",
       "Average Drawdown Ratio                           0.038              0.039   \n",
       "EDaR Ratio at 95%                               0.0092             0.0095   \n",
       "Ulcer Index Ratio                                0.026              0.027   \n",
       "Gini Mean Difference Ratio                       0.080              0.081   \n",
       "Effective Number of Assets          3.3524990936052386  3.456804286159104   \n",
       "Assets Number                                        5                  5   \n",
       "\n",
       "                                       ptf4 - MeanRisk     ptf5 - MeanRisk  \\\n",
       "Mean                                             0.11%               0.12%   \n",
       "Annualized Mean                                 28.64%              29.20%   \n",
       "Variance                                        0.015%              0.015%   \n",
       "Annualized Variance                              3.86%               3.88%   \n",
       "Semi-Variance                                  0.0084%             0.0084%   \n",
       "Annualized Semi-Variance                         2.11%               2.12%   \n",
       "Standard Deviation                               1.24%               1.24%   \n",
       "Annualized Standard Deviation                   19.64%              19.69%   \n",
       "Semi-Deviation                                   0.92%               0.92%   \n",
       "Annualized Semi-Deviation                       14.53%              14.55%   \n",
       "Mean Absolute Deviation                          0.95%               0.95%   \n",
       "CVaR at 95%                                      2.76%               2.76%   \n",
       "EVaR at 95%                                      3.17%               3.16%   \n",
       "Worst Realization                                4.05%               4.01%   \n",
       "CDaR at 95%                                     10.41%              10.34%   \n",
       "MAX Drawdown                                    13.46%              13.42%   \n",
       "Average Drawdown                                 2.84%               2.82%   \n",
       "EDaR at 95%                                     11.69%              11.63%   \n",
       "First Lower Partial Moment                       0.48%               0.48%   \n",
       "Ulcer Index                                      0.041               0.041   \n",
       "Gini Mean Difference                             1.38%               1.38%   \n",
       "Value at Risk at 95%                             2.08%               2.08%   \n",
       "Drawdown at Risk at 95%                          9.01%               9.00%   \n",
       "Entropic Risk Measure at 95%                      2.99                2.99   \n",
       "Fourth Central Moment                        0.000008%           0.000008%   \n",
       "Fourth Lower Partial Moment                  0.000005%           0.000005%   \n",
       "Skew                                             -0.32               -0.31   \n",
       "Kurtosis                                          3.46                3.43   \n",
       "Sharpe Ratio                                     0.092               0.093   \n",
       "Annualized Sharpe Ratio                           1.46                1.48   \n",
       "Sortino Ratio                                     0.12                0.13   \n",
       "Annualized Sortino Ratio                          1.97                2.01   \n",
       "Mean Absolute Deviation Ratio                     0.12                0.12   \n",
       "First Lower Partial Moment Ratio                  0.24                0.24   \n",
       "Value at Risk Ratio at 95%                       0.055               0.056   \n",
       "CVaR Ratio at 95%                                0.041               0.042   \n",
       "Entropic Risk Measure Ratio at 95%             0.00038             0.00039   \n",
       "EVaR Ratio at 95%                                0.036               0.037   \n",
       "Worst Realization Ratio                          0.028               0.029   \n",
       "Drawdown at Risk Ratio at 95%                    0.013               0.013   \n",
       "CDaR Ratio at 95%                                0.011               0.011   \n",
       "Calmar Ratio                                    0.0084              0.0086   \n",
       "Average Drawdown Ratio                           0.040               0.041   \n",
       "EDaR Ratio at 95%                               0.0097              0.0100   \n",
       "Ulcer Index Ratio                                0.027               0.028   \n",
       "Gini Mean Difference Ratio                       0.083               0.084   \n",
       "Effective Number of Assets          3.5593192784716106  3.6597331210657216   \n",
       "Assets Number                                        5                   5   \n",
       "\n",
       "                                      ptf6 - MeanRisk     ptf7 - MeanRisk  \\\n",
       "Mean                                            0.12%               0.12%   \n",
       "Annualized Mean                                29.76%              30.32%   \n",
       "Variance                                       0.015%              0.016%   \n",
       "Annualized Variance                             3.90%               3.94%   \n",
       "Semi-Variance                                 0.0084%             0.0085%   \n",
       "Annualized Semi-Variance                        2.12%               2.13%   \n",
       "Standard Deviation                              1.24%               1.25%   \n",
       "Annualized Standard Deviation                  19.76%              19.84%   \n",
       "Semi-Deviation                                  0.92%               0.92%   \n",
       "Annualized Semi-Deviation                      14.57%              14.60%   \n",
       "Mean Absolute Deviation                         0.96%               0.96%   \n",
       "CVaR at 95%                                     2.77%               2.77%   \n",
       "EVaR at 95%                                     3.15%               3.15%   \n",
       "Worst Realization                               3.97%               3.93%   \n",
       "CDaR at 95%                                    10.28%              10.22%   \n",
       "MAX Drawdown                                   13.38%              13.33%   \n",
       "Average Drawdown                                2.79%               2.78%   \n",
       "EDaR at 95%                                    11.57%              11.51%   \n",
       "First Lower Partial Moment                      0.48%               0.48%   \n",
       "Ulcer Index                                     0.041               0.041   \n",
       "Gini Mean Difference                            1.39%               1.39%   \n",
       "Value at Risk at 95%                            2.09%               2.10%   \n",
       "Drawdown at Risk at 95%                         8.98%               8.97%   \n",
       "Entropic Risk Measure at 95%                     2.99                2.99   \n",
       "Fourth Central Moment                       0.000008%           0.000008%   \n",
       "Fourth Lower Partial Moment                 0.000005%           0.000005%   \n",
       "Skew                                            -0.30               -0.29   \n",
       "Kurtosis                                         3.42                3.42   \n",
       "Sharpe Ratio                                    0.095               0.096   \n",
       "Annualized Sharpe Ratio                          1.51                1.53   \n",
       "Sortino Ratio                                    0.13                0.13   \n",
       "Annualized Sortino Ratio                         2.04                2.08   \n",
       "Mean Absolute Deviation Ratio                    0.12                0.12   \n",
       "First Lower Partial Moment Ratio                 0.25                0.25   \n",
       "Value at Risk Ratio at 95%                      0.056               0.057   \n",
       "CVaR Ratio at 95%                               0.043               0.043   \n",
       "Entropic Risk Measure Ratio at 95%            0.00039             0.00040   \n",
       "EVaR Ratio at 95%                               0.037               0.038   \n",
       "Worst Realization Ratio                         0.030               0.031   \n",
       "Drawdown at Risk Ratio at 95%                   0.013               0.013   \n",
       "CDaR Ratio at 95%                               0.011               0.012   \n",
       "Calmar Ratio                                   0.0088              0.0090   \n",
       "Average Drawdown Ratio                          0.042               0.043   \n",
       "EDaR Ratio at 95%                               0.010               0.010   \n",
       "Ulcer Index Ratio                               0.029               0.029   \n",
       "Gini Mean Difference Ratio                      0.085               0.087   \n",
       "Effective Number of Assets          3.754493946488753  3.8437263439935934   \n",
       "Assets Number                                       5                   5   \n",
       "\n",
       "                                     ptf8 - MeanRisk    ptf9 - MeanRisk  ...  \\\n",
       "Mean                                           0.12%              0.12%  ...   \n",
       "Annualized Mean                               30.88%             31.44%  ...   \n",
       "Variance                                      0.016%             0.016%  ...   \n",
       "Annualized Variance                            3.97%              4.01%  ...   \n",
       "Semi-Variance                                0.0085%            0.0086%  ...   \n",
       "Annualized Semi-Variance                       2.14%              2.15%  ...   \n",
       "Standard Deviation                             1.26%              1.26%  ...   \n",
       "Annualized Standard Deviation                 19.93%             20.03%  ...   \n",
       "Semi-Deviation                                 0.92%              0.92%  ...   \n",
       "Annualized Semi-Deviation                     14.64%             14.68%  ...   \n",
       "Mean Absolute Deviation                        0.97%              0.97%  ...   \n",
       "CVaR at 95%                                    2.77%              2.78%  ...   \n",
       "EVaR at 95%                                    3.14%              3.15%  ...   \n",
       "Worst Realization                              3.89%              3.85%  ...   \n",
       "CDaR at 95%                                   10.17%             10.12%  ...   \n",
       "MAX Drawdown                                  13.29%             13.25%  ...   \n",
       "Average Drawdown                               2.77%              2.76%  ...   \n",
       "EDaR at 95%                                   11.45%             11.39%  ...   \n",
       "First Lower Partial Moment                     0.48%              0.49%  ...   \n",
       "Ulcer Index                                    0.041              0.041  ...   \n",
       "Gini Mean Difference                           1.40%              1.40%  ...   \n",
       "Value at Risk at 95%                           2.11%              2.10%  ...   \n",
       "Drawdown at Risk at 95%                        8.85%              8.73%  ...   \n",
       "Entropic Risk Measure at 95%                    2.99               2.99  ...   \n",
       "Fourth Central Moment                      0.000008%          0.000009%  ...   \n",
       "Fourth Lower Partial Moment                0.000005%          0.000005%  ...   \n",
       "Skew                                           -0.28              -0.26  ...   \n",
       "Kurtosis                                        3.42               3.43  ...   \n",
       "Sharpe Ratio                                   0.098              0.099  ...   \n",
       "Annualized Sharpe Ratio                         1.55               1.57  ...   \n",
       "Sortino Ratio                                   0.13               0.13  ...   \n",
       "Annualized Sortino Ratio                        2.11               2.14  ...   \n",
       "Mean Absolute Deviation Ratio                   0.13               0.13  ...   \n",
       "First Lower Partial Moment Ratio                0.25               0.26  ...   \n",
       "Value at Risk Ratio at 95%                     0.058              0.059  ...   \n",
       "CVaR Ratio at 95%                              0.044              0.045  ...   \n",
       "Entropic Risk Measure Ratio at 95%           0.00041            0.00042  ...   \n",
       "EVaR Ratio at 95%                              0.039              0.040  ...   \n",
       "Worst Realization Ratio                        0.032              0.032  ...   \n",
       "Drawdown at Risk Ratio at 95%                  0.014              0.014  ...   \n",
       "CDaR Ratio at 95%                              0.012              0.012  ...   \n",
       "Calmar Ratio                                  0.0092             0.0094  ...   \n",
       "Average Drawdown Ratio                         0.044              0.045  ...   \n",
       "EDaR Ratio at 95%                              0.011              0.011  ...   \n",
       "Ulcer Index Ratio                              0.030              0.031  ...   \n",
       "Gini Mean Difference Ratio                     0.088              0.089  ...   \n",
       "Effective Number of Assets          3.92684454304845  4.002190261304031  ...   \n",
       "Assets Number                                      5                  5  ...   \n",
       "\n",
       "                                      ptf40 - MeanRisk   ptf41 - MeanRisk  \\\n",
       "Mean                                             0.19%              0.20%   \n",
       "Annualized Mean                                 48.83%             49.39%   \n",
       "Variance                                        0.030%             0.030%   \n",
       "Annualized Variance                              7.47%              7.65%   \n",
       "Semi-Variance                                   0.013%             0.014%   \n",
       "Annualized Semi-Variance                         3.38%              3.44%   \n",
       "Standard Deviation                               1.72%              1.74%   \n",
       "Annualized Standard Deviation                   27.33%             27.67%   \n",
       "Semi-Deviation                                   1.16%              1.17%   \n",
       "Annualized Semi-Deviation                       18.37%             18.55%   \n",
       "Mean Absolute Deviation                          1.26%              1.27%   \n",
       "CVaR at 95%                                      3.30%              3.33%   \n",
       "EVaR at 95%                                      4.59%              4.65%   \n",
       "Worst Realization                                6.45%              6.54%   \n",
       "CDaR at 95%                                     12.91%             13.11%   \n",
       "MAX Drawdown                                    15.81%             16.12%   \n",
       "Average Drawdown                                 3.80%              3.86%   \n",
       "EDaR at 95%                                     13.90%             14.15%   \n",
       "First Lower Partial Moment                       0.63%              0.64%   \n",
       "Ulcer Index                                      0.054              0.055   \n",
       "Gini Mean Difference                             1.84%              1.86%   \n",
       "Value at Risk at 95%                             2.35%              2.36%   \n",
       "Drawdown at Risk at 95%                         10.90%             11.00%   \n",
       "Entropic Risk Measure at 95%                      2.99               2.99   \n",
       "Fourth Central Moment                        0.000061%          0.000065%   \n",
       "Fourth Lower Partial Moment                  0.000016%          0.000017%   \n",
       "Skew                                              0.61               0.64   \n",
       "Kurtosis                                          6.97               7.09   \n",
       "Sharpe Ratio                                      0.11               0.11   \n",
       "Annualized Sharpe Ratio                           1.79               1.79   \n",
       "Sortino Ratio                                     0.17               0.17   \n",
       "Annualized Sortino Ratio                          2.66               2.66   \n",
       "Mean Absolute Deviation Ratio                     0.15               0.15   \n",
       "First Lower Partial Moment Ratio                  0.31               0.31   \n",
       "Value at Risk Ratio at 95%                       0.082              0.083   \n",
       "CVaR Ratio at 95%                                0.059              0.059   \n",
       "Entropic Risk Measure Ratio at 95%             0.00065            0.00065   \n",
       "EVaR Ratio at 95%                                0.042              0.042   \n",
       "Worst Realization Ratio                          0.030              0.030   \n",
       "Drawdown at Risk Ratio at 95%                    0.018              0.018   \n",
       "CDaR Ratio at 95%                                0.015              0.015   \n",
       "Calmar Ratio                                     0.012              0.012   \n",
       "Average Drawdown Ratio                           0.051              0.051   \n",
       "EDaR Ratio at 95%                                0.014              0.014   \n",
       "Ulcer Index Ratio                                0.036              0.036   \n",
       "Gini Mean Difference Ratio                        0.11               0.11   \n",
       "Effective Number of Assets          2.2328787059078787  2.147730624616087   \n",
       "Assets Number                                        5                  5   \n",
       "\n",
       "                                      ptf42 - MeanRisk    ptf43 - MeanRisk  \\\n",
       "Mean                                             0.20%               0.20%   \n",
       "Annualized Mean                                 49.95%              50.51%   \n",
       "Variance                                        0.031%              0.032%   \n",
       "Annualized Variance                              7.85%               8.10%   \n",
       "Semi-Variance                                   0.014%              0.014%   \n",
       "Annualized Semi-Variance                         3.51%               3.61%   \n",
       "Standard Deviation                               1.76%               1.79%   \n",
       "Annualized Standard Deviation                   28.01%              28.45%   \n",
       "Semi-Deviation                                   1.18%               1.20%   \n",
       "Annualized Semi-Deviation                       18.73%              19.01%   \n",
       "Mean Absolute Deviation                          1.29%               1.31%   \n",
       "CVaR at 95%                                      3.36%               3.46%   \n",
       "EVaR at 95%                                      4.71%               4.65%   \n",
       "Worst Realization                                6.62%               6.37%   \n",
       "CDaR at 95%                                     13.31%              13.65%   \n",
       "MAX Drawdown                                    16.48%              16.90%   \n",
       "Average Drawdown                                 3.89%               3.92%   \n",
       "EDaR at 95%                                     14.44%              14.76%   \n",
       "First Lower Partial Moment                       0.65%               0.65%   \n",
       "Ulcer Index                                      0.055               0.055   \n",
       "Gini Mean Difference                             1.88%               1.90%   \n",
       "Value at Risk at 95%                             2.38%               2.40%   \n",
       "Drawdown at Risk at 95%                         11.33%              11.24%   \n",
       "Entropic Risk Measure at 95%                      2.99                2.99   \n",
       "Fourth Central Moment                        0.000070%           0.000084%   \n",
       "Fourth Lower Partial Moment                  0.000017%           0.000018%   \n",
       "Skew                                              0.66                0.74   \n",
       "Kurtosis                                          7.22                8.16   \n",
       "Sharpe Ratio                                      0.11                0.11   \n",
       "Annualized Sharpe Ratio                           1.78                1.78   \n",
       "Sortino Ratio                                     0.17                0.17   \n",
       "Annualized Sortino Ratio                          2.67                2.66   \n",
       "Mean Absolute Deviation Ratio                     0.15                0.15   \n",
       "First Lower Partial Moment Ratio                  0.31                0.31   \n",
       "Value at Risk Ratio at 95%                       0.083               0.084   \n",
       "CVaR Ratio at 95%                                0.059               0.058   \n",
       "Entropic Risk Measure Ratio at 95%             0.00066             0.00067   \n",
       "EVaR Ratio at 95%                                0.042               0.043   \n",
       "Worst Realization Ratio                          0.030               0.031   \n",
       "Drawdown at Risk Ratio at 95%                    0.017               0.018   \n",
       "CDaR Ratio at 95%                                0.015               0.015   \n",
       "Calmar Ratio                                     0.012               0.012   \n",
       "Average Drawdown Ratio                           0.051               0.051   \n",
       "EDaR Ratio at 95%                                0.014               0.014   \n",
       "Ulcer Index Ratio                                0.036               0.036   \n",
       "Gini Mean Difference Ratio                        0.11                0.11   \n",
       "Effective Number of Assets          2.0321427702134556  1.9810733647922465   \n",
       "Assets Number                                        5                   5   \n",
       "\n",
       "                                     ptf44 - MeanRisk    ptf45 - MeanRisk  \\\n",
       "Mean                                            0.20%               0.20%   \n",
       "Annualized Mean                                51.07%              51.64%   \n",
       "Variance                                       0.034%              0.036%   \n",
       "Annualized Variance                             8.53%               9.15%   \n",
       "Semi-Variance                                  0.015%              0.016%   \n",
       "Annualized Semi-Variance                        3.78%               4.02%   \n",
       "Standard Deviation                              1.84%               1.91%   \n",
       "Annualized Standard Deviation                  29.21%              30.26%   \n",
       "Semi-Deviation                                  1.23%               1.26%   \n",
       "Annualized Semi-Deviation                      19.45%              20.04%   \n",
       "Mean Absolute Deviation                         1.33%               1.36%   \n",
       "CVaR at 95%                                     3.61%               3.75%   \n",
       "EVaR at 95%                                     4.70%               5.03%   \n",
       "Worst Realization                               6.00%               6.86%   \n",
       "CDaR at 95%                                    14.03%              14.43%   \n",
       "MAX Drawdown                                   17.34%              17.77%   \n",
       "Average Drawdown                                3.94%               3.97%   \n",
       "EDaR at 95%                                    15.12%              15.50%   \n",
       "First Lower Partial Moment                      0.66%               0.68%   \n",
       "Ulcer Index                                     0.055               0.056   \n",
       "Gini Mean Difference                            1.94%               1.98%   \n",
       "Value at Risk at 95%                            2.40%               2.50%   \n",
       "Drawdown at Risk at 95%                        11.91%              12.53%   \n",
       "Entropic Risk Measure at 95%                     2.99                2.99   \n",
       "Fourth Central Moment                        0.00012%            0.00017%   \n",
       "Fourth Lower Partial Moment                 0.000020%           0.000024%   \n",
       "Skew                                             0.92                1.16   \n",
       "Kurtosis                                        10.32               13.19   \n",
       "Sharpe Ratio                                     0.11                0.11   \n",
       "Annualized Sharpe Ratio                          1.75                1.71   \n",
       "Sortino Ratio                                    0.17                0.16   \n",
       "Annualized Sortino Ratio                         2.63                2.58   \n",
       "Mean Absolute Deviation Ratio                    0.15                0.15   \n",
       "First Lower Partial Moment Ratio                 0.31                0.30   \n",
       "Value at Risk Ratio at 95%                      0.084               0.082   \n",
       "CVaR Ratio at 95%                               0.056               0.055   \n",
       "Entropic Risk Measure Ratio at 95%            0.00068             0.00068   \n",
       "EVaR Ratio at 95%                               0.043               0.041   \n",
       "Worst Realization Ratio                         0.034               0.030   \n",
       "Drawdown at Risk Ratio at 95%                   0.017               0.016   \n",
       "CDaR Ratio at 95%                               0.014               0.014   \n",
       "Calmar Ratio                                    0.012               0.012   \n",
       "Average Drawdown Ratio                          0.051               0.052   \n",
       "EDaR Ratio at 95%                               0.013               0.013   \n",
       "Ulcer Index Ratio                               0.037               0.037   \n",
       "Gini Mean Difference Ratio                       0.10                0.10   \n",
       "Effective Number of Assets          1.884013416145251  1.7259251991078277   \n",
       "Assets Number                                       5                   5   \n",
       "\n",
       "                                      ptf46 - MeanRisk    ptf47 - MeanRisk  \\\n",
       "Mean                                             0.21%               0.21%   \n",
       "Annualized Mean                                 52.20%              52.76%   \n",
       "Variance                                        0.040%              0.044%   \n",
       "Annualized Variance                              9.97%              10.98%   \n",
       "Semi-Variance                                   0.017%              0.019%   \n",
       "Annualized Semi-Variance                         4.31%               4.67%   \n",
       "Standard Deviation                               1.99%               2.09%   \n",
       "Annualized Standard Deviation                   31.57%              33.13%   \n",
       "Semi-Deviation                                   1.31%               1.36%   \n",
       "Annualized Semi-Deviation                       20.76%              21.60%   \n",
       "Mean Absolute Deviation                          1.39%               1.43%   \n",
       "CVaR at 95%                                      3.91%               4.09%   \n",
       "EVaR at 95%                                      5.52%               6.07%   \n",
       "Worst Realization                                7.79%               8.71%   \n",
       "CDaR at 95%                                     14.87%              15.31%   \n",
       "MAX Drawdown                                    18.21%              18.65%   \n",
       "Average Drawdown                                 4.01%               4.12%   \n",
       "EDaR at 95%                                     15.91%              16.33%   \n",
       "First Lower Partial Moment                       0.69%               0.72%   \n",
       "Ulcer Index                                      0.056               0.058   \n",
       "Gini Mean Difference                             2.04%               2.10%   \n",
       "Value at Risk at 95%                             2.60%               2.71%   \n",
       "Drawdown at Risk at 95%                         12.36%              12.19%   \n",
       "Entropic Risk Measure at 95%                      2.99                2.99   \n",
       "Fourth Central Moment                         0.00026%            0.00037%   \n",
       "Fourth Lower Partial Moment                  0.000031%           0.000041%   \n",
       "Skew                                              1.40                1.64   \n",
       "Kurtosis                                         16.34               19.41   \n",
       "Sharpe Ratio                                      0.10                0.10   \n",
       "Annualized Sharpe Ratio                           1.65                1.59   \n",
       "Sortino Ratio                                     0.16                0.15   \n",
       "Annualized Sortino Ratio                          2.51                2.44   \n",
       "Mean Absolute Deviation Ratio                     0.15                0.15   \n",
       "First Lower Partial Moment Ratio                  0.30                0.29   \n",
       "Value at Risk Ratio at 95%                       0.080               0.077   \n",
       "CVaR Ratio at 95%                                0.053               0.051   \n",
       "Entropic Risk Measure Ratio at 95%             0.00069             0.00070   \n",
       "EVaR Ratio at 95%                                0.038               0.034   \n",
       "Worst Realization Ratio                          0.027               0.024   \n",
       "Drawdown at Risk Ratio at 95%                    0.017               0.017   \n",
       "CDaR Ratio at 95%                                0.014               0.014   \n",
       "Calmar Ratio                                     0.011               0.011   \n",
       "Average Drawdown Ratio                           0.052               0.051   \n",
       "EDaR Ratio at 95%                                0.013               0.013   \n",
       "Ulcer Index Ratio                                0.037               0.036   \n",
       "Gini Mean Difference Ratio                        0.10               0.100   \n",
       "Effective Number of Assets          1.5369717849200895  1.3432310181782607   \n",
       "Assets Number                                        5                   5   \n",
       "\n",
       "                                      ptf48 - MeanRisk   ptf49 - MeanRisk  \n",
       "Mean                                             0.21%              0.21%  \n",
       "Annualized Mean                                 53.32%             53.88%  \n",
       "Variance                                        0.048%             0.054%  \n",
       "Annualized Variance                             12.17%             13.56%  \n",
       "Semi-Variance                                   0.020%             0.022%  \n",
       "Annualized Semi-Variance                         5.08%              5.57%  \n",
       "Standard Deviation                               2.20%              2.32%  \n",
       "Annualized Standard Deviation                   34.89%             36.82%  \n",
       "Semi-Deviation                                   1.42%              1.49%  \n",
       "Annualized Semi-Deviation                       22.54%             23.61%  \n",
       "Mean Absolute Deviation                          1.49%              1.56%  \n",
       "CVaR at 95%                                      4.27%              4.47%  \n",
       "EVaR at 95%                                      6.65%              7.24%  \n",
       "Worst Realization                                9.64%             10.56%  \n",
       "CDaR at 95%                                     15.75%             16.20%  \n",
       "MAX Drawdown                                    19.08%             19.52%  \n",
       "Average Drawdown                                 4.31%              4.52%  \n",
       "EDaR at 95%                                     16.77%             17.22%  \n",
       "First Lower Partial Moment                       0.75%              0.78%  \n",
       "Ulcer Index                                      0.060              0.063  \n",
       "Gini Mean Difference                             2.18%              2.28%  \n",
       "Value at Risk at 95%                             2.72%              2.70%  \n",
       "Drawdown at Risk at 95%                         12.02%             12.54%  \n",
       "Entropic Risk Measure at 95%                      2.99               2.99  \n",
       "Fourth Central Moment                         0.00052%           0.00071%  \n",
       "Fourth Lower Partial Moment                  0.000055%          0.000074%  \n",
       "Skew                                              1.84               2.01  \n",
       "Kurtosis                                         22.18              24.54  \n",
       "Sharpe Ratio                                     0.096              0.092  \n",
       "Annualized Sharpe Ratio                           1.53               1.46  \n",
       "Sortino Ratio                                     0.15               0.14  \n",
       "Annualized Sortino Ratio                          2.37               2.28  \n",
       "Mean Absolute Deviation Ratio                     0.14               0.14  \n",
       "First Lower Partial Moment Ratio                  0.28               0.27  \n",
       "Value at Risk Ratio at 95%                       0.078              0.079  \n",
       "CVaR Ratio at 95%                                0.050              0.048  \n",
       "Entropic Risk Measure Ratio at 95%             0.00071            0.00071  \n",
       "EVaR Ratio at 95%                                0.032              0.030  \n",
       "Worst Realization Ratio                          0.022              0.020  \n",
       "Drawdown at Risk Ratio at 95%                    0.018              0.017  \n",
       "CDaR Ratio at 95%                                0.013              0.013  \n",
       "Calmar Ratio                                     0.011              0.011  \n",
       "Average Drawdown Ratio                           0.049              0.047  \n",
       "EDaR Ratio at 95%                                0.013              0.012  \n",
       "Ulcer Index Ratio                                0.035              0.034  \n",
       "Gini Mean Difference Ratio                       0.097              0.094  \n",
       "Effective Number of Assets          1.1615345717642873  1.000000286119796  \n",
       "Assets Number                                        5                  5  \n",
       "\n",
       "[48 rows x 50 columns]"
      ]
     },
     "execution_count": 26,
     "metadata": {},
     "output_type": "execute_result"
    }
   ],
   "source": [
    "efficient_frontier.summary()"
   ]
  },
  {
   "cell_type": "code",
   "execution_count": null,
   "metadata": {},
   "outputs": [],
   "source": []
  }
 ],
 "metadata": {
  "kernelspec": {
   "display_name": "medium_venv",
   "language": "python",
   "name": "python3"
  },
  "language_info": {
   "codemirror_mode": {
    "name": "ipython",
    "version": 3
   },
   "file_extension": ".py",
   "mimetype": "text/x-python",
   "name": "python",
   "nbconvert_exporter": "python",
   "pygments_lexer": "ipython3",
   "version": "3.11.7"
  }
 },
 "nbformat": 4,
 "nbformat_minor": 2
}
