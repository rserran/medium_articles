{
 "cells": [
  {
   "cell_type": "markdown",
   "metadata": {},
   "source": [
    "# Portfolio Optimization in Python 101 - SciPy edition"
   ]
  },
  {
   "cell_type": "markdown",
   "metadata": {},
   "source": [
    "## Setup"
   ]
  },
  {
   "cell_type": "code",
   "execution_count": 1,
   "metadata": {
    "metadata": {}
   },
   "outputs": [],
   "source": [
    "import requests\n",
    "import pandas as pd\n",
    "import numpy as np\n",
    "import scipy.optimize as sco\n",
    "import quantstats as qs\n",
    "\n",
    "# api key\n",
    "from api_keys import FMP_API_KEY"
   ]
  },
  {
   "cell_type": "markdown",
   "metadata": {},
   "source": [
    "## Downloading data"
   ]
  },
  {
   "cell_type": "code",
   "execution_count": 2,
   "metadata": {
    "metadata": {}
   },
   "outputs": [],
   "source": [
    "FAANG_TICKERS = [\"META\", \"AAPL\", \"AMZN\", \"NFLX\", \"GOOGL\"]\n",
    "START_DATE = \"2023-01-01\""
   ]
  },
  {
   "cell_type": "code",
   "execution_count": 3,
   "metadata": {
    "metadata": {}
   },
   "outputs": [],
   "source": [
    "def get_adj_close_price(symbol, start_date):\n",
    "    hist_price_url = f\"https://financialmodelingprep.com/api/v3/historical-price-full/{symbol}?from={start_date}&apikey={FMP_API_KEY}\"\n",
    "    r_json = requests.get(hist_price_url).json()\n",
    "    df = pd.DataFrame(r_json[\"historical\"]).set_index(\"date\").sort_index()\n",
    "    df.index = pd.to_datetime(df.index)\n",
    "    return df[[\"adjClose\"]].rename(columns={\"adjClose\": symbol})"
   ]
  },
  {
   "cell_type": "code",
   "execution_count": 4,
   "metadata": {
    "metadata": {}
   },
   "outputs": [
    {
     "data": {
      "text/html": [
       "<div>\n",
       "<style scoped>\n",
       "    .dataframe tbody tr th:only-of-type {\n",
       "        vertical-align: middle;\n",
       "    }\n",
       "\n",
       "    .dataframe tbody tr th {\n",
       "        vertical-align: top;\n",
       "    }\n",
       "\n",
       "    .dataframe thead th {\n",
       "        text-align: right;\n",
       "    }\n",
       "</style>\n",
       "<table border=\"1\" class=\"dataframe\">\n",
       "  <thead>\n",
       "    <tr style=\"text-align: right;\">\n",
       "      <th></th>\n",
       "      <th>META</th>\n",
       "      <th>AAPL</th>\n",
       "      <th>AMZN</th>\n",
       "      <th>NFLX</th>\n",
       "      <th>GOOGL</th>\n",
       "    </tr>\n",
       "    <tr>\n",
       "      <th>date</th>\n",
       "      <th></th>\n",
       "      <th></th>\n",
       "      <th></th>\n",
       "      <th></th>\n",
       "      <th></th>\n",
       "    </tr>\n",
       "  </thead>\n",
       "  <tbody>\n",
       "    <tr>\n",
       "      <th>2023-01-03</th>\n",
       "      <td>124.61</td>\n",
       "      <td>124.22</td>\n",
       "      <td>85.82</td>\n",
       "      <td>294.950012</td>\n",
       "      <td>89.12</td>\n",
       "    </tr>\n",
       "    <tr>\n",
       "      <th>2023-01-04</th>\n",
       "      <td>127.24</td>\n",
       "      <td>125.50</td>\n",
       "      <td>85.14</td>\n",
       "      <td>309.410004</td>\n",
       "      <td>88.08</td>\n",
       "    </tr>\n",
       "    <tr>\n",
       "      <th>2023-01-05</th>\n",
       "      <td>126.81</td>\n",
       "      <td>124.17</td>\n",
       "      <td>83.12</td>\n",
       "      <td>309.700012</td>\n",
       "      <td>86.20</td>\n",
       "    </tr>\n",
       "    <tr>\n",
       "      <th>2023-01-06</th>\n",
       "      <td>129.88</td>\n",
       "      <td>128.74</td>\n",
       "      <td>86.08</td>\n",
       "      <td>315.549988</td>\n",
       "      <td>87.34</td>\n",
       "    </tr>\n",
       "    <tr>\n",
       "      <th>2023-01-09</th>\n",
       "      <td>129.33</td>\n",
       "      <td>129.26</td>\n",
       "      <td>87.36</td>\n",
       "      <td>315.170013</td>\n",
       "      <td>88.02</td>\n",
       "    </tr>\n",
       "    <tr>\n",
       "      <th>...</th>\n",
       "      <td>...</td>\n",
       "      <td>...</td>\n",
       "      <td>...</td>\n",
       "      <td>...</td>\n",
       "      <td>...</td>\n",
       "    </tr>\n",
       "    <tr>\n",
       "      <th>2024-04-26</th>\n",
       "      <td>443.29</td>\n",
       "      <td>169.30</td>\n",
       "      <td>179.62</td>\n",
       "      <td>561.230000</td>\n",
       "      <td>171.95</td>\n",
       "    </tr>\n",
       "    <tr>\n",
       "      <th>2024-04-29</th>\n",
       "      <td>432.62</td>\n",
       "      <td>173.50</td>\n",
       "      <td>180.96</td>\n",
       "      <td>559.490000</td>\n",
       "      <td>166.15</td>\n",
       "    </tr>\n",
       "    <tr>\n",
       "      <th>2024-04-30</th>\n",
       "      <td>430.17</td>\n",
       "      <td>170.33</td>\n",
       "      <td>175.00</td>\n",
       "      <td>550.640000</td>\n",
       "      <td>162.78</td>\n",
       "    </tr>\n",
       "    <tr>\n",
       "      <th>2024-05-01</th>\n",
       "      <td>439.19</td>\n",
       "      <td>169.30</td>\n",
       "      <td>179.00</td>\n",
       "      <td>551.710000</td>\n",
       "      <td>163.86</td>\n",
       "    </tr>\n",
       "    <tr>\n",
       "      <th>2024-05-02</th>\n",
       "      <td>441.68</td>\n",
       "      <td>173.03</td>\n",
       "      <td>184.72</td>\n",
       "      <td>565.150000</td>\n",
       "      <td>166.62</td>\n",
       "    </tr>\n",
       "  </tbody>\n",
       "</table>\n",
       "<p>335 rows × 5 columns</p>\n",
       "</div>"
      ],
      "text/plain": [
       "              META    AAPL    AMZN        NFLX   GOOGL\n",
       "date                                                  \n",
       "2023-01-03  124.61  124.22   85.82  294.950012   89.12\n",
       "2023-01-04  127.24  125.50   85.14  309.410004   88.08\n",
       "2023-01-05  126.81  124.17   83.12  309.700012   86.20\n",
       "2023-01-06  129.88  128.74   86.08  315.549988   87.34\n",
       "2023-01-09  129.33  129.26   87.36  315.170013   88.02\n",
       "...            ...     ...     ...         ...     ...\n",
       "2024-04-26  443.29  169.30  179.62  561.230000  171.95\n",
       "2024-04-29  432.62  173.50  180.96  559.490000  166.15\n",
       "2024-04-30  430.17  170.33  175.00  550.640000  162.78\n",
       "2024-05-01  439.19  169.30  179.00  551.710000  163.86\n",
       "2024-05-02  441.68  173.03  184.72  565.150000  166.62\n",
       "\n",
       "[335 rows x 5 columns]"
      ]
     },
     "execution_count": 4,
     "metadata": {},
     "output_type": "execute_result"
    }
   ],
   "source": [
    "price_df_list = []\n",
    "for ticker in FAANG_TICKERS:\n",
    "    price_df_list.append(get_adj_close_price(ticker, START_DATE))\n",
    "prices_df = price_df_list[0].join(price_df_list[1:])\n",
    "prices_df"
   ]
  },
  {
   "cell_type": "code",
   "execution_count": 5,
   "metadata": {
    "metadata": {}
   },
   "outputs": [
    {
     "data": {
      "text/html": [
       "<div>\n",
       "<style scoped>\n",
       "    .dataframe tbody tr th:only-of-type {\n",
       "        vertical-align: middle;\n",
       "    }\n",
       "\n",
       "    .dataframe tbody tr th {\n",
       "        vertical-align: top;\n",
       "    }\n",
       "\n",
       "    .dataframe thead th {\n",
       "        text-align: right;\n",
       "    }\n",
       "</style>\n",
       "<table border=\"1\" class=\"dataframe\">\n",
       "  <thead>\n",
       "    <tr style=\"text-align: right;\">\n",
       "      <th></th>\n",
       "      <th>META</th>\n",
       "      <th>AAPL</th>\n",
       "      <th>AMZN</th>\n",
       "      <th>NFLX</th>\n",
       "      <th>GOOGL</th>\n",
       "    </tr>\n",
       "    <tr>\n",
       "      <th>date</th>\n",
       "      <th></th>\n",
       "      <th></th>\n",
       "      <th></th>\n",
       "      <th></th>\n",
       "      <th></th>\n",
       "    </tr>\n",
       "  </thead>\n",
       "  <tbody>\n",
       "    <tr>\n",
       "      <th>2023-01-04</th>\n",
       "      <td>0.021106</td>\n",
       "      <td>0.010304</td>\n",
       "      <td>-0.007924</td>\n",
       "      <td>0.049025</td>\n",
       "      <td>-0.011670</td>\n",
       "    </tr>\n",
       "    <tr>\n",
       "      <th>2023-01-05</th>\n",
       "      <td>-0.003379</td>\n",
       "      <td>-0.010598</td>\n",
       "      <td>-0.023726</td>\n",
       "      <td>0.000937</td>\n",
       "      <td>-0.021344</td>\n",
       "    </tr>\n",
       "    <tr>\n",
       "      <th>2023-01-06</th>\n",
       "      <td>0.024209</td>\n",
       "      <td>0.036804</td>\n",
       "      <td>0.035611</td>\n",
       "      <td>0.018889</td>\n",
       "      <td>0.013225</td>\n",
       "    </tr>\n",
       "    <tr>\n",
       "      <th>2023-01-09</th>\n",
       "      <td>-0.004235</td>\n",
       "      <td>0.004039</td>\n",
       "      <td>0.014870</td>\n",
       "      <td>-0.001204</td>\n",
       "      <td>0.007786</td>\n",
       "    </tr>\n",
       "    <tr>\n",
       "      <th>2023-01-10</th>\n",
       "      <td>0.027217</td>\n",
       "      <td>0.004487</td>\n",
       "      <td>0.028732</td>\n",
       "      <td>0.039249</td>\n",
       "      <td>0.004544</td>\n",
       "    </tr>\n",
       "    <tr>\n",
       "      <th>...</th>\n",
       "      <td>...</td>\n",
       "      <td>...</td>\n",
       "      <td>...</td>\n",
       "      <td>...</td>\n",
       "      <td>...</td>\n",
       "    </tr>\n",
       "    <tr>\n",
       "      <th>2024-04-26</th>\n",
       "      <td>0.004327</td>\n",
       "      <td>-0.003473</td>\n",
       "      <td>0.034260</td>\n",
       "      <td>-0.006321</td>\n",
       "      <td>0.102244</td>\n",
       "    </tr>\n",
       "    <tr>\n",
       "      <th>2024-04-29</th>\n",
       "      <td>-0.024070</td>\n",
       "      <td>0.024808</td>\n",
       "      <td>0.007460</td>\n",
       "      <td>-0.003100</td>\n",
       "      <td>-0.033731</td>\n",
       "    </tr>\n",
       "    <tr>\n",
       "      <th>2024-04-30</th>\n",
       "      <td>-0.005663</td>\n",
       "      <td>-0.018271</td>\n",
       "      <td>-0.032935</td>\n",
       "      <td>-0.015818</td>\n",
       "      <td>-0.020283</td>\n",
       "    </tr>\n",
       "    <tr>\n",
       "      <th>2024-05-01</th>\n",
       "      <td>0.020968</td>\n",
       "      <td>-0.006047</td>\n",
       "      <td>0.022857</td>\n",
       "      <td>0.001943</td>\n",
       "      <td>0.006635</td>\n",
       "    </tr>\n",
       "    <tr>\n",
       "      <th>2024-05-02</th>\n",
       "      <td>0.005670</td>\n",
       "      <td>0.022032</td>\n",
       "      <td>0.031955</td>\n",
       "      <td>0.024361</td>\n",
       "      <td>0.016844</td>\n",
       "    </tr>\n",
       "  </tbody>\n",
       "</table>\n",
       "<p>334 rows × 5 columns</p>\n",
       "</div>"
      ],
      "text/plain": [
       "                META      AAPL      AMZN      NFLX     GOOGL\n",
       "date                                                        \n",
       "2023-01-04  0.021106  0.010304 -0.007924  0.049025 -0.011670\n",
       "2023-01-05 -0.003379 -0.010598 -0.023726  0.000937 -0.021344\n",
       "2023-01-06  0.024209  0.036804  0.035611  0.018889  0.013225\n",
       "2023-01-09 -0.004235  0.004039  0.014870 -0.001204  0.007786\n",
       "2023-01-10  0.027217  0.004487  0.028732  0.039249  0.004544\n",
       "...              ...       ...       ...       ...       ...\n",
       "2024-04-26  0.004327 -0.003473  0.034260 -0.006321  0.102244\n",
       "2024-04-29 -0.024070  0.024808  0.007460 -0.003100 -0.033731\n",
       "2024-04-30 -0.005663 -0.018271 -0.032935 -0.015818 -0.020283\n",
       "2024-05-01  0.020968 -0.006047  0.022857  0.001943  0.006635\n",
       "2024-05-02  0.005670  0.022032  0.031955  0.024361  0.016844\n",
       "\n",
       "[334 rows x 5 columns]"
      ]
     },
     "execution_count": 5,
     "metadata": {},
     "output_type": "execute_result"
    }
   ],
   "source": [
    "returns_df = prices_df.pct_change().dropna()\n",
    "returns_df"
   ]
  },
  {
   "cell_type": "markdown",
   "metadata": {},
   "source": [
    "## Portfolio Optimization"
   ]
  },
  {
   "cell_type": "code",
   "execution_count": 6,
   "metadata": {
    "metadata": {}
   },
   "outputs": [
    {
     "data": {
      "text/plain": [
       "META     0.00\n",
       "AAPL     0.74\n",
       "AMZN     0.11\n",
       "NFLX     0.07\n",
       "GOOGL    0.08\n",
       "dtype: float64"
      ]
     },
     "execution_count": 6,
     "metadata": {},
     "output_type": "execute_result"
    }
   ],
   "source": [
    "# Calculate the annualized expected returns and the covariance matrix\n",
    "avg_returns = returns_df.mean() * 252\n",
    "cov_mat = returns_df.cov() * 252\n",
    "\n",
    "# Define the function to find the portfolio volatility using the weights and the covariance matrix\n",
    "def get_portfolio_volatility(weights, cov_mat):\n",
    "    return np.sqrt(np.dot(weights.T, np.dot(cov_mat, weights)))\n",
    "\n",
    "# Define the number of assets\n",
    "n_assets = len(avg_returns)\n",
    "\n",
    "# Define the bounds - the weights can be between 0 and 1\n",
    "bounds = tuple((0, 1) for asset in range(n_assets))\n",
    "\n",
    "# Define the initial guess - the equally weighted portfolio\n",
    "initial_guess = n_assets * [1.0 / n_assets]\n",
    "\n",
    "# Define the constraint - all weights must add up to 1\n",
    "constr = {\"type\": \"eq\", \"fun\": lambda x: np.sum(x) - 1}\n",
    "\n",
    "# Find the minimum volatility portfolio\n",
    "min_vol_portf = sco.minimize(\n",
    "    get_portfolio_volatility,\n",
    "    x0=initial_guess,\n",
    "    args=cov_mat,\n",
    "    method=\"SLSQP\",\n",
    "    constraints=constr,\n",
    "    bounds=bounds,\n",
    ")\n",
    "\n",
    "# Store the portfolio weights\n",
    "min_vol_portf_weights = pd.Series(min_vol_portf.x, index=avg_returns.index).round(2)\n",
    "min_vol_portf_weights"
   ]
  },
  {
   "cell_type": "code",
   "execution_count": 7,
   "metadata": {
    "metadata": {}
   },
   "outputs": [
    {
     "data": {
      "text/plain": [
       "0.1962945144198569"
      ]
     },
     "execution_count": 7,
     "metadata": {},
     "output_type": "execute_result"
    }
   ],
   "source": [
    "min_vol_portf.fun"
   ]
  },
  {
   "cell_type": "code",
   "execution_count": 8,
   "metadata": {
    "metadata": {}
   },
   "outputs": [],
   "source": [
    "def get_neg_sharpe_ratio(weights, avg_rtns, cov_mat, rf_rate):\n",
    "    portf_returns = np.sum(avg_rtns * weights)\n",
    "    portf_volatility = np.sqrt(np.dot(weights.T, np.dot(cov_mat, weights)))\n",
    "    portf_sharpe_ratio = (portf_returns - rf_rate) / portf_volatility\n",
    "    return -portf_sharpe_ratio"
   ]
  },
  {
   "cell_type": "code",
   "execution_count": 9,
   "metadata": {
    "metadata": {}
   },
   "outputs": [
    {
     "data": {
      "text/plain": [
       "META     0.50\n",
       "AAPL     0.00\n",
       "AMZN     0.17\n",
       "NFLX     0.21\n",
       "GOOGL    0.11\n",
       "dtype: float64"
      ]
     },
     "execution_count": 9,
     "metadata": {},
     "output_type": "execute_result"
    }
   ],
   "source": [
    "RF_RATE = 0\n",
    "args = (avg_returns, cov_mat, RF_RATE)\n",
    "\n",
    "max_sharpe_portf = sco.minimize(\n",
    "    get_neg_sharpe_ratio,\n",
    "    x0=initial_guess,\n",
    "    args=args,\n",
    "    method=\"SLSQP\",\n",
    "    bounds=bounds,\n",
    "    constraints=constr,\n",
    ")\n",
    "\n",
    "# Store the portfolio weights\n",
    "max_sharpe_portf_weights = pd.Series(max_sharpe_portf.x, index=avg_returns.index).round(2)\n",
    "max_sharpe_portf_weights"
   ]
  },
  {
   "cell_type": "code",
   "execution_count": 10,
   "metadata": {
    "metadata": {}
   },
   "outputs": [
    {
     "data": {
      "text/plain": [
       "-2.6415646355541904"
      ]
     },
     "execution_count": 10,
     "metadata": {},
     "output_type": "execute_result"
    }
   ],
   "source": [
    "max_sharpe_portf.fun"
   ]
  },
  {
   "cell_type": "markdown",
   "metadata": {},
   "source": [
    "## Evaluating the Portfolios"
   ]
  },
  {
   "cell_type": "code",
   "execution_count": 14,
   "metadata": {
    "metadata": {}
   },
   "outputs": [
    {
     "name": "stderr",
     "output_type": "stream",
     "text": [
      "[*********************100%%**********************]  1 of 1 completed"
     ]
    },
    {
     "name": "stdout",
     "output_type": "stream",
     "text": [
      "                    Benchmark (SPY)    Strategy\n",
      "------------------  -----------------  ----------\n",
      "Start Period        2023-01-04         2023-01-04\n",
      "End Period          2024-05-02         2024-05-02\n",
      "Risk-Free Rate      0.0%               0.0%\n",
      "Time in Market      100.0%             100.0%\n",
      "\n",
      "Cumulative Return   31.6%              53.66%\n",
      "CAGR﹪              15.37%             25.06%\n",
      "\n",
      "Sharpe              1.68               1.75\n",
      "Prob. Sharpe Ratio  97.32%             97.87%\n",
      "Sortino             2.57               2.73\n",
      "Sortino/√2          1.82               1.93\n",
      "Omega               1.33               1.33\n",
      "\n",
      "Max Drawdown        -10.29%            -13.15%\n",
      "Longest DD Days     122                109\n",
      "\n",
      "Gain/Pain Ratio     0.31               0.33\n",
      "Gain/Pain (1M)      1.86               2.77\n",
      "\n",
      "Payoff Ratio        1.06               1.03\n",
      "Profit Factor       1.31               1.33\n",
      "Common Sense Ratio  1.34               1.46\n",
      "CPC Index           0.76               0.77\n",
      "Tail Ratio          1.02               1.1\n",
      "Outlier Win Ratio   4.15               2.75\n",
      "Outlier Loss Ratio  3.57               2.31\n",
      "\n",
      "MTD                 0.61%              2.15%\n",
      "3M                  3.24%              -2.36%\n",
      "6M                  19.49%             8.11%\n",
      "YTD                 6.25%              -2.79%\n",
      "1Y                  21.54%             18.34%\n",
      "3Y (ann.)           15.37%             25.06%\n",
      "5Y (ann.)           15.37%             25.06%\n",
      "10Y (ann.)          15.37%             25.06%\n",
      "All-time (ann.)     15.37%             25.06%\n",
      "\n",
      "Avg. Drawdown       -1.61%             -2.49%\n",
      "Avg. Drawdown Days  12                 13\n",
      "Recovery Factor     2.78               3.46\n",
      "Ulcer Index         0.03               0.05\n",
      "Serenity Index      1.3                1.28\n"
     ]
    },
    {
     "name": "stderr",
     "output_type": "stream",
     "text": [
      "\n",
      "/Users/elewinson/Documents/private/medium_articles/venv/lib/python3.11/site-packages/quantstats/stats.py:510: FutureWarning: 'M' is deprecated and will be removed in a future version, please use 'ME' instead.\n",
      "  returns = _utils._prepare_returns(returns, rf).resample(resolution).sum()\n"
     ]
    }
   ],
   "source": [
    "min_vol_portf_returns = returns_df.dot(min_vol_portf_weights)\n",
    "qs.reports.metrics(min_vol_portf_returns, benchmark=\"SPY\", mode=\"basic\", rf=0)"
   ]
  },
  {
   "cell_type": "code",
   "execution_count": 15,
   "metadata": {
    "metadata": {}
   },
   "outputs": [
    {
     "name": "stderr",
     "output_type": "stream",
     "text": [
      "[*********************100%%**********************]  1 of 1 completed"
     ]
    },
    {
     "name": "stdout",
     "output_type": "stream",
     "text": [
      "                    Benchmark (SPY)    Strategy\n",
      "------------------  -----------------  ----------\n",
      "Start Period        2023-01-04         2023-01-04\n",
      "End Period          2024-05-02         2024-05-02\n",
      "Risk-Free Rate      0.0%               0.0%\n",
      "Time in Market      100.0%             100.0%\n",
      "\n",
      "Cumulative Return   31.6%              167.27%\n",
      "CAGR﹪              15.37%             66.84%\n",
      "\n",
      "Sharpe              1.68               2.6\n",
      "Prob. Sharpe Ratio  97.32%             99.96%\n",
      "Sortino             2.57               4.85\n",
      "Sortino/√2          1.82               3.43\n",
      "Omega               1.6                1.6\n",
      "\n",
      "Max Drawdown        -10.29%            -12.51%\n",
      "Longest DD Days     122                91\n",
      "\n",
      "Gain/Pain Ratio     0.31               0.6\n",
      "Gain/Pain (1M)      1.86               7.73\n",
      "\n",
      "Payoff Ratio        1.07               1.2\n",
      "Profit Factor       1.31               1.6\n",
      "Common Sense Ratio  1.34               1.82\n",
      "CPC Index           0.77               1.08\n",
      "Tail Ratio          1.02               1.13\n",
      "Outlier Win Ratio   4.85               2.14\n",
      "Outlier Loss Ratio  4.49               2.33\n",
      "\n",
      "MTD                 0.61%              3.1%\n",
      "3M                  3.24%              11.36%\n",
      "6M                  19.49%             38.97%\n",
      "YTD                 6.25%              22.78%\n",
      "1Y                  21.54%             79.77%\n",
      "3Y (ann.)           15.37%             66.84%\n",
      "5Y (ann.)           15.37%             66.84%\n",
      "10Y (ann.)          15.37%             66.84%\n",
      "All-time (ann.)     15.37%             66.84%\n",
      "\n",
      "Avg. Drawdown       -1.61%             -2.56%\n",
      "Avg. Drawdown Days  12                 9\n",
      "Recovery Factor     2.78               8.34\n",
      "Ulcer Index         0.03               0.04\n",
      "Serenity Index      1.3                6.2\n"
     ]
    },
    {
     "name": "stderr",
     "output_type": "stream",
     "text": [
      "\n",
      "/Users/elewinson/Documents/private/medium_articles/venv/lib/python3.11/site-packages/quantstats/stats.py:510: FutureWarning: 'M' is deprecated and will be removed in a future version, please use 'ME' instead.\n",
      "  returns = _utils._prepare_returns(returns, rf).resample(resolution).sum()\n"
     ]
    }
   ],
   "source": [
    "max_sharpe_portf_returns = returns_df.dot(max_sharpe_portf_weights)\n",
    "qs.reports.metrics(max_sharpe_portf_returns, benchmark=\"SPY\", mode=\"basic\", rf=0)"
   ]
  },
  {
   "cell_type": "code",
   "execution_count": null,
   "metadata": {},
   "outputs": [],
   "source": []
  }
 ],
 "metadata": {
  "kernelspec": {
   "display_name": "venv",
   "language": "python",
   "name": "python3"
  },
  "language_info": {
   "codemirror_mode": {
    "name": "ipython",
    "version": 3
   },
   "file_extension": ".py",
   "mimetype": "text/x-python",
   "name": "python",
   "nbconvert_exporter": "python",
   "pygments_lexer": "ipython3",
   "version": "3.11.6"
  }
 },
 "nbformat": 4,
 "nbformat_minor": 2
}
