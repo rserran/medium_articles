{
 "cells": [
  {
   "cell_type": "markdown",
   "metadata": {},
   "source": [
    "# A Simple Way to Turn Your Plots into GIFs in Python"
   ]
  },
  {
   "cell_type": "markdown",
   "metadata": {},
   "source": [
    "## Setup"
   ]
  },
  {
   "cell_type": "code",
   "execution_count": 1,
   "metadata": {},
   "outputs": [],
   "source": [
    "import numpy as np\n",
    "import pandas as pd\n",
    "import yfinance as yf\n",
    "\n",
    "import matplotlib.pyplot as plt\n",
    "import gif\n",
    "\n",
    "# settings\n",
    "plt.style.use(\"seaborn\")\n",
    "gif.options.matplotlib[\"dpi\"] = 300"
   ]
  },
  {
   "cell_type": "markdown",
   "metadata": {},
   "source": [
    "## Plot #1: a simple line plot"
   ]
  },
  {
   "cell_type": "code",
   "execution_count": 2,
   "metadata": {},
   "outputs": [
    {
     "name": "stdout",
     "output_type": "stream",
     "text": [
      "[*********************100%***********************]  1 of 1 completed\n"
     ]
    }
   ],
   "source": [
    "df = yf.download(\"TSLA\", \n",
    "                 start=\"2019-01-01\", \n",
    "                 end=\"2021-12-31\")"
   ]
  },
  {
   "cell_type": "code",
   "execution_count": 3,
   "metadata": {},
   "outputs": [],
   "source": [
    "tsla_df = df[[\"Adj Close\"]].resample(\"M\").last()"
   ]
  },
  {
   "cell_type": "code",
   "execution_count": 4,
   "metadata": {},
   "outputs": [],
   "source": [
    "@gif.frame\n",
    "def helper_plot_1(df, i):\n",
    "    df = df.copy()\n",
    "    df.iloc[i:] = np.nan\n",
    "    ax = df.plot(title=\"Tesla's stock price\", legend=False, style=\"o--\")\n",
    "    ax.set_xlabel(\"\")\n",
    "    ax.set_ylabel(\"Price ($)\")\n"
   ]
  },
  {
   "cell_type": "code",
   "execution_count": 5,
   "metadata": {},
   "outputs": [],
   "source": [
    "frames = []\n",
    "for i in range(1, len(tsla_df)):\n",
    "    frames.append(helper_plot_1(tsla_df, i))"
   ]
  },
  {
   "cell_type": "code",
   "execution_count": 6,
   "metadata": {},
   "outputs": [],
   "source": [
    "gif.save(frames, \"tesla_stock_price.gif\", \n",
    "         duration=15, unit=\"s\", \n",
    "         between=\"startend\")"
   ]
  },
  {
   "cell_type": "markdown",
   "metadata": {},
   "source": [
    "## Plot #2: multiple time series"
   ]
  },
  {
   "cell_type": "code",
   "execution_count": 7,
   "metadata": {},
   "outputs": [
    {
     "name": "stdout",
     "output_type": "stream",
     "text": [
      "[*********************100%***********************]  5 of 5 completed\n"
     ]
    },
    {
     "data": {
      "text/html": [
       "<div>\n",
       "<style scoped>\n",
       "    .dataframe tbody tr th:only-of-type {\n",
       "        vertical-align: middle;\n",
       "    }\n",
       "\n",
       "    .dataframe tbody tr th {\n",
       "        vertical-align: top;\n",
       "    }\n",
       "\n",
       "    .dataframe thead th {\n",
       "        text-align: right;\n",
       "    }\n",
       "</style>\n",
       "<table border=\"1\" class=\"dataframe\">\n",
       "  <thead>\n",
       "    <tr style=\"text-align: right;\">\n",
       "      <th></th>\n",
       "      <th>AAPL</th>\n",
       "      <th>AMZN</th>\n",
       "      <th>FB</th>\n",
       "      <th>TSLA</th>\n",
       "      <th>TWTR</th>\n",
       "    </tr>\n",
       "    <tr>\n",
       "      <th>Date</th>\n",
       "      <th></th>\n",
       "      <th></th>\n",
       "      <th></th>\n",
       "      <th></th>\n",
       "      <th></th>\n",
       "    </tr>\n",
       "  </thead>\n",
       "  <tbody>\n",
       "    <tr>\n",
       "      <th>2018-12-31</th>\n",
       "      <td>1.000000</td>\n",
       "      <td>1.000000</td>\n",
       "      <td>1.000000</td>\n",
       "      <td>1.000000</td>\n",
       "      <td>1.000000</td>\n",
       "    </tr>\n",
       "    <tr>\n",
       "      <th>2019-01-31</th>\n",
       "      <td>1.055154</td>\n",
       "      <td>1.144317</td>\n",
       "      <td>1.271569</td>\n",
       "      <td>0.922536</td>\n",
       "      <td>1.167711</td>\n",
       "    </tr>\n",
       "    <tr>\n",
       "      <th>2019-02-28</th>\n",
       "      <td>1.102400</td>\n",
       "      <td>1.091786</td>\n",
       "      <td>1.231597</td>\n",
       "      <td>0.961178</td>\n",
       "      <td>1.070981</td>\n",
       "    </tr>\n",
       "    <tr>\n",
       "      <th>2019-03-31</th>\n",
       "      <td>1.209361</td>\n",
       "      <td>1.185610</td>\n",
       "      <td>1.271569</td>\n",
       "      <td>0.840926</td>\n",
       "      <td>1.144050</td>\n",
       "    </tr>\n",
       "    <tr>\n",
       "      <th>2019-04-30</th>\n",
       "      <td>1.277613</td>\n",
       "      <td>1.282662</td>\n",
       "      <td>1.475322</td>\n",
       "      <td>0.717218</td>\n",
       "      <td>1.388657</td>\n",
       "    </tr>\n",
       "  </tbody>\n",
       "</table>\n",
       "</div>"
      ],
      "text/plain": [
       "                AAPL      AMZN        FB      TSLA      TWTR\n",
       "Date                                                        \n",
       "2018-12-31  1.000000  1.000000  1.000000  1.000000  1.000000\n",
       "2019-01-31  1.055154  1.144317  1.271569  0.922536  1.167711\n",
       "2019-02-28  1.102400  1.091786  1.231597  0.961178  1.070981\n",
       "2019-03-31  1.209361  1.185610  1.271569  0.840926  1.144050\n",
       "2019-04-30  1.277613  1.282662  1.475322  0.717218  1.388657"
      ]
     },
     "execution_count": 7,
     "metadata": {},
     "output_type": "execute_result"
    }
   ],
   "source": [
    "df = yf.download([\"TSLA\", \"TWTR\", \"FB\", \"AMZN\", \"AAPL\"], \n",
    "                 start=\"2019-01-01\", \n",
    "                 end=\"2021-12-31\")\n",
    "\n",
    "df = df[[\"Adj Close\"]].droplevel(0, axis=1).resample(\"M\").last()\n",
    "df = df.div(df.iloc[0])\n",
    "df.head()"
   ]
  },
  {
   "cell_type": "code",
   "execution_count": 8,
   "metadata": {},
   "outputs": [],
   "source": [
    "@gif.frame\n",
    "def helper_plot_2(df, i):\n",
    "    \n",
    "    df = df.copy()\n",
    "    df.iloc[i:] = np.nan\n",
    "    \n",
    "    ax = df.plot(title=\"Selected stocks' change of value\")\n",
    "    ax.set_xlabel(\"\")\n",
    "    \n",
    "    # move the legend below the plot\n",
    "    box = ax.get_position()\n",
    "    ax.set_position([box.x0, box.y0 + box.height * 0.1,\n",
    "                     box.width, box.height * 0.9])\n",
    "    ax.legend(loc=\"upper center\", bbox_to_anchor=(0.5, -0.1),\n",
    "              fancybox=True, shadow=True, ncol=5)"
   ]
  },
  {
   "cell_type": "code",
   "execution_count": 9,
   "metadata": {},
   "outputs": [],
   "source": [
    "frames = []\n",
    "for i in range(1, len(df)):\n",
    "    frames.append(helper_plot_2(df, i))"
   ]
  },
  {
   "cell_type": "code",
   "execution_count": 10,
   "metadata": {},
   "outputs": [],
   "source": [
    "gif.save(frames, \"stock_value.gif\", \n",
    "         duration=15, unit=\"s\", \n",
    "         between=\"startend\")"
   ]
  }
 ],
 "metadata": {
  "interpreter": {
   "hash": "7a69c2266b110675ecc07b5ecc882dddafd194e19eb5c2ee5598b2c3726b8e8e"
  },
  "kernelspec": {
   "display_name": "Python 3.8.12 64-bit ('medium': venv)",
   "language": "python",
   "name": "python3"
  },
  "language_info": {
   "codemirror_mode": {
    "name": "ipython",
    "version": 3
   },
   "file_extension": ".py",
   "mimetype": "text/x-python",
   "name": "python",
   "nbconvert_exporter": "python",
   "pygments_lexer": "ipython3",
   "version": "3.8.12"
  },
  "orig_nbformat": 4
 },
 "nbformat": 4,
 "nbformat_minor": 2
}
