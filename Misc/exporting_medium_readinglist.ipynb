{
 "cells": [
  {
   "cell_type": "markdown",
   "source": [
    "# A simple way to export your Medium's reading list to a Markdown file"
   ],
   "metadata": {}
  },
  {
   "cell_type": "markdown",
   "source": [
    "## Setup"
   ],
   "metadata": {}
  },
  {
   "cell_type": "code",
   "execution_count": 1,
   "source": [
    "import glob\n",
    "from markdownify import markdownify"
   ],
   "outputs": [],
   "metadata": {}
  },
  {
   "cell_type": "markdown",
   "source": [
    "## Python Example"
   ],
   "metadata": {}
  },
  {
   "cell_type": "code",
   "execution_count": 3,
   "source": [
    "file_list = list(glob.iglob(\"../data/bookmarks/*.html\"))\n",
    "file_list.sort()\n",
    "file_list"
   ],
   "outputs": [
    {
     "output_type": "execute_result",
     "data": {
      "text/plain": [
       "['../data/bookmarks/bookmarks-0001.html',\n",
       " '../data/bookmarks/bookmarks-0002.html',\n",
       " '../data/bookmarks/bookmarks-0003.html']"
      ]
     },
     "metadata": {},
     "execution_count": 3
    }
   ],
   "metadata": {}
  },
  {
   "cell_type": "code",
   "execution_count": 4,
   "source": [
    "md_text_list = []\n",
    "for file_path in file_list:\n",
    "    html_file = open(file_path, \"r\").read()\n",
    "    md_text = markdownify(html_file)\n",
    "    md_text_list.append(\"##\" + md_text.split(\"###\")[1])\n"
   ],
   "outputs": [],
   "metadata": {}
  },
  {
   "cell_type": "code",
   "execution_count": 5,
   "source": [
    "text_file = open(\"bookmark_list.md\", \"w\")\n",
    "text_file.write(\"\\n\".join(md_text_list))\n",
    "text_file.close()"
   ],
   "outputs": [],
   "metadata": {}
  }
 ],
 "metadata": {
  "orig_nbformat": 4,
  "language_info": {
   "name": "python",
   "version": "3.8.5",
   "mimetype": "text/x-python",
   "codemirror_mode": {
    "name": "ipython",
    "version": 3
   },
   "pygments_lexer": "ipython3",
   "nbconvert_exporter": "python",
   "file_extension": ".py"
  },
  "kernelspec": {
   "name": "python3",
   "display_name": "Python 3.8.5 64-bit ('medium': venv)"
  },
  "interpreter": {
   "hash": "944f66703728999ad7d78283cd8b0c33dedd2d529159e122a495101fda682bf4"
  }
 },
 "nbformat": 4,
 "nbformat_minor": 2
}