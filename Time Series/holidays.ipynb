{
 "cells": [
  {
   "cell_type": "markdown",
   "metadata": {},
   "source": [
    "# The Easiest Way to Identify Holidays in Python"
   ]
  },
  {
   "cell_type": "markdown",
   "metadata": {},
   "source": [
    "## Setup"
   ]
  },
  {
   "cell_type": "code",
   "execution_count": 1,
   "metadata": {},
   "outputs": [],
   "source": [
    "import pandas as pd\n",
    "from datetime import date\n",
    "import holidays\n",
    "from workalendar.europe import Germany"
   ]
  },
  {
   "cell_type": "markdown",
   "metadata": {},
   "source": [
    "## `holidays`"
   ]
  },
  {
   "cell_type": "code",
   "execution_count": 5,
   "metadata": {},
   "outputs": [
    {
     "name": "stdout",
     "output_type": "stream",
     "text": [
      "(datetime.date(2020, 1, 1), 'Neujahr')\n",
      "(datetime.date(2020, 4, 10), 'Karfreitag')\n",
      "(datetime.date(2020, 4, 13), 'Ostermontag')\n",
      "(datetime.date(2020, 5, 1), 'Erster Mai')\n",
      "(datetime.date(2020, 5, 21), 'Christi Himmelfahrt')\n",
      "(datetime.date(2020, 6, 1), 'Pfingstmontag')\n",
      "(datetime.date(2020, 10, 3), 'Tag der Deutschen Einheit')\n",
      "(datetime.date(2020, 10, 31), 'Reformationstag')\n",
      "(datetime.date(2020, 12, 25), 'Erster Weihnachtstag')\n",
      "(datetime.date(2020, 12, 26), 'Zweiter Weihnachtstag')\n",
      "(datetime.date(2021, 1, 1), 'Neujahr')\n",
      "(datetime.date(2021, 4, 2), 'Karfreitag')\n",
      "(datetime.date(2021, 4, 5), 'Ostermontag')\n",
      "(datetime.date(2021, 5, 1), 'Erster Mai')\n",
      "(datetime.date(2021, 5, 13), 'Christi Himmelfahrt')\n",
      "(datetime.date(2021, 5, 24), 'Pfingstmontag')\n",
      "(datetime.date(2021, 10, 3), 'Tag der Deutschen Einheit')\n",
      "(datetime.date(2021, 10, 31), 'Reformationstag')\n",
      "(datetime.date(2021, 12, 25), 'Erster Weihnachtstag')\n",
      "(datetime.date(2021, 12, 26), 'Zweiter Weihnachtstag')\n"
     ]
    }
   ],
   "source": [
    "for holiday in holidays.Germany(years=[2020, 2021]).items():\n",
    "    print(holiday)"
   ]
  },
  {
   "cell_type": "code",
   "execution_count": 6,
   "metadata": {},
   "outputs": [
    {
     "data": {
      "text/html": [
       "<div>\n",
       "<style scoped>\n",
       "    .dataframe tbody tr th:only-of-type {\n",
       "        vertical-align: middle;\n",
       "    }\n",
       "\n",
       "    .dataframe tbody tr th {\n",
       "        vertical-align: top;\n",
       "    }\n",
       "\n",
       "    .dataframe thead th {\n",
       "        text-align: right;\n",
       "    }\n",
       "</style>\n",
       "<table border=\"1\" class=\"dataframe\">\n",
       "  <thead>\n",
       "    <tr style=\"text-align: right;\">\n",
       "      <th></th>\n",
       "      <th>date</th>\n",
       "      <th>holiday</th>\n",
       "    </tr>\n",
       "  </thead>\n",
       "  <tbody>\n",
       "    <tr>\n",
       "      <th>0</th>\n",
       "      <td>2020-01-01</td>\n",
       "      <td>Neujahr</td>\n",
       "    </tr>\n",
       "    <tr>\n",
       "      <th>1</th>\n",
       "      <td>2020-04-10</td>\n",
       "      <td>Karfreitag</td>\n",
       "    </tr>\n",
       "    <tr>\n",
       "      <th>2</th>\n",
       "      <td>2020-04-13</td>\n",
       "      <td>Ostermontag</td>\n",
       "    </tr>\n",
       "    <tr>\n",
       "      <th>3</th>\n",
       "      <td>2020-05-01</td>\n",
       "      <td>Erster Mai</td>\n",
       "    </tr>\n",
       "    <tr>\n",
       "      <th>4</th>\n",
       "      <td>2020-05-21</td>\n",
       "      <td>Christi Himmelfahrt</td>\n",
       "    </tr>\n",
       "    <tr>\n",
       "      <th>5</th>\n",
       "      <td>2020-06-01</td>\n",
       "      <td>Pfingstmontag</td>\n",
       "    </tr>\n",
       "    <tr>\n",
       "      <th>6</th>\n",
       "      <td>2020-10-03</td>\n",
       "      <td>Tag der Deutschen Einheit</td>\n",
       "    </tr>\n",
       "    <tr>\n",
       "      <th>7</th>\n",
       "      <td>2020-10-31</td>\n",
       "      <td>Reformationstag</td>\n",
       "    </tr>\n",
       "    <tr>\n",
       "      <th>8</th>\n",
       "      <td>2020-12-25</td>\n",
       "      <td>Erster Weihnachtstag</td>\n",
       "    </tr>\n",
       "    <tr>\n",
       "      <th>9</th>\n",
       "      <td>2020-12-26</td>\n",
       "      <td>Zweiter Weihnachtstag</td>\n",
       "    </tr>\n",
       "    <tr>\n",
       "      <th>10</th>\n",
       "      <td>2021-01-01</td>\n",
       "      <td>Neujahr</td>\n",
       "    </tr>\n",
       "    <tr>\n",
       "      <th>11</th>\n",
       "      <td>2021-04-02</td>\n",
       "      <td>Karfreitag</td>\n",
       "    </tr>\n",
       "    <tr>\n",
       "      <th>12</th>\n",
       "      <td>2021-04-05</td>\n",
       "      <td>Ostermontag</td>\n",
       "    </tr>\n",
       "    <tr>\n",
       "      <th>13</th>\n",
       "      <td>2021-05-01</td>\n",
       "      <td>Erster Mai</td>\n",
       "    </tr>\n",
       "    <tr>\n",
       "      <th>14</th>\n",
       "      <td>2021-05-13</td>\n",
       "      <td>Christi Himmelfahrt</td>\n",
       "    </tr>\n",
       "    <tr>\n",
       "      <th>15</th>\n",
       "      <td>2021-05-24</td>\n",
       "      <td>Pfingstmontag</td>\n",
       "    </tr>\n",
       "    <tr>\n",
       "      <th>16</th>\n",
       "      <td>2021-10-03</td>\n",
       "      <td>Tag der Deutschen Einheit</td>\n",
       "    </tr>\n",
       "    <tr>\n",
       "      <th>17</th>\n",
       "      <td>2021-10-31</td>\n",
       "      <td>Reformationstag</td>\n",
       "    </tr>\n",
       "    <tr>\n",
       "      <th>18</th>\n",
       "      <td>2021-12-25</td>\n",
       "      <td>Erster Weihnachtstag</td>\n",
       "    </tr>\n",
       "    <tr>\n",
       "      <th>19</th>\n",
       "      <td>2021-12-26</td>\n",
       "      <td>Zweiter Weihnachtstag</td>\n",
       "    </tr>\n",
       "  </tbody>\n",
       "</table>\n",
       "</div>"
      ],
      "text/plain": [
       "          date                    holiday\n",
       "0   2020-01-01                    Neujahr\n",
       "1   2020-04-10                 Karfreitag\n",
       "2   2020-04-13                Ostermontag\n",
       "3   2020-05-01                 Erster Mai\n",
       "4   2020-05-21        Christi Himmelfahrt\n",
       "5   2020-06-01              Pfingstmontag\n",
       "6   2020-10-03  Tag der Deutschen Einheit\n",
       "7   2020-10-31            Reformationstag\n",
       "8   2020-12-25       Erster Weihnachtstag\n",
       "9   2020-12-26      Zweiter Weihnachtstag\n",
       "10  2021-01-01                    Neujahr\n",
       "11  2021-04-02                 Karfreitag\n",
       "12  2021-04-05                Ostermontag\n",
       "13  2021-05-01                 Erster Mai\n",
       "14  2021-05-13        Christi Himmelfahrt\n",
       "15  2021-05-24              Pfingstmontag\n",
       "16  2021-10-03  Tag der Deutschen Einheit\n",
       "17  2021-10-31            Reformationstag\n",
       "18  2021-12-25       Erster Weihnachtstag\n",
       "19  2021-12-26      Zweiter Weihnachtstag"
      ]
     },
     "execution_count": 6,
     "metadata": {},
     "output_type": "execute_result"
    }
   ],
   "source": [
    "holiday_list = []\n",
    "for holiday in holidays.Germany(years=[2020, 2021]).items():\n",
    "    holiday_list.append(holiday)\n",
    "\n",
    "holidays_df = pd.DataFrame(holiday_list, columns=[\"date\", \"holiday\"])\n",
    "holidays_df"
   ]
  },
  {
   "cell_type": "code",
   "execution_count": 7,
   "metadata": {},
   "outputs": [
    {
     "data": {
      "text/plain": [
       "True"
      ]
     },
     "execution_count": 7,
     "metadata": {},
     "output_type": "execute_result"
    }
   ],
   "source": [
    "de_holidays = holidays.Germany(years=[2020, 2021])\n",
    "\"2021-12-26\" in de_holidays"
   ]
  },
  {
   "cell_type": "code",
   "execution_count": 8,
   "metadata": {},
   "outputs": [
    {
     "data": {
      "text/html": [
       "<div>\n",
       "<style scoped>\n",
       "    .dataframe tbody tr th:only-of-type {\n",
       "        vertical-align: middle;\n",
       "    }\n",
       "\n",
       "    .dataframe tbody tr th {\n",
       "        vertical-align: top;\n",
       "    }\n",
       "\n",
       "    .dataframe thead th {\n",
       "        text-align: right;\n",
       "    }\n",
       "</style>\n",
       "<table border=\"1\" class=\"dataframe\">\n",
       "  <thead>\n",
       "    <tr style=\"text-align: right;\">\n",
       "      <th></th>\n",
       "      <th>is_holiday</th>\n",
       "    </tr>\n",
       "  </thead>\n",
       "  <tbody>\n",
       "    <tr>\n",
       "      <th>2020-01-01</th>\n",
       "      <td>True</td>\n",
       "    </tr>\n",
       "    <tr>\n",
       "      <th>2020-01-02</th>\n",
       "      <td>False</td>\n",
       "    </tr>\n",
       "    <tr>\n",
       "      <th>2020-01-03</th>\n",
       "      <td>False</td>\n",
       "    </tr>\n",
       "    <tr>\n",
       "      <th>2020-01-04</th>\n",
       "      <td>False</td>\n",
       "    </tr>\n",
       "    <tr>\n",
       "      <th>2020-01-05</th>\n",
       "      <td>False</td>\n",
       "    </tr>\n",
       "    <tr>\n",
       "      <th>...</th>\n",
       "      <td>...</td>\n",
       "    </tr>\n",
       "    <tr>\n",
       "      <th>2021-12-27</th>\n",
       "      <td>False</td>\n",
       "    </tr>\n",
       "    <tr>\n",
       "      <th>2021-12-28</th>\n",
       "      <td>False</td>\n",
       "    </tr>\n",
       "    <tr>\n",
       "      <th>2021-12-29</th>\n",
       "      <td>False</td>\n",
       "    </tr>\n",
       "    <tr>\n",
       "      <th>2021-12-30</th>\n",
       "      <td>False</td>\n",
       "    </tr>\n",
       "    <tr>\n",
       "      <th>2021-12-31</th>\n",
       "      <td>False</td>\n",
       "    </tr>\n",
       "  </tbody>\n",
       "</table>\n",
       "<p>731 rows × 1 columns</p>\n",
       "</div>"
      ],
      "text/plain": [
       "            is_holiday\n",
       "2020-01-01        True\n",
       "2020-01-02       False\n",
       "2020-01-03       False\n",
       "2020-01-04       False\n",
       "2020-01-05       False\n",
       "...                ...\n",
       "2021-12-27       False\n",
       "2021-12-28       False\n",
       "2021-12-29       False\n",
       "2021-12-30       False\n",
       "2021-12-31       False\n",
       "\n",
       "[731 rows x 1 columns]"
      ]
     },
     "execution_count": 8,
     "metadata": {},
     "output_type": "execute_result"
    }
   ],
   "source": [
    "range_of_dates = pd.date_range(\"2020-01-01\", \"2021-12-31\")\n",
    "df = pd.DataFrame(\n",
    "    index=range_of_dates, \n",
    "    data={\"is_holiday\": [date in de_holidays for date in range_of_dates]}\n",
    ")\n",
    "df"
   ]
  },
  {
   "cell_type": "markdown",
   "metadata": {},
   "source": [
    "## `workalendar`"
   ]
  },
  {
   "cell_type": "code",
   "execution_count": 19,
   "metadata": {},
   "outputs": [
    {
     "data": {
      "text/html": [
       "<div>\n",
       "<style scoped>\n",
       "    .dataframe tbody tr th:only-of-type {\n",
       "        vertical-align: middle;\n",
       "    }\n",
       "\n",
       "    .dataframe tbody tr th {\n",
       "        vertical-align: top;\n",
       "    }\n",
       "\n",
       "    .dataframe thead th {\n",
       "        text-align: right;\n",
       "    }\n",
       "</style>\n",
       "<table border=\"1\" class=\"dataframe\">\n",
       "  <thead>\n",
       "    <tr style=\"text-align: right;\">\n",
       "      <th></th>\n",
       "      <th>date</th>\n",
       "      <th>holiday</th>\n",
       "    </tr>\n",
       "  </thead>\n",
       "  <tbody>\n",
       "    <tr>\n",
       "      <th>0</th>\n",
       "      <td>2020-01-01</td>\n",
       "      <td>New year</td>\n",
       "    </tr>\n",
       "    <tr>\n",
       "      <th>1</th>\n",
       "      <td>2020-04-10</td>\n",
       "      <td>Good Friday</td>\n",
       "    </tr>\n",
       "    <tr>\n",
       "      <th>2</th>\n",
       "      <td>2020-04-13</td>\n",
       "      <td>Easter Monday</td>\n",
       "    </tr>\n",
       "    <tr>\n",
       "      <th>3</th>\n",
       "      <td>2020-05-01</td>\n",
       "      <td>Labour Day</td>\n",
       "    </tr>\n",
       "    <tr>\n",
       "      <th>4</th>\n",
       "      <td>2020-05-21</td>\n",
       "      <td>Ascension Thursday</td>\n",
       "    </tr>\n",
       "    <tr>\n",
       "      <th>5</th>\n",
       "      <td>2020-06-01</td>\n",
       "      <td>Whit Monday</td>\n",
       "    </tr>\n",
       "    <tr>\n",
       "      <th>6</th>\n",
       "      <td>2020-10-03</td>\n",
       "      <td>Day of German Unity</td>\n",
       "    </tr>\n",
       "    <tr>\n",
       "      <th>7</th>\n",
       "      <td>2020-12-25</td>\n",
       "      <td>Christmas Day</td>\n",
       "    </tr>\n",
       "    <tr>\n",
       "      <th>8</th>\n",
       "      <td>2020-12-26</td>\n",
       "      <td>Second Christmas Day</td>\n",
       "    </tr>\n",
       "  </tbody>\n",
       "</table>\n",
       "</div>"
      ],
      "text/plain": [
       "         date               holiday\n",
       "0  2020-01-01              New year\n",
       "1  2020-04-10           Good Friday\n",
       "2  2020-04-13         Easter Monday\n",
       "3  2020-05-01            Labour Day\n",
       "4  2020-05-21    Ascension Thursday\n",
       "5  2020-06-01           Whit Monday\n",
       "6  2020-10-03   Day of German Unity\n",
       "7  2020-12-25         Christmas Day\n",
       "8  2020-12-26  Second Christmas Day"
      ]
     },
     "execution_count": 19,
     "metadata": {},
     "output_type": "execute_result"
    }
   ],
   "source": [
    "de_calendar = Germany()\n",
    "\n",
    "pd.DataFrame(de_calendar.holidays(2020), \n",
    "             columns=[\"date\", \"holiday\"])"
   ]
  },
  {
   "cell_type": "code",
   "execution_count": 22,
   "metadata": {},
   "outputs": [
    {
     "data": {
      "text/plain": [
       "False"
      ]
     },
     "execution_count": 22,
     "metadata": {},
     "output_type": "execute_result"
    }
   ],
   "source": [
    "de_calendar.is_working_day(date(2020, 1, 1))"
   ]
  },
  {
   "cell_type": "code",
   "execution_count": 12,
   "metadata": {},
   "outputs": [
    {
     "data": {
      "text/plain": [
       "datetime.date(2021, 1, 4)"
      ]
     },
     "execution_count": 12,
     "metadata": {},
     "output_type": "execute_result"
    }
   ],
   "source": [
    "de_calendar.add_working_days(date(2020, 12, 24), 5)"
   ]
  },
  {
   "cell_type": "code",
   "execution_count": 16,
   "metadata": {},
   "outputs": [
    {
     "data": {
      "text/plain": [
       "20"
      ]
     },
     "execution_count": 16,
     "metadata": {},
     "output_type": "execute_result"
    }
   ],
   "source": [
    "de_calendar.get_working_days_delta(date(2021, 1, 1), date(2021, 1, 31))"
   ]
  },
  {
   "cell_type": "code",
   "execution_count": 13,
   "metadata": {},
   "outputs": [
    {
     "data": {
      "text/plain": [
       "[(datetime.date(2021, 4, 2), 'Good Friday'),\n",
       " (datetime.date(2021, 4, 5), 'Easter Monday'),\n",
       " (datetime.date(2021, 12, 25), 'Christmas Day'),\n",
       " (datetime.date(2021, 12, 26), 'Second Christmas Day'),\n",
       " (datetime.date(2021, 5, 13), 'Ascension Thursday'),\n",
       " (datetime.date(2021, 5, 24), 'Whit Monday')]"
      ]
     },
     "execution_count": 13,
     "metadata": {},
     "output_type": "execute_result"
    }
   ],
   "source": [
    "de_calendar.get_variable_days(2021)"
   ]
  },
  {
   "cell_type": "code",
   "execution_count": 14,
   "metadata": {},
   "outputs": [
    {
     "data": {
      "text/plain": [
       "datetime.date(2021, 5, 13)"
      ]
     },
     "execution_count": 14,
     "metadata": {},
     "output_type": "execute_result"
    }
   ],
   "source": [
    "de_calendar.get_ascension_thursday(2021)"
   ]
  },
  {
   "cell_type": "code",
   "execution_count": 15,
   "metadata": {},
   "outputs": [
    {
     "data": {
      "text/plain": [
       "datetime.date(2021, 1, 25)"
      ]
     },
     "execution_count": 15,
     "metadata": {},
     "output_type": "execute_result"
    }
   ],
   "source": [
    "de_calendar.get_last_weekday_in_month(2021, 1, 0)"
   ]
  }
 ],
 "metadata": {
  "interpreter": {
   "hash": "7a69c2266b110675ecc07b5ecc882dddafd194e19eb5c2ee5598b2c3726b8e8e"
  },
  "kernelspec": {
   "display_name": "Python 3.8.12 64-bit ('medium': venv)",
   "language": "python",
   "name": "python3"
  },
  "language_info": {
   "codemirror_mode": {
    "name": "ipython",
    "version": 3
   },
   "file_extension": ".py",
   "mimetype": "text/x-python",
   "name": "python",
   "nbconvert_exporter": "python",
   "pygments_lexer": "ipython3",
   "version": "3.8.12"
  },
  "orig_nbformat": 4
 },
 "nbformat": 4,
 "nbformat_minor": 2
}
