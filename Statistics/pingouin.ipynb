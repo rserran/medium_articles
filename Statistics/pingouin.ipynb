{
 "cells": [
  {
   "cell_type": "markdown",
   "metadata": {},
   "source": [
    "# The new kid on the statistics-in-Python block: `pingouin`"
   ]
  },
  {
   "cell_type": "markdown",
   "metadata": {},
   "source": [
    "## Setup"
   ]
  },
  {
   "cell_type": "code",
   "execution_count": 1,
   "metadata": {},
   "outputs": [],
   "source": [
    "import pingouin as pg\n",
    "import numpy as np\n",
    "import pandas as pd \n",
    "import seaborn as sns\n",
    "\n",
    "from scipy.stats import ttest_ind\n",
    "from statsmodels.stats.power import TTestIndPower\n",
    "import statsmodels.api as sm\n",
    "from statsmodels.formula.api import ols"
   ]
  },
  {
   "cell_type": "code",
   "execution_count": 2,
   "metadata": {},
   "outputs": [],
   "source": [
    "%config InlineBackend.figure_format ='retina'\n",
    "%matplotlib inline\n",
    "sns.set_style('darkgrid')"
   ]
  },
  {
   "cell_type": "markdown",
   "metadata": {},
   "source": [
    "## Statistical functionalities"
   ]
  },
  {
   "cell_type": "markdown",
   "metadata": {},
   "source": [
    "### T-test"
   ]
  },
  {
   "cell_type": "code",
   "execution_count": 3,
   "metadata": {},
   "outputs": [],
   "source": [
    "# set seed\n",
    "np.random.seed(42)\n",
    "\n",
    "# generate data\n",
    "x = np.random.normal(loc=2, scale=3, size=100)\n",
    "y = np.random.normal(loc=0, scale=1, size=100)"
   ]
  },
  {
   "cell_type": "code",
   "execution_count": 4,
   "metadata": {},
   "outputs": [
    {
     "data": {
      "text/plain": [
       "Ttest_indResult(statistic=5.772051762923951, pvalue=2.986379980167149e-08)"
      ]
     },
     "execution_count": 4,
     "metadata": {},
     "output_type": "execute_result"
    }
   ],
   "source": [
    "ttest_ind(x, y)"
   ]
  },
  {
   "cell_type": "code",
   "execution_count": 5,
   "metadata": {},
   "outputs": [
    {
     "data": {
      "text/html": [
       "<div>\n",
       "<style scoped>\n",
       "    .dataframe tbody tr th:only-of-type {\n",
       "        vertical-align: middle;\n",
       "    }\n",
       "\n",
       "    .dataframe tbody tr th {\n",
       "        vertical-align: top;\n",
       "    }\n",
       "\n",
       "    .dataframe thead th {\n",
       "        text-align: right;\n",
       "    }\n",
       "</style>\n",
       "<table border=\"1\" class=\"dataframe\">\n",
       "  <thead>\n",
       "    <tr style=\"text-align: right;\">\n",
       "      <th></th>\n",
       "      <th>T</th>\n",
       "      <th>dof</th>\n",
       "      <th>tail</th>\n",
       "      <th>p-val</th>\n",
       "      <th>CI95%</th>\n",
       "      <th>cohen-d</th>\n",
       "      <th>BF10</th>\n",
       "      <th>power</th>\n",
       "    </tr>\n",
       "  </thead>\n",
       "  <tbody>\n",
       "    <tr>\n",
       "      <th>T-test</th>\n",
       "      <td>5.772052</td>\n",
       "      <td>198</td>\n",
       "      <td>two-sided</td>\n",
       "      <td>2.986380e-08</td>\n",
       "      <td>[1.1, 2.24]</td>\n",
       "      <td>0.816291</td>\n",
       "      <td>3.671e+05</td>\n",
       "      <td>0.999923</td>\n",
       "    </tr>\n",
       "  </tbody>\n",
       "</table>\n",
       "</div>"
      ],
      "text/plain": [
       "               T  dof       tail         p-val        CI95%   cohen-d  \\\n",
       "T-test  5.772052  198  two-sided  2.986380e-08  [1.1, 2.24]  0.816291   \n",
       "\n",
       "             BF10     power  \n",
       "T-test  3.671e+05  0.999923  "
      ]
     },
     "execution_count": 5,
     "metadata": {},
     "output_type": "execute_result"
    }
   ],
   "source": [
    "pg.ttest(x, y)"
   ]
  },
  {
   "cell_type": "markdown",
   "metadata": {},
   "source": [
    "### Power analysis"
   ]
  },
  {
   "cell_type": "code",
   "execution_count": 6,
   "metadata": {},
   "outputs": [
    {
     "name": "stdout",
     "output_type": "stream",
     "text": [
      "Required sample size (statsmodels): 64\n",
      "Required sample size (pingouin): 64\n"
     ]
    }
   ],
   "source": [
    "# parameters  \n",
    "EFFECT_SIZE = 0.5\n",
    "ALPHA = 0.05 \n",
    "POWER = 0.8\n",
    "\n",
    "# using statsmodels\n",
    "power_analysis = TTestIndPower()\n",
    "sample_size = power_analysis.solve_power(effect_size=EFFECT_SIZE, \n",
    "                                         power=POWER, \n",
    "                                         alpha=ALPHA)\n",
    "\n",
    "print(f'Required sample size (statsmodels): {sample_size:.0f}')\n",
    "\n",
    "# using pingouin\n",
    "sample_size = pg.power_ttest(d=EFFECT_SIZE, \n",
    "                             alpha=ALPHA, \n",
    "                             power=POWER, \n",
    "                             n=None)\n",
    "\n",
    "print(f'Required sample size (pingouin): {sample_size:.0f}')"
   ]
  },
  {
   "cell_type": "markdown",
   "metadata": {},
   "source": [
    "### Plotting"
   ]
  },
  {
   "cell_type": "code",
   "execution_count": 7,
   "metadata": {},
   "outputs": [
    {
     "data": {
      "image/png": "[encoded data removed]",
      "text/plain": [
       "<Figure size 360x288 with 1 Axes>"
      ]
     },
     "metadata": {
      "image/png": {
       "height": 276,
       "width": 325
      }
     },
     "output_type": "display_data"
    }
   ],
   "source": [
    "np.random.seed(42)\n",
    "x = np.random.normal(size=100)\n",
    "ax = pg.qqplot(x, dist='norm')"
   ]
  },
  {
   "cell_type": "markdown",
   "metadata": {},
   "source": [
    "### ANOVA"
   ]
  },
  {
   "cell_type": "code",
   "execution_count": 8,
   "metadata": {},
   "outputs": [],
   "source": [
    "# loading and transforming data\n",
    "df = pg.read_dataset('anova')\n",
    "df = df.drop('Subject', axis=1)\n",
    "df.columns = [x.lower().replace(' ', '_') for x in df.columns]"
   ]
  },
  {
   "cell_type": "code",
   "execution_count": 9,
   "metadata": {},
   "outputs": [
    {
     "data": {
      "text/html": [
       "<div>\n",
       "<style scoped>\n",
       "    .dataframe tbody tr th:only-of-type {\n",
       "        vertical-align: middle;\n",
       "    }\n",
       "\n",
       "    .dataframe tbody tr th {\n",
       "        vertical-align: top;\n",
       "    }\n",
       "\n",
       "    .dataframe thead th {\n",
       "        text-align: right;\n",
       "    }\n",
       "</style>\n",
       "<table border=\"1\" class=\"dataframe\">\n",
       "  <thead>\n",
       "    <tr style=\"text-align: right;\">\n",
       "      <th></th>\n",
       "      <th>Source</th>\n",
       "      <th>SS</th>\n",
       "      <th>DF</th>\n",
       "      <th>MS</th>\n",
       "      <th>F</th>\n",
       "      <th>p-unc</th>\n",
       "      <th>np2</th>\n",
       "    </tr>\n",
       "  </thead>\n",
       "  <tbody>\n",
       "    <tr>\n",
       "      <th>0</th>\n",
       "      <td>hair_color</td>\n",
       "      <td>1360.726316</td>\n",
       "      <td>3</td>\n",
       "      <td>453.575439</td>\n",
       "      <td>6.791407</td>\n",
       "      <td>0.004114</td>\n",
       "      <td>0.575962</td>\n",
       "    </tr>\n",
       "    <tr>\n",
       "      <th>1</th>\n",
       "      <td>Within</td>\n",
       "      <td>1001.800000</td>\n",
       "      <td>15</td>\n",
       "      <td>66.786667</td>\n",
       "      <td>NaN</td>\n",
       "      <td>NaN</td>\n",
       "      <td>NaN</td>\n",
       "    </tr>\n",
       "  </tbody>\n",
       "</table>\n",
       "</div>"
      ],
      "text/plain": [
       "       Source           SS  DF          MS         F     p-unc       np2\n",
       "0  hair_color  1360.726316   3  453.575439  6.791407  0.004114  0.575962\n",
       "1      Within  1001.800000  15   66.786667       NaN       NaN       NaN"
      ]
     },
     "execution_count": 9,
     "metadata": {},
     "output_type": "execute_result"
    }
   ],
   "source": [
    "aov = pg.anova(dv='pain_threshold', between='hair_color', \n",
    "               data=df, detailed=True)\n",
    "aov"
   ]
  },
  {
   "cell_type": "code",
   "execution_count": 10,
   "metadata": {},
   "outputs": [
    {
     "data": {
      "text/html": [
       "<div>\n",
       "<style scoped>\n",
       "    .dataframe tbody tr th:only-of-type {\n",
       "        vertical-align: middle;\n",
       "    }\n",
       "\n",
       "    .dataframe tbody tr th {\n",
       "        vertical-align: top;\n",
       "    }\n",
       "\n",
       "    .dataframe thead th {\n",
       "        text-align: right;\n",
       "    }\n",
       "</style>\n",
       "<table border=\"1\" class=\"dataframe\">\n",
       "  <thead>\n",
       "    <tr style=\"text-align: right;\">\n",
       "      <th></th>\n",
       "      <th>df</th>\n",
       "      <th>sum_sq</th>\n",
       "      <th>mean_sq</th>\n",
       "      <th>F</th>\n",
       "      <th>PR(&gt;F)</th>\n",
       "    </tr>\n",
       "  </thead>\n",
       "  <tbody>\n",
       "    <tr>\n",
       "      <th>hair_color</th>\n",
       "      <td>3.0</td>\n",
       "      <td>1360.726316</td>\n",
       "      <td>453.575439</td>\n",
       "      <td>6.791407</td>\n",
       "      <td>0.004114</td>\n",
       "    </tr>\n",
       "    <tr>\n",
       "      <th>Residual</th>\n",
       "      <td>15.0</td>\n",
       "      <td>1001.800000</td>\n",
       "      <td>66.786667</td>\n",
       "      <td>NaN</td>\n",
       "      <td>NaN</td>\n",
       "    </tr>\n",
       "  </tbody>\n",
       "</table>\n",
       "</div>"
      ],
      "text/plain": [
       "              df       sum_sq     mean_sq         F    PR(>F)\n",
       "hair_color   3.0  1360.726316  453.575439  6.791407  0.004114\n",
       "Residual    15.0  1001.800000   66.786667       NaN       NaN"
      ]
     },
     "execution_count": 10,
     "metadata": {},
     "output_type": "execute_result"
    }
   ],
   "source": [
    "ols_model = ols('pain_threshold ~ hair_color', data=df).fit()\n",
    "aov = sm.stats.anova_lm(ols_model)\n",
    "aov"
   ]
  },
  {
   "cell_type": "markdown",
   "metadata": {},
   "source": [
    "### Linear Regression"
   ]
  },
  {
   "cell_type": "code",
   "execution_count": 11,
   "metadata": {},
   "outputs": [],
   "source": [
    "from sklearn.datasets import load_boston\n",
    "X, y = load_boston(return_X_y=True)"
   ]
  },
  {
   "cell_type": "code",
   "execution_count": 12,
   "metadata": {},
   "outputs": [
    {
     "data": {
      "text/html": [
       "<div>\n",
       "<style scoped>\n",
       "    .dataframe tbody tr th:only-of-type {\n",
       "        vertical-align: middle;\n",
       "    }\n",
       "\n",
       "    .dataframe tbody tr th {\n",
       "        vertical-align: top;\n",
       "    }\n",
       "\n",
       "    .dataframe thead th {\n",
       "        text-align: right;\n",
       "    }\n",
       "</style>\n",
       "<table border=\"1\" class=\"dataframe\">\n",
       "  <thead>\n",
       "    <tr style=\"text-align: right;\">\n",
       "      <th></th>\n",
       "      <th>names</th>\n",
       "      <th>coef</th>\n",
       "      <th>se</th>\n",
       "      <th>T</th>\n",
       "      <th>pval</th>\n",
       "      <th>r2</th>\n",
       "      <th>adj_r2</th>\n",
       "      <th>CI[2.5%]</th>\n",
       "      <th>CI[97.5%]</th>\n",
       "    </tr>\n",
       "  </thead>\n",
       "  <tbody>\n",
       "    <tr>\n",
       "      <th>0</th>\n",
       "      <td>Intercept</td>\n",
       "      <td>36.459488</td>\n",
       "      <td>5.103459</td>\n",
       "      <td>7.144074</td>\n",
       "      <td>3.283438e-12</td>\n",
       "      <td>0.740643</td>\n",
       "      <td>0.73379</td>\n",
       "      <td>26.432226</td>\n",
       "      <td>46.486751</td>\n",
       "    </tr>\n",
       "    <tr>\n",
       "      <th>1</th>\n",
       "      <td>x1</td>\n",
       "      <td>-0.108011</td>\n",
       "      <td>0.032865</td>\n",
       "      <td>-3.286517</td>\n",
       "      <td>1.086810e-03</td>\n",
       "      <td>0.740643</td>\n",
       "      <td>0.73379</td>\n",
       "      <td>-0.172584</td>\n",
       "      <td>-0.043438</td>\n",
       "    </tr>\n",
       "    <tr>\n",
       "      <th>2</th>\n",
       "      <td>x2</td>\n",
       "      <td>0.046420</td>\n",
       "      <td>0.013727</td>\n",
       "      <td>3.381576</td>\n",
       "      <td>7.781097e-04</td>\n",
       "      <td>0.740643</td>\n",
       "      <td>0.73379</td>\n",
       "      <td>0.019449</td>\n",
       "      <td>0.073392</td>\n",
       "    </tr>\n",
       "    <tr>\n",
       "      <th>3</th>\n",
       "      <td>x3</td>\n",
       "      <td>0.020559</td>\n",
       "      <td>0.061496</td>\n",
       "      <td>0.334310</td>\n",
       "      <td>7.382881e-01</td>\n",
       "      <td>0.740643</td>\n",
       "      <td>0.73379</td>\n",
       "      <td>-0.100268</td>\n",
       "      <td>0.141385</td>\n",
       "    </tr>\n",
       "    <tr>\n",
       "      <th>4</th>\n",
       "      <td>x4</td>\n",
       "      <td>2.686734</td>\n",
       "      <td>0.861580</td>\n",
       "      <td>3.118381</td>\n",
       "      <td>1.925030e-03</td>\n",
       "      <td>0.740643</td>\n",
       "      <td>0.73379</td>\n",
       "      <td>0.993904</td>\n",
       "      <td>4.379563</td>\n",
       "    </tr>\n",
       "    <tr>\n",
       "      <th>5</th>\n",
       "      <td>x5</td>\n",
       "      <td>-17.766611</td>\n",
       "      <td>3.819744</td>\n",
       "      <td>-4.651257</td>\n",
       "      <td>4.245644e-06</td>\n",
       "      <td>0.740643</td>\n",
       "      <td>0.73379</td>\n",
       "      <td>-25.271634</td>\n",
       "      <td>-10.261589</td>\n",
       "    </tr>\n",
       "    <tr>\n",
       "      <th>6</th>\n",
       "      <td>x6</td>\n",
       "      <td>3.809865</td>\n",
       "      <td>0.417925</td>\n",
       "      <td>9.116140</td>\n",
       "      <td>1.979441e-18</td>\n",
       "      <td>0.740643</td>\n",
       "      <td>0.73379</td>\n",
       "      <td>2.988727</td>\n",
       "      <td>4.631004</td>\n",
       "    </tr>\n",
       "    <tr>\n",
       "      <th>7</th>\n",
       "      <td>x7</td>\n",
       "      <td>0.000692</td>\n",
       "      <td>0.013210</td>\n",
       "      <td>0.052402</td>\n",
       "      <td>9.582293e-01</td>\n",
       "      <td>0.740643</td>\n",
       "      <td>0.73379</td>\n",
       "      <td>-0.025262</td>\n",
       "      <td>0.026647</td>\n",
       "    </tr>\n",
       "    <tr>\n",
       "      <th>8</th>\n",
       "      <td>x8</td>\n",
       "      <td>-1.475567</td>\n",
       "      <td>0.199455</td>\n",
       "      <td>-7.398004</td>\n",
       "      <td>6.013491e-13</td>\n",
       "      <td>0.740643</td>\n",
       "      <td>0.73379</td>\n",
       "      <td>-1.867455</td>\n",
       "      <td>-1.083679</td>\n",
       "    </tr>\n",
       "    <tr>\n",
       "      <th>9</th>\n",
       "      <td>x9</td>\n",
       "      <td>0.306049</td>\n",
       "      <td>0.066346</td>\n",
       "      <td>4.612900</td>\n",
       "      <td>5.070529e-06</td>\n",
       "      <td>0.740643</td>\n",
       "      <td>0.73379</td>\n",
       "      <td>0.175692</td>\n",
       "      <td>0.436407</td>\n",
       "    </tr>\n",
       "    <tr>\n",
       "      <th>10</th>\n",
       "      <td>x10</td>\n",
       "      <td>-0.012335</td>\n",
       "      <td>0.003761</td>\n",
       "      <td>-3.280009</td>\n",
       "      <td>1.111637e-03</td>\n",
       "      <td>0.740643</td>\n",
       "      <td>0.73379</td>\n",
       "      <td>-0.019723</td>\n",
       "      <td>-0.004946</td>\n",
       "    </tr>\n",
       "    <tr>\n",
       "      <th>11</th>\n",
       "      <td>x11</td>\n",
       "      <td>-0.952747</td>\n",
       "      <td>0.130827</td>\n",
       "      <td>-7.282511</td>\n",
       "      <td>1.308835e-12</td>\n",
       "      <td>0.740643</td>\n",
       "      <td>0.73379</td>\n",
       "      <td>-1.209795</td>\n",
       "      <td>-0.695699</td>\n",
       "    </tr>\n",
       "    <tr>\n",
       "      <th>12</th>\n",
       "      <td>x12</td>\n",
       "      <td>0.009312</td>\n",
       "      <td>0.002686</td>\n",
       "      <td>3.466793</td>\n",
       "      <td>5.728592e-04</td>\n",
       "      <td>0.740643</td>\n",
       "      <td>0.73379</td>\n",
       "      <td>0.004034</td>\n",
       "      <td>0.014589</td>\n",
       "    </tr>\n",
       "    <tr>\n",
       "      <th>13</th>\n",
       "      <td>x13</td>\n",
       "      <td>-0.524758</td>\n",
       "      <td>0.050715</td>\n",
       "      <td>-10.347146</td>\n",
       "      <td>7.776912e-23</td>\n",
       "      <td>0.740643</td>\n",
       "      <td>0.73379</td>\n",
       "      <td>-0.624404</td>\n",
       "      <td>-0.425113</td>\n",
       "    </tr>\n",
       "  </tbody>\n",
       "</table>\n",
       "</div>"
      ],
      "text/plain": [
       "        names       coef        se          T          pval        r2  \\\n",
       "0   Intercept  36.459488  5.103459   7.144074  3.283438e-12  0.740643   \n",
       "1          x1  -0.108011  0.032865  -3.286517  1.086810e-03  0.740643   \n",
       "2          x2   0.046420  0.013727   3.381576  7.781097e-04  0.740643   \n",
       "3          x3   0.020559  0.061496   0.334310  7.382881e-01  0.740643   \n",
       "4          x4   2.686734  0.861580   3.118381  1.925030e-03  0.740643   \n",
       "5          x5 -17.766611  3.819744  -4.651257  4.245644e-06  0.740643   \n",
       "6          x6   3.809865  0.417925   9.116140  1.979441e-18  0.740643   \n",
       "7          x7   0.000692  0.013210   0.052402  9.582293e-01  0.740643   \n",
       "8          x8  -1.475567  0.199455  -7.398004  6.013491e-13  0.740643   \n",
       "9          x9   0.306049  0.066346   4.612900  5.070529e-06  0.740643   \n",
       "10        x10  -0.012335  0.003761  -3.280009  1.111637e-03  0.740643   \n",
       "11        x11  -0.952747  0.130827  -7.282511  1.308835e-12  0.740643   \n",
       "12        x12   0.009312  0.002686   3.466793  5.728592e-04  0.740643   \n",
       "13        x13  -0.524758  0.050715 -10.347146  7.776912e-23  0.740643   \n",
       "\n",
       "     adj_r2   CI[2.5%]  CI[97.5%]  \n",
       "0   0.73379  26.432226  46.486751  \n",
       "1   0.73379  -0.172584  -0.043438  \n",
       "2   0.73379   0.019449   0.073392  \n",
       "3   0.73379  -0.100268   0.141385  \n",
       "4   0.73379   0.993904   4.379563  \n",
       "5   0.73379 -25.271634 -10.261589  \n",
       "6   0.73379   2.988727   4.631004  \n",
       "7   0.73379  -0.025262   0.026647  \n",
       "8   0.73379  -1.867455  -1.083679  \n",
       "9   0.73379   0.175692   0.436407  \n",
       "10  0.73379  -0.019723  -0.004946  \n",
       "11  0.73379  -1.209795  -0.695699  \n",
       "12  0.73379   0.004034   0.014589  \n",
       "13  0.73379  -0.624404  -0.425113  "
      ]
     },
     "execution_count": 12,
     "metadata": {},
     "output_type": "execute_result"
    }
   ],
   "source": [
    "lm = pg.linear_regression(X, y)\n",
    "lm"
   ]
  },
  {
   "cell_type": "code",
   "execution_count": 13,
   "metadata": {},
   "outputs": [
    {
     "data": {
      "text/html": [
       "<table class=\"simpletable\">\n",
       "<caption>OLS Regression Results</caption>\n",
       "<tr>\n",
       "  <th>Dep. Variable:</th>            <td>y</td>        <th>  R-squared:         </th> <td>   0.741</td> \n",
       "</tr>\n",
       "<tr>\n",
       "  <th>Model:</th>                   <td>OLS</td>       <th>  Adj. R-squared:    </th> <td>   0.734</td> \n",
       "</tr>\n",
       "<tr>\n",
       "  <th>Method:</th>             <td>Least Squares</td>  <th>  F-statistic:       </th> <td>   108.1</td> \n",
       "</tr>\n",
       "<tr>\n",
       "  <th>Date:</th>             <td>Fri, 05 Jun 2020</td> <th>  Prob (F-statistic):</th> <td>6.72e-135</td>\n",
       "</tr>\n",
       "<tr>\n",
       "  <th>Time:</th>                 <td>03:50:32</td>     <th>  Log-Likelihood:    </th> <td> -1498.8</td> \n",
       "</tr>\n",
       "<tr>\n",
       "  <th>No. Observations:</th>      <td>   506</td>      <th>  AIC:               </th> <td>   3026.</td> \n",
       "</tr>\n",
       "<tr>\n",
       "  <th>Df Residuals:</th>          <td>   492</td>      <th>  BIC:               </th> <td>   3085.</td> \n",
       "</tr>\n",
       "<tr>\n",
       "  <th>Df Model:</th>              <td>    13</td>      <th>                     </th>     <td> </td>    \n",
       "</tr>\n",
       "<tr>\n",
       "  <th>Covariance Type:</th>      <td>nonrobust</td>    <th>                     </th>     <td> </td>    \n",
       "</tr>\n",
       "</table>\n",
       "<table class=\"simpletable\">\n",
       "<tr>\n",
       "    <td></td>       <th>coef</th>     <th>std err</th>      <th>t</th>      <th>P>|t|</th>  <th>[0.025</th>    <th>0.975]</th>  \n",
       "</tr>\n",
       "<tr>\n",
       "  <th>const</th> <td>   36.4595</td> <td>    5.103</td> <td>    7.144</td> <td> 0.000</td> <td>   26.432</td> <td>   46.487</td>\n",
       "</tr>\n",
       "<tr>\n",
       "  <th>x1</th>    <td>   -0.1080</td> <td>    0.033</td> <td>   -3.287</td> <td> 0.001</td> <td>   -0.173</td> <td>   -0.043</td>\n",
       "</tr>\n",
       "<tr>\n",
       "  <th>x2</th>    <td>    0.0464</td> <td>    0.014</td> <td>    3.382</td> <td> 0.001</td> <td>    0.019</td> <td>    0.073</td>\n",
       "</tr>\n",
       "<tr>\n",
       "  <th>x3</th>    <td>    0.0206</td> <td>    0.061</td> <td>    0.334</td> <td> 0.738</td> <td>   -0.100</td> <td>    0.141</td>\n",
       "</tr>\n",
       "<tr>\n",
       "  <th>x4</th>    <td>    2.6867</td> <td>    0.862</td> <td>    3.118</td> <td> 0.002</td> <td>    0.994</td> <td>    4.380</td>\n",
       "</tr>\n",
       "<tr>\n",
       "  <th>x5</th>    <td>  -17.7666</td> <td>    3.820</td> <td>   -4.651</td> <td> 0.000</td> <td>  -25.272</td> <td>  -10.262</td>\n",
       "</tr>\n",
       "<tr>\n",
       "  <th>x6</th>    <td>    3.8099</td> <td>    0.418</td> <td>    9.116</td> <td> 0.000</td> <td>    2.989</td> <td>    4.631</td>\n",
       "</tr>\n",
       "<tr>\n",
       "  <th>x7</th>    <td>    0.0007</td> <td>    0.013</td> <td>    0.052</td> <td> 0.958</td> <td>   -0.025</td> <td>    0.027</td>\n",
       "</tr>\n",
       "<tr>\n",
       "  <th>x8</th>    <td>   -1.4756</td> <td>    0.199</td> <td>   -7.398</td> <td> 0.000</td> <td>   -1.867</td> <td>   -1.084</td>\n",
       "</tr>\n",
       "<tr>\n",
       "  <th>x9</th>    <td>    0.3060</td> <td>    0.066</td> <td>    4.613</td> <td> 0.000</td> <td>    0.176</td> <td>    0.436</td>\n",
       "</tr>\n",
       "<tr>\n",
       "  <th>x10</th>   <td>   -0.0123</td> <td>    0.004</td> <td>   -3.280</td> <td> 0.001</td> <td>   -0.020</td> <td>   -0.005</td>\n",
       "</tr>\n",
       "<tr>\n",
       "  <th>x11</th>   <td>   -0.9527</td> <td>    0.131</td> <td>   -7.283</td> <td> 0.000</td> <td>   -1.210</td> <td>   -0.696</td>\n",
       "</tr>\n",
       "<tr>\n",
       "  <th>x12</th>   <td>    0.0093</td> <td>    0.003</td> <td>    3.467</td> <td> 0.001</td> <td>    0.004</td> <td>    0.015</td>\n",
       "</tr>\n",
       "<tr>\n",
       "  <th>x13</th>   <td>   -0.5248</td> <td>    0.051</td> <td>  -10.347</td> <td> 0.000</td> <td>   -0.624</td> <td>   -0.425</td>\n",
       "</tr>\n",
       "</table>\n",
       "<table class=\"simpletable\">\n",
       "<tr>\n",
       "  <th>Omnibus:</th>       <td>178.041</td> <th>  Durbin-Watson:     </th> <td>   1.078</td> \n",
       "</tr>\n",
       "<tr>\n",
       "  <th>Prob(Omnibus):</th> <td> 0.000</td>  <th>  Jarque-Bera (JB):  </th> <td> 783.126</td> \n",
       "</tr>\n",
       "<tr>\n",
       "  <th>Skew:</th>          <td> 1.521</td>  <th>  Prob(JB):          </th> <td>8.84e-171</td>\n",
       "</tr>\n",
       "<tr>\n",
       "  <th>Kurtosis:</th>      <td> 8.281</td>  <th>  Cond. No.          </th> <td>1.51e+04</td> \n",
       "</tr>\n",
       "</table><br/><br/>Warnings:<br/>[1] Standard Errors assume that the covariance matrix of the errors is correctly specified.<br/>[2] The condition number is large, 1.51e+04. This might indicate that there are<br/>strong multicollinearity or other numerical problems."
      ],
      "text/plain": [
       "<class 'statsmodels.iolib.summary.Summary'>\n",
       "\"\"\"\n",
       "                            OLS Regression Results                            \n",
       "==============================================================================\n",
       "Dep. Variable:                      y   R-squared:                       0.741\n",
       "Model:                            OLS   Adj. R-squared:                  0.734\n",
       "Method:                 Least Squares   F-statistic:                     108.1\n",
       "Date:                Fri, 05 Jun 2020   Prob (F-statistic):          6.72e-135\n",
       "Time:                        03:50:32   Log-Likelihood:                -1498.8\n",
       "No. Observations:                 506   AIC:                             3026.\n",
       "Df Residuals:                     492   BIC:                             3085.\n",
       "Df Model:                          13                                         \n",
       "Covariance Type:            nonrobust                                         \n",
       "==============================================================================\n",
       "                 coef    std err          t      P>|t|      [0.025      0.975]\n",
       "------------------------------------------------------------------------------\n",
       "const         36.4595      5.103      7.144      0.000      26.432      46.487\n",
       "x1            -0.1080      0.033     -3.287      0.001      -0.173      -0.043\n",
       "x2             0.0464      0.014      3.382      0.001       0.019       0.073\n",
       "x3             0.0206      0.061      0.334      0.738      -0.100       0.141\n",
       "x4             2.6867      0.862      3.118      0.002       0.994       4.380\n",
       "x5           -17.7666      3.820     -4.651      0.000     -25.272     -10.262\n",
       "x6             3.8099      0.418      9.116      0.000       2.989       4.631\n",
       "x7             0.0007      0.013      0.052      0.958      -0.025       0.027\n",
       "x8            -1.4756      0.199     -7.398      0.000      -1.867      -1.084\n",
       "x9             0.3060      0.066      4.613      0.000       0.176       0.436\n",
       "x10           -0.0123      0.004     -3.280      0.001      -0.020      -0.005\n",
       "x11           -0.9527      0.131     -7.283      0.000      -1.210      -0.696\n",
       "x12            0.0093      0.003      3.467      0.001       0.004       0.015\n",
       "x13           -0.5248      0.051    -10.347      0.000      -0.624      -0.425\n",
       "==============================================================================\n",
       "Omnibus:                      178.041   Durbin-Watson:                   1.078\n",
       "Prob(Omnibus):                  0.000   Jarque-Bera (JB):              783.126\n",
       "Skew:                           1.521   Prob(JB):                    8.84e-171\n",
       "Kurtosis:                       8.281   Cond. No.                     1.51e+04\n",
       "==============================================================================\n",
       "\n",
       "Warnings:\n",
       "[1] Standard Errors assume that the covariance matrix of the errors is correctly specified.\n",
       "[2] The condition number is large, 1.51e+04. This might indicate that there are\n",
       "strong multicollinearity or other numerical problems.\n",
       "\"\"\""
      ]
     },
     "execution_count": 13,
     "metadata": {},
     "output_type": "execute_result"
    }
   ],
   "source": [
    "# adding the constant \n",
    "X = sm.add_constant(X)\n",
    "\n",
    "# estimating the model\n",
    "model = sm.OLS(y, X)\n",
    "results = model.fit()\n",
    "\n",
    "results.summary()"
   ]
  }
 ],
 "metadata": {
  "kernelspec": {
   "display_name": "Python 3",
   "language": "python",
   "name": "python3"
  },
  "language_info": {
   "codemirror_mode": {
    "name": "ipython",
    "version": 3
   },
   "file_extension": ".py",
   "mimetype": "text/x-python",
   "name": "python",
   "nbconvert_exporter": "python",
   "pygments_lexer": "ipython3",
   "version": "3.7.3"
  }
 },
 "nbformat": 4,
 "nbformat_minor": 4
}
