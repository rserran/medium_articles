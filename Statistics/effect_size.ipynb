{
 "cells": [
  {
   "cell_type": "markdown",
   "metadata": {},
   "source": [
    "# A definitive guide to effect size"
   ]
  },
  {
   "cell_type": "markdown",
   "metadata": {},
   "source": [
    "## Setup"
   ]
  },
  {
   "cell_type": "code",
   "execution_count": 3,
   "metadata": {},
   "outputs": [],
   "source": [
    "import pandas as pd\n",
    "import numpy as np\n",
    "import pingouin as pg\n",
    "from scipy import stats\n",
    "import statsmodels.api as sm\n",
    "\n",
    "# plotting\n",
    "import seaborn as sns \n",
    "import matplotlib.pyplot as plt\n",
    "\n",
    "plt.style.use('seaborn')"
   ]
  },
  {
   "cell_type": "code",
   "execution_count": 4,
   "metadata": {},
   "outputs": [],
   "source": [
    "%config InlineBackend.figure_format = 'retina'"
   ]
  },
  {
   "cell_type": "markdown",
   "metadata": {},
   "source": [
    "## Effect size families"
   ]
  },
  {
   "cell_type": "markdown",
   "metadata": {},
   "source": [
    "### 1. The \"correlation\" family"
   ]
  },
  {
   "cell_type": "code",
   "execution_count": 25,
   "metadata": {},
   "outputs": [],
   "source": [
    "# define the parameters\n",
    "nobs = 10**5\n",
    "mu = [1, 1.5]\n",
    "cov_matrix = np.array([[1, 0.6],\n",
    "                      [0.6, 1]])\n",
    "\n",
    "# generate the correlated random variables \n",
    "np.random.seed(42)\n",
    "x = np.random.multivariate_normal(mu, cov_matrix, size=nobs)"
   ]
  },
  {
   "cell_type": "markdown",
   "metadata": {},
   "source": [
    "#### Pearson's r"
   ]
  },
  {
   "cell_type": "code",
   "execution_count": 6,
   "metadata": {},
   "outputs": [
    {
     "data": {
      "text/plain": [
       "array([[1.        , 0.60236704],\n",
       "       [0.60236704, 1.        ]])"
      ]
     },
     "execution_count": 6,
     "metadata": {},
     "output_type": "execute_result"
    }
   ],
   "source": [
    "np.corrcoef(x, rowvar=False)"
   ]
  },
  {
   "cell_type": "code",
   "execution_count": 7,
   "metadata": {},
   "outputs": [
    {
     "data": {
      "text/plain": [
       "(0.6023670412294826, 0.0)"
      ]
     },
     "execution_count": 7,
     "metadata": {},
     "output_type": "execute_result"
    }
   ],
   "source": [
    "stats.pearsonr(x[:,0], x[:,1])"
   ]
  },
  {
   "cell_type": "code",
   "execution_count": 8,
   "metadata": {},
   "outputs": [
    {
     "data": {
      "text/html": [
       "<div>\n",
       "<style scoped>\n",
       "    .dataframe tbody tr th:only-of-type {\n",
       "        vertical-align: middle;\n",
       "    }\n",
       "\n",
       "    .dataframe tbody tr th {\n",
       "        vertical-align: top;\n",
       "    }\n",
       "\n",
       "    .dataframe thead th {\n",
       "        text-align: right;\n",
       "    }\n",
       "</style>\n",
       "<table border=\"1\" class=\"dataframe\">\n",
       "  <thead>\n",
       "    <tr style=\"text-align: right;\">\n",
       "      <th></th>\n",
       "      <th>n</th>\n",
       "      <th>r</th>\n",
       "      <th>CI95%</th>\n",
       "      <th>r2</th>\n",
       "      <th>adj_r2</th>\n",
       "      <th>p-val</th>\n",
       "      <th>BF10</th>\n",
       "      <th>power</th>\n",
       "    </tr>\n",
       "  </thead>\n",
       "  <tbody>\n",
       "    <tr>\n",
       "      <th>pearson</th>\n",
       "      <td>100000</td>\n",
       "      <td>0.602367</td>\n",
       "      <td>[0.6, 0.61]</td>\n",
       "      <td>0.362846</td>\n",
       "      <td>0.362833</td>\n",
       "      <td>0.0</td>\n",
       "      <td>inf</td>\n",
       "      <td>1.0</td>\n",
       "    </tr>\n",
       "  </tbody>\n",
       "</table>\n",
       "</div>"
      ],
      "text/plain": [
       "              n         r        CI95%        r2    adj_r2  p-val BF10  power\n",
       "pearson  100000  0.602367  [0.6, 0.61]  0.362846  0.362833    0.0  inf    1.0"
      ]
     },
     "execution_count": 8,
     "metadata": {},
     "output_type": "execute_result"
    }
   ],
   "source": [
    "pg.corr(x[:, 0], x[:, 1])"
   ]
  },
  {
   "cell_type": "markdown",
   "metadata": {},
   "source": [
    "#### Coefficient of determination (R²)"
   ]
  },
  {
   "cell_type": "code",
   "execution_count": 9,
   "metadata": {},
   "outputs": [
    {
     "data": {
      "text/html": [
       "<div>\n",
       "<style scoped>\n",
       "    .dataframe tbody tr th:only-of-type {\n",
       "        vertical-align: middle;\n",
       "    }\n",
       "\n",
       "    .dataframe tbody tr th {\n",
       "        vertical-align: top;\n",
       "    }\n",
       "\n",
       "    .dataframe thead th {\n",
       "        text-align: right;\n",
       "    }\n",
       "</style>\n",
       "<table border=\"1\" class=\"dataframe\">\n",
       "  <thead>\n",
       "    <tr style=\"text-align: right;\">\n",
       "      <th></th>\n",
       "      <th>names</th>\n",
       "      <th>coef</th>\n",
       "      <th>se</th>\n",
       "      <th>T</th>\n",
       "      <th>pval</th>\n",
       "      <th>r2</th>\n",
       "      <th>adj_r2</th>\n",
       "      <th>CI[2.5%]</th>\n",
       "      <th>CI[97.5%]</th>\n",
       "    </tr>\n",
       "  </thead>\n",
       "  <tbody>\n",
       "    <tr>\n",
       "      <th>0</th>\n",
       "      <td>Intercept</td>\n",
       "      <td>0.893873</td>\n",
       "      <td>0.003561</td>\n",
       "      <td>251.004199</td>\n",
       "      <td>0.0</td>\n",
       "      <td>0.362846</td>\n",
       "      <td>0.36284</td>\n",
       "      <td>0.886894</td>\n",
       "      <td>0.900853</td>\n",
       "    </tr>\n",
       "    <tr>\n",
       "      <th>1</th>\n",
       "      <td>x1</td>\n",
       "      <td>0.601396</td>\n",
       "      <td>0.002520</td>\n",
       "      <td>238.635290</td>\n",
       "      <td>0.0</td>\n",
       "      <td>0.362846</td>\n",
       "      <td>0.36284</td>\n",
       "      <td>0.596457</td>\n",
       "      <td>0.606336</td>\n",
       "    </tr>\n",
       "  </tbody>\n",
       "</table>\n",
       "</div>"
      ],
      "text/plain": [
       "       names      coef        se           T  pval        r2   adj_r2  \\\n",
       "0  Intercept  0.893873  0.003561  251.004199   0.0  0.362846  0.36284   \n",
       "1         x1  0.601396  0.002520  238.635290   0.0  0.362846  0.36284   \n",
       "\n",
       "   CI[2.5%]  CI[97.5%]  \n",
       "0  0.886894   0.900853  \n",
       "1  0.596457   0.606336  "
      ]
     },
     "execution_count": 9,
     "metadata": {},
     "output_type": "execute_result"
    }
   ],
   "source": [
    "pg.linear_regression(x[:, 0], x[:, 1])"
   ]
  },
  {
   "cell_type": "code",
   "execution_count": 10,
   "metadata": {},
   "outputs": [
    {
     "data": {
      "text/html": [
       "<table class=\"simpletable\">\n",
       "<caption>OLS Regression Results</caption>\n",
       "<tr>\n",
       "  <th>Dep. Variable:</th>            <td>y</td>        <th>  R-squared:         </th>  <td>   0.363</td>  \n",
       "</tr>\n",
       "<tr>\n",
       "  <th>Model:</th>                   <td>OLS</td>       <th>  Adj. R-squared:    </th>  <td>   0.363</td>  \n",
       "</tr>\n",
       "<tr>\n",
       "  <th>Method:</th>             <td>Least Squares</td>  <th>  F-statistic:       </th>  <td>5.695e+04</td> \n",
       "</tr>\n",
       "<tr>\n",
       "  <th>Date:</th>             <td>Tue, 16 Jun 2020</td> <th>  Prob (F-statistic):</th>   <td>  0.00</td>   \n",
       "</tr>\n",
       "<tr>\n",
       "  <th>Time:</th>                 <td>00:26:16</td>     <th>  Log-Likelihood:    </th> <td>-1.1938e+05</td>\n",
       "</tr>\n",
       "<tr>\n",
       "  <th>No. Observations:</th>      <td>100000</td>      <th>  AIC:               </th>  <td>2.388e+05</td> \n",
       "</tr>\n",
       "<tr>\n",
       "  <th>Df Residuals:</th>          <td> 99998</td>      <th>  BIC:               </th>  <td>2.388e+05</td> \n",
       "</tr>\n",
       "<tr>\n",
       "  <th>Df Model:</th>              <td>     1</td>      <th>                     </th>      <td> </td>     \n",
       "</tr>\n",
       "<tr>\n",
       "  <th>Covariance Type:</th>      <td>nonrobust</td>    <th>                     </th>      <td> </td>     \n",
       "</tr>\n",
       "</table>\n",
       "<table class=\"simpletable\">\n",
       "<tr>\n",
       "    <td></td>       <th>coef</th>     <th>std err</th>      <th>t</th>      <th>P>|t|</th>  <th>[0.025</th>    <th>0.975]</th>  \n",
       "</tr>\n",
       "<tr>\n",
       "  <th>const</th> <td>    0.8939</td> <td>    0.004</td> <td>  251.004</td> <td> 0.000</td> <td>    0.887</td> <td>    0.901</td>\n",
       "</tr>\n",
       "<tr>\n",
       "  <th>x1</th>    <td>    0.6014</td> <td>    0.003</td> <td>  238.635</td> <td> 0.000</td> <td>    0.596</td> <td>    0.606</td>\n",
       "</tr>\n",
       "</table>\n",
       "<table class=\"simpletable\">\n",
       "<tr>\n",
       "  <th>Omnibus:</th>       <td> 1.991</td> <th>  Durbin-Watson:     </th> <td>   1.999</td>\n",
       "</tr>\n",
       "<tr>\n",
       "  <th>Prob(Omnibus):</th> <td> 0.370</td> <th>  Jarque-Bera (JB):  </th> <td>   1.982</td>\n",
       "</tr>\n",
       "<tr>\n",
       "  <th>Skew:</th>          <td>-0.003</td> <th>  Prob(JB):          </th> <td>   0.371</td>\n",
       "</tr>\n",
       "<tr>\n",
       "  <th>Kurtosis:</th>      <td> 2.979</td> <th>  Cond. No.          </th> <td>    2.61</td>\n",
       "</tr>\n",
       "</table><br/><br/>Warnings:<br/>[1] Standard Errors assume that the covariance matrix of the errors is correctly specified."
      ],
      "text/plain": [
       "<class 'statsmodels.iolib.summary.Summary'>\n",
       "\"\"\"\n",
       "                            OLS Regression Results                            \n",
       "==============================================================================\n",
       "Dep. Variable:                      y   R-squared:                       0.363\n",
       "Model:                            OLS   Adj. R-squared:                  0.363\n",
       "Method:                 Least Squares   F-statistic:                 5.695e+04\n",
       "Date:                Tue, 16 Jun 2020   Prob (F-statistic):               0.00\n",
       "Time:                        00:26:16   Log-Likelihood:            -1.1938e+05\n",
       "No. Observations:              100000   AIC:                         2.388e+05\n",
       "Df Residuals:                   99998   BIC:                         2.388e+05\n",
       "Df Model:                           1                                         \n",
       "Covariance Type:            nonrobust                                         \n",
       "==============================================================================\n",
       "                 coef    std err          t      P>|t|      [0.025      0.975]\n",
       "------------------------------------------------------------------------------\n",
       "const          0.8939      0.004    251.004      0.000       0.887       0.901\n",
       "x1             0.6014      0.003    238.635      0.000       0.596       0.606\n",
       "==============================================================================\n",
       "Omnibus:                        1.991   Durbin-Watson:                   1.999\n",
       "Prob(Omnibus):                  0.370   Jarque-Bera (JB):                1.982\n",
       "Skew:                          -0.003   Prob(JB):                        0.371\n",
       "Kurtosis:                       2.979   Cond. No.                         2.61\n",
       "==============================================================================\n",
       "\n",
       "Warnings:\n",
       "[1] Standard Errors assume that the covariance matrix of the errors is correctly specified.\n",
       "\"\"\""
      ]
     },
     "execution_count": 10,
     "metadata": {},
     "output_type": "execute_result"
    }
   ],
   "source": [
    "X = sm.add_constant(x[:, 0])\n",
    "model = sm.OLS(x[:, 1], X).fit()\n",
    "model.summary()"
   ]
  },
  {
   "cell_type": "markdown",
   "metadata": {},
   "source": [
    "#### Eta-squared"
   ]
  },
  {
   "cell_type": "code",
   "execution_count": 11,
   "metadata": {},
   "outputs": [
    {
     "data": {
      "text/plain": [
       "0.057968511053166284"
      ]
     },
     "execution_count": 11,
     "metadata": {},
     "output_type": "execute_result"
    }
   ],
   "source": [
    "pg.compute_effsize(x[:, 0], x[:, 1], eftype='eta-square')"
   ]
  },
  {
   "cell_type": "markdown",
   "metadata": {},
   "source": [
    "### 2. The \"difference\" family"
   ]
  },
  {
   "cell_type": "code",
   "execution_count": 12,
   "metadata": {},
   "outputs": [
    {
     "data": {
      "text/plain": [
       "<matplotlib.legend.Legend at 0x126d5cf98>"
      ]
     },
     "execution_count": 12,
     "metadata": {},
     "output_type": "execute_result"
    },
    {
     "data": {
      "image/png": "[encoded data removed]",
      "text/plain": [
       "<Figure size 576x396 with 1 Axes>"
      ]
     },
     "metadata": {
      "image/png": {
       "height": 329,
       "width": 492
      }
     },
     "output_type": "display_data"
    }
   ],
   "source": [
    "# define the parameters\n",
    "nobs = 10**5\n",
    "\n",
    "# generate the random variables \n",
    "np.random.seed(42)\n",
    "x = np.random.normal(1, 1.5, nobs)\n",
    "y = np.random.normal(2, 2, nobs)\n",
    "\n",
    "# plot the variables\n",
    "sns.distplot(x, color=\"skyblue\", label=\"x\")\n",
    "sns.distplot(y, color=\"red\", label=\"y\")\n",
    "plt.legend()"
   ]
  },
  {
   "cell_type": "markdown",
   "metadata": {},
   "source": [
    "#### Cohen's d"
   ]
  },
  {
   "cell_type": "code",
   "execution_count": 13,
   "metadata": {},
   "outputs": [
    {
     "data": {
      "text/plain": [
       "-0.5661743543595718"
      ]
     },
     "execution_count": 13,
     "metadata": {},
     "output_type": "execute_result"
    }
   ],
   "source": [
    "pg.compute_effsize(x, y, eftype='cohen')"
   ]
  },
  {
   "cell_type": "markdown",
   "metadata": {},
   "source": [
    "#### Glass' Δ"
   ]
  },
  {
   "cell_type": "code",
   "execution_count": 14,
   "metadata": {},
   "outputs": [
    {
     "data": {
      "text/plain": [
       "-0.6664041092152272"
      ]
     },
     "execution_count": 14,
     "metadata": {},
     "output_type": "execute_result"
    }
   ],
   "source": [
    "pg.compute_effsize(x, y, eftype='glass')"
   ]
  },
  {
   "cell_type": "markdown",
   "metadata": {},
   "source": [
    "#### Hedges' g"
   ]
  },
  {
   "cell_type": "code",
   "execution_count": 15,
   "metadata": {},
   "outputs": [
    {
     "data": {
      "text/plain": [
       "-0.5661722311818571"
      ]
     },
     "execution_count": 15,
     "metadata": {},
     "output_type": "execute_result"
    }
   ],
   "source": [
    "pg.compute_effsize(x, y, eftype='hedges')"
   ]
  },
  {
   "cell_type": "markdown",
   "metadata": {},
   "source": [
    "### 3. The \"categorical\" family"
   ]
  },
  {
   "cell_type": "code",
   "execution_count": 16,
   "metadata": {},
   "outputs": [],
   "source": [
    "# define the parameters\n",
    "nobs = 10**4\n",
    "choices = [0, 1]\n",
    "\n",
    "# generate the random variables \n",
    "np.random.seed(42)\n",
    "x = np.random.choice(choices, size=nobs, p=[0.5, 0.5])\n",
    "y = np.random.choice(choices, size=nobs, p=[0.6, 0.4])"
   ]
  },
  {
   "cell_type": "markdown",
   "metadata": {},
   "source": [
    "#### φ (phi coefficient)"
   ]
  },
  {
   "cell_type": "code",
   "execution_count": 23,
   "metadata": {},
   "outputs": [
    {
     "name": "stdout",
     "output_type": "stream",
     "text": [
      "Phi coefficient: 0.000944\n",
      "Matthews Correlation: 0.000944\n",
      "Pearson's r: 0.000944\n"
     ]
    }
   ],
   "source": [
    "from sklearn.metrics import matthews_corrcoef\n",
    "\n",
    "def get_phi_coeff(x, y):\n",
    "    n = len(x)\n",
    "    cont_table = pd.crosstab(x, y)\n",
    "    chi_2 = stats.chi2_contingency(cont_table, correction=False)[0]\n",
    "    phi = np.sqrt(chi_2 / n)\n",
    "    return phi\n",
    "\n",
    "phi = get_phi_coeff(x, y)\n",
    "mcc = matthews_corrcoef(x, y)\n",
    "r = stats.pearsonr(x, y)[0]\n",
    "\n",
    "print(f'Phi coefficient: {phi:.6f}')\n",
    "print(f\"Matthews Correlation: {mcc:.6f}\")\n",
    "print(f\"Pearson's r: {r:.6f}\")"
   ]
  },
  {
   "cell_type": "markdown",
   "metadata": {},
   "source": [
    "#### Cramér's V"
   ]
  },
  {
   "cell_type": "code",
   "execution_count": 18,
   "metadata": {},
   "outputs": [
    {
     "name": "stdout",
     "output_type": "stream",
     "text": [
      "Cramer's V: 0.000944\n"
     ]
    }
   ],
   "source": [
    "def get_cramer_v(x, y):\n",
    "    n = len(x)\n",
    "    cont_table = pd.crosstab(x, y)\n",
    "    chi_2 = stats.chi2_contingency(cont_table, correction=False)[0]\n",
    "    v = np.sqrt(chi_2 / (n * (np.min(cont_table.shape) - 1)))\n",
    "    return v\n",
    "\n",
    "cramer_v = get_cramers_v(x, y)\n",
    "\n",
    "print(f\"Cramer's V: {cramer_v:.6f}\")"
   ]
  },
  {
   "cell_type": "markdown",
   "metadata": {},
   "source": [
    "#### Cohen's w"
   ]
  },
  {
   "cell_type": "code",
   "execution_count": 19,
   "metadata": {},
   "outputs": [
    {
     "name": "stdout",
     "output_type": "stream",
     "text": [
      "Cohen's w: 0.173820\n"
     ]
    }
   ],
   "source": [
    "from statsmodels.stats.gof import chisquare_effectsize\n",
    "\n",
    "cohen_w = chisquare_effectsize([np.sum(x), np.sum(x == 0)], \n",
    "                               [np.sum(y), np.sum(y == 0)])\n",
    "print(f\"Cohen's w: {cohen_w:.6f}\")"
   ]
  },
  {
   "cell_type": "markdown",
   "metadata": {},
   "source": [
    "#### Cohen's h"
   ]
  },
  {
   "cell_type": "code",
   "execution_count": 20,
   "metadata": {},
   "outputs": [
    {
     "name": "stdout",
     "output_type": "stream",
     "text": [
      "Cohen's h: 0.174943\n"
     ]
    }
   ],
   "source": [
    "from statsmodels.stats.proportion import proportion_effectsize\n",
    "\n",
    "cohen_h = proportion_effectsize(np.mean(x), np.mean(y))\n",
    "print(f\"Cohen's h: {cohen_h:.6f}\")"
   ]
  },
  {
   "cell_type": "markdown",
   "metadata": {},
   "source": [
    "#### Odds Ratio"
   ]
  },
  {
   "cell_type": "code",
   "execution_count": 21,
   "metadata": {},
   "outputs": [
    {
     "name": "stdout",
     "output_type": "stream",
     "text": [
      "Odds Ratio: 1.374506\n"
     ]
    }
   ],
   "source": [
    "odds_ratio = pg.compute_effsize(x, y, eftype='odds-ratio')\n",
    "print(f\"Odds Ratio: {odds_ratio:.6f}\")"
   ]
  },
  {
   "cell_type": "markdown",
   "metadata": {},
   "source": [
    "#### Common Language Effect Size"
   ]
  },
  {
   "cell_type": "code",
   "execution_count": 24,
   "metadata": {},
   "outputs": [
    {
     "name": "stdout",
     "output_type": "stream",
     "text": [
      "CLES: 0.779395\n"
     ]
    },
    {
     "data": {
      "image/png": "[encoded data removed]",
      "text/plain": [
       "<Figure size 576x396 with 1 Axes>"
      ]
     },
     "metadata": {
      "image/png": {
       "height": 329,
       "width": 487
      }
     },
     "output_type": "display_data"
    }
   ],
   "source": [
    "# define the parameters\n",
    "nobs = 10**4\n",
    "\n",
    "# generate the random variables \n",
    "np.random.seed(42)\n",
    "males = np.random.normal(180, 10, nobs)\n",
    "females = np.random.normal(170, 8, nobs)\n",
    "\n",
    "# plot the variables\n",
    "sns.distplot(males, color=\"skyblue\", label=\"males\")\n",
    "sns.distplot(females, color=\"red\", label=\"females\")\n",
    "plt.legend()\n",
    "\n",
    "cles = pg.compute_effsize(males, females, eftype='CLES')\n",
    "print(f\"CLES: {cles:.6f}\")"
   ]
  },
  {
   "cell_type": "code",
   "execution_count": null,
   "metadata": {},
   "outputs": [],
   "source": []
  }
 ],
 "metadata": {
  "kernelspec": {
   "display_name": "Python 3",
   "language": "python",
   "name": "python3"
  },
  "language_info": {
   "codemirror_mode": {
    "name": "ipython",
    "version": 3
   },
   "file_extension": ".py",
   "mimetype": "text/x-python",
   "name": "python",
   "nbconvert_exporter": "python",
   "pygments_lexer": "ipython3",
   "version": "3.7.3"
  }
 },
 "nbformat": 4,
 "nbformat_minor": 4
}
