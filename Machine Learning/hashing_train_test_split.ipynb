{
 "metadata": {
  "language_info": {
   "codemirror_mode": {
    "name": "ipython",
    "version": 3
   },
   "file_extension": ".py",
   "mimetype": "text/x-python",
   "name": "python",
   "nbconvert_exporter": "python",
   "pygments_lexer": "ipython3",
   "version": "3.8.5-final"
  },
  "orig_nbformat": 2,
  "kernelspec": {
   "name": "python3",
   "display_name": "Python 3",
   "language": "python"
  }
 },
 "nbformat": 4,
 "nbformat_minor": 2,
 "cells": [
  {
   "source": [
    "# Improve the train-test split with the hashing function"
   ],
   "cell_type": "markdown",
   "metadata": {}
  },
  {
   "source": [
    "## Setup"
   ],
   "cell_type": "markdown",
   "metadata": {}
  },
  {
   "cell_type": "code",
   "execution_count": 1,
   "metadata": {},
   "outputs": [],
   "source": [
    "import pandas as pd\n",
    "import numpy as np\n",
    "from sklearn.model_selection import train_test_split\n",
    "from zlib import crc32"
   ]
  },
  {
   "source": [
    "## Illustrating the issue"
   ],
   "cell_type": "markdown",
   "metadata": {}
  },
  {
   "cell_type": "code",
   "execution_count": 2,
   "metadata": {},
   "outputs": [
    {
     "output_type": "stream",
     "name": "stdout",
     "text": [
      "Train set: 669\nTest set: 59\n"
     ]
    }
   ],
   "source": [
    "# generate the first DataFrame\n",
    "X_1 = pd.DataFrame(data={\"variable\": np.random.normal(size=1000)})\n",
    "\n",
    "# apply the train-test split\n",
    "X_1_train, X_1_test = train_test_split(X_1, test_size=0.2, random_state=42)\n",
    "\n",
    "# add new observations to the DataFrame\n",
    "X_2 = pd.concat([X_1, pd.DataFrame(data={\"variable\": np.random.normal(size=500)})]).reset_index(drop=True)\n",
    "\n",
    "# again, apply the train-test split to the updated DataFrame\n",
    "X_2_train, X_2_test = train_test_split(X_2, test_size=0.2, random_state=42)\n",
    "\n",
    "# see what is the overlap of indices\n",
    "print(f\"Train set: {len(set(X_1_train.index).intersection(set(X_2_train.index)))}\")\n",
    "print(f\"Test set: {len(set(X_1_test.index).intersection(set(X_2_test.index)))}\")\n"
   ]
  },
  {
   "source": [
    "## Solving the issue"
   ],
   "cell_type": "markdown",
   "metadata": {}
  },
  {
   "cell_type": "code",
   "execution_count": 3,
   "metadata": {},
   "outputs": [],
   "source": [
    "def hashed_train_test_split(df, index_col, test_size=0.2):\n",
    "    \"\"\"\n",
    "    Train-test split based on the hash of the unique identifier.\n",
    "    \"\"\"\n",
    "    test_index = df[index_col].apply(lambda x: crc32(np.int64(x)))\n",
    "    test_index = test_index < test_size * 2**32\n",
    "\n",
    "    return df.loc[~test_index], df.loc[test_index]\n"
   ]
  },
  {
   "cell_type": "code",
   "execution_count": 4,
   "metadata": {},
   "outputs": [
    {
     "output_type": "stream",
     "name": "stdout",
     "text": [
      "Train set: 800\nTest set: 200\n"
     ]
    }
   ],
   "source": [
    "# create an index column (should be immutable and unique)\n",
    "X_1 = X_1.reset_index(drop=False)\n",
    "X_2 = X_2.reset_index(drop=False)\n",
    "\n",
    "# apply the improved train-test split\n",
    "X_1_train_hashed, X_1_test_hashed = hashed_train_test_split(X_1, \"index\")\n",
    "X_2_train_hashed, X_2_test_hashed = hashed_train_test_split(X_2, \"index\")\n",
    "\n",
    "# see what is the overlap of indices\n",
    "print(f\"Train set: {len(set(X_1_train_hashed.index).intersection(set(X_2_train_hashed.index)))}\")\n",
    "print(f\"Test set: {len(set(X_1_test_hashed.index).intersection(set(X_2_test_hashed.index)))}\")"
   ]
  }
 ]
}